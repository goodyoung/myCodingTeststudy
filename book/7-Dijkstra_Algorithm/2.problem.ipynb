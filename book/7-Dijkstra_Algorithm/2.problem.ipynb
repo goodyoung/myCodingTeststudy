{
 "cells": [
  {
   "cell_type": "markdown",
   "id": "f86f8f4a-240e-43b8-8853-e087f9614430",
   "metadata": {},
   "source": [
    "# 플로이드 \n",
    "https://www.acmicpc.net/problem/11404\n",
    "\n",
    "- Solve idea\n",
    "  - 플로이드 워셜 알고리즘을 이용하여 버스 경로 이동 간 최소값을 넣음\n",
    "  - 이 때 시작 도시와 도착 도시를 연결하는 노선이 여러가지 일 때 경우만 최소 값이 들어가게 분기를 쳐준다."
   ]
  },
  {
   "cell_type": "code",
   "execution_count": 1,
   "id": "d2dddaa6-65f5-404e-861a-2d3918cc2216",
   "metadata": {},
   "outputs": [],
   "source": [
    "import sys\n",
    "input = sys.stdin.readline\n",
    "n = int(input()) # 도시의 개수\n",
    "m = int(input()) # 버스의 개수\n",
    "INF = int(1e9)\n",
    "graph = [[INF]*(n+1) for _ in range(n+1)]\n",
    "for _ in range(m):\n",
    "    a, b, c = map(int, input().split())\n",
    "    graph[a][b] = min(graph[a][b],c)\n",
    "    \n",
    "for i in range(n+1):\n",
    "    for j in range(n+1):\n",
    "        if i==j:\n",
    "            graph[i][j] = 0\n",
    "            \n",
    "for k in range(1, n+1):\n",
    "    for i in range(1, n+1):\n",
    "        for j in range(1, n+1):\n",
    "            graph[i][j] = min(graph[i][j], graph[i][k] +graph[k][j])\n",
    "            \n",
    "for i in range(1, n+1):\n",
    "    for j in range(1, n+1):\n",
    "        if graph[i][j] == INF:\n",
    "            print(0, end=' ')\n",
    "        else:\n",
    "            print(graph[i][j], end=' ')\n",
    "    print()"
   ]
  },
  {
   "cell_type": "code",
   "execution_count": null,
   "id": "1e383b48-8a3f-423a-98c4-db1a069513db",
   "metadata": {},
   "outputs": [],
   "source": []
  },
  {
   "cell_type": "code",
   "execution_count": null,
   "id": "907dd68c-3797-4698-b99c-659ef0f40daa",
   "metadata": {},
   "outputs": [],
   "source": []
  }
 ],
 "metadata": {
  "kernelspec": {
   "display_name": "Python 3 (ipykernel)",
   "language": "python",
   "name": "python3"
  },
  "language_info": {
   "codemirror_mode": {
    "name": "ipython",
    "version": 3
   },
   "file_extension": ".py",
   "mimetype": "text/x-python",
   "name": "python",
   "nbconvert_exporter": "python",
   "pygments_lexer": "ipython3",
   "version": "3.11.5"
  }
 },
 "nbformat": 4,
 "nbformat_minor": 5
}
