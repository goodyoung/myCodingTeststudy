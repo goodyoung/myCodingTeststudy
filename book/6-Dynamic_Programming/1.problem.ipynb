{
 "cells": [
  {
   "cell_type": "markdown",
   "id": "e92025a7-8c74-4a2f-b0b6-be005c30a4d8",
   "metadata": {},
   "source": [
    "# 1로 만들기\n",
    "- Solve idea\n",
    "  - 1로 만들 최선의 방법의 횟수를 저장하는 식으로 하자."
   ]
  },
  {
   "cell_type": "code",
   "execution_count": 9,
   "id": "65df0c6e-65d9-474d-8175-77676fa1d3ec",
   "metadata": {},
   "outputs": [
    {
     "name": "stdin",
     "output_type": "stream",
     "text": [
      " 26\n"
     ]
    }
   ],
   "source": [
    "x= int(input())"
   ]
  },
  {
   "cell_type": "code",
   "execution_count": 17,
   "id": "cdc3f32e-1f9e-432c-9ac8-5e3cc0ee81bd",
   "metadata": {},
   "outputs": [],
   "source": [
    "dp = [0]*(30001)"
   ]
  },
  {
   "cell_type": "code",
   "execution_count": 18,
   "id": "5ead8b51-1660-4be1-8077-3973e6cfb837",
   "metadata": {
    "scrolled": true
   },
   "outputs": [],
   "source": [
    "for i in range(2,x+1):\n",
    "    dp[i] = dp[i-1] + 1\n",
    "    if i % 2 == 0:\n",
    "        dp[i] = min(dp[i],dp[i//2] + 1)\n",
    "    if i % 3 == 0:\n",
    "        dp[i] = min(dp[i],dp[i//3] + 1)\n",
    "    if i % 5 == 0:\n",
    "        dp[i] = min(dp[i],dp[i//5] + 1)"
   ]
  },
  {
   "cell_type": "markdown",
   "id": "65fb3167-4ea5-489c-b52c-c8445081ac1d",
   "metadata": {},
   "source": [
    "# 개미 전사\n",
    "- Solve idea\n",
    "  - 왼쪽부터 차례로 턴다고 가정하였을 때 분기가 나뉘어 진다.\n",
    "    - (i-1)번째를 털면 (현재는 못턴다)\n",
    "    - (i-2)번째를 털면 (현재도 포함)\n",
    "  - 이 두가지 경우를 나누어 생각하면 된다."
   ]
  },
  {
   "cell_type": "code",
   "execution_count": 35,
   "id": "43ce30b3-c8e3-4509-9cf4-795922090cc8",
   "metadata": {},
   "outputs": [
    {
     "name": "stdout",
     "output_type": "stream",
     "text": [
      "8\n"
     ]
    }
   ],
   "source": [
    "N = 4\n",
    "arr= [1,3,1,5]\n",
    "dp = [0]*100 # dp 테이블 생성\n",
    "\n",
    "dp[0] = arr[0] # dp 처음일 경우 \n",
    "dp[1] = max(arr[0],arr[1]) # 첫번째 선택 or 그 다음 선택\n",
    "\n",
    "for i in range(2,N):\n",
    "    dp[i] = max(dp[i-1],dp[i-2]+ arr[i])\n",
    "print(dp[N-1])"
   ]
  },
  {
   "cell_type": "code",
   "execution_count": null,
   "id": "eb83e773-dbb6-4bdb-8ac1-3c13dd2a5314",
   "metadata": {},
   "outputs": [],
   "source": []
  }
 ],
 "metadata": {
  "kernelspec": {
   "display_name": "Python 3 (ipykernel)",
   "language": "python",
   "name": "python3"
  },
  "language_info": {
   "codemirror_mode": {
    "name": "ipython",
    "version": 3
   },
   "file_extension": ".py",
   "mimetype": "text/x-python",
   "name": "python",
   "nbconvert_exporter": "python",
   "pygments_lexer": "ipython3",
   "version": "3.11.5"
  }
 },
 "nbformat": 4,
 "nbformat_minor": 5
}
