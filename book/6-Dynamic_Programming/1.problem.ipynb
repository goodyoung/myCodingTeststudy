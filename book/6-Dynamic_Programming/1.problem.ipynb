{
 "cells": [
  {
   "cell_type": "markdown",
   "id": "e92025a7-8c74-4a2f-b0b6-be005c30a4d8",
   "metadata": {},
   "source": [
    "# 1로 만들기\n",
    "- Solve idea\n",
    "  - 1로 만들 최선의 방법의 횟수를 저장하는 식으로 하자."
   ]
  },
  {
   "cell_type": "code",
   "execution_count": 9,
   "id": "65df0c6e-65d9-474d-8175-77676fa1d3ec",
   "metadata": {},
   "outputs": [
    {
     "name": "stdin",
     "output_type": "stream",
     "text": [
      " 26\n"
     ]
    }
   ],
   "source": [
    "x= int(input())"
   ]
  },
  {
   "cell_type": "code",
   "execution_count": 17,
   "id": "cdc3f32e-1f9e-432c-9ac8-5e3cc0ee81bd",
   "metadata": {},
   "outputs": [],
   "source": [
    "dp = [0]*(30001)"
   ]
  },
  {
   "cell_type": "code",
   "execution_count": 18,
   "id": "5ead8b51-1660-4be1-8077-3973e6cfb837",
   "metadata": {
    "scrolled": true
   },
   "outputs": [],
   "source": [
    "for i in range(2,x+1):\n",
    "    dp[i] = dp[i-1] + 1\n",
    "    if i % 2 == 0:\n",
    "        dp[i] = min(dp[i],dp[i//2] + 1)\n",
    "    if i % 3 == 0:\n",
    "        dp[i] = min(dp[i],dp[i//3] + 1)\n",
    "    if i % 5 == 0:\n",
    "        dp[i] = min(dp[i],dp[i//5] + 1)"
   ]
  },
  {
   "cell_type": "markdown",
   "id": "65fb3167-4ea5-489c-b52c-c8445081ac1d",
   "metadata": {},
   "source": [
    "# 개미 전사\n",
    "- Solve idea\n",
    "  - 왼쪽부터 차례로 턴다고 가정하였을 때 분기가 나뉘어 진다.\n",
    "    - (i-1)번째를 털면 (현재는 못턴다)\n",
    "    - (i-2)번째를 털면 (현재도 포함)\n",
    "  - 이 두가지 경우를 나누어 생각하면 된다."
   ]
  },
  {
   "cell_type": "code",
   "execution_count": 35,
   "id": "43ce30b3-c8e3-4509-9cf4-795922090cc8",
   "metadata": {},
   "outputs": [
    {
     "name": "stdout",
     "output_type": "stream",
     "text": [
      "8\n"
     ]
    }
   ],
   "source": [
    "N = 4\n",
    "arr= [1,3,1,5]\n",
    "dp = [0]*100 # dp 테이블 생성\n",
    "\n",
    "dp[0] = arr[0] # dp 처음일 경우 \n",
    "dp[1] = max(arr[0],arr[1]) # 첫번째 선택 or 그 다음 선택\n",
    "\n",
    "for i in range(2,N):\n",
    "    dp[i] = max(dp[i-1],dp[i-2]+ arr[i])\n",
    "print(dp[N-1])"
   ]
  },
  {
   "cell_type": "markdown",
   "id": "e354f2b0-969e-45ce-9ede-9a4073435cf2",
   "metadata": {},
   "source": [
    "# 바닥 공사\n",
    "> 다이나믹 프로그래밍의 기초인 타일링 문제이다.\n",
    "- Solve idea\n",
    "  - 왼쪽부터 차례대로 바닥을 덮개로 채운다고 생각하면 된다.\n",
    "    - 왼쪽부터 i-1까지 채워져 있을 경우\n",
    "      - 2*1 덮개로 채우는 하나의 경우의 수\n",
    "    - 왼쪽부터 i-2까지 채워져 있을 경우\n",
    "      - 1*2 2개 | 2*2 덮개 하나를 넣는 2개의 경우의 수\n",
    "    - 그 후는 X\n",
    "      - 왜냐하면 사용할 수 있는 덮개의 형태가 최대 2*2의 직사각형 형태이기 때문이다\n",
    "  - 따라서 a_i = a_i-1 + a_i-2 + a_i-2 이다."
   ]
  },
  {
   "cell_type": "code",
   "execution_count": 39,
   "id": "79b670ab-b8d0-4734-b603-71af8f32a921",
   "metadata": {},
   "outputs": [],
   "source": [
    "N = 3\n",
    "dp =[0]*(N+1)\n",
    "dp[1] = 1\n",
    "dp[2] = 3\n",
    "for i in range(3,N):\n",
    "    dp[i] = (dp[i-1] + 2*dp[i-2]) % 796796\n",
    "dp"
   ]
  },
  {
   "cell_type": "markdown",
   "id": "2640dd75-b56a-4656-be46-f63a6a67c31a",
   "metadata": {},
   "source": [
    "# 효율적인 화폐 구성\n",
    "\n",
    "어렵다..\n",
    "\n",
    "- Solve idea\n",
    "  - 그리디문제가 아니다. 왜냐하면 화폐 단위에서 큰 단위가 작은 단위의 배수가 아니기 때문이다.\n",
    "  - M원을 만들기 위해서 최소 금액부터 올라가는 식 (dp테이블이 1원~M원)\n",
    "  - 그럴 때 arr의 요소의 배수만큼 돌면서 dp 테이블을 갱신해감"
   ]
  },
  {
   "cell_type": "code",
   "execution_count": 54,
   "id": "fb11ca0e-adf8-4397-bcd0-082643d86df9",
   "metadata": {},
   "outputs": [],
   "source": [
    "N,M = 3, 7"
   ]
  },
  {
   "cell_type": "code",
   "execution_count": 50,
   "id": "6c23741b-ec36-4968-b582-a2b32b3074c6",
   "metadata": {},
   "outputs": [],
   "source": [
    "dp = [10001]*(M+1)"
   ]
  },
  {
   "cell_type": "code",
   "execution_count": 55,
   "id": "baae65e1-b981-49ad-9783-32d7a65aff8a",
   "metadata": {},
   "outputs": [],
   "source": [
    "arr = [2,3,5]"
   ]
  },
  {
   "cell_type": "code",
   "execution_count": 56,
   "id": "00a44e70-7299-4c6d-ad2d-24056ec482e0",
   "metadata": {},
   "outputs": [],
   "source": [
    "dp[0] = 0\n",
    "for i in range(N):\n",
    "    for j in range(arr[i],M+1):\n",
    "        dp[j] = min(dp[j],dp[j-arr[i]] + 1)"
   ]
  },
  {
   "cell_type": "code",
   "execution_count": null,
   "id": "33c0793e-5116-4bcb-a29f-ed11593fbf6f",
   "metadata": {},
   "outputs": [],
   "source": []
  }
 ],
 "metadata": {
  "kernelspec": {
   "display_name": "Python 3 (ipykernel)",
   "language": "python",
   "name": "python3"
  },
  "language_info": {
   "codemirror_mode": {
    "name": "ipython",
    "version": 3
   },
   "file_extension": ".py",
   "mimetype": "text/x-python",
   "name": "python",
   "nbconvert_exporter": "python",
   "pygments_lexer": "ipython3",
   "version": "3.11.5"
  }
 },
 "nbformat": 4,
 "nbformat_minor": 5
}
