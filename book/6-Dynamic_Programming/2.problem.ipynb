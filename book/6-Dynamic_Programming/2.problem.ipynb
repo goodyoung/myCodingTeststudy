{
 "cells": [
  {
   "cell_type": "markdown",
   "id": "f7394328-fc1f-4b97-a736-d2d994cb3d3d",
   "metadata": {},
   "source": [
    "# 1932 정수 삼각형\n",
    "- Solve idea\n",
    "  - 규칙을 찾자\n",
    "```\n",
    "arr[0][0] = 7\n",
    "arr[1][0] = 7 + 3\n",
    "arr[1][1] = 7 + 8\n",
    "arr[2][0] = arr[1][0] + 8\n",
    "arr[2][1] = arr[1][0] + 1 | arr[1][1] + 1\n",
    "arr[2][2] = arr[1][1] + 0\n",
    "\n",
    "```"
   ]
  },
  {
   "cell_type": "code",
   "execution_count": null,
   "id": "26521262-b4c5-4d2f-90c4-c1fbcb620971",
   "metadata": {},
   "outputs": [],
   "source": [
    "import sys\n",
    "input = sys.stdin.readline\n",
    "n = int(input())\n",
    "arr = [list(map(int,input().split())) for _ in range(n)]\n",
    "\n",
    "for i in range(1,n):\n",
    "    for j in range(i+1):\n",
    "        if j == 0: # 왼쪽 끝\n",
    "            arr[i][j] = arr[i-1][j] + arr[i][j]\n",
    "        elif j == i: # 오른쪽 끝\n",
    "            arr[i][j] = arr[i-1][j-1] + arr[i][j]\n",
    "        else:\n",
    "            arr[i][j] = max(arr[i-1][j], arr[i-1][j-1]) + arr[i][j]\n",
    "            \n",
    "print(max(arr[-1]))"
   ]
  }
 ],
 "metadata": {
  "kernelspec": {
   "display_name": "Python 3 (ipykernel)",
   "language": "python",
   "name": "python3"
  },
  "language_info": {
   "codemirror_mode": {
    "name": "ipython",
    "version": 3
   },
   "file_extension": ".py",
   "mimetype": "text/x-python",
   "name": "python",
   "nbconvert_exporter": "python",
   "pygments_lexer": "ipython3",
   "version": "3.11.5"
  }
 },
 "nbformat": 4,
 "nbformat_minor": 5
}
