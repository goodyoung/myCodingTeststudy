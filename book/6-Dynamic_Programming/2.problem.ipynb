{
 "cells": [
  {
   "cell_type": "markdown",
   "id": "f7394328-fc1f-4b97-a736-d2d994cb3d3d",
   "metadata": {},
   "source": [
    "# 1932 정수 삼각형\n",
    "- Solve idea\n",
    "  - 규칙을 찾자\n",
    "```\n",
    "arr[0][0] = 7\n",
    "arr[1][0] = 7 + 3\n",
    "arr[1][1] = 7 + 8\n",
    "arr[2][0] = arr[1][0] + 8\n",
    "arr[2][1] = arr[1][0] + 1 | arr[1][1] + 1\n",
    "arr[2][2] = arr[1][1] + 0\n",
    "\n",
    "```"
   ]
  },
  {
   "cell_type": "code",
   "execution_count": null,
   "id": "26521262-b4c5-4d2f-90c4-c1fbcb620971",
   "metadata": {},
   "outputs": [],
   "source": [
    "import sys\n",
    "input = sys.stdin.readline\n",
    "n = int(input())\n",
    "arr = [list(map(int,input().split())) for _ in range(n)]\n",
    "\n",
    "for i in range(1,n):\n",
    "    for j in range(i+1):\n",
    "        if j == 0: # 왼쪽 끝\n",
    "            arr[i][j] = arr[i-1][j] + arr[i][j]\n",
    "        elif j == i: # 오른쪽 끝\n",
    "            arr[i][j] = arr[i-1][j-1] + arr[i][j]\n",
    "        else:\n",
    "            arr[i][j] = max(arr[i-1][j], arr[i-1][j-1]) + arr[i][j]\n",
    "            \n",
    "print(max(arr[-1]))"
   ]
  },
  {
   "cell_type": "markdown",
   "id": "972f7c94-e328-4176-93cc-dfd3e7097faa",
   "metadata": {},
   "source": [
    "# 퇴사\n",
    "\n",
    "https://www.acmicpc.net/problem/14501\n",
    "\n",
    "\n",
    "- Solve idea\n",
    "  - bottom up\n",
    "    - i번째까지 일을 하였을 때 얻는 최대 수익\n",
    "    - i를 기준으로 상담이 가능한 모든 날짜 (j)\n",
    "  - tob down\n",
    "    - 내려가며 상담시간이 지나면 패스 하고\n",
    "    - i일에 상담을 안하는 것(이전 까지 보수)과 상담을 하는 것(그 날로부터 상담 시간 후 + 그 날의 보수)을 비교.\n",
    "   \n",
    "어렵다..."
   ]
  },
  {
   "cell_type": "markdown",
   "id": "6ebb66f6-6162-46d7-ba5e-b5c6ad5318d2",
   "metadata": {
    "jp-MarkdownHeadingCollapsed": true
   },
   "source": [
    "#### bottom up"
   ]
  },
  {
   "cell_type": "code",
   "execution_count": null,
   "id": "2f3bc430-e908-4e8f-9131-dd762f2d9af5",
   "metadata": {},
   "outputs": [],
   "source": [
    "import sys\n",
    "input = sys.stdin.readline\n",
    "N = int(input())\n",
    "profit = [list(map(int,input().split())) for _ in range(N)]\n",
    "dp=[0]*(N+1)\n",
    "\n",
    "for i in range(N):\n",
    "    for j in range(i + profit[i][0],N+1):\n",
    "        if dp[j] < dp[i]+profit[i][1]:\n",
    "            dp[j] = dp[i]+profit[i][1]\n",
    "print(dp[-1])"
   ]
  },
  {
   "cell_type": "markdown",
   "id": "cebbba91-f6c1-479f-a7a6-325b1a23bdf6",
   "metadata": {},
   "source": [
    "#### top down"
   ]
  },
  {
   "cell_type": "code",
   "execution_count": null,
   "id": "dd28f5d5-2d39-4729-87f1-a94fb4991658",
   "metadata": {},
   "outputs": [],
   "source": [
    "import sys\n",
    "input = sys.stdin.readline\n",
    "N = int(input())\n",
    "profit = [list(map(int,input().split())) for _ in range(N)]\n",
    "dp = [0]* (N+1)\n",
    "for i in range(N-1,-1,-1):\n",
    "    if i + profit[i][0] > N: # 퇴사일을 넘기면\n",
    "        dp[i] = dp[i+1] # 그 전꺼 가져오기 (현상유지)\n",
    "        continue\n",
    "    dp[i] = max(dp[i+1], dp[profit[i][0]+i] + profit[i][1]) # i일에 상담을 안하는 것(이전 까지 보수)과 상담을 하는 것(그 날로부터 상담 시간 후 + 그 날의 보수)을 비교.\n",
    "print(dp[0])"
   ]
  },
  {
   "cell_type": "markdown",
   "id": "21245fd6-931d-40b0-865d-6ffe3cd88fc0",
   "metadata": {},
   "source": [
    "# 병사 배치하기\n",
    "\n",
    "https://www.acmicpc.net/problem/18353\n",
    "- Solve idea\n",
    "  - dp테이블에 각자의 최대의 병사의 수를 담는다\n",
    "  - '각각 각자의 최대를 담는다'가 키 포인트"
   ]
  },
  {
   "cell_type": "code",
   "execution_count": null,
   "id": "fa7ec434-184b-437e-92b3-f44fbbd12e9f",
   "metadata": {},
   "outputs": [],
   "source": [
    "import sys\n",
    "input = sys.stdin.readline\n",
    "N = int(input())\n",
    "arr = list(map(int,input().split()))\n",
    "dp = [1]* (N+1)\n",
    "\n",
    "for i in range(N):\n",
    "    for j in range(i):\n",
    "        if arr[i] < arr[j]:\n",
    "            dp[i] = max(dp[i],dp[j]+1) # j의 최선에 1을 더함\n",
    "print(len(arr) - max(dp))"
   ]
  },
  {
   "cell_type": "markdown",
   "id": "78b918ed-d6eb-4bfd-a474-0dc8f3ed5d65",
   "metadata": {},
   "source": [
    "# 가장 긴 증가하는 부분 수열\n",
    "\n",
    "https://www.acmicpc.net/problem/11053\n",
    "\n",
    "- Solve idea\n",
    "  - 이 문제 또한 위의 병사 배치하기 문제 처럼 각각의 기준에서 가장 긴 수열의 길이를 dp 테이블에 저장하면 되는 방식인 것 같다."
   ]
  },
  {
   "cell_type": "code",
   "execution_count": null,
   "id": "5f60b0cb-a5cf-43f6-9cc4-4bb0c6d33d6c",
   "metadata": {},
   "outputs": [],
   "source": [
    "import sys\n",
    "input = sys.stdin.readline\n",
    "N = int(input())\n",
    "arr = list(map(int,input().split()))\n",
    "\n",
    "dp = [1] * (N+1)\n",
    "for i in range(N):\n",
    "    for j in range(i):\n",
    "        if arr[i] > arr[j]:\n",
    "            dp[i] = max(dp[i], dp[j] + 1)\n",
    "print(max(dp))"
   ]
  }
 ],
 "metadata": {
  "kernelspec": {
   "display_name": "Python 3 (ipykernel)",
   "language": "python",
   "name": "python3"
  },
  "language_info": {
   "codemirror_mode": {
    "name": "ipython",
    "version": 3
   },
   "file_extension": ".py",
   "mimetype": "text/x-python",
   "name": "python",
   "nbconvert_exporter": "python",
   "pygments_lexer": "ipython3",
   "version": "3.11.5"
  }
 },
 "nbformat": 4,
 "nbformat_minor": 5
}
