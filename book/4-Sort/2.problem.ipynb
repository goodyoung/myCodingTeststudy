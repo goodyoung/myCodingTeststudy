{
 "cells": [
  {
   "cell_type": "markdown",
   "id": "218c4daa-75e1-46e6-a344-1c5ad3948bfb",
   "metadata": {},
   "source": [
    "# 국영수\n",
    "boj 10825\n",
    "\n",
    "- Solve idea\n",
    "  - 문제의 그대로 따라가기만 하면 된다."
   ]
  },
  {
   "cell_type": "code",
   "execution_count": null,
   "id": "3861eaf5-7c56-4135-8a63-30d9c1071290",
   "metadata": {},
   "outputs": [],
   "source": [
    "import sys\n",
    "input = sys.stdin.readline\n",
    "\n",
    "N = int(input())\n",
    "\n",
    "total = []\n",
    "for i in range(N):\n",
    "    name, korean, english, math = input().split()\n",
    "    total.append((name,int(korean),int(english),int(math)))\n",
    "\n",
    "total.sort(key=lambda x : (-x[1],x[2],-x[3],x[0]))\n",
    "print(total)\n",
    "for i in total:\n",
    "    print(i[0])"
   ]
  },
  {
   "cell_type": "markdown",
   "id": "4ab6fca1-5091-4cfd-b14e-060792014df0",
   "metadata": {},
   "source": [
    "# 안테나\n",
    "- Solve idea\n",
    "  - 그리디로 그냥 arr의 반을 구하면 된다"
   ]
  },
  {
   "cell_type": "code",
   "execution_count": null,
   "id": "32d3bb5c-9769-4ac4-86c0-1e16ffe0bfe4",
   "metadata": {},
   "outputs": [],
   "source": [
    "import sys\n",
    "input = sys.stdin.readline\n",
    "\n",
    "N = int(input())\n",
    "\n",
    "arr = list(map(int, input().split()))\n",
    "\n",
    "N = 4\n",
    "arr = [5, 1, 7 ,9]\n",
    "\n",
    "arr.sort()\n",
    "\n",
    "print(arr[(N-1)//2])"
   ]
  },
  {
   "cell_type": "markdown",
   "id": "a580ff2b-884c-413b-9bd8-6cd6ad9897a9",
   "metadata": {},
   "source": [
    "# 실패율\n",
    "\n",
    "https://school.programmers.co.kr/learn/courses/30/lessons/42889\n",
    "\n",
    "\n",
    "- Solve idea\n",
    "  - stage를 먼저 정렬, 계수 정렬로 개수 카운트, 계산, 정렬한 결과 return"
   ]
  },
  {
   "cell_type": "code",
   "execution_count": 161,
   "id": "63a039d7-16fd-4192-9a03-3f953f210857",
   "metadata": {},
   "outputs": [],
   "source": [
    "def solution(N,stages):\n",
    "    temp = [0]* (N)\n",
    "    length = len(stages)\n",
    "    \n",
    "    for i in stages:\n",
    "        if (N+1 == i): #최종 스테이지\n",
    "            continue\n",
    "        temp[i-1] += 1\n",
    "        \n",
    "    for i in range(N):\n",
    "        num = temp[i]\n",
    "        if not length:\n",
    "            fail = 0\n",
    "        else:\n",
    "            fail = num/length\n",
    "        temp[i] = (i+1, fail)\n",
    "        length -= num\n",
    "    temp.sort(key=lambda x:x[1], reverse = True)\n",
    "    \n",
    "    return [i[0] for i in temp]"
   ]
  }
 ],
 "metadata": {
  "kernelspec": {
   "display_name": "Python 3 (ipykernel)",
   "language": "python",
   "name": "python3"
  },
  "language_info": {
   "codemirror_mode": {
    "name": "ipython",
    "version": 3
   },
   "file_extension": ".py",
   "mimetype": "text/x-python",
   "name": "python",
   "nbconvert_exporter": "python",
   "pygments_lexer": "ipython3",
   "version": "3.11.5"
  }
 },
 "nbformat": 4,
 "nbformat_minor": 5
}
