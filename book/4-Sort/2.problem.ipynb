{
 "cells": [
  {
   "cell_type": "markdown",
   "id": "218c4daa-75e1-46e6-a344-1c5ad3948bfb",
   "metadata": {},
   "source": [
    "# 국영수\n",
    "boj 10825\n",
    "\n",
    "- Solve idea\n",
    "  - 문제의 그대로 따라가기만 하면 된다."
   ]
  },
  {
   "cell_type": "code",
   "execution_count": null,
   "id": "3861eaf5-7c56-4135-8a63-30d9c1071290",
   "metadata": {},
   "outputs": [],
   "source": [
    "import sys\n",
    "input = sys.stdin.readline\n",
    "\n",
    "N = int(input())\n",
    "\n",
    "total = []\n",
    "for i in range(N):\n",
    "    name, korean, english, math = input().split()\n",
    "    total.append((name,int(korean),int(english),int(math)))\n",
    "\n",
    "total.sort(key=lambda x : (-x[1],x[2],-x[3],x[0]))\n",
    "print(total)\n",
    "for i in total:\n",
    "    print(i[0])"
   ]
  },
  {
   "cell_type": "code",
   "execution_count": null,
   "id": "00bcadc7-5c0e-465e-a5a2-5bf1c2a30d32",
   "metadata": {},
   "outputs": [],
   "source": []
  }
 ],
 "metadata": {
  "kernelspec": {
   "display_name": "Python 3 (ipykernel)",
   "language": "python",
   "name": "python3"
  },
  "language_info": {
   "codemirror_mode": {
    "name": "ipython",
    "version": 3
   },
   "file_extension": ".py",
   "mimetype": "text/x-python",
   "name": "python",
   "nbconvert_exporter": "python",
   "pygments_lexer": "ipython3",
   "version": "3.11.5"
  }
 },
 "nbformat": 4,
 "nbformat_minor": 5
}
