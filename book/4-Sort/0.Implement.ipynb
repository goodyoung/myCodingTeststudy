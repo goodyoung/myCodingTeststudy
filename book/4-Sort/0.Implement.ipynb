{
 "cells": [
  {
   "cell_type": "markdown",
   "id": "f94503f0-2100-43a1-8d37-3e6957efab00",
   "metadata": {},
   "source": [
    "## 선택 정렬\n",
    "시간복잡도: O(N^2)"
   ]
  },
  {
   "cell_type": "code",
   "execution_count": 12,
   "id": "97227dbf-8ae7-4d41-819d-9b114f7e1409",
   "metadata": {},
   "outputs": [],
   "source": [
    "arr = [7,5,9,0,3,1,6,2,4,8]"
   ]
  },
  {
   "cell_type": "code",
   "execution_count": 13,
   "id": "1a84b88f-73a8-4e40-bb2e-4a085f6f330e",
   "metadata": {},
   "outputs": [],
   "source": [
    "for i in range(len(arr)):\n",
    "    idx = i\n",
    "    for j in range(i,len(arr)):\n",
    "        if arr[idx] > arr[j]:\n",
    "            idx = j\n",
    "    arr[i], arr[idx] = arr[idx], arr[i]"
   ]
  },
  {
   "cell_type": "code",
   "execution_count": 14,
   "id": "3b51d3f9-ad4b-4ac4-a8ae-67df0179277e",
   "metadata": {},
   "outputs": [
    {
     "data": {
      "text/plain": [
       "[0, 1, 2, 3, 4, 5, 6, 7, 8, 9]"
      ]
     },
     "execution_count": 14,
     "metadata": {},
     "output_type": "execute_result"
    }
   ],
   "source": [
    "arr"
   ]
  },
  {
   "cell_type": "markdown",
   "id": "9ae6e3d3-c14a-4d26-bf02-f3b650117d24",
   "metadata": {},
   "source": [
    "# 삽입 정렬\n",
    "시간복잡도: O(N^2) (최선 O(N))"
   ]
  },
  {
   "cell_type": "code",
   "execution_count": 54,
   "id": "464ab390-5dcc-4c32-80e5-97a74e6be116",
   "metadata": {},
   "outputs": [],
   "source": [
    "arr = [7,5,9,0,3,1,6,2,4,8]"
   ]
  },
  {
   "cell_type": "code",
   "execution_count": 55,
   "id": "73be85e6-f356-44b4-be92-18f9e58aa7b8",
   "metadata": {},
   "outputs": [],
   "source": [
    "for i in range(1,len(arr)):\n",
    "    for j in range(i,0,-1):\n",
    "        if arr[j-1] > arr[j]:\n",
    "            arr[j],arr[j-1] = arr[j-1],arr[j]\n",
    "        else:\n",
    "            break"
   ]
  },
  {
   "cell_type": "code",
   "execution_count": 56,
   "id": "4ddad295-526b-4d0b-b56f-6600c87af07b",
   "metadata": {},
   "outputs": [
    {
     "data": {
      "text/plain": [
       "[0, 1, 2, 3, 4, 5, 6, 7, 8, 9]"
      ]
     },
     "execution_count": 56,
     "metadata": {},
     "output_type": "execute_result"
    }
   ],
   "source": [
    "arr"
   ]
  }
 ],
 "metadata": {
  "kernelspec": {
   "display_name": "Python 3 (ipykernel)",
   "language": "python",
   "name": "python3"
  },
  "language_info": {
   "codemirror_mode": {
    "name": "ipython",
    "version": 3
   },
   "file_extension": ".py",
   "mimetype": "text/x-python",
   "name": "python",
   "nbconvert_exporter": "python",
   "pygments_lexer": "ipython3",
   "version": "3.11.5"
  }
 },
 "nbformat": 4,
 "nbformat_minor": 5
}
