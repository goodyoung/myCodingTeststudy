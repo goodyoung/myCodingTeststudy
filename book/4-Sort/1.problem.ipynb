{
 "cells": [
  {
   "cell_type": "markdown",
   "id": "d5f0c14c-0aa0-4e89-8e49-3fb44b0d9d65",
   "metadata": {},
   "source": [
    "# 위에서 아래로\n",
    "- Solve idea\n",
    "  - 수의 범위를 보아 어떤 알고리즘을 사용해도 상관 없을 것 같다."
   ]
  },
  {
   "cell_type": "code",
   "execution_count": null,
   "id": "2d7f1b53-4ec3-46ff-9926-d05cef39a5d2",
   "metadata": {},
   "outputs": [],
   "source": [
    "import sys\n",
    "input = sys.stdin.readline\n",
    "\n",
    "N = int(input())\n",
    "arr = []\n",
    "for _ in range(N):\n",
    "    arr.append(int(input()))\n",
    "\n",
    "arr = [15,27,12]\n",
    "arr.sort(reverse = True)\n",
    "\n",
    "for i in arr:\n",
    "    print(i,end = ' ') "
   ]
  },
  {
   "cell_type": "markdown",
   "id": "385065bf-f454-462b-80e2-30c69af619aa",
   "metadata": {},
   "source": [
    "# 성적이 낮은 순서로 학생 출력하기\n",
    "- Solve idea\n",
    "  - 그냥 sort하면 될 것 같다"
   ]
  },
  {
   "cell_type": "code",
   "execution_count": null,
   "id": "91aa3c5a-0925-43fd-ab27-bbab7256a959",
   "metadata": {},
   "outputs": [],
   "source": [
    "N = int(input())\n",
    "\n",
    "arr = []\n",
    "for i in range(N):\n",
    "    name, num = input().split()\n",
    "    arr.append((name,int(num)))\n",
    "\n",
    "arr.sort(key=lambda x: x[1])\n",
    "\n",
    "for i in arr:\n",
    "    print(i[0], end = ' ')"
   ]
  },
  {
   "cell_type": "markdown",
   "id": "8636e14d-0a0c-46b9-af35-d64dff526104",
   "metadata": {},
   "source": [
    "# 두 배열의 원소 교체"
   ]
  },
  {
   "cell_type": "code",
   "execution_count": 14,
   "id": "7826397e-f0f1-44f7-9ff0-db212e00f709",
   "metadata": {},
   "outputs": [],
   "source": [
    "N,K = 5,3"
   ]
  },
  {
   "cell_type": "code",
   "execution_count": 15,
   "id": "cd671796-284e-43b9-a01e-d29690adca04",
   "metadata": {},
   "outputs": [],
   "source": [
    "A = [1,2,5,4,3]\n",
    "B = [5,5,6,6,5]"
   ]
  },
  {
   "cell_type": "code",
   "execution_count": 16,
   "id": "7e55647e-dbd2-4cd3-af74-902b631fd3c7",
   "metadata": {},
   "outputs": [],
   "source": [
    "A.sort()\n",
    "B.sort(reverse=True)"
   ]
  },
  {
   "cell_type": "code",
   "execution_count": 17,
   "id": "c9291b62-785c-449e-8253-447f566f9168",
   "metadata": {},
   "outputs": [],
   "source": [
    "for i in range(K):\n",
    "    A[i],B[i] = B[i], A[i]"
   ]
  },
  {
   "cell_type": "code",
   "execution_count": 18,
   "id": "0fe1220c-69d5-48aa-8f7b-481d7884c0eb",
   "metadata": {},
   "outputs": [
    {
     "name": "stdout",
     "output_type": "stream",
     "text": [
      "26\n"
     ]
    }
   ],
   "source": [
    "print(sum(A))"
   ]
  }
 ],
 "metadata": {
  "kernelspec": {
   "display_name": "Python 3 (ipykernel)",
   "language": "python",
   "name": "python3"
  },
  "language_info": {
   "codemirror_mode": {
    "name": "ipython",
    "version": 3
   },
   "file_extension": ".py",
   "mimetype": "text/x-python",
   "name": "python",
   "nbconvert_exporter": "python",
   "pygments_lexer": "ipython3",
   "version": "3.11.5"
  }
 },
 "nbformat": 4,
 "nbformat_minor": 5
}
