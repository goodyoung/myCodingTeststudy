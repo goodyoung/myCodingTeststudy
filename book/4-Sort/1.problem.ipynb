{
 "cells": [
  {
   "cell_type": "markdown",
   "id": "d5f0c14c-0aa0-4e89-8e49-3fb44b0d9d65",
   "metadata": {},
   "source": [
    "# 위에서 아래로\n",
    "- Solve idea\n",
    "  - 수의 범위를 보아 어떤 알고리즘을 사용해도 상관 없을 것 같다."
   ]
  },
  {
   "cell_type": "code",
   "execution_count": 1,
   "id": "be67bbdb-d614-4506-b131-2689c6065738",
   "metadata": {},
   "outputs": [],
   "source": [
    "import sys\n",
    "input = sys.stdin.readline"
   ]
  },
  {
   "cell_type": "code",
   "execution_count": null,
   "id": "11eb18e0-014b-4148-bb95-2890b9566196",
   "metadata": {},
   "outputs": [],
   "source": [
    "N = int(input())\n",
    "arr = []\n",
    "for _ in range(N):\n",
    "    arr.append(int(input()))"
   ]
  },
  {
   "cell_type": "code",
   "execution_count": 3,
   "id": "8f2bf63e-7e40-44a3-b740-4b2b85606bdc",
   "metadata": {},
   "outputs": [],
   "source": [
    "arr = [15,27,12]\n",
    "arr.sort(reverse = True)"
   ]
  },
  {
   "cell_type": "code",
   "execution_count": 6,
   "id": "71c5bfc4-5ddc-4d8b-82d7-bffea89bdb34",
   "metadata": {},
   "outputs": [
    {
     "name": "stdout",
     "output_type": "stream",
     "text": [
      "27 15 12 "
     ]
    }
   ],
   "source": [
    "for i in arr:\n",
    "    print(i,end = ' ') "
   ]
  },
  {
   "cell_type": "code",
   "execution_count": null,
   "id": "ec9a15fd-fc3c-40de-89cf-bea503811a87",
   "metadata": {},
   "outputs": [],
   "source": []
  }
 ],
 "metadata": {
  "kernelspec": {
   "display_name": "Python 3 (ipykernel)",
   "language": "python",
   "name": "python3"
  },
  "language_info": {
   "codemirror_mode": {
    "name": "ipython",
    "version": 3
   },
   "file_extension": ".py",
   "mimetype": "text/x-python",
   "name": "python",
   "nbconvert_exporter": "python",
   "pygments_lexer": "ipython3",
   "version": "3.11.5"
  }
 },
 "nbformat": 4,
 "nbformat_minor": 5
}
