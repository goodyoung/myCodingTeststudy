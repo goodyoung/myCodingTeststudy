{
 "cells": [
  {
   "cell_type": "markdown",
   "id": "5eb441b6-31b9-4a1c-817e-21c1fd04aec5",
   "metadata": {},
   "source": [
    "# 주유소\n",
    "boj 13305 (silver 3)\n",
    "- Solve idea\n",
    "  - 맨 처음은 그 다음까지(default) (10)\n",
    "    -  prev / current 비교\n",
    "      - 5 * 3 (그 전에껄로 할거냐) / 2 * 3 (지금 주유소로 하냐.)\n",
    "      - 2 * 1 (그 전에껄로 할거냐) / 4 * 1 (지금 주유소로 하냐.)"
   ]
  },
  {
   "cell_type": "code",
   "execution_count": 10,
   "id": "265c1aa8-dd42-49e3-b68f-522ff11325d4",
   "metadata": {},
   "outputs": [
    {
     "name": "stdout",
     "output_type": "stream",
     "text": [
      "18\n"
     ]
    }
   ],
   "source": [
    "import sys\n",
    "\n",
    "N = int(sys.stdin.readline())\n",
    "road_length = list(map(int,sys.stdin.readline().split()))\n",
    "liter = list(map(int,sys.stdin.readline().split()))\n",
    "\n",
    "result, min_num =  0, 1_000_000_001\n",
    "for i in range(N-1):\n",
    "    min_num = min(min_num , liter[i])\n",
    "    result += (min_num  * road_length[i])\n",
    "    \n",
    "print(result)"
   ]
  },
  {
   "cell_type": "markdown",
   "id": "318a86b0-fa0a-4d0a-b37d-0fe1cc4a72c4",
   "metadata": {},
   "source": [
    "# 동전 0\n",
    "boj 11047 (silver 4)\n",
    "- Solve idea\n",
    "  - 동전의 가치가 가장 큰 돈 부터 비교하면서 K원 보다 작으면 나누기"
   ]
  },
  {
   "cell_type": "code",
   "execution_count": null,
   "id": "25b8e8be-6e69-4fde-b280-ff6ebd655166",
   "metadata": {},
   "outputs": [],
   "source": [
    "import sys\n",
    "N, K = map(int, sys.stdin.readline().split())\n",
    "\n",
    "arr = [int(sys.stdin.readline()) for _ in range(N)]\n",
    "arr.sort(reverse=True)\n",
    "\n",
    "result = 0 \n",
    "for i in range(N):\n",
    "    if K >= arr[i]:\n",
    "        result += (K // arr[i])\n",
    "        K %= arr[i]\n",
    "    if not K:\n",
    "        break\n",
    "print(result)"
   ]
  },
  {
   "cell_type": "markdown",
   "id": "c7d49e22-e95e-4c93-9b7e-e658f40530a3",
   "metadata": {},
   "source": [
    "# 센서\n",
    "boj 2212 (gold5)\n",
    "- Solve idea\n",
    "  - 정렬 후 차이가 큰걸 기준으로 자르면 될 것 같다"
   ]
  },
  {
   "cell_type": "markdown",
   "id": "5e3aa3d1-81eb-43f8-8c97-1c2e541df13a",
   "metadata": {},
   "source": [
    "### 나의 풀이 1"
   ]
  },
  {
   "cell_type": "code",
   "execution_count": 32,
   "id": "b3b286da-3758-4edf-bcdd-8f2f33b7c998",
   "metadata": {},
   "outputs": [
    {
     "name": "stdout",
     "output_type": "stream",
     "text": [
      "7\n"
     ]
    }
   ],
   "source": [
    "import sys\n",
    "N = int(sys.stdin.readline())\n",
    "K = int(sys.stdin.readline())\n",
    "arr = list(map(int, sys.stdin.readline().split()))\n",
    "\n",
    "N, K = 10,5\n",
    "arr = [1,6,9,3,6,7]\n",
    "arr = [20, 3, 14, 6, 7, 8, 18, 10, 12, 15]\n",
    "arr.sort()\n",
    "\n",
    "diff =[0]* (N-1)\n",
    "for i in range(1,N):\n",
    "    diff[i-1] = arr[i] - arr[i-1]\n",
    "diff.sort()\n",
    "\n",
    "print(sum(diff[:(N-K)]))"
   ]
  },
  {
   "cell_type": "markdown",
   "id": "616169a1-8200-4382-8f81-6d14b68d611e",
   "metadata": {},
   "source": [
    "### 나의 풀이 2"
   ]
  },
  {
   "cell_type": "code",
   "execution_count": 46,
   "id": "b74a8412-e145-41d2-9842-542f8853ba0f",
   "metadata": {},
   "outputs": [
    {
     "name": "stdout",
     "output_type": "stream",
     "text": [
      "7\n"
     ]
    }
   ],
   "source": [
    "import sys\n",
    "N = int(sys.stdin.readline())\n",
    "K = int(sys.stdin.readline())\n",
    "arr = list(map(int, sys.stdin.readline().split()))\n",
    "arr.sort()\n",
    "\n",
    "diff = [arr[i] - arr[i-1] for i in range(1,N)]\n",
    "diff.sort()\n",
    "print(sum(diff[:-(K-1)]))"
   ]
  },
  {
   "cell_type": "markdown",
   "id": "4f661f91-88e5-4650-89fa-a0dbd37306e6",
   "metadata": {},
   "source": [
    "# 회의실 배정\n",
    "boj 1931 (silve 1)\n",
    "- Solve idea\n",
    "  - 왼쪽 정렬, 오른쪽 정렬"
   ]
  },
  {
   "cell_type": "code",
   "execution_count": null,
   "id": "2b3a896d-3917-4e4a-89bb-a854dc4dea7c",
   "metadata": {},
   "outputs": [],
   "source": [
    "import sys\n",
    "\n",
    "N = int(sys.stdin.readline())\n",
    "arr = [list(map(int, sys.stdin.readline().split())) for _ in range(N)]\n",
    "arr.sort(key = lambda x: (x[1],x[0]))\n",
    "\n",
    "cnt = 1\n",
    "_, end = arr[0]\n",
    "for i in range(1,N):\n",
    "    if arr[i][0] >= end:\n",
    "        cnt += 1\n",
    "        end = arr[i][1]\n",
    "        \n",
    "print(cnt)"
   ]
  },
  {
   "cell_type": "markdown",
   "id": "6e026a31-7652-422b-9cb6-21839ce232ea",
   "metadata": {},
   "source": [
    "# 카드 정렬하기\n",
    "boj 1715 (gold 4)\n",
    "- Solve idea\n",
    "  - 적은 순 부터 더해감\n",
    "    - 무조건 정렬만 해서는 안된다. 합쳐지면 우선순위가 달라진다"
   ]
  },
  {
   "cell_type": "markdown",
   "id": "a0a64f29-ce8f-498f-bff6-80caa6c61eb6",
   "metadata": {
    "jp-MarkdownHeadingCollapsed": true
   },
   "source": [
    "### 시간 초과"
   ]
  },
  {
   "cell_type": "code",
   "execution_count": 119,
   "id": "886272df-48f4-4ad9-81b2-41c2c94d6ecc",
   "metadata": {},
   "outputs": [
    {
     "name": "stdout",
     "output_type": "stream",
     "text": [
      "30\n"
     ]
    }
   ],
   "source": [
    "import sys\n",
    "N = int(sys.stdin.readline())\n",
    "arr = [int(sys.stdin.readline()) for _ in range(N)]\n",
    "\n",
    "arr = [70, 80,90, 100]\n",
    "arr = [20,30,30,40]\n",
    "arr=[10,20]\n",
    "arr.sort()\n",
    "\n",
    "# print(10 + 20 + (30 + 40))\n",
    "\n",
    "# result = arr[0]\n",
    "N = 2\n",
    "result = []\n",
    "if N == 1:\n",
    "    print(0)\n",
    "else:\n",
    "    for i in range(1,N):\n",
    "        arr.sort()\n",
    "        result.append(arr[1] + arr[0])\n",
    "        arr = [arr[0] + arr[1]] + arr[2:]\n",
    "        # result += arr[i]\n",
    "    print(sum(result))"
   ]
  },
  {
   "cell_type": "markdown",
   "id": "ab2430d8-6403-4c56-a225-b6233e4d84ce",
   "metadata": {},
   "source": [
    "### heapq"
   ]
  },
  {
   "cell_type": "code",
   "execution_count": null,
   "id": "ea766831-9d78-4b1b-ab84-10f7df6fa04d",
   "metadata": {},
   "outputs": [],
   "source": [
    "import sys\n",
    "import heapq\n",
    "\n",
    "N = int(sys.stdin.readline())\n",
    "heap = []\n",
    "for _ in range(N):\n",
    "    num = int(sys.stdin.readline())\n",
    "    heapq.heappush(heap, num)\n",
    "\n",
    "result = 0\n",
    "if N == 1:\n",
    "    print(0)\n",
    "else:\n",
    "    for i in range(1,N):\n",
    "        prev = heapq.heappop(heap)\n",
    "        cur = heapq.heappop(heap)\n",
    "        result += (prev+cur)\n",
    "        heapq.heappush(heap, prev+cur)\n",
    "        \n",
    "print(result)"
   ]
  },
  {
   "cell_type": "code",
   "execution_count": null,
   "id": "214329a5-1efa-45c0-86f7-dfe1a2fc9561",
   "metadata": {},
   "outputs": [],
   "source": [
    "import sys\n",
    "import heapq\n",
    "\n",
    "N = int(sys.stdin.readline())\n",
    "heap = []\n",
    "for _ in range(N):\n",
    "    heapq.heappush(heap, int(sys.stdin.readline()))\n",
    "\n",
    "result = 0\n",
    "if N==1:\n",
    "    print(0)\n",
    "else:\n",
    "    for _ in range(N-1):\n",
    "        previous = heapq.heappop(heap)\n",
    "        current = heapq.heappop(heap)\n",
    "\n",
    "        result += previous + current\n",
    "        heapq.heappush(heap,previous + current)\n",
    "    \n",
    "    print(result)"
   ]
  }
 ],
 "metadata": {
  "kernelspec": {
   "display_name": "Python 3 (ipykernel)",
   "language": "python",
   "name": "python3"
  },
  "language_info": {
   "codemirror_mode": {
    "name": "ipython",
    "version": 3
   },
   "file_extension": ".py",
   "mimetype": "text/x-python",
   "name": "python",
   "nbconvert_exporter": "python",
   "pygments_lexer": "ipython3",
   "version": "3.11.5"
  }
 },
 "nbformat": 4,
 "nbformat_minor": 5
}
