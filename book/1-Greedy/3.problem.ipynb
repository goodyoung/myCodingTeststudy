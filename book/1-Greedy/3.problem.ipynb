{
 "cells": [
  {
   "cell_type": "markdown",
   "id": "5eb441b6-31b9-4a1c-817e-21c1fd04aec5",
   "metadata": {},
   "source": [
    "# 주유소\n",
    "boj 13305 (silver 3)\n",
    "- Solve idea\n",
    "  - 맨 처음은 그 다음까지(default) (10)\n",
    "    -  prev / current 비교\n",
    "      - 5 * 3 (그 전에껄로 할거냐) / 2 * 3 (지금 주유소로 하냐.)\n",
    "      - 2 * 1 (그 전에껄로 할거냐) / 4 * 1 (지금 주유소로 하냐.)"
   ]
  },
  {
   "cell_type": "code",
   "execution_count": 10,
   "id": "265c1aa8-dd42-49e3-b68f-522ff11325d4",
   "metadata": {},
   "outputs": [
    {
     "name": "stdout",
     "output_type": "stream",
     "text": [
      "18\n"
     ]
    }
   ],
   "source": [
    "import sys\n",
    "\n",
    "N = int(sys.stdin.readline())\n",
    "road_length = list(map(int,sys.stdin.readline().split()))\n",
    "liter = list(map(int,sys.stdin.readline().split()))\n",
    "\n",
    "result, min_num =  0, 1_000_000_001\n",
    "for i in range(N-1):\n",
    "    min_num = min(min_num , liter[i])\n",
    "    result += (min_num  * road_length[i])\n",
    "    \n",
    "print(result)"
   ]
  },
  {
   "cell_type": "markdown",
   "id": "318a86b0-fa0a-4d0a-b37d-0fe1cc4a72c4",
   "metadata": {},
   "source": [
    "# 동전 0\n",
    "boj 11047 (silver 4)\n",
    "- Solve idea\n",
    "  - 동전의 가치가 가장 큰 돈 부터 비교하면서 K원 보다 작으면 나누기"
   ]
  },
  {
   "cell_type": "code",
   "execution_count": null,
   "id": "25b8e8be-6e69-4fde-b280-ff6ebd655166",
   "metadata": {},
   "outputs": [],
   "source": [
    "import sys\n",
    "N, K = map(int, sys.stdin.readline().split())\n",
    "\n",
    "arr = [int(sys.stdin.readline()) for _ in range(N)]\n",
    "arr.sort(reverse=True)\n",
    "\n",
    "result = 0 \n",
    "for i in range(N):\n",
    "    if K >= arr[i]:\n",
    "        result += (K // arr[i])\n",
    "        K %= arr[i]\n",
    "    if not K:\n",
    "        break\n",
    "print(result)"
   ]
  },
  {
   "cell_type": "markdown",
   "id": "c7d49e22-e95e-4c93-9b7e-e658f40530a3",
   "metadata": {},
   "source": [
    "# 센서\n",
    "boj 2212 (gold5)\n",
    "- Solve idea\n",
    "  - 정렬 후 차이가 큰걸 기준으로 자르면 될 것 같다"
   ]
  },
  {
   "cell_type": "markdown",
   "id": "5e3aa3d1-81eb-43f8-8c97-1c2e541df13a",
   "metadata": {},
   "source": [
    "### 나의 풀이 1"
   ]
  },
  {
   "cell_type": "code",
   "execution_count": 32,
   "id": "b3b286da-3758-4edf-bcdd-8f2f33b7c998",
   "metadata": {},
   "outputs": [
    {
     "name": "stdout",
     "output_type": "stream",
     "text": [
      "7\n"
     ]
    }
   ],
   "source": [
    "import sys\n",
    "N = int(sys.stdin.readline())\n",
    "K = int(sys.stdin.readline())\n",
    "arr = list(map(int, sys.stdin.readline().split()))\n",
    "\n",
    "N, K = 10,5\n",
    "arr = [1,6,9,3,6,7]\n",
    "arr = [20, 3, 14, 6, 7, 8, 18, 10, 12, 15]\n",
    "arr.sort()\n",
    "\n",
    "diff =[0]* (N-1)\n",
    "for i in range(1,N):\n",
    "    diff[i-1] = arr[i] - arr[i-1]\n",
    "diff.sort()\n",
    "\n",
    "print(sum(diff[:(N-K)]))"
   ]
  },
  {
   "cell_type": "markdown",
   "id": "616169a1-8200-4382-8f81-6d14b68d611e",
   "metadata": {},
   "source": [
    "### 나의 풀이 2"
   ]
  },
  {
   "cell_type": "code",
   "execution_count": 46,
   "id": "b74a8412-e145-41d2-9842-542f8853ba0f",
   "metadata": {},
   "outputs": [
    {
     "name": "stdout",
     "output_type": "stream",
     "text": [
      "7\n"
     ]
    }
   ],
   "source": [
    "import sys\n",
    "N = int(sys.stdin.readline())\n",
    "K = int(sys.stdin.readline())\n",
    "arr = list(map(int, sys.stdin.readline().split()))\n",
    "arr.sort()\n",
    "\n",
    "diff = [arr[i] - arr[i-1] for i in range(1,N)]\n",
    "diff.sort()\n",
    "print(sum(diff[:-(K-1)]))"
   ]
  }
 ],
 "metadata": {
  "kernelspec": {
   "display_name": "Python 3 (ipykernel)",
   "language": "python",
   "name": "python3"
  },
  "language_info": {
   "codemirror_mode": {
    "name": "ipython",
    "version": 3
   },
   "file_extension": ".py",
   "mimetype": "text/x-python",
   "name": "python",
   "nbconvert_exporter": "python",
   "pygments_lexer": "ipython3",
   "version": "3.11.5"
  }
 },
 "nbformat": 4,
 "nbformat_minor": 5
}
