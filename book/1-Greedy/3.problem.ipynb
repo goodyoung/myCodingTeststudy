{
 "cells": [
  {
   "cell_type": "markdown",
   "id": "5eb441b6-31b9-4a1c-817e-21c1fd04aec5",
   "metadata": {},
   "source": [
    "# 주유소\n",
    "boj 13305\n",
    "- Solve idea\n",
    "  - 맨 처음은 그 다음까지(default) (10)\n",
    "    -  prev / current 비교\n",
    "      - 5 * 3 (그 전에껄로 할거냐) / 2 * 3 (지금 주유소로 하냐.)\n",
    "      - 2 * 1 (그 전에껄로 할거냐) / 4 * 1 (지금 주유소로 하냐.)"
   ]
  },
  {
   "cell_type": "code",
   "execution_count": 10,
   "id": "265c1aa8-dd42-49e3-b68f-522ff11325d4",
   "metadata": {},
   "outputs": [
    {
     "name": "stdout",
     "output_type": "stream",
     "text": [
      "18\n"
     ]
    }
   ],
   "source": [
    "import sys\n",
    "\n",
    "N = int(sys.stdin.readline())\n",
    "road_length = list(map(int,sys.stdin.readline().split()))\n",
    "liter = list(map(int,sys.stdin.readline().split()))\n",
    "\n",
    "result, min_num =  0, 1_000_000_001\n",
    "for i in range(N-1):\n",
    "    min_num = min(min_num , liter[i])\n",
    "    result += (min_num  * road_length[i])\n",
    "    \n",
    "print(result)"
   ]
  },
  {
   "cell_type": "code",
   "execution_count": null,
   "id": "ad9c28b1-428c-441b-a888-6e146310b862",
   "metadata": {},
   "outputs": [],
   "source": []
  }
 ],
 "metadata": {
  "kernelspec": {
   "display_name": "Python 3 (ipykernel)",
   "language": "python",
   "name": "python3"
  },
  "language_info": {
   "codemirror_mode": {
    "name": "ipython",
    "version": 3
   },
   "file_extension": ".py",
   "mimetype": "text/x-python",
   "name": "python",
   "nbconvert_exporter": "python",
   "pygments_lexer": "ipython3",
   "version": "3.11.5"
  }
 },
 "nbformat": 4,
 "nbformat_minor": 5
}
