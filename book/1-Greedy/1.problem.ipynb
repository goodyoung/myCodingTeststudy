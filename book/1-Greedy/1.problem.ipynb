{
 "cells": [
  {
   "cell_type": "markdown",
   "id": "236a774a-98c8-4b6d-bedb-248a7040317b",
   "metadata": {},
   "source": [
    "# 큰 수의 법칙\n",
    "\n",
    "- 주어진 배열의 수들을 M번 더하여 가장 큰 수를 만들기.\n",
    "- 특정 인덱스에 해당하는 수가 연속해서 K번 초과하여 더해질 수 없음.\n",
    "  - 서로 다른 인덱스에 해당하는 수가 같은 경우에도 그건 서로 다른 것으로 간주.\n",
    "- Solve Idea\n",
    "  - 배열에서 가장 큰 수 3번 나오고 그다음 작은 수 1번 이걸 반복."
   ]
  },
  {
   "cell_type": "markdown",
   "id": "ddc89e15-b195-4372-b4ca-75be1a32c0c7",
   "metadata": {},
   "source": [
    "### 내 풀이"
   ]
  },
  {
   "cell_type": "code",
   "execution_count": 21,
   "id": "f60f6a9b-e0c1-4ed3-9f7f-1edce7309f03",
   "metadata": {},
   "outputs": [
    {
     "name": "stdout",
     "output_type": "stream",
     "text": [
      "46\n"
     ]
    }
   ],
   "source": [
    "import sys\n",
    "\n",
    "N, M, K = map(int, sys.stdin.readline().split())\n",
    "arr = sys.stdin.readline().split()\n",
    "# N,M,K = 5,8,3\n",
    "# arr=[2,4,5,4,6]\n",
    "\n",
    "arr.sort()\n",
    "\n",
    "num = arr[-1]\n",
    "cnt, result = 0, 0\n",
    "\n",
    "for i in range(M):\n",
    "    result += num\n",
    "    cnt += 1\n",
    "    if cnt == K:\n",
    "        num = arr[-2]\n",
    "    elif cnt == K+1:\n",
    "        num, cnt = arr[-1], 0\n",
    "print(result)"
   ]
  },
  {
   "cell_type": "markdown",
   "id": "7ec81165-9560-427d-a95c-3633f11b38d8",
   "metadata": {},
   "source": [
    "### 책 풀이\n",
    "- 반복되는 수열에 대해서 파악"
   ]
  },
  {
   "cell_type": "code",
   "execution_count": null,
   "id": "ce0e32ce-997d-4e13-b7a8-94eb9a0cf788",
   "metadata": {},
   "outputs": [],
   "source": [
    "import sys\n",
    "\n",
    "N, M, K = map(int, sys.stdin.readline().split())\n",
    "arr = sys.stdin.readline().split()\n",
    "\n",
    "first = arr[-1]\n",
    "second = arr[-2]\n",
    "\n",
    "count = int(M / (K+1)) * K\n",
    "count += m %(K + 1)\n",
    "\n",
    "result = 0\n",
    "result += (count) * first\n",
    "result += (m - count) * second\n",
    "print(result)"
   ]
  }
 ],
 "metadata": {
  "kernelspec": {
   "display_name": "Python 3 (ipykernel)",
   "language": "python",
   "name": "python3"
  },
  "language_info": {
   "codemirror_mode": {
    "name": "ipython",
    "version": 3
   },
   "file_extension": ".py",
   "mimetype": "text/x-python",
   "name": "python",
   "nbconvert_exporter": "python",
   "pygments_lexer": "ipython3",
   "version": "3.11.5"
  }
 },
 "nbformat": 4,
 "nbformat_minor": 5
}
