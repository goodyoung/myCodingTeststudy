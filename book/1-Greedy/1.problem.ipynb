{
 "cells": [
  {
   "cell_type": "markdown",
   "id": "236a774a-98c8-4b6d-bedb-248a7040317b",
   "metadata": {
    "jp-MarkdownHeadingCollapsed": true
   },
   "source": [
    "# 1. 큰 수의 법칙\n",
    "\n",
    "- 주어진 배열의 수들을 M번 더하여 가장 큰 수를 만들기.\n",
    "- 특정 인덱스에 해당하는 수가 연속해서 K번 초과하여 더해질 수 없음.\n",
    "  - 서로 다른 인덱스에 해당하는 수가 같은 경우에도 그건 서로 다른 것으로 간주.\n",
    "- Solve Idea\n",
    "  - 배열에서 가장 큰 수 3번 나오고 그다음 작은 수 1번 이걸 반복."
   ]
  },
  {
   "cell_type": "markdown",
   "id": "ddc89e15-b195-4372-b4ca-75be1a32c0c7",
   "metadata": {
    "jp-MarkdownHeadingCollapsed": true
   },
   "source": [
    "### 내 풀이"
   ]
  },
  {
   "cell_type": "code",
   "execution_count": 21,
   "id": "f60f6a9b-e0c1-4ed3-9f7f-1edce7309f03",
   "metadata": {},
   "outputs": [
    {
     "name": "stdout",
     "output_type": "stream",
     "text": [
      "46\n"
     ]
    }
   ],
   "source": [
    "import sys\n",
    "\n",
    "N, M, K = map(int, sys.stdin.readline().split())\n",
    "arr = sys.stdin.readline().split()\n",
    "# N,M,K = 5,8,3\n",
    "# arr=[2,4,5,4,6]\n",
    "\n",
    "arr.sort()\n",
    "\n",
    "num = arr[-1]\n",
    "cnt, result = 0, 0\n",
    "\n",
    "for i in range(M):\n",
    "    result += num\n",
    "    cnt += 1\n",
    "    if cnt == K:\n",
    "        num = arr[-2]\n",
    "    elif cnt == K+1:\n",
    "        num, cnt = arr[-1], 0\n",
    "print(result)"
   ]
  },
  {
   "cell_type": "markdown",
   "id": "7ec81165-9560-427d-a95c-3633f11b38d8",
   "metadata": {
    "jp-MarkdownHeadingCollapsed": true
   },
   "source": [
    "### 책 풀이\n",
    "- 반복되는 수열에 대해서 파악"
   ]
  },
  {
   "cell_type": "code",
   "execution_count": null,
   "id": "ce0e32ce-997d-4e13-b7a8-94eb9a0cf788",
   "metadata": {},
   "outputs": [],
   "source": [
    "import sys\n",
    "\n",
    "N, M, K = map(int, sys.stdin.readline().split())\n",
    "arr = sys.stdin.readline().split()\n",
    "\n",
    "first = arr[-1]\n",
    "second = arr[-2]\n",
    "\n",
    "count = int(M / (K+1)) * K\n",
    "count += m %(K + 1)\n",
    "\n",
    "result = 0\n",
    "result += (count) * first\n",
    "result += (m - count) * second\n",
    "print(result)"
   ]
  },
  {
   "cell_type": "markdown",
   "id": "f29ee5e8-4940-45cc-b3ef-48da5476e22e",
   "metadata": {
    "jp-MarkdownHeadingCollapsed": true
   },
   "source": [
    "# 2. 숫자 카드 게임\n",
    "- 여러 개의 숫자 카드 중 가장 높은 숫자 뽑기\n",
    "- 뽑고자 하는 행 선택, 행 중 가장 숫자가 낮은 카드 뽑힘 -> 그 중에서 가장 높은 숫자를 찾는 것.\n",
    "- Solve idea\n",
    "  - 한 줄씩 입력받을 때마다 min 값 구하고 그걸로 가장 높은 수를 판별"
   ]
  },
  {
   "cell_type": "code",
   "execution_count": null,
   "id": "34778c25-9971-4df5-b1b3-63cee6d79241",
   "metadata": {},
   "outputs": [],
   "source": [
    "import sys\n",
    "\n",
    "N,M = map(int,sys.stdin.readline().split())\n",
    "\n",
    "max_num = 0\n",
    "for i in range(N):\n",
    "    arr = map(int,sys.stdin.readline().split())\n",
    "    min_num = min(arr)\n",
    "    if min_num > max_num:\n",
    "        max_num = min_num\n",
    "print(max_num)"
   ]
  },
  {
   "cell_type": "markdown",
   "id": "f89cff20-52bf-4b48-ab2e-8add69d479be",
   "metadata": {
    "jp-MarkdownHeadingCollapsed": true
   },
   "source": [
    "# 3. 1이 될 때까지\n",
    "- 어떠한 수를 1을 빼던가 K로 나눠서 1로 만드는 최소 횟수를 구함\n",
    "- Solve idea\n",
    "  - 무조건 K로 나누는 것이 좋다. (2보다 커서?)\n",
    "  - 안나누어 떨어지면 1 , 나누어 떨어지면 나누기"
   ]
  },
  {
   "cell_type": "code",
   "execution_count": 8,
   "id": "5efe68d4-59d3-42ad-a6f4-cac00cf93a42",
   "metadata": {},
   "outputs": [],
   "source": [
    "import sys"
   ]
  },
  {
   "cell_type": "code",
   "execution_count": null,
   "id": "fc2f887e-343e-4a9d-aadc-f05def9a40f3",
   "metadata": {},
   "outputs": [],
   "source": [
    "N,K = map(int, sys.stdin.readline())"
   ]
  },
  {
   "cell_type": "code",
   "execution_count": 11,
   "id": "9de6252e-f5bf-42d4-8f53-b9ce341a611a",
   "metadata": {},
   "outputs": [],
   "source": [
    "N,K = 25, 3"
   ]
  },
  {
   "cell_type": "code",
   "execution_count": 12,
   "id": "60119064-0e73-4d02-8984-235498aca51a",
   "metadata": {},
   "outputs": [
    {
     "name": "stdout",
     "output_type": "stream",
     "text": [
      "6\n"
     ]
    }
   ],
   "source": [
    "cnt = 0\n",
    "while N != 1:\n",
    "    if (N % K == 0):\n",
    "        N //= K\n",
    "    else:\n",
    "        N -= 1\n",
    "    cnt += 1\n",
    "print(cnt)"
   ]
  }
 ],
 "metadata": {
  "kernelspec": {
   "display_name": "Python 3 (ipykernel)",
   "language": "python",
   "name": "python3"
  },
  "language_info": {
   "codemirror_mode": {
    "name": "ipython",
    "version": 3
   },
   "file_extension": ".py",
   "mimetype": "text/x-python",
   "name": "python",
   "nbconvert_exporter": "python",
   "pygments_lexer": "ipython3",
   "version": "3.11.5"
  }
 },
 "nbformat": 4,
 "nbformat_minor": 5
}
