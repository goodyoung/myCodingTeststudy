{
 "cells": [
  {
   "cell_type": "markdown",
   "id": "ca1a9e54-2e35-4cd4-8dba-48a12fd77609",
   "metadata": {},
   "source": [
    "# 모험가 길드\n",
    "- Solve idea\n",
    "  - 가장 큰 수가 있는 사람의 개수로 그룹을 만듬"
   ]
  },
  {
   "cell_type": "code",
   "execution_count": 1,
   "id": "4a778ee9-a080-4a18-a7d2-68d278cf136b",
   "metadata": {},
   "outputs": [],
   "source": [
    "import sys"
   ]
  },
  {
   "cell_type": "code",
   "execution_count": 2,
   "id": "2bde61a4-dfd2-45b0-8450-ff78cffef486",
   "metadata": {
    "collapsed": true,
    "jupyter": {
     "outputs_hidden": true
    },
    "scrolled": true
   },
   "outputs": [
    {
     "ename": "ValueError",
     "evalue": "invalid literal for int() with base 10: ''",
     "output_type": "error",
     "traceback": [
      "\u001b[0;31m---------------------------------------------------------------------------\u001b[0m",
      "\u001b[0;31mValueError\u001b[0m                                Traceback (most recent call last)",
      "Cell \u001b[0;32mIn[2], line 1\u001b[0m\n\u001b[0;32m----> 1\u001b[0m N  \u001b[38;5;241m=\u001b[39m \u001b[38;5;28;43mint\u001b[39;49m\u001b[43m(\u001b[49m\u001b[43msys\u001b[49m\u001b[38;5;241;43m.\u001b[39;49m\u001b[43mstdin\u001b[49m\u001b[38;5;241;43m.\u001b[39;49m\u001b[43mreadline\u001b[49m\u001b[43m(\u001b[49m\u001b[43m)\u001b[49m\u001b[43m)\u001b[49m\n",
      "\u001b[0;31mValueError\u001b[0m: invalid literal for int() with base 10: ''"
     ]
    }
   ],
   "source": [
    "N  = int(sys.stdin.readline())"
   ]
  },
  {
   "cell_type": "code",
   "execution_count": null,
   "id": "abca8a0e-0e08-4cdc-87aa-d81b85b7ee7d",
   "metadata": {},
   "outputs": [],
   "source": [
    "arr = list(sys.stdin.readline().split())"
   ]
  },
  {
   "cell_type": "code",
   "execution_count": 19,
   "id": "24e3ff6f-0d6a-4799-b641-b06d6b3440da",
   "metadata": {},
   "outputs": [],
   "source": [
    "arr = [2,3,1,2,2]\n",
    "arr = [1,1,1,1,1,1,1]"
   ]
  },
  {
   "cell_type": "code",
   "execution_count": 20,
   "id": "9e55b088-f659-4ea7-9444-f4e9dd723471",
   "metadata": {},
   "outputs": [],
   "source": [
    "arr.sort()"
   ]
  },
  {
   "cell_type": "code",
   "execution_count": 21,
   "id": "ccf98014-7099-492c-a536-9c9f9d9991f8",
   "metadata": {},
   "outputs": [
    {
     "name": "stdout",
     "output_type": "stream",
     "text": [
      "7\n"
     ]
    }
   ],
   "source": [
    "cnt = 0\n",
    "while(len(arr)):\n",
    "    max_num = arr[-1]\n",
    "    arr = arr[:-max_num]\n",
    "    cnt +=1\n",
    "print(cnt)"
   ]
  },
  {
   "cell_type": "markdown",
   "id": "37b1c662-097e-4c69-8241-43f84036e7d9",
   "metadata": {},
   "source": [
    "# 곱하기 혹은 더하기\n",
    "- Solve idea\n",
    "  - 지금 숫자나 다음 숫자가 0이면 무조건 + 나머지는 *"
   ]
  },
  {
   "cell_type": "code",
   "execution_count": null,
   "id": "5b7d68fd-2669-4f5a-b75f-4079c572328f",
   "metadata": {},
   "outputs": [],
   "source": [
    "import sys\n",
    "\n",
    "S = sys.stdin.readline()\n",
    "\n",
    "S = '02984'\n",
    "S = '567'\n",
    "\n",
    "result = int(S[0])\n",
    "if result: #첫 숫자가 0이 아니면\n",
    "    flag = 1\n",
    "else:\n",
    "    flag = 0\n",
    "    \n",
    "for i in S[1:]:\n",
    "    num = int(i)\n",
    "    if flag:\n",
    "        result *= num\n",
    "    else:\n",
    "        result += num\n",
    "        \n",
    "    if num:\n",
    "        flag = 1\n",
    "    else:\n",
    "         flag = 0\n",
    "print(result)"
   ]
  },
  {
   "cell_type": "markdown",
   "id": "0ed2d52b-b73a-4afd-aa95-894c76790f6b",
   "metadata": {},
   "source": [
    "# 문자열 뒤집기\n",
    "- Solve idea\n",
    "  - 첫번째 그 다음 숫자부터 센다"
   ]
  },
  {
   "cell_type": "code",
   "execution_count": null,
   "id": "8c21128a-0614-45f0-8d50-4b71172305ca",
   "metadata": {},
   "outputs": [],
   "source": [
    "import sys\n",
    "S = sys.stdin.readline().rstrip()\n",
    "\n",
    "num = int(S[0])\n",
    "cnt, flag = 0, 1\n",
    "for i in S[1:]:\n",
    "    if int(i) == num:\n",
    "        flag = 1\n",
    "    else:\n",
    "        if flag:\n",
    "            cnt += 1\n",
    "            flag = 0\n",
    "print(cnt)"
   ]
  }
 ],
 "metadata": {
  "kernelspec": {
   "display_name": "Python 3 (ipykernel)",
   "language": "python",
   "name": "python3"
  },
  "language_info": {
   "codemirror_mode": {
    "name": "ipython",
    "version": 3
   },
   "file_extension": ".py",
   "mimetype": "text/x-python",
   "name": "python",
   "nbconvert_exporter": "python",
   "pygments_lexer": "ipython3",
   "version": "3.11.5"
  }
 },
 "nbformat": 4,
 "nbformat_minor": 5
}
