{
 "cells": [
  {
   "cell_type": "markdown",
   "id": "1b990152-f42e-4c39-a8cc-2fae9c1b0e1c",
   "metadata": {
    "jp-MarkdownHeadingCollapsed": true
   },
   "source": [
    "# 1. 상화좌우\n",
    "- L,R,U,D에 따라서 좌표계를 이동함 -> 넘어서면 무시, 최종 좌표계"
   ]
  },
  {
   "cell_type": "code",
   "execution_count": 1,
   "id": "9b9d7188-84c3-4880-81e1-ad6cd6a026e6",
   "metadata": {},
   "outputs": [],
   "source": [
    "import sys"
   ]
  },
  {
   "cell_type": "code",
   "execution_count": null,
   "id": "01e8dfc3-e5e7-4ff3-9c41-581b4332f583",
   "metadata": {},
   "outputs": [],
   "source": [
    "N = int(sys.stdin.readline())\n",
    "arr = list(sys.stdin.readline().split())"
   ]
  },
  {
   "cell_type": "code",
   "execution_count": 6,
   "id": "a9420764-9599-40bc-9977-3bba5a6fe893",
   "metadata": {},
   "outputs": [],
   "source": [
    "N = 5\n",
    "arr = ['R','R','R','U','D','D']"
   ]
  },
  {
   "cell_type": "code",
   "execution_count": 7,
   "id": "3bbc7039-c475-407a-af59-eb22d568ef6b",
   "metadata": {},
   "outputs": [
    {
     "name": "stdout",
     "output_type": "stream",
     "text": [
      "3 4\n"
     ]
    }
   ],
   "source": [
    "x, y = 1, 1\n",
    "\n",
    "for i in arr:\n",
    "    _x, _y = 0, 0\n",
    "    \n",
    "    if i == 'R':\n",
    "        _x, _y = 0, 1\n",
    "    elif i=='L':\n",
    "        _x, _y = 0, -1\n",
    "    elif i == 'U':\n",
    "        _x, _y = -1, 0\n",
    "    elif i == 'D':\n",
    "        _x, _y = 1, 0\n",
    "    if ((x + _x) <= 0) or ((y+_y) <= 0):\n",
    "        continue\n",
    "    x , y = (x + _x), (y + _y)\n",
    "print(x,y)"
   ]
  },
  {
   "cell_type": "markdown",
   "id": "d6446c76-e4a7-4a49-b0ba-b9855b776d31",
   "metadata": {
    "jp-MarkdownHeadingCollapsed": true
   },
   "source": [
    "# 2.시각\n",
    "- 24*60*60 = 86400 이니까 시간 제한 2초 안에 해결할 수 있다.\n",
    "- 그래서 부르트포스 알고리즘으로 해결 할 수 있다."
   ]
  },
  {
   "cell_type": "code",
   "execution_count": 19,
   "id": "1f3b9991-2499-438e-af33-610993cc59af",
   "metadata": {},
   "outputs": [
    {
     "name": "stdout",
     "output_type": "stream",
     "text": [
      "11475\n"
     ]
    }
   ],
   "source": [
    "import sys\n",
    "N = int(sys.stdin.readline())\n",
    "N = 5\n",
    "cnt = 0\n",
    "for i in range(N+1):\n",
    "    for j in range(60):\n",
    "        for k in range(60):\n",
    "            if '3' in str(i) + str(j) + str(k):\n",
    "                cnt +=1\n",
    "print(cnt)"
   ]
  },
  {
   "cell_type": "markdown",
   "id": "04acdfb9-435b-4760-9e12-2508123869e0",
   "metadata": {
    "jp-MarkdownHeadingCollapsed": true
   },
   "source": [
    "# 3.왕실의 나이트\n",
    "시간제한: 1초 | 메모리 제한 128MB\n",
    "\n",
    "- Solve idea\n",
    "  - 8가지의 경우의수를 저장하고 범위 넘으면 continue"
   ]
  },
  {
   "cell_type": "code",
   "execution_count": null,
   "id": "7b6453f6-6705-4d20-8c44-a713be87ec33",
   "metadata": {},
   "outputs": [],
   "source": [
    "import sys\n",
    "arr = [(2,1),(2,-1),(-2,1),(-2,-1),(1,2),(-1,2),(1,-2),(-1,-2)]\n",
    "\n",
    "msg = sys.stdin.readline()\n",
    "\n",
    "msg = 'a1'\n",
    "letter = ['a','b','c','d','e','f','g','h']\n",
    "x = letter.index(msg[0])+1\n",
    "# x = int(ord(msg[0])) - int(ord('a')) + 1 #이런 방법도 있당\n",
    "y = int(msg[1])\n",
    "\n",
    "cnt = 0\n",
    "for i in arr:\n",
    "    _x, _y = i\n",
    "    if ((x + _x) <= 0) or ((y + _y) <= 0) or ((x + _x) > 8) or ((y + _y) > 8):\n",
    "        continue\n",
    "    cnt += 1\n",
    "print(cnt)"
   ]
  },
  {
   "cell_type": "markdown",
   "id": "8f0a059f-2f24-4453-9d70-b1acfac07269",
   "metadata": {},
   "source": [
    "# 4.게임 개발\n",
    "시간제한: 1초 | 메모리 제한 128MB\n",
    "\n",
    "- "
   ]
  },
  {
   "cell_type": "code",
   "execution_count": 49,
   "id": "efd9d43b-116a-4c66-bf74-43954a0b0128",
   "metadata": {},
   "outputs": [],
   "source": [
    "import sys\n",
    "# N, M = map(int,sys.stdin.readline().split())\n",
    "# A, B, d = map(int,sys.stdin.readline().split())\n",
    "# arr = [list(map(int,sys.stdin.readline().split())) for _ in range(N)]\n",
    "N, M = 4,4\n",
    "A, B, d = 1,1, 0\n",
    "arr = [[1,1,1,1],[1,0,0,1],[1,1,0,1],[1,1,1,1]]"
   ]
  },
  {
   "cell_type": "code",
   "execution_count": null,
   "id": "ab60134b-8bb5-4d20-ab1b-9ae830e4f872",
   "metadata": {},
   "outputs": [],
   "source": [
    "0 - 3 - 2 - 1"
   ]
  },
  {
   "cell_type": "code",
   "execution_count": 50,
   "id": "be6116ab-5048-4824-9cd5-759ed095d8cc",
   "metadata": {},
   "outputs": [],
   "source": [
    "ds = {0:(-1,0),3:(0,-1),2:(1,0),1:(0,1)}"
   ]
  },
  {
   "cell_type": "code",
   "execution_count": 51,
   "id": "0297157b-7f13-43f8-b585-2bedd18793fe",
   "metadata": {},
   "outputs": [],
   "source": [
    "def turns(num):\n",
    "    order = [0,3,2,1]\n",
    "    next_idx = order.index(num) + 1\n",
    "    if num == 1:\n",
    "        next_idx = 0\n",
    "    return order[next_idx]    "
   ]
  },
  {
   "cell_type": "code",
   "execution_count": 52,
   "id": "22705fbd-3cd4-4043-b485-160a7ac20dbd",
   "metadata": {},
   "outputs": [],
   "source": [
    "visited = [[0]*M for _ in range(N)]"
   ]
  },
  {
   "cell_type": "code",
   "execution_count": 54,
   "id": "8138305c-c62c-4266-8258-3c6afdd6f930",
   "metadata": {},
   "outputs": [],
   "source": [
    "count, turn = 1, 0\n",
    "while True:\n",
    "    d = turns(d)\n",
    "    _x, _y = ds[d]\n",
    "    nx, ny = A+_x, B + _y\n",
    "    if (nx < 0) or (ny < 0) or (nx >= N) or (ny >= M) or (visited[nx][ny] or arr[nx][ny]):\n",
    "        turn += 1\n",
    "        \n",
    "    else:\n",
    "        A, B = A+_x, B + _y\n",
    "        visited[nx][ny] = 1\n",
    "        turn = 0\n",
    "        count += 1\n",
    "    if turn == 4:\n",
    "        A, B = A -_x, B - _y\n",
    "        break\n",
    "print(count)"
   ]
  },
  {
   "cell_type": "code",
   "execution_count": 55,
   "id": "04265e18-9695-42de-9f18-57cf33b095c6",
   "metadata": {},
   "outputs": [
    {
     "name": "stdout",
     "output_type": "stream",
     "text": [
      "1\n"
     ]
    }
   ],
   "source": []
  },
  {
   "cell_type": "code",
   "execution_count": null,
   "id": "78ebd7a9-181b-40ec-a366-3025e3ad224c",
   "metadata": {},
   "outputs": [],
   "source": []
  }
 ],
 "metadata": {
  "kernelspec": {
   "display_name": "Python 3 (ipykernel)",
   "language": "python",
   "name": "python3"
  },
  "language_info": {
   "codemirror_mode": {
    "name": "ipython",
    "version": 3
   },
   "file_extension": ".py",
   "mimetype": "text/x-python",
   "name": "python",
   "nbconvert_exporter": "python",
   "pygments_lexer": "ipython3",
   "version": "3.11.5"
  }
 },
 "nbformat": 4,
 "nbformat_minor": 5
}
