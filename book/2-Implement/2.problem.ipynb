{
 "cells": [
  {
   "cell_type": "markdown",
   "id": "8ff85a8f-2aaf-41fa-b4a9-cfaf507f7f55",
   "metadata": {
    "jp-MarkdownHeadingCollapsed": true
   },
   "source": [
    "# 럭키 스트레이트\n",
    "\n",
    "https://www.acmicpc.net/problem/18406\n",
    "- Solve idea\n",
    "  - 반반 나눠서 sum하자"
   ]
  },
  {
   "cell_type": "code",
   "execution_count": null,
   "id": "f5bf1436-bc37-46ea-a988-34a47e68bf15",
   "metadata": {},
   "outputs": [],
   "source": [
    "import sys\n",
    "\n",
    "N = sys.stdin.readline().rstrip()\n",
    "\n",
    "# N  = '7755'\n",
    "size = len(N) // 2 # 짝수이므로\n",
    "\n",
    "left = N[:size]\n",
    "right = N[size:]\n",
    "\n",
    "if sum(map(int,list(left))) == sum(map(int,list(right))):\n",
    "    print(\"LUCKY\")\n",
    "else:\n",
    "    print(\"READY\")"
   ]
  },
  {
   "cell_type": "markdown",
   "id": "2604442e-0e04-4462-a3b7-7ec318680cc0",
   "metadata": {},
   "source": [
    "# 문자열 재정렬\n",
    "- Solve idea\n",
    "  -  아스키 숫자를 이용하자\n",
    " \n",
    "i.isalpha() 가 있다."
   ]
  },
  {
   "cell_type": "code",
   "execution_count": 40,
   "id": "3218eb14-980b-4e39-8212-f29bd96e6691",
   "metadata": {},
   "outputs": [],
   "source": [
    "S = \"K1KA5CB7\"\n",
    "# S = \"AJKDSI412K4JSJ9D\""
   ]
  },
  {
   "cell_type": "code",
   "execution_count": 41,
   "id": "3fe35893-6f64-4362-8329-8cb9f3b31862",
   "metadata": {},
   "outputs": [
    {
     "name": "stdout",
     "output_type": "stream",
     "text": [
      "ABCKK13\n"
     ]
    }
   ],
   "source": [
    "#A: 65 '1': 49\n",
    "string, num = [],[]\n",
    "for i in S:\n",
    "    if (49 <= ord(i) <= 57):\n",
    "        num.append(int(i))\n",
    "    else:\n",
    "        string.append(i)\n",
    "string.sort()\n",
    "print(\"\".join(string)+f\"{sum(num)}\")"
   ]
  },
  {
   "cell_type": "markdown",
   "id": "96923c64-cb42-4859-bab3-a9fe1d9358f5",
   "metadata": {},
   "source": [
    "# 문자열 압축\n",
    "- Solve idea\n",
    "  - 문자열을 문자 개수 만큼 분리 후 압축 문자열 비교"
   ]
  },
  {
   "cell_type": "code",
   "execution_count": 89,
   "id": "293fc05d-a832-442f-a6c6-cd6ed087c5df",
   "metadata": {},
   "outputs": [
    {
     "name": "stdout",
     "output_type": "stream",
     "text": [
      "17\n"
     ]
    }
   ],
   "source": [
    "s = \"xababcdcdababcdcd\"\n",
    "min_num = 999999999\n",
    "for j in range(1,len(s)+1):\n",
    "    \n",
    "    # 문자열 분리\n",
    "    li = []\n",
    "    for k in range(0,len(s),j):\n",
    "        li.append(s[k:k+j])\n",
    "        \n",
    "    # 문자 압축 개수 확인\n",
    "    msg_len, flag = 0, 0\n",
    "    cnt, result = 1, 0\n",
    "    while flag < len(li) and cnt < len(li):\n",
    "        if (li[flag] == li[cnt]):\n",
    "            result += 1\n",
    "        else:\n",
    "            if result:\n",
    "                msg_len += len(str(result+1))+len(li[flag])\n",
    "                result = 0\n",
    "            else:\n",
    "                msg_len += len(li[flag])\n",
    "            flag = cnt\n",
    "        cnt += 1\n",
    "        \n",
    "    # 마지막 비교\n",
    "    if result:\n",
    "        msg_len += len(str(result+1))+len(li[flag])\n",
    "    else:\n",
    "        msg_len += len(li[flag])\n",
    "        \n",
    "    # 최소 문자열 비교\n",
    "    if min_num > msg_len:\n",
    "        min_num = msg_len\n",
    "print(min_num)"
   ]
  },
  {
   "cell_type": "code",
   "execution_count": null,
   "id": "bd2b186f-9c0c-4c3e-ae4d-9b283bb7ddf4",
   "metadata": {},
   "outputs": [],
   "source": [
    "def solution(s):\n",
    "    min_num = 999999999\n",
    "    for j in range(1,len(s)+1):\n",
    "        \n",
    "        # 문자열 분리\n",
    "        li = []\n",
    "        for k in range(0,len(s),j):\n",
    "            li.append(s[k:k+j])\n",
    "            \n",
    "        # 문자 압축 개수 확인\n",
    "        msg_len, flag = 0, 0\n",
    "        cnt, result = 1, 0\n",
    "        while flag < len(li) and cnt < len(li):\n",
    "            if (li[flag] == li[cnt]):\n",
    "                result += 1\n",
    "            else:\n",
    "                if result:\n",
    "                    msg_len += len(str(result+1))+len(li[flag])\n",
    "                    result = 0\n",
    "                else:\n",
    "                    msg_len += len(li[flag])\n",
    "                flag = cnt\n",
    "            cnt += 1\n",
    "            \n",
    "        # 마지막 비교\n",
    "        if result:\n",
    "            msg_len += len(str(result+1))+len(li[flag])\n",
    "        else:\n",
    "            msg_len += len(li[flag])\n",
    "            \n",
    "        # 최소 문자열 비교\n",
    "        if min_num > msg_len:\n",
    "            min_num = msg_len\n",
    "    return min_num"
   ]
  }
 ],
 "metadata": {
  "kernelspec": {
   "display_name": "Python 3 (ipykernel)",
   "language": "python",
   "name": "python3"
  },
  "language_info": {
   "codemirror_mode": {
    "name": "ipython",
    "version": 3
   },
   "file_extension": ".py",
   "mimetype": "text/x-python",
   "name": "python",
   "nbconvert_exporter": "python",
   "pygments_lexer": "ipython3",
   "version": "3.11.5"
  }
 },
 "nbformat": 4,
 "nbformat_minor": 5
}
