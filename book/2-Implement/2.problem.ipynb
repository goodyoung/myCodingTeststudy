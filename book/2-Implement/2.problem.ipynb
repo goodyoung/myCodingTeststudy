{
 "cells": [
  {
   "cell_type": "markdown",
   "id": "8ff85a8f-2aaf-41fa-b4a9-cfaf507f7f55",
   "metadata": {
    "jp-MarkdownHeadingCollapsed": true
   },
   "source": [
    "# 럭키 스트레이트\n",
    "\n",
    "https://www.acmicpc.net/problem/18406\n",
    "- Solve idea\n",
    "  - 반반 나눠서 sum하자"
   ]
  },
  {
   "cell_type": "code",
   "execution_count": null,
   "id": "f5bf1436-bc37-46ea-a988-34a47e68bf15",
   "metadata": {},
   "outputs": [],
   "source": [
    "import sys\n",
    "\n",
    "N = sys.stdin.readline().rstrip()\n",
    "\n",
    "# N  = '7755'\n",
    "size = len(N) // 2 # 짝수이므로\n",
    "\n",
    "left = N[:size]\n",
    "right = N[size:]\n",
    "\n",
    "if sum(map(int,list(left))) == sum(map(int,list(right))):\n",
    "    print(\"LUCKY\")\n",
    "else:\n",
    "    print(\"READY\")"
   ]
  },
  {
   "cell_type": "markdown",
   "id": "2604442e-0e04-4462-a3b7-7ec318680cc0",
   "metadata": {},
   "source": [
    "# 문자열 재정렬\n",
    "- Solve idea\n",
    "  -  아스키 숫자를 이용하자\n",
    " \n",
    "i.isalpha() 가 있다."
   ]
  },
  {
   "cell_type": "code",
   "execution_count": 40,
   "id": "3218eb14-980b-4e39-8212-f29bd96e6691",
   "metadata": {},
   "outputs": [],
   "source": [
    "S = \"K1KA5CB7\"\n",
    "# S = \"AJKDSI412K4JSJ9D\""
   ]
  },
  {
   "cell_type": "code",
   "execution_count": 41,
   "id": "3fe35893-6f64-4362-8329-8cb9f3b31862",
   "metadata": {},
   "outputs": [
    {
     "name": "stdout",
     "output_type": "stream",
     "text": [
      "ABCKK13\n"
     ]
    }
   ],
   "source": [
    "#A: 65 '1': 49\n",
    "string, num = [],[]\n",
    "for i in S:\n",
    "    if (49 <= ord(i) <= 57):\n",
    "        num.append(int(i))\n",
    "    else:\n",
    "        string.append(i)\n",
    "string.sort()\n",
    "print(\"\".join(string)+f\"{sum(num)}\")"
   ]
  },
  {
   "cell_type": "markdown",
   "id": "96923c64-cb42-4859-bab3-a9fe1d9358f5",
   "metadata": {},
   "source": [
    "# 문자열 압축\n",
    "- Solve idea\n",
    "  - 문자열을 문자 개수 만큼 분리 후 압축 문자열 비교\n",
    "\n",
    "\n",
    "- 문자열 길이의 반만 해도 된다...\n",
    "  - "
   ]
  },
  {
   "cell_type": "markdown",
   "id": "9c9afbdb-85aa-4cb2-940f-354610098045",
   "metadata": {},
   "source": [
    "### 나의 풀이"
   ]
  },
  {
   "cell_type": "code",
   "execution_count": 89,
   "id": "293fc05d-a832-442f-a6c6-cd6ed087c5df",
   "metadata": {},
   "outputs": [
    {
     "name": "stdout",
     "output_type": "stream",
     "text": [
      "17\n"
     ]
    }
   ],
   "source": [
    "s = \"xababcdcdababcdcd\"\n",
    "min_num = 999999999\n",
    "for j in range(1,len(s)+1):\n",
    "    \n",
    "    # 문자열 분리\n",
    "    li = []\n",
    "    for k in range(0,len(s),j):\n",
    "        li.append(s[k:k+j])\n",
    "        \n",
    "    # 문자 압축 개수 확인\n",
    "    msg_len, flag = 0, 0\n",
    "    cnt, result = 1, 0\n",
    "    while flag < len(li) and cnt < len(li):\n",
    "        if (li[flag] == li[cnt]):\n",
    "            result += 1\n",
    "        else:\n",
    "            if result:\n",
    "                msg_len += len(str(result+1))+len(li[flag])\n",
    "                result = 0\n",
    "            else:\n",
    "                msg_len += len(li[flag])\n",
    "            flag = cnt\n",
    "        cnt += 1\n",
    "        \n",
    "    # 마지막 비교\n",
    "    if result:\n",
    "        msg_len += len(str(result+1))+len(li[flag])\n",
    "    else:\n",
    "        msg_len += len(li[flag])\n",
    "        \n",
    "    # 최소 문자열 비교\n",
    "    if min_num > msg_len:\n",
    "        min_num = msg_len\n",
    "print(min_num)"
   ]
  },
  {
   "cell_type": "code",
   "execution_count": null,
   "id": "bd2b186f-9c0c-4c3e-ae4d-9b283bb7ddf4",
   "metadata": {},
   "outputs": [],
   "source": [
    "def solution(s):\n",
    "    min_num = 999999999\n",
    "    for j in range(1,len(s)+1):\n",
    "        \n",
    "        # 문자열 분리\n",
    "        li = []\n",
    "        for k in range(0,len(s),j):\n",
    "            li.append(s[k:k+j])\n",
    "            \n",
    "        # 문자 압축 개수 확인\n",
    "        msg_len, flag = 0, 0\n",
    "        cnt, result = 1, 0\n",
    "        while flag < len(li) and cnt < len(li):\n",
    "            if (li[flag] == li[cnt]):\n",
    "                result += 1\n",
    "            else:\n",
    "                if result:\n",
    "                    msg_len += len(str(result+1))+len(li[flag])\n",
    "                    result = 0\n",
    "                else:\n",
    "                    msg_len += len(li[flag])\n",
    "                flag = cnt\n",
    "            cnt += 1\n",
    "            \n",
    "        # 마지막 비교\n",
    "        if result:\n",
    "            msg_len += len(str(result+1))+len(li[flag])\n",
    "        else:\n",
    "            msg_len += len(li[flag])\n",
    "            \n",
    "        # 최소 문자열 비교\n",
    "        if min_num > msg_len:\n",
    "            min_num = msg_len\n",
    "    return min_num"
   ]
  },
  {
   "cell_type": "markdown",
   "id": "1bcc67b4-58df-4465-bb30-6f0d5351d208",
   "metadata": {},
   "source": [
    "### 책의 풀이\n",
    "- 좀 더 간결하다.\n",
    "  - 분리를 안하고 바로바로 해결하도록 함"
   ]
  },
  {
   "cell_type": "code",
   "execution_count": 91,
   "id": "f3fa0a2c-482d-4b34-93d7-a26312679785",
   "metadata": {},
   "outputs": [],
   "source": [
    "def solution(s):\n",
    "    answer = len(s)\n",
    "    # 1개 단위(step)부터 압축 단위를 늘려가며 확인\n",
    "    for step in range(1, len(s) // 2 + 1):\n",
    "        compressed = \"\"\n",
    "        prev = s[0:step] # 앞에서부터 step만큼의 문자열 추출\n",
    "        count = 1\n",
    "        # 단위(step) 크기만큼 증가시키며 이전 문자열과 비교\n",
    "        for j in range(step, len(s), step):\n",
    "            # 이전 상태와 동일하다면 압축 횟수(count) 증가\n",
    "            if prev == s[j:j + step]:\n",
    "                count += 1\n",
    "            # 다른 문자열이 나왔다면(더 이상 압축하지 못하는 경우라면)\n",
    "            else:\n",
    "                compressed += str(count) + prev if count >= 2 else prev\n",
    "                prev = s[j:j + step] # 다시 상태 초기화\n",
    "                count = 1\n",
    "        # 남아있는 문자열에 대해서 처리\n",
    "        compressed += str(count) + prev if count >= 2 else prev\n",
    "        # 만들어지는 압축 문자열이 가장 짧은 것이 정답\n",
    "        answer = min(answer, len(compressed))\n",
    "    return answer"
   ]
  },
  {
   "cell_type": "code",
   "execution_count": null,
   "id": "3b415f0c-4961-49f5-86ed-05962515a804",
   "metadata": {},
   "outputs": [],
   "source": []
  }
 ],
 "metadata": {
  "kernelspec": {
   "display_name": "Python 3 (ipykernel)",
   "language": "python",
   "name": "python3"
  },
  "language_info": {
   "codemirror_mode": {
    "name": "ipython",
    "version": 3
   },
   "file_extension": ".py",
   "mimetype": "text/x-python",
   "name": "python",
   "nbconvert_exporter": "python",
   "pygments_lexer": "ipython3",
   "version": "3.11.5"
  }
 },
 "nbformat": 4,
 "nbformat_minor": 5
}
