{
 "cells": [
  {
   "cell_type": "markdown",
   "id": "28b45232-7ac6-4322-a9d0-e2c9133a3e30",
   "metadata": {
    "jp-MarkdownHeadingCollapsed": true
   },
   "source": [
    "# 음료수 얼려 먹기\n",
    "\n",
    "- Solve idea\n",
    "  - 처음부터 arr를 다 돌면서 한번 0 일 때 dfs로 다 채워넣는 식으로 채워 넣으면 된다."
   ]
  },
  {
   "cell_type": "code",
   "execution_count": 2,
   "id": "9e03564d-c4c6-45ee-845c-69297b1dc4b1",
   "metadata": {},
   "outputs": [],
   "source": [
    "import sys"
   ]
  },
  {
   "cell_type": "code",
   "execution_count": null,
   "id": "87dbfec8-1c3a-4ca3-a6fb-8307fe595c59",
   "metadata": {},
   "outputs": [],
   "source": [
    "N, M = map(int, sys.stdin.readline().split())\n",
    "arr = []\n",
    "for _ in range(N):\n",
    "    arr.append(list(map(int,sys.stdin.readline().split()[0])))\n",
    "print(arr)"
   ]
  },
  {
   "cell_type": "code",
   "execution_count": 27,
   "id": "415f8fbb-cf4d-4026-8182-deac6b79547e",
   "metadata": {},
   "outputs": [],
   "source": [
    "arr = [[0, 0, 0, 0, 0, 1, 1, 1, 1, 0, 0, 0, 0, 0], [1, 1, 1, 1, 1, 1, 0, 1, 1, 1, 1, 1, 1, 0], [1, 1, 0, 1, 1, 1, 0, 1, 1, 0, 1, 1, 1, 0], [1, 1, 0, 1, 1, 1, 0, 1, 1, 0, 0, 0, 0, 0], [1, 1, 0, 1, 1, 1, 1, 1, 1, 1, 1, 1, 1, 1], [1, 1, 0, 1, 1, 1, 1, 1, 1, 1, 1, 1, 0, 0], [1, 1, 0, 0, 0, 0, 0, 0, 0, 1, 1, 1, 1, 1], [0, 1, 1, 1, 1, 1, 1, 1, 1, 1, 1, 1, 1, 1], [0, 0, 0, 0, 0, 0, 0, 0, 0, 1, 1, 1, 1, 1], [0, 1, 1, 1, 1, 1, 1, 1, 1, 1, 1, 0, 0, 0], [0, 0, 0, 1, 1, 1, 1, 1, 1, 1, 1, 0, 0, 0], [0, 0, 0, 0, 0, 0, 0, 1, 1, 1, 1, 0, 0, 0], [1, 1, 1, 1, 1, 1, 1, 1, 1, 1, 0, 0, 1, 1], [1, 1, 1, 0, 0, 0, 1, 1, 1, 1, 1, 1, 1, 1], [1, 1, 1, 0, 0, 0, 1, 1, 1, 1, 1, 1, 1, 1]]"
   ]
  },
  {
   "cell_type": "code",
   "execution_count": null,
   "id": "6f5ecbb5-df74-4a4a-b98d-5f29e885d49e",
   "metadata": {},
   "outputs": [],
   "source": [
    "N, M = 15, 14\n",
    "# visited =[[0]*M for _ in range(N)]\n",
    "d = [(0,1),(0,-1),(1,0),(-1,0)]\n",
    "def dfs(x,y):\n",
    "    for i in d:\n",
    "        dx, dy =i\n",
    "        nx , ny = x + dx, y + dy\n",
    "        if 0<= nx < N  and 0<= ny < M and not arr[nx][ny]:\n",
    "            # visited[nx][ny] = 1\n",
    "            arr[nx][ny] = 1\n",
    "            dfs(nx,ny)\n",
    "\n",
    "cnt = 0\n",
    "for i in range(N):\n",
    "    for j in range(M):\n",
    "        if not arr[i][j]:\n",
    "            dfs(i,j)\n",
    "            cnt += 1\n",
    "print(cnt)"
   ]
  },
  {
   "cell_type": "markdown",
   "id": "de530c0a-a222-4c51-adc0-ebabca0b2fb6",
   "metadata": {},
   "source": [
    "# 미로 탈출\n",
    "\n",
    "- Solve idea\n",
    "    - 최소 칸의 개수라고 나와있어서 bfs를 사용한다."
   ]
  },
  {
   "cell_type": "code",
   "execution_count": null,
   "id": "9ee4f4a9-9523-49fe-bbcf-e154259be453",
   "metadata": {},
   "outputs": [],
   "source": [
    "import queue\n",
    "\n",
    "import sys"
   ]
  },
  {
   "cell_type": "code",
   "execution_count": null,
   "id": "c2899b62-e5e5-479d-8a92-2276a737d515",
   "metadata": {},
   "outputs": [],
   "source": [
    "N,M = map(int,sys.stdin.readline().split())\n",
    "\n",
    "arr = [list(map(int,input())) for _ in range(N)]"
   ]
  },
  {
   "cell_type": "code",
   "execution_count": 59,
   "id": "75767437-c76b-4cd9-9a99-c29a5aa39848",
   "metadata": {},
   "outputs": [],
   "source": [
    "N,M = 5,6\n",
    "arr = [[1, 0, 1, 0, 1, 0],\n",
    " [1, 1, 1, 1, 1, 1],\n",
    " [0, 0, 0, 0, 0, 1],\n",
    " [1, 1, 1, 1, 1, 1],\n",
    " [1, 1, 1, 1, 1, 1]]"
   ]
  },
  {
   "cell_type": "code",
   "execution_count": 60,
   "id": "98f58683-7fa8-4ccf-8145-6c677c224b38",
   "metadata": {},
   "outputs": [],
   "source": [
    "visited = [[0]*M for _ in range(N)]\n",
    "def bfs(x,y):\n",
    "    q = queue.Queue()\n",
    "    q.put((x,y))\n",
    "    d = [(0,1),(0,-1),(1,0),(-1,0)]\n",
    "    while not q.empty():\n",
    "        x,y = q.get()\n",
    "        for i in d:\n",
    "            dx , dy = i\n",
    "            nx, ny = x + dx, y + dy\n",
    "            if 0<= nx < N and 0<= ny < M and arr[nx][ny] == 1:\n",
    "                arr[nx][ny] = arr[x][y] + 1\n",
    "                q.put((nx,ny))\n",
    "    return arr[N-1][M-1]"
   ]
  },
  {
   "cell_type": "code",
   "execution_count": 61,
   "id": "4a755f7b-4f0f-4b8e-9455-c0d8f7e776de",
   "metadata": {},
   "outputs": [],
   "source": [
    "result =bfs(0,0)"
   ]
  },
  {
   "cell_type": "code",
   "execution_count": 62,
   "id": "bc7a9fe9-52a4-4ccc-b2f9-aed607660c85",
   "metadata": {},
   "outputs": [
    {
     "name": "stdout",
     "output_type": "stream",
     "text": [
      "10\n"
     ]
    }
   ],
   "source": [
    "print(result)"
   ]
  },
  {
   "cell_type": "code",
   "execution_count": null,
   "id": "dccecfb3-fc71-4375-b055-c332eeda7f3e",
   "metadata": {},
   "outputs": [],
   "source": []
  }
 ],
 "metadata": {
  "kernelspec": {
   "display_name": "Python 3 (ipykernel)",
   "language": "python",
   "name": "python3"
  },
  "language_info": {
   "codemirror_mode": {
    "name": "ipython",
    "version": 3
   },
   "file_extension": ".py",
   "mimetype": "text/x-python",
   "name": "python",
   "nbconvert_exporter": "python",
   "pygments_lexer": "ipython3",
   "version": "3.11.5"
  }
 },
 "nbformat": 4,
 "nbformat_minor": 5
}
