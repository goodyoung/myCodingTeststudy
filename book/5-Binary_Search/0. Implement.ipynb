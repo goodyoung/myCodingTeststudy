{
 "cells": [
  {
   "cell_type": "markdown",
   "id": "42b37a4f-c4cc-4e2e-8df6-4e057e8596bd",
   "metadata": {},
   "source": [
    "# 이진 탐색"
   ]
  },
  {
   "cell_type": "markdown",
   "id": "1df995f8-41f7-42a8-9275-c25a41744209",
   "metadata": {},
   "source": [
    "### 재귀"
   ]
  },
  {
   "cell_type": "code",
   "execution_count": 47,
   "id": "84dff8ac-d7b2-4bc1-9f84-39bad72ffffa",
   "metadata": {},
   "outputs": [],
   "source": [
    "def binary_search(arr,target,start,end):\n",
    "    if start > end:\n",
    "        return\n",
    "    mid = (start + end) // 2\n",
    "    if arr[mid] > target:\n",
    "        return binary_search(arr,target,start,mid-1)\n",
    "    elif arr[mid] < target:\n",
    "        return binary_search(arr,target,mid+1,end)\n",
    "    else:\n",
    "        return mid"
   ]
  },
  {
   "cell_type": "code",
   "execution_count": 48,
   "id": "1b33fef6-234a-4909-97ec-94ee82b7fb1c",
   "metadata": {},
   "outputs": [],
   "source": [
    "target=5\n",
    "arr=[1,3,5,7,9,11,13,15,17,19]\n",
    "result = binary_search(arr,target,0,len(arr)-1)"
   ]
  },
  {
   "cell_type": "code",
   "execution_count": 49,
   "id": "07681ed5-1f0e-43a8-8f7b-a146231564d2",
   "metadata": {},
   "outputs": [
    {
     "data": {
      "text/plain": [
       "2"
      ]
     },
     "execution_count": 49,
     "metadata": {},
     "output_type": "execute_result"
    }
   ],
   "source": [
    "result"
   ]
  },
  {
   "cell_type": "markdown",
   "id": "20f4d629-c022-44f8-a47f-4277d1925e5b",
   "metadata": {},
   "source": [
    "### 반복문 이용"
   ]
  },
  {
   "cell_type": "code",
   "execution_count": 56,
   "id": "1478e6a0-823b-4219-9be6-a90076e7c580",
   "metadata": {},
   "outputs": [],
   "source": [
    "def binary_search(arr,target,start,end):\n",
    "    while start <= end:\n",
    "        mid = (start + end) // 2\n",
    "        \n",
    "        if arr[mid] > target:\n",
    "            end = mid - 1\n",
    "        elif arr[mid] < target:\n",
    "            start = mid + 1\n",
    "        else:\n",
    "            return mid\n",
    "    return None"
   ]
  },
  {
   "cell_type": "code",
   "execution_count": 57,
   "id": "b10cf2e4-00b3-4929-bc0d-fff2681a542c",
   "metadata": {},
   "outputs": [],
   "source": [
    "target=5\n",
    "arr=[1,3,5,7,9,11,13,15,17,19]\n",
    "result = binary_search(arr,target,0,len(arr)-1)"
   ]
  },
  {
   "cell_type": "code",
   "execution_count": 58,
   "id": "424c21ec-7953-4655-b1a2-e53fb07601a2",
   "metadata": {},
   "outputs": [
    {
     "data": {
      "text/plain": [
       "2"
      ]
     },
     "execution_count": 58,
     "metadata": {},
     "output_type": "execute_result"
    }
   ],
   "source": [
    "result"
   ]
  }
 ],
 "metadata": {
  "kernelspec": {
   "display_name": "Python 3 (ipykernel)",
   "language": "python",
   "name": "python3"
  },
  "language_info": {
   "codemirror_mode": {
    "name": "ipython",
    "version": 3
   },
   "file_extension": ".py",
   "mimetype": "text/x-python",
   "name": "python",
   "nbconvert_exporter": "python",
   "pygments_lexer": "ipython3",
   "version": "3.11.5"
  }
 },
 "nbformat": 4,
 "nbformat_minor": 5
}
