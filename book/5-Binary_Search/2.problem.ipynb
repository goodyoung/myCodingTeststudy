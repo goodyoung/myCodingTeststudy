{
 "cells": [
  {
   "cell_type": "markdown",
   "id": "6a1cc510-3f7c-4dac-a67b-1225709ee0d0",
   "metadata": {},
   "source": [
    "# 예산\n",
    "\n",
    "https://www.acmicpc.net/problem/2512\n",
    "\n",
    "- Solve idea\n",
    "  - target을 예산으로 하고 binary 탐색을 하면 될 것 같다."
   ]
  },
  {
   "cell_type": "code",
   "execution_count": 7,
   "id": "1b9a27b1-6fe8-4902-9ba6-4d27e1afc478",
   "metadata": {},
   "outputs": [
    {
     "data": {
      "text/plain": [
       "127"
      ]
     },
     "execution_count": 7,
     "metadata": {},
     "output_type": "execute_result"
    }
   ],
   "source": [
    "import sys\n",
    "input = sys.stdin.readline\n",
    "N = int(input())\n",
    "arr = list(map(int,input().split()))\n",
    "M = int(input())\n",
    "\n",
    "result, start, end = 0, 0, max(arr)\n",
    "while start <= end:\n",
    "    mid = (start+end) // 2\n",
    "    all_ = 0\n",
    "    for num in arr:\n",
    "        if mid > num:\n",
    "            all_ += num\n",
    "        else:\n",
    "            all_ += mid\n",
    "            \n",
    "    if all_ > M:\n",
    "        end = mid - 1\n",
    "    else:\n",
    "        result = mid\n",
    "        start = mid + 1\n",
    "print(result)"
   ]
  },
  {
   "cell_type": "markdown",
   "id": "e298ba4e-a518-4ea7-a6c4-31cd7bb25b66",
   "metadata": {},
   "source": [
    "# 공유기 설치\n",
    "- Solve idea\n",
    "  - target을 공유기의 거리로 함. 거리의 최대값을 구하므로 분기 조건을 잘 생각해야한다."
   ]
  },
  {
   "cell_type": "code",
   "execution_count": null,
   "id": "dd40c48c-2f3f-4275-8571-1d4a7ae10b6e",
   "metadata": {},
   "outputs": [],
   "source": [
    "import sys\n",
    "input = sys.stdin.readline\n",
    "N,C = map(int,input().split())\n",
    "arr = [int(input()) for _ in range(N)]\n",
    "arr.sort()\n",
    "result, start, end = 0,0, arr[-1] - arr[0]\n",
    "while start <= end:    \n",
    "    mid = (start + end) // 2\n",
    "    flag,c  = arr[0], 1\n",
    "    for i in arr:\n",
    "        if ((i - flag) >= mid):\n",
    "            flag = i\n",
    "            c += 1\n",
    "    if C <= c: #최대값을 찾는것이므로\n",
    "        start = mid + 1\n",
    "        result = mid\n",
    "    else:\n",
    "        end = mid - 1\n",
    "    \n",
    "print(result)            "
   ]
  }
 ],
 "metadata": {
  "kernelspec": {
   "display_name": "Python 3 (ipykernel)",
   "language": "python",
   "name": "python3"
  },
  "language_info": {
   "codemirror_mode": {
    "name": "ipython",
    "version": 3
   },
   "file_extension": ".py",
   "mimetype": "text/x-python",
   "name": "python",
   "nbconvert_exporter": "python",
   "pygments_lexer": "ipython3",
   "version": "3.11.5"
  }
 },
 "nbformat": 4,
 "nbformat_minor": 5
}
