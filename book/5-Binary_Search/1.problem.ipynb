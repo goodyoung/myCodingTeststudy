{
 "cells": [
  {
   "cell_type": "markdown",
   "id": "3ef72041-54f1-40a4-a1c9-d5bb51f2d411",
   "metadata": {},
   "source": [
    "# 부품 찾기\n",
    "\n",
    "- Solve idea\n",
    "  - 부품 arr를 정렬한 후 이진 탐색으로 탐색하자"
   ]
  },
  {
   "cell_type": "code",
   "execution_count": 9,
   "id": "6650d88b-a01d-428d-b93e-a28525edfd49",
   "metadata": {},
   "outputs": [],
   "source": [
    "N,M = 5, 3\n",
    "arr, part = [8,3,7,9,2], [5,7,9]"
   ]
  },
  {
   "cell_type": "code",
   "execution_count": 10,
   "id": "da8be5fd-cae0-464d-8da0-469ca61e916a",
   "metadata": {},
   "outputs": [],
   "source": [
    "def binary_search(arr,target,start,end):\n",
    "    if start > end:\n",
    "        return\n",
    "    mid = (start + end) // 2\n",
    "    if arr[mid] == target:\n",
    "        return mid\n",
    "    elif arr[mid] > target:\n",
    "        return binary_search(arr,target,start,mid-1)\n",
    "    else:\n",
    "        return binary_search(arr,target,mid+1,end)"
   ]
  },
  {
   "cell_type": "code",
   "execution_count": 11,
   "id": "68a16b68-7879-49c0-9505-7c5354600238",
   "metadata": {},
   "outputs": [
    {
     "name": "stdout",
     "output_type": "stream",
     "text": [
      "no yes yes "
     ]
    }
   ],
   "source": [
    "arr.sort()\n",
    "for i in part:\n",
    "    if binary_search(arr,i,0,len(arr)-1):\n",
    "        print(\"yes\", end=' ')\n",
    "    else:\n",
    "        print(\"no\", end=' ')"
   ]
  },
  {
   "cell_type": "code",
   "execution_count": null,
   "id": "f165f21d-f2e6-4a47-a2fe-fc1beb735aa5",
   "metadata": {},
   "outputs": [],
   "source": []
  }
 ],
 "metadata": {
  "kernelspec": {
   "display_name": "Python 3 (ipykernel)",
   "language": "python",
   "name": "python3"
  },
  "language_info": {
   "codemirror_mode": {
    "name": "ipython",
    "version": 3
   },
   "file_extension": ".py",
   "mimetype": "text/x-python",
   "name": "python",
   "nbconvert_exporter": "python",
   "pygments_lexer": "ipython3",
   "version": "3.11.5"
  }
 },
 "nbformat": 4,
 "nbformat_minor": 5
}
