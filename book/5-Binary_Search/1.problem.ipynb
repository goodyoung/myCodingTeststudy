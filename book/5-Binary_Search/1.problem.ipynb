{
 "cells": [
  {
   "cell_type": "markdown",
   "id": "3ef72041-54f1-40a4-a1c9-d5bb51f2d411",
   "metadata": {
    "jp-MarkdownHeadingCollapsed": true
   },
   "source": [
    "# 부품 찾기\n",
    "\n",
    "- Solve idea\n",
    "  - 부품 arr를 정렬한 후 이진 탐색으로 탐색하자"
   ]
  },
  {
   "cell_type": "code",
   "execution_count": 9,
   "id": "6650d88b-a01d-428d-b93e-a28525edfd49",
   "metadata": {},
   "outputs": [],
   "source": [
    "N,M = 5, 3\n",
    "arr, part = [8,3,7,9,2], [5,7,9]"
   ]
  },
  {
   "cell_type": "code",
   "execution_count": 10,
   "id": "da8be5fd-cae0-464d-8da0-469ca61e916a",
   "metadata": {},
   "outputs": [],
   "source": [
    "def binary_search(arr,target,start,end):\n",
    "    if start > end:\n",
    "        return\n",
    "    mid = (start + end) // 2\n",
    "    if arr[mid] == target:\n",
    "        return mid\n",
    "    elif arr[mid] > target:\n",
    "        return binary_search(arr,target,start,mid-1)\n",
    "    else:\n",
    "        return binary_search(arr,target,mid+1,end)"
   ]
  },
  {
   "cell_type": "code",
   "execution_count": 11,
   "id": "68a16b68-7879-49c0-9505-7c5354600238",
   "metadata": {},
   "outputs": [
    {
     "name": "stdout",
     "output_type": "stream",
     "text": [
      "no yes yes "
     ]
    }
   ],
   "source": [
    "arr.sort()\n",
    "for i in part:\n",
    "    if binary_search(arr,i,0,len(arr)-1):\n",
    "        print(\"yes\", end=' ')\n",
    "    else:\n",
    "        print(\"no\", end=' ')"
   ]
  },
  {
   "cell_type": "markdown",
   "id": "eb688ccf-3fe4-45e3-a853-37c427132a1a",
   "metadata": {},
   "source": [
    "# 떡볶이 떡 만들기\n",
    "\n",
    "원하는 조건을 만족하는 가장 알맞은 값을 찾는 문제에 파라메트릭 서치를 사용한다.\n",
    "\n",
    "- Solve idea\n",
    "  - "
   ]
  },
  {
   "cell_type": "code",
   "execution_count": 21,
   "id": "d0169148-7546-4d4d-9b97-fc7c600d0069",
   "metadata": {},
   "outputs": [],
   "source": [
    "N, M = 4,6"
   ]
  },
  {
   "cell_type": "code",
   "execution_count": 22,
   "id": "4175f887-ad16-49ac-a4cd-64bed7c6eea0",
   "metadata": {},
   "outputs": [],
   "source": [
    "arr = [19,15,10,17]"
   ]
  },
  {
   "cell_type": "code",
   "execution_count": 33,
   "id": "ee70be71-0308-4bd0-a4df-aeeb474fc10c",
   "metadata": {},
   "outputs": [],
   "source": [
    "def binary_search(start,end):\n",
    "    if start > end:\n",
    "        return \n",
    "    mid = (start + end) // 2\n",
    "    temp = 0\n",
    "    for i in arr:\n",
    "        if (i-mid) > 0 :\n",
    "            temp += i-mid\n",
    "            \n",
    "    if temp < M:\n",
    "        return binary_search(start,end-1)\n",
    "    else:\n",
    "        \n",
    "        return binary_search(start+1,end)"
   ]
  },
  {
   "cell_type": "code",
   "execution_count": 34,
   "id": "8729a505-2f63-4213-9b06-9c253a69dcf1",
   "metadata": {},
   "outputs": [],
   "source": [
    "arr.sort()"
   ]
  },
  {
   "cell_type": "code",
   "execution_count": 35,
   "id": "35b95827-8aa0-4447-a190-d4b7f678def1",
   "metadata": {
    "scrolled": true
   },
   "outputs": [
    {
     "ename": "UnboundLocalError",
     "evalue": "cannot access local variable 'mid' where it is not associated with a value",
     "output_type": "error",
     "traceback": [
      "\u001b[0;31m---------------------------------------------------------------------------\u001b[0m",
      "\u001b[0;31mUnboundLocalError\u001b[0m                         Traceback (most recent call last)",
      "Cell \u001b[0;32mIn[35], line 1\u001b[0m\n\u001b[0;32m----> 1\u001b[0m \u001b[43mbinary_search\u001b[49m\u001b[43m(\u001b[49m\u001b[38;5;241;43m0\u001b[39;49m\u001b[43m,\u001b[49m\u001b[43marr\u001b[49m\u001b[43m[\u001b[49m\u001b[38;5;241;43m-\u001b[39;49m\u001b[38;5;241;43m1\u001b[39;49m\u001b[43m]\u001b[49m\u001b[43m)\u001b[49m\n",
      "Cell \u001b[0;32mIn[33], line 14\u001b[0m, in \u001b[0;36mbinary_search\u001b[0;34m(start, end)\u001b[0m\n\u001b[1;32m     11\u001b[0m     \u001b[38;5;28;01mreturn\u001b[39;00m binary_search(start,end\u001b[38;5;241m-\u001b[39m\u001b[38;5;241m1\u001b[39m)\n\u001b[1;32m     12\u001b[0m \u001b[38;5;28;01melse\u001b[39;00m:\n\u001b[0;32m---> 14\u001b[0m     \u001b[38;5;28;01mreturn\u001b[39;00m \u001b[43mbinary_search\u001b[49m\u001b[43m(\u001b[49m\u001b[43mstart\u001b[49m\u001b[38;5;241;43m+\u001b[39;49m\u001b[38;5;241;43m1\u001b[39;49m\u001b[43m,\u001b[49m\u001b[43mend\u001b[49m\u001b[43m)\u001b[49m\n",
      "Cell \u001b[0;32mIn[33], line 14\u001b[0m, in \u001b[0;36mbinary_search\u001b[0;34m(start, end)\u001b[0m\n\u001b[1;32m     11\u001b[0m     \u001b[38;5;28;01mreturn\u001b[39;00m binary_search(start,end\u001b[38;5;241m-\u001b[39m\u001b[38;5;241m1\u001b[39m)\n\u001b[1;32m     12\u001b[0m \u001b[38;5;28;01melse\u001b[39;00m:\n\u001b[0;32m---> 14\u001b[0m     \u001b[38;5;28;01mreturn\u001b[39;00m \u001b[43mbinary_search\u001b[49m\u001b[43m(\u001b[49m\u001b[43mstart\u001b[49m\u001b[38;5;241;43m+\u001b[39;49m\u001b[38;5;241;43m1\u001b[39;49m\u001b[43m,\u001b[49m\u001b[43mend\u001b[49m\u001b[43m)\u001b[49m\n",
      "    \u001b[0;31m[... skipping similar frames: binary_search at line 14 (11 times)]\u001b[0m\n",
      "Cell \u001b[0;32mIn[33], line 11\u001b[0m, in \u001b[0;36mbinary_search\u001b[0;34m(start, end)\u001b[0m\n\u001b[1;32m      8\u001b[0m         temp \u001b[38;5;241m+\u001b[39m\u001b[38;5;241m=\u001b[39m i\u001b[38;5;241m-\u001b[39mmid\n\u001b[1;32m     10\u001b[0m \u001b[38;5;28;01mif\u001b[39;00m temp \u001b[38;5;241m<\u001b[39m M:\n\u001b[0;32m---> 11\u001b[0m     \u001b[38;5;28;01mreturn\u001b[39;00m \u001b[43mbinary_search\u001b[49m\u001b[43m(\u001b[49m\u001b[43mstart\u001b[49m\u001b[43m,\u001b[49m\u001b[43mend\u001b[49m\u001b[38;5;241;43m-\u001b[39;49m\u001b[38;5;241;43m1\u001b[39;49m\u001b[43m)\u001b[49m\n\u001b[1;32m     12\u001b[0m \u001b[38;5;28;01melse\u001b[39;00m:\n\u001b[1;32m     14\u001b[0m     \u001b[38;5;28;01mreturn\u001b[39;00m binary_search(start\u001b[38;5;241m+\u001b[39m\u001b[38;5;241m1\u001b[39m,end)\n",
      "    \u001b[0;31m[... skipping similar frames: binary_search at line 14 (1 times)]\u001b[0m\n",
      "Cell \u001b[0;32mIn[33], line 11\u001b[0m, in \u001b[0;36mbinary_search\u001b[0;34m(start, end)\u001b[0m\n\u001b[1;32m      8\u001b[0m         temp \u001b[38;5;241m+\u001b[39m\u001b[38;5;241m=\u001b[39m i\u001b[38;5;241m-\u001b[39mmid\n\u001b[1;32m     10\u001b[0m \u001b[38;5;28;01mif\u001b[39;00m temp \u001b[38;5;241m<\u001b[39m M:\n\u001b[0;32m---> 11\u001b[0m     \u001b[38;5;28;01mreturn\u001b[39;00m \u001b[43mbinary_search\u001b[49m\u001b[43m(\u001b[49m\u001b[43mstart\u001b[49m\u001b[43m,\u001b[49m\u001b[43mend\u001b[49m\u001b[38;5;241;43m-\u001b[39;49m\u001b[38;5;241;43m1\u001b[39;49m\u001b[43m)\u001b[49m\n\u001b[1;32m     12\u001b[0m \u001b[38;5;28;01melse\u001b[39;00m:\n\u001b[1;32m     14\u001b[0m     \u001b[38;5;28;01mreturn\u001b[39;00m binary_search(start\u001b[38;5;241m+\u001b[39m\u001b[38;5;241m1\u001b[39m,end)\n",
      "    \u001b[0;31m[... skipping similar frames: binary_search at line 14 (1 times), binary_search at line 11 (1 times)]\u001b[0m\n",
      "Cell \u001b[0;32mIn[33], line 14\u001b[0m, in \u001b[0;36mbinary_search\u001b[0;34m(start, end)\u001b[0m\n\u001b[1;32m     11\u001b[0m     \u001b[38;5;28;01mreturn\u001b[39;00m binary_search(start,end\u001b[38;5;241m-\u001b[39m\u001b[38;5;241m1\u001b[39m)\n\u001b[1;32m     12\u001b[0m \u001b[38;5;28;01melse\u001b[39;00m:\n\u001b[0;32m---> 14\u001b[0m     \u001b[38;5;28;01mreturn\u001b[39;00m \u001b[43mbinary_search\u001b[49m\u001b[43m(\u001b[49m\u001b[43mstart\u001b[49m\u001b[38;5;241;43m+\u001b[39;49m\u001b[38;5;241;43m1\u001b[39;49m\u001b[43m,\u001b[49m\u001b[43mend\u001b[49m\u001b[43m)\u001b[49m\n",
      "Cell \u001b[0;32mIn[33], line 11\u001b[0m, in \u001b[0;36mbinary_search\u001b[0;34m(start, end)\u001b[0m\n\u001b[1;32m      8\u001b[0m         temp \u001b[38;5;241m+\u001b[39m\u001b[38;5;241m=\u001b[39m i\u001b[38;5;241m-\u001b[39mmid\n\u001b[1;32m     10\u001b[0m \u001b[38;5;28;01mif\u001b[39;00m temp \u001b[38;5;241m<\u001b[39m M:\n\u001b[0;32m---> 11\u001b[0m     \u001b[38;5;28;01mreturn\u001b[39;00m \u001b[43mbinary_search\u001b[49m\u001b[43m(\u001b[49m\u001b[43mstart\u001b[49m\u001b[43m,\u001b[49m\u001b[43mend\u001b[49m\u001b[38;5;241;43m-\u001b[39;49m\u001b[38;5;241;43m1\u001b[39;49m\u001b[43m)\u001b[49m\n\u001b[1;32m     12\u001b[0m \u001b[38;5;28;01melse\u001b[39;00m:\n\u001b[1;32m     14\u001b[0m     \u001b[38;5;28;01mreturn\u001b[39;00m binary_search(start\u001b[38;5;241m+\u001b[39m\u001b[38;5;241m1\u001b[39m,end)\n",
      "Cell \u001b[0;32mIn[33], line 3\u001b[0m, in \u001b[0;36mbinary_search\u001b[0;34m(start, end)\u001b[0m\n\u001b[1;32m      1\u001b[0m \u001b[38;5;28;01mdef\u001b[39;00m \u001b[38;5;21mbinary_search\u001b[39m(start,end):\n\u001b[1;32m      2\u001b[0m     \u001b[38;5;28;01mif\u001b[39;00m start \u001b[38;5;241m>\u001b[39m end:\n\u001b[0;32m----> 3\u001b[0m         \u001b[38;5;28;01mreturn\u001b[39;00m \u001b[43mmid\u001b[49m\n\u001b[1;32m      4\u001b[0m     mid \u001b[38;5;241m=\u001b[39m (start \u001b[38;5;241m+\u001b[39m end) \u001b[38;5;241m/\u001b[39m\u001b[38;5;241m/\u001b[39m \u001b[38;5;241m2\u001b[39m\n\u001b[1;32m      5\u001b[0m     temp \u001b[38;5;241m=\u001b[39m \u001b[38;5;241m0\u001b[39m\n",
      "\u001b[0;31mUnboundLocalError\u001b[0m: cannot access local variable 'mid' where it is not associated with a value"
     ]
    }
   ],
   "source": [
    "binary_search(0,arr[-1])"
   ]
  },
  {
   "cell_type": "code",
   "execution_count": null,
   "id": "039d8cab-73cf-473c-b9d7-bc6465440bf4",
   "metadata": {},
   "outputs": [],
   "source": []
  }
 ],
 "metadata": {
  "kernelspec": {
   "display_name": "Python 3 (ipykernel)",
   "language": "python",
   "name": "python3"
  },
  "language_info": {
   "codemirror_mode": {
    "name": "ipython",
    "version": 3
   },
   "file_extension": ".py",
   "mimetype": "text/x-python",
   "name": "python",
   "nbconvert_exporter": "python",
   "pygments_lexer": "ipython3",
   "version": "3.11.5"
  }
 },
 "nbformat": 4,
 "nbformat_minor": 5
}
