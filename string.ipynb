{
 "cells": [
  {
   "cell_type": "code",
   "execution_count": null,
   "id": "a93207d2-abcf-4a07-9983-d88458f6a08d",
   "metadata": {},
   "outputs": [],
   "source": [
    "import string\n",
    "alphabet_list = list(string.ascii_lowercase)\n",
    "\n",
    "def solution(s, skip, index):\n",
    "    answer = ''\n",
    "    \n",
    "    for i in skip:\n",
    "        alphabet_list.remove(i)\n",
    "        \n",
    "    for letter in s:\n",
    "        letter_, num = '', 0\n",
    "        idx = alphabet_list.index(letter)\n",
    "        answer += alphabet_list[(idx + index) % len(alphabet_list)]\n",
    "    return answer"
   ]
  }
 ],
 "metadata": {
  "kernelspec": {
   "display_name": "Python 3 (ipykernel)",
   "language": "python",
   "name": "python3"
  },
  "language_info": {
   "codemirror_mode": {
    "name": "ipython",
    "version": 3
   },
   "file_extension": ".py",
   "mimetype": "text/x-python",
   "name": "python",
   "nbconvert_exporter": "python",
   "pygments_lexer": "ipython3",
   "version": "3.11.5"
  }
 },
 "nbformat": 4,
 "nbformat_minor": 5
}
