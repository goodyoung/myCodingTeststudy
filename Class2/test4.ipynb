{
 "cells": [
  {
   "cell_type": "code",
   "execution_count": null,
   "id": "00f64421-9249-4282-af5e-d8ab42d675c6",
   "metadata": {},
   "outputs": [],
   "source": [
    "#silver 4 9012"
   ]
  },
  {
   "cell_type": "code",
   "execution_count": 57,
   "id": "b3125b80-38d5-42c8-b5d5-bac82b2de86e",
   "metadata": {
    "collapsed": true,
    "jupyter": {
     "outputs_hidden": true
    },
    "tags": []
   },
   "outputs": [
    {
     "name": "stdin",
     "output_type": "stream",
     "text": [
      " 1\n",
      " ()()()()(()()())()\n"
     ]
    },
    {
     "name": "stdout",
     "output_type": "stream",
     "text": [
      "['(', ')']\n",
      "[]\n",
      "['(', ')']\n",
      "[]\n",
      "['(', ')']\n",
      "[]\n",
      "['(', ')']\n",
      "[]\n",
      "['(', ')']\n",
      "['(']\n",
      "['(', ')']\n",
      "['(']\n",
      "['(', ')']\n",
      "['(']\n",
      "['(', ')']\n",
      "[]\n",
      "['(', ')']\n",
      "[]\n",
      "YES\n"
     ]
    }
   ],
   "source": [
    "n = int(input())\n",
    "for _ in range(n):\n",
    "    answer = input()\n",
    "    temp = []\n",
    "    for i in answer:\n",
    "        temp.append(i)\n",
    "        if i == ')':\n",
    "            if temp[-2:] == ['(',')']:\n",
    "                temp = temp[:-2]\n",
    "    if temp:\n",
    "        print('NO')\n",
    "    else:\n",
    "        print('YES')"
   ]
  },
  {
   "cell_type": "markdown",
   "id": "4d1bfc90-4f7a-4117-91cd-879614158b25",
   "metadata": {
    "tags": []
   },
   "source": [
    "# silver5 10814 fail"
   ]
  },
  {
   "cell_type": "code",
   "execution_count": null,
   "id": "7cbfe822-547d-4ba1-ada6-569dcd457831",
   "metadata": {},
   "outputs": [],
   "source": [
    "import sys\n",
    "n = int(sys.stdin.readline())\n",
    "\n",
    "\n",
    "\n",
    "\n"
   ]
  },
  {
   "cell_type": "code",
   "execution_count": 88,
   "id": "85627a70-de2d-4109-8707-026781776a48",
   "metadata": {
    "tags": []
   },
   "outputs": [
    {
     "name": "stdin",
     "output_type": "stream",
     "text": [
      " 21 go\n",
      " 23 goh\n",
      " 19 ho\n"
     ]
    }
   ],
   "source": [
    "age_list = []\n",
    "for _ in range(3):\n",
    "    #list(sys.stdin.readline().split())\n",
    "    a = list(input().split())\n",
    "    age_list.append(a)\n",
    "\n"
   ]
  },
  {
   "cell_type": "code",
   "execution_count": 84,
   "id": "bce809f1-c924-4d43-826a-f5c48dab3aa6",
   "metadata": {
    "tags": []
   },
   "outputs": [
    {
     "name": "stdout",
     "output_type": "stream",
     "text": [
      "20 Sunyoung\n",
      "21 Junkyu\n",
      "21 Dohyun\n"
     ]
    }
   ],
   "source": [
    "for j in range(len(age_list)-1):\n",
    "    for k in range(len(age_list)-1-j):\n",
    "        if age_list[k][0] > age_list[k+1][0]:\n",
    "            age_list[k] , age_list[k+1] = age_list[k+1] , age_list[k]\n",
    "\n",
    "for age in age_list:\n",
    "    print(' '.join(age))"
   ]
  },
  {
   "cell_type": "code",
   "execution_count": null,
   "id": "e3a220ec-bb0b-42ff-bf8c-c10942af9676",
   "metadata": {
    "tags": []
   },
   "outputs": [],
   "source": [
    "## age_list"
   ]
  },
  {
   "cell_type": "code",
   "execution_count": null,
   "id": "debab82d-da10-4187-a09e-4ae58f07bce7",
   "metadata": {},
   "outputs": [],
   "source": [
    "import sys\n",
    "n = int(sys.stdin.readline())\n",
    "age_list = [list(sys.stdin.readline().split()) for _ in range(n)]\n",
    "    \n",
    "for j in range(len(age_list)-1):\n",
    "    change = 0\n",
    "    for k in range(len(age_list)-1-j):\n",
    "        if int(age_list[k][0]) > int(age_list[k+1][0]):\n",
    "            age_list[k] , age_list[k+1] = age_list[k+1] , age_list[k]\n",
    "            change +=1\n",
    "    \n",
    "    if change == 0:\n",
    "        break;\n",
    "for age in age_list:\n",
    "    print(' '.join(age))"
   ]
  },
  {
   "cell_type": "code",
   "execution_count": 12,
   "id": "174421c8-1ec1-4530-bd26-d8765a0f66ea",
   "metadata": {
    "tags": []
   },
   "outputs": [],
   "source": [
    "hh = [[21,'Junkyu'],[21,'Dohyun'],[20,'Sunyoung']]"
   ]
  },
  {
   "cell_type": "code",
   "execution_count": 13,
   "id": "827724bb-6a54-40e5-8bf2-baf43844bd10",
   "metadata": {
    "tags": []
   },
   "outputs": [],
   "source": [
    "hh.sort(key = lambda x: x[0])"
   ]
  },
  {
   "cell_type": "code",
   "execution_count": 14,
   "id": "6db3c0be-cdbe-40af-a396-84faec466ed6",
   "metadata": {
    "tags": []
   },
   "outputs": [
    {
     "data": {
      "text/plain": [
       "[[20, 'Sunyoung'], [21, 'Junkyu'], [21, 'Dohyun']]"
      ]
     },
     "execution_count": 14,
     "metadata": {},
     "output_type": "execute_result"
    }
   ],
   "source": [
    "hh"
   ]
  },
  {
   "cell_type": "code",
   "execution_count": 11,
   "id": "8b7f3584-db98-451d-bc71-3c41f20da6e7",
   "metadata": {
    "tags": []
   },
   "outputs": [
    {
     "ename": "ValueError",
     "evalue": "invalid literal for int() with base 10: ''",
     "output_type": "error",
     "traceback": [
      "\u001b[0;31m---------------------------------------------------------------------------\u001b[0m",
      "\u001b[0;31mValueError\u001b[0m                                Traceback (most recent call last)",
      "Cell \u001b[0;32mIn[11], line 2\u001b[0m\n\u001b[1;32m      1\u001b[0m \u001b[38;5;28;01mimport\u001b[39;00m \u001b[38;5;21;01msys\u001b[39;00m\n\u001b[0;32m----> 2\u001b[0m n \u001b[38;5;241m=\u001b[39m \u001b[38;5;28;43mint\u001b[39;49m\u001b[43m(\u001b[49m\u001b[43msys\u001b[49m\u001b[38;5;241;43m.\u001b[39;49m\u001b[43mstdin\u001b[49m\u001b[38;5;241;43m.\u001b[39;49m\u001b[43mreadline\u001b[49m\u001b[43m(\u001b[49m\u001b[43m)\u001b[49m\u001b[43m)\u001b[49m\n\u001b[1;32m      3\u001b[0m age_list \u001b[38;5;241m=\u001b[39m [\u001b[38;5;28mlist\u001b[39m(sys\u001b[38;5;241m.\u001b[39mstdin\u001b[38;5;241m.\u001b[39mreadline()\u001b[38;5;241m.\u001b[39msplit()) \u001b[38;5;28;01mfor\u001b[39;00m _ \u001b[38;5;129;01min\u001b[39;00m \u001b[38;5;28mrange\u001b[39m(n)]\n\u001b[1;32m      4\u001b[0m hh\u001b[38;5;241m.\u001b[39msort(key \u001b[38;5;241m=\u001b[39m \u001b[38;5;28;01mlambda\u001b[39;00m x: x[\u001b[38;5;241m0\u001b[39m])\n",
      "\u001b[0;31mValueError\u001b[0m: invalid literal for int() with base 10: ''"
     ]
    }
   ],
   "source": [
    "import sys\n",
    "n = int(sys.stdin.readline())\n",
    "age_list = [list(sys.stdin.readline().split()) for _ in range(n)]\n",
    "age_list.sort(key = lambda x: int(x[0]))\n",
    "for i in age_list:\n",
    "    print(i[0],i[1])"
   ]
  },
  {
   "cell_type": "code",
   "execution_count": 22,
   "id": "ce346019-c822-499e-89cf-48c71307aaf9",
   "metadata": {
    "tags": []
   },
   "outputs": [
    {
     "name": "stdout",
     "output_type": "stream",
     "text": [
      "20 Sunyoung\n",
      "21 Junkyu\n",
      "21 Dohyun\n"
     ]
    }
   ],
   "source": [
    "for i in hh:\n",
    "    print(i[0],i[1])"
   ]
  },
  {
   "cell_type": "code",
   "execution_count": null,
   "id": "668b3519-6e37-4864-9d7a-37bc2e3b7878",
   "metadata": {},
   "outputs": [],
   "source": []
  },
  {
   "cell_type": "code",
   "execution_count": 97,
   "id": "a09bdb81-3a13-4b06-8ca4-d5673176d6b9",
   "metadata": {
    "tags": []
   },
   "outputs": [
    {
     "name": "stdin",
     "output_type": "stream",
     "text": [
      " 19 g\n",
      " 14 h\n",
      " 50 h\n"
     ]
    }
   ],
   "source": [
    "age_list = []\n",
    "for _ in range(3):\n",
    "    #list(sys.stdin.readline().split())\n",
    "    a = list(input().split())\n",
    "    age_list.append(a)"
   ]
  },
  {
   "cell_type": "code",
   "execution_count": 122,
   "id": "19dcdd23-b951-4b58-ac89-45ed46724a6b",
   "metadata": {
    "tags": []
   },
   "outputs": [
    {
     "name": "stdin",
     "output_type": "stream",
     "text": [
      " 4\n",
      " 20 j\n",
      " 20 s\n",
      " 21 s\n",
      " 21 j\n"
     ]
    },
    {
     "name": "stdout",
     "output_type": "stream",
     "text": [
      "20 j\n",
      "20 s\n",
      "21 s\n",
      "21 j\n"
     ]
    }
   ],
   "source": [
    "import sys\n",
    "# n = int(sys.stdin.readline())\n",
    "n = int(input())\n",
    "age_list = [list(input().split()) for _ in range(n)]\n",
    "\n",
    "k = 0\n",
    "n = len(age_list)\n",
    "while (k < n-1):\n",
    "    last = n-1\n",
    "    for j in range(n-1-k):\n",
    "        if int(age_list[j][0]) >  int(age_list[j+1][0]):\n",
    "            age_list[j],age_list[j+1] = age_list[j+1],age_list[j]\n",
    "            \n",
    "            last = j\n",
    "    k = last\n",
    "    \n",
    "for age in age_list:\n",
    "    print(' '.join(age))"
   ]
  },
  {
   "cell_type": "code",
   "execution_count": null,
   "id": "40f16df5-bb17-4223-80f9-d4ed0fd3216e",
   "metadata": {},
   "outputs": [],
   "source": [
    "#bronze2 2798"
   ]
  },
  {
   "cell_type": "code",
   "execution_count": 28,
   "id": "a4035256-15ff-4a4f-ae76-b53ffb31dda7",
   "metadata": {
    "tags": []
   },
   "outputs": [
    {
     "name": "stdout",
     "output_type": "stream",
     "text": [
      "497\n"
     ]
    }
   ],
   "source": [
    "import sys\n",
    "num, result= map(int,sys.stdin.readline().split())\n",
    "ans = list(map(int,sys.stdin.readline().split()))\n",
    "con = 0\n",
    "listnum = len(ans)\n",
    "result_list = []\n",
    "for i in range(listnum):\n",
    "    for j in range(i+1,listnum):\n",
    "        for k in range(j+1,listnum):\n",
    "            number = (ans[i] + ans[j] + ans[k])\n",
    "            if number > result:\n",
    "                continue;\n",
    "            else:\n",
    "                if ((con == 0) | (number >= con)):\n",
    "                    con = number\n",
    "print(con)"
   ]
  },
  {
   "cell_type": "code",
   "execution_count": null,
   "id": "6c8c66b5-067c-42c0-8c4f-380f07f07f7e",
   "metadata": {},
   "outputs": [],
   "source": [
    "#bruteFore Algorithm"
   ]
  },
  {
   "cell_type": "code",
   "execution_count": null,
   "id": "e05f850e-93c7-4ef2-9d55-2ca5593a2b8b",
   "metadata": {},
   "outputs": [],
   "source": [
    "def BruteForce(p,t):\n",
    "    i = 0\n",
    "    j = 0\n",
    "    while len(p) > i and len(t) > j:\n",
    "        if p[i] == p[j]:\n",
    "            "
   ]
  },
  {
   "cell_type": "code",
   "execution_count": 1,
   "id": "4e883b10-326c-4e10-bd23-9516c8bf6d44",
   "metadata": {
    "tags": []
   },
   "outputs": [
    {
     "name": "stdin",
     "output_type": "stream",
     "text": [
      "텍스트를 입력하세요.:  I love python\n",
      "패턴을 입력하세요.:  python\n"
     ]
    },
    {
     "name": "stdout",
     "output_type": "stream",
     "text": [
      "8번째 문자에서 일치합니다.\n"
     ]
    }
   ],
   "source": [
    "def bf_match(txt: str, pat: str) -> int:\n",
    "    \"\"\"브루트 포스법으로 문자열 검색\"\"\"\n",
    "    pt = 0  # txt(텍스트)를 따라가는 커서\n",
    "    pp = 0  # pat(패턴)를 따라가는 커서\n",
    "\n",
    "    while pt != len(txt) and pp != len(pat):\n",
    "        if txt[pt] == pat[pp]:\n",
    "            pt += 1\n",
    "            pp += 1\n",
    "        else:\n",
    "            pt = pt - pp + 1\n",
    "            pp = 0\n",
    "\n",
    "    return pt - pp if pp == len(pat) else -1\n",
    "\n",
    "\n",
    "if __name__ == '__main__':\n",
    "    s1 = input('텍스트를 입력하세요.: ')  # 텍스트용 문자열\n",
    "    s2 = input('패턴을 입력하세요.: ')    # 패턴용 문자열\n",
    "\n",
    "    idx = bf_match(s1, s2)  # 문자열 s1~s2를 브루트 포스법으로 검색\n",
    "\n",
    "    if idx == -1:\n",
    "        print('텍스트 안에 패턴이 존재하지 않습니다.')\n",
    "    else:\n",
    "        print(f'{(idx + 1)}번째 문자에서 일치합니다.')"
   ]
  },
  {
   "cell_type": "code",
   "execution_count": null,
   "id": "1e581d5a-5d9c-47ed-a32b-51eedf33ab81",
   "metadata": {},
   "outputs": [],
   "source": []
  }
 ],
 "metadata": {
  "kernelspec": {
   "display_name": "Python 3 (ipykernel)",
   "language": "python",
   "name": "python3"
  },
  "language_info": {
   "codemirror_mode": {
    "name": "ipython",
    "version": 3
   },
   "file_extension": ".py",
   "mimetype": "text/x-python",
   "name": "python",
   "nbconvert_exporter": "python",
   "pygments_lexer": "ipython3",
   "version": "3.11.4"
  }
 },
 "nbformat": 4,
 "nbformat_minor": 5
}
