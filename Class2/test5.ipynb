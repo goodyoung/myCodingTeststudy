{
 "cells": [
  {
   "cell_type": "code",
   "execution_count": null,
   "id": "75bf3c19-b732-4ee9-bb8f-aaeb06986159",
   "metadata": {},
   "outputs": [],
   "source": [
    "#sliver4 2839"
   ]
  },
  {
   "cell_type": "code",
   "execution_count": 100,
   "id": "bba085ea-3a70-4e73-9d40-1e17945797e2",
   "metadata": {
    "tags": []
   },
   "outputs": [
    {
     "name": "stdout",
     "output_type": "stream",
     "text": [
      "3\n"
     ]
    }
   ],
   "source": [
    "import sys\n",
    "n = int(sys.stdin.readline())\n",
    "a, b = n // 5, n // 3\n",
    "temp = 0\n",
    "for i in range(a+1):\n",
    "    for j in range(b+1):\n",
    "        if (i*5 + j*3) == n:\n",
    "            temp = i+j\n",
    "                \n",
    "if temp:\n",
    "    print(temp)\n",
    "else:\n",
    "    print(-1)"
   ]
  },
  {
   "cell_type": "code",
   "execution_count": null,
   "id": "e0b469d9-5892-46f2-9611-15c3407fffa3",
   "metadata": {},
   "outputs": [],
   "source": [
    "# 5랑 나머지가 3으로 나눌 경우\n",
    "# 5로만 나눠질 경우\n",
    "# 3으로만 나눌 경우\n",
    "# 없을 경우 -> -1"
   ]
  },
  {
   "cell_type": "code",
   "execution_count": 47,
   "id": "c0ae957c-2fe9-4dec-9a7a-a23be3554109",
   "metadata": {},
   "outputs": [],
   "source": [
    "def quick_sort(a: list) -> list:\n",
    "    n = len(a)\n",
    "    \n",
    "    if n <= 1:\n",
    "        return a\n",
    "    \n",
    "    pivot = a[-1]\n",
    "    a_left = []\n",
    "    a_right = []\n",
    "    \n",
    "    for i in range(0,n-1):\n",
    "        if a[i] < pivot:\n",
    "            a_left.append(a[i])\n",
    "        else:\n",
    "            a_right.append(a[i])\n",
    "    print(pivot)\n",
    "    return quick_sort(a_left) + [pivot] + quick_sort(a_right)"
   ]
  },
  {
   "cell_type": "code",
   "execution_count": 48,
   "id": "ce717300-92e2-4660-a821-60e4bb1b2d54",
   "metadata": {},
   "outputs": [],
   "source": [
    "s = [1,2,5,7,2,5,7,468]"
   ]
  },
  {
   "cell_type": "code",
   "execution_count": 49,
   "id": "30410b30-6153-49ab-a6ab-c5c87a1076c6",
   "metadata": {},
   "outputs": [
    {
     "name": "stdout",
     "output_type": "stream",
     "text": [
      "468\n",
      "7\n",
      "5\n",
      "2\n"
     ]
    },
    {
     "data": {
      "text/plain": [
       "[1, 2, 2, 5, 5, 7, 7, 468]"
      ]
     },
     "execution_count": 49,
     "metadata": {},
     "output_type": "execute_result"
    }
   ],
   "source": [
    "quick_sort(s)"
   ]
  },
  {
   "cell_type": "markdown",
   "id": "7dd63f49-3849-49e9-82fe-583c9556b144",
   "metadata": {},
   "source": [
    "# silver5 10814"
   ]
  },
  {
   "cell_type": "code",
   "execution_count": 11,
   "id": "43628f47-9967-4b02-b43b-aac93fb2c89f",
   "metadata": {
    "collapsed": true,
    "jupyter": {
     "outputs_hidden": true
    },
    "tags": []
   },
   "outputs": [
    {
     "ename": "ValueError",
     "evalue": "invalid literal for int() with base 10: ''",
     "output_type": "error",
     "traceback": [
      "\u001b[0;31m---------------------------------------------------------------------------\u001b[0m",
      "\u001b[0;31mValueError\u001b[0m                                Traceback (most recent call last)",
      "Cell \u001b[0;32mIn[11], line 2\u001b[0m\n\u001b[1;32m      1\u001b[0m \u001b[38;5;28;01mimport\u001b[39;00m \u001b[38;5;21;01msys\u001b[39;00m\n\u001b[0;32m----> 2\u001b[0m n \u001b[38;5;241m=\u001b[39m \u001b[38;5;28;43mint\u001b[39;49m\u001b[43m(\u001b[49m\u001b[43msys\u001b[49m\u001b[38;5;241;43m.\u001b[39;49m\u001b[43mstdin\u001b[49m\u001b[38;5;241;43m.\u001b[39;49m\u001b[43mreadline\u001b[49m\u001b[43m(\u001b[49m\u001b[43m)\u001b[49m\u001b[43m)\u001b[49m\n\u001b[1;32m      3\u001b[0m age_list \u001b[38;5;241m=\u001b[39m [\u001b[38;5;28mlist\u001b[39m(sys\u001b[38;5;241m.\u001b[39mstdin\u001b[38;5;241m.\u001b[39mreadline()\u001b[38;5;241m.\u001b[39msplit()) \u001b[38;5;28;01mfor\u001b[39;00m _ \u001b[38;5;129;01min\u001b[39;00m \u001b[38;5;28mrange\u001b[39m(n)]\n\u001b[1;32m      4\u001b[0m hh\u001b[38;5;241m.\u001b[39msort(key \u001b[38;5;241m=\u001b[39m \u001b[38;5;28;01mlambda\u001b[39;00m x: x[\u001b[38;5;241m0\u001b[39m])\n",
      "\u001b[0;31mValueError\u001b[0m: invalid literal for int() with base 10: ''"
     ]
    }
   ],
   "source": [
    "import sys\n",
    "n = int(sys.stdin.readline())\n",
    "age_list = [list(sys.stdin.readline().split()) for _ in range(n)]\n",
    "age_list.sort(key = lambda x: int(x[0]))\n",
    "for i in age_list:\n",
    "    print(i[0],i[1])"
   ]
  }
 ],
 "metadata": {
  "kernelspec": {
   "display_name": "Python 3 (ipykernel)",
   "language": "python",
   "name": "python3"
  },
  "language_info": {
   "codemirror_mode": {
    "name": "ipython",
    "version": 3
   },
   "file_extension": ".py",
   "mimetype": "text/x-python",
   "name": "python",
   "nbconvert_exporter": "python",
   "pygments_lexer": "ipython3",
   "version": "3.11.4"
  }
 },
 "nbformat": 4,
 "nbformat_minor": 5
}
