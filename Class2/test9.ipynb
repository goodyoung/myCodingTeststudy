{
 "cells": [
  {
   "cell_type": "markdown",
   "id": "2b2fb33c-5907-4c36-aa8f-15a32fde050a",
   "metadata": {
    "jp-MarkdownHeadingCollapsed": true,
    "tags": []
   },
   "source": [
    "# 1018 silver 4"
   ]
  },
  {
   "cell_type": "markdown",
   "id": "07bf2230-08a6-4684-9c28-9f93d7c818b5",
   "metadata": {
    "jp-MarkdownHeadingCollapsed": true,
    "tags": []
   },
   "source": [
    "## try 1"
   ]
  },
  {
   "cell_type": "code",
   "execution_count": null,
   "id": "81ef5f98-1c48-44d1-9471-de7313df9772",
   "metadata": {
    "tags": []
   },
   "outputs": [],
   "source": [
    "import sys\n",
    "N,M = map(int,sys.stdin.readline().split())\n",
    "table,result = [],[]\n",
    "for k in range(N):\n",
    "    table.append(sys.stdin.readline())\n",
    "for num in range(N-7):\n",
    "    for k in range(M-7):\n",
    "        next_=''\n",
    "        cnt1,cnt2 = 0,0\n",
    "        for n in range(num,num+8):\n",
    "            for m in range(k,k+8):\n",
    "                current = table[n][m]\n",
    "                if (n+m)%2==0:\n",
    "                    if current!='W':\n",
    "                        cnt1+=1\n",
    "                    else:\n",
    "                        cnt2+=1\n",
    "                else:\n",
    "                    if current!='W':\n",
    "                        cnt2+=1\n",
    "                    else:\n",
    "                        cnt1+=1\n",
    "        result.append(cnt1)\n",
    "        result.append(cnt2)\n",
    "print(min(result))"
   ]
  },
  {
   "cell_type": "markdown",
   "id": "3eb2643d-63eb-43b7-8330-6dc1021ba714",
   "metadata": {
    "jp-MarkdownHeadingCollapsed": true,
    "tags": []
   },
   "source": [
    "## try2"
   ]
  },
  {
   "cell_type": "code",
   "execution_count": 20,
   "id": "da6a0e13-5c7a-4226-881e-2a0c94525e30",
   "metadata": {
    "tags": []
   },
   "outputs": [
    {
     "name": "stdout",
     "output_type": "stream",
     "text": [
      "처음이다\n",
      "12\n"
     ]
    }
   ],
   "source": [
    "import sys\n",
    "N,M = map(int,sys.stdin.readline().split())\n",
    "table,result = [],[]\n",
    "total = 0\n",
    "\n",
    "for k in range(N):\n",
    "    table.append(sys.stdin.readline())\n",
    "\n",
    "for num in range(N-7):\n",
    "    for k in range(M-7):\n",
    "        cnt1,cnt2 = 0,0\n",
    "        for n in range(num,num+8):\n",
    "            for m in range(k,k+8):\n",
    "                current = table[n][m]\n",
    "                if (n+m)%2==0:\n",
    "                    if current!='W':\n",
    "                        cnt1+=1\n",
    "                    else:\n",
    "                        cnt2+=1\n",
    "                else:\n",
    "                    if current!='W':\n",
    "                        cnt2+=1\n",
    "                    else:\n",
    "                        cnt1+=1\n",
    "        if (num==0)and(k==0):\n",
    "            if cnt1>=cnt2:\n",
    "                total = cnt2\n",
    "            else:\n",
    "                total = cnt1\n",
    "        else:\n",
    "            if total > cnt1:\n",
    "                total = cnt1\n",
    "            elif total > cnt2:\n",
    "                total = cnt2\n",
    "print(total)"
   ]
  },
  {
   "cell_type": "code",
   "execution_count": 11,
   "id": "a5044379-b4e1-4e08-82a6-1891bef47235",
   "metadata": {
    "tags": []
   },
   "outputs": [
    {
     "data": {
      "text/plain": [
       "['WBWBWBWB',\n",
       " 'BWBWBWBW',\n",
       " 'WBWBWBWB',\n",
       " 'BWBBBWBW',\n",
       " 'WBWBWBWB',\n",
       " 'BWBWBWBW',\n",
       " 'WBWBWBWB',\n",
       " 'BWBWBWBW']"
      ]
     },
     "execution_count": 11,
     "metadata": {},
     "output_type": "execute_result"
    }
   ],
   "source": [
    "table"
   ]
  },
  {
   "cell_type": "code",
   "execution_count": 12,
   "id": "b22c18aa-3f78-4150-8c5a-5090ca13298d",
   "metadata": {
    "tags": []
   },
   "outputs": [
    {
     "data": {
      "text/plain": [
       "[1, 63]"
      ]
     },
     "execution_count": 12,
     "metadata": {},
     "output_type": "execute_result"
    }
   ],
   "source": [
    "result"
   ]
  },
  {
   "cell_type": "markdown",
   "id": "a7661581-9074-475c-9d0b-d4bfe64faf9f",
   "metadata": {
    "jp-MarkdownHeadingCollapsed": true,
    "tags": []
   },
   "source": [
    "# 2231 bronze 2"
   ]
  },
  {
   "cell_type": "markdown",
   "id": "fdd972e6-3e8a-48a2-990f-f783ff4bfa64",
   "metadata": {},
   "source": [
    "## try1"
   ]
  },
  {
   "cell_type": "code",
   "execution_count": 1,
   "id": "d110ec9f-7db3-4ac9-acc3-3c2444aba06c",
   "metadata": {
    "tags": []
   },
   "outputs": [
    {
     "name": "stdout",
     "output_type": "stream",
     "text": [
      "120\n"
     ]
    }
   ],
   "source": [
    "num = int(input())\n",
    "mini = []\n",
    "for i in range(num):\n",
    "    result = 0\n",
    "    for nu in str(i):\n",
    "        result += int(nu)\n",
    "    result += int(i)\n",
    "    if result == num:\n",
    "        mini.append(i)\n",
    "        \n",
    "if mini:\n",
    "    print(min(mini))        \n",
    "else:\n",
    "    print(0)"
   ]
  },
  {
   "cell_type": "markdown",
   "id": "baea94f7-3ce2-46d1-b5bf-ac696106a1d4",
   "metadata": {},
   "source": [
    "## try2"
   ]
  },
  {
   "cell_type": "code",
   "execution_count": 25,
   "id": "0cf11fb3-0cca-4fdf-a62a-4ac19df4b49b",
   "metadata": {
    "tags": []
   },
   "outputs": [
    {
     "name": "stdin",
     "output_type": "stream",
     "text": [
      " 216\n"
     ]
    },
    {
     "name": "stdout",
     "output_type": "stream",
     "text": [
      "198\n"
     ]
    }
   ],
   "source": [
    "num = int(input())\n",
    "mini = 0\n",
    "for i in range(num):\n",
    "    result = 0\n",
    "    for nu in str(i):\n",
    "        result += int(nu)\n",
    "    result += int(i)\n",
    "    if result == num:\n",
    "        if not mini:\n",
    "            mini = i\n",
    "        else:\n",
    "            if mini > i:\n",
    "                mini = i\n",
    "print(mini)"
   ]
  },
  {
   "cell_type": "code",
   "execution_count": 23,
   "id": "19d90f53-92ad-4138-9477-5ee53d1af0dc",
   "metadata": {
    "tags": []
   },
   "outputs": [
    {
     "data": {
      "text/plain": [
       "[198, 207]"
      ]
     },
     "execution_count": 23,
     "metadata": {},
     "output_type": "execute_result"
    }
   ],
   "source": [
    "mini"
   ]
  },
  {
   "cell_type": "code",
   "execution_count": null,
   "id": "8df3cac9-aae1-42be-a7c6-fd0f67f6cf7f",
   "metadata": {},
   "outputs": [],
   "source": []
  },
  {
   "cell_type": "markdown",
   "id": "779f393d-d2ad-4196-8f6d-4eed2bb61c94",
   "metadata": {
    "jp-MarkdownHeadingCollapsed": true,
    "tags": []
   },
   "source": [
    "# 1436 silver 5  더 나은 풀이 필요"
   ]
  },
  {
   "cell_type": "code",
   "execution_count": null,
   "id": "d69d76e1-18b3-4cec-b5ff-205fcca6cc46",
   "metadata": {},
   "outputs": [],
   "source": [
    "666\n",
    "1666\n",
    "2666\n",
    "3666\n",
    "5666\n",
    "\n",
    "6661\n",
    "6662\n",
    "6665\n",
    "\n",
    "6666\n",
    "6667\n",
    "6669\n",
    "\n",
    "7666\n",
    "8666\n",
    "9666\n",
    "\n",
    "10666"
   ]
  },
  {
   "cell_type": "markdown",
   "id": "4b37d26f-8182-48d3-9666-92d1aaec33a6",
   "metadata": {},
   "source": [
    "## try 1"
   ]
  },
  {
   "cell_type": "code",
   "execution_count": null,
   "id": "2a3a6d41-7b64-4532-8569-874fcd18d651",
   "metadata": {
    "tags": []
   },
   "outputs": [
    {
     "name": "stdin",
     "output_type": "stream",
     "text": [
      " 2\n"
     ]
    },
    {
     "name": "stdout",
     "output_type": "stream",
     "text": [
      "1666\n"
     ]
    }
   ],
   "source": [
    "a = 665\n",
    "result = int(input())\n",
    "result_num = 0\n",
    "while True:\n",
    "    if result ==0:\n",
    "        print('666')\n",
    "        break\n",
    "    a += 1\n",
    "    if str(a).count('666'):\n",
    "        result_num +=1\n",
    "    if (result == result_num):\n",
    "        print(a)\n",
    "        break;"
   ]
  },
  {
   "cell_type": "markdown",
   "id": "8dd1c549-faff-4015-bf52-fd8bdef645a7",
   "metadata": {},
   "source": [
    "## try2"
   ]
  },
  {
   "cell_type": "code",
   "execution_count": 32,
   "id": "bf1f63d0-b156-4166-a3c8-892254062d45",
   "metadata": {
    "tags": []
   },
   "outputs": [
    {
     "name": "stdin",
     "output_type": "stream",
     "text": [
      " 2\n"
     ]
    },
    {
     "name": "stdout",
     "output_type": "stream",
     "text": [
      "1666\n"
     ]
    }
   ],
   "source": [
    "a = 665\n",
    "result = int(input())\n",
    "\n",
    "while (result > 0):\n",
    "    a += 1\n",
    "    if str(a).count('666'):\n",
    "        result -= 1\n",
    "print(a)"
   ]
  },
  {
   "cell_type": "markdown",
   "id": "943b4a0c-d6a1-468a-89ee-0d52a70fcb1d",
   "metadata": {
    "jp-MarkdownHeadingCollapsed": true,
    "tags": []
   },
   "source": [
    "# 11050 bronze 1"
   ]
  },
  {
   "cell_type": "markdown",
   "id": "49101f27-a30b-466f-adc8-71c25f96ccab",
   "metadata": {
    "jp-MarkdownHeadingCollapsed": true,
    "tags": []
   },
   "source": [
    "## try 1"
   ]
  },
  {
   "cell_type": "code",
   "execution_count": 39,
   "id": "e62005ba-4074-4b33-9ef9-d7a369530bca",
   "metadata": {
    "tags": []
   },
   "outputs": [
    {
     "name": "stdout",
     "output_type": "stream",
     "text": [
      "10\n"
     ]
    }
   ],
   "source": [
    "import sys\n",
    "N,K = map(int,sys.stdin.readline().split())\n",
    "def factorial(num):\n",
    "    if (num ==1) or(num == 0):\n",
    "        return 1\n",
    "    return num * factorial(num-1)\n",
    "print(int(factorial(N) / (factorial(N-K) * factorial(K))))"
   ]
  },
  {
   "cell_type": "code",
   "execution_count": 37,
   "id": "dbd2b763-8588-4c71-b98c-86e83d4efd52",
   "metadata": {
    "tags": []
   },
   "outputs": [
    {
     "data": {
      "text/plain": [
       "6"
      ]
     },
     "execution_count": 37,
     "metadata": {},
     "output_type": "execute_result"
    }
   ],
   "source": [
    "factorial(3)"
   ]
  },
  {
   "cell_type": "markdown",
   "id": "2a8377cf-9b47-4f14-9a7e-af5db879a89d",
   "metadata": {
    "jp-MarkdownHeadingCollapsed": true,
    "tags": []
   },
   "source": [
    "## try 2"
   ]
  },
  {
   "cell_type": "code",
   "execution_count": 9,
   "id": "3e9883e0-4d40-4508-8437-4e7da9b7bad1",
   "metadata": {
    "tags": []
   },
   "outputs": [
    {
     "name": "stdout",
     "output_type": "stream",
     "text": [
      "10\n"
     ]
    }
   ],
   "source": [
    "import sys\n",
    "N,K = map(int,sys.stdin.readline().split())\n",
    "def factorial(num):\n",
    "    if num ==0:\n",
    "        return 1\n",
    "    first = 1\n",
    "    for i in range(1,num+1):\n",
    "        first *= i\n",
    "    return first\n",
    "print(factorial(N) // (factorial(N-K) * factorial(K)))"
   ]
  },
  {
   "cell_type": "code",
   "execution_count": 2,
   "id": "eba952c2-89be-42b2-804b-a03dbdd06fbb",
   "metadata": {
    "tags": []
   },
   "outputs": [
    {
     "name": "stdout",
     "output_type": "stream",
     "text": [
      "5\n",
      "4\n",
      "3\n",
      "2\n"
     ]
    }
   ],
   "source": [
    "for i in range(5,1,-1):\n",
    "    print(i)"
   ]
  },
  {
   "cell_type": "markdown",
   "id": "28160c7c-9660-4575-9fc5-7a362ebd24a4",
   "metadata": {
    "jp-MarkdownHeadingCollapsed": true,
    "tags": []
   },
   "source": [
    "# 11650 silver 5"
   ]
  },
  {
   "cell_type": "code",
   "execution_count": 25,
   "id": "e8fb3974-4f9b-46fb-8c2f-28ec5c9f57b8",
   "metadata": {
    "tags": []
   },
   "outputs": [
    {
     "name": "stdout",
     "output_type": "stream",
     "text": [
      "12 10\n",
      "100 10\n"
     ]
    }
   ],
   "source": [
    "import sys\n",
    "num = int(sys.stdin.readline())\n",
    "temp = []\n",
    "for _ in range(num):\n",
    "    N,K = map(int,sys.stdin.readline().split())\n",
    "    temp.append([N,K])\n",
    "temp = [[100,10],[12,10]]\n",
    "temp = sorted(temp, key = lambda x: (x[0],x[1]))\n",
    "for i in temp:\n",
    "    print(i[0],i[1])"
   ]
  },
  {
   "cell_type": "markdown",
   "id": "960bc439-ce1d-43b5-a82c-851b096a3b7f",
   "metadata": {
    "jp-MarkdownHeadingCollapsed": true,
    "tags": []
   },
   "source": [
    "# 18110 silver 4"
   ]
  },
  {
   "cell_type": "code",
   "execution_count": 121,
   "id": "b19849ac-362a-44e1-b545-6b48fb34a187",
   "metadata": {
    "tags": []
   },
   "outputs": [
    {
     "name": "stdout",
     "output_type": "stream",
     "text": [
      "1\n"
     ]
    }
   ],
   "source": [
    "import sys\n",
    "num = int(sys.stdin.readline())\n",
    "def round_real(num):\n",
    "    if num - int(num) >= 0.5:\n",
    "        return int(num) + 1\n",
    "    else:\n",
    "        return int(num)\n",
    "    \n",
    "if num:\n",
    "    difficulty = []\n",
    "    for i in range(num):\n",
    "        difficulty.append(int(sys.stdin.readline()))\n",
    "    difficulty.sort()\n",
    "    \n",
    "    num = num*0.15\n",
    "    de = round_real(num)\n",
    "    \n",
    "    len_de = len(difficulty)-de\n",
    "    \n",
    "    avg = sum(difficulty[de:len_de]) / (len_de-de)\n",
    "    \n",
    "    avg = round_real(avg)\n",
    "    print(int(avg))\n",
    "else:\n",
    "    print(0)"
   ]
  }
 ],
 "metadata": {
  "kernelspec": {
   "display_name": "Python 3 (ipykernel)",
   "language": "python",
   "name": "python3"
  },
  "language_info": {
   "codemirror_mode": {
    "name": "ipython",
    "version": 3
   },
   "file_extension": ".py",
   "mimetype": "text/x-python",
   "name": "python",
   "nbconvert_exporter": "python",
   "pygments_lexer": "ipython3",
   "version": "3.11.4"
  }
 },
 "nbformat": 4,
 "nbformat_minor": 5
}
