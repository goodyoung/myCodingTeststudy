{
 "cells": [
  {
   "cell_type": "code",
   "execution_count": 18,
   "id": "8bcef2ee-7361-4496-91fd-29350bf596a7",
   "metadata": {
    "tags": []
   },
   "outputs": [],
   "source": [
    "#bronze 3"
   ]
  },
  {
   "cell_type": "code",
   "execution_count": 16,
   "id": "11d1c711-9ef3-4870-9a2e-9e2ed2c4f954",
   "metadata": {
    "tags": []
   },
   "outputs": [
    {
     "name": "stdin",
     "output_type": "stream",
     "text": [
      " 10\n"
     ]
    }
   ],
   "source": [
    "star = int(input())"
   ]
  },
  {
   "cell_type": "code",
   "execution_count": 17,
   "id": "41db5244-7ac6-45e3-8611-0050ff9bf402",
   "metadata": {
    "tags": []
   },
   "outputs": [
    {
     "name": "stdout",
     "output_type": "stream",
     "text": [
      "*******************\n",
      " *****************\n",
      "  ***************\n",
      "   *************\n",
      "    ***********\n",
      "     *********\n",
      "      *******\n",
      "       *****\n",
      "        ***\n",
      "         *\n"
     ]
    }
   ],
   "source": [
    "for i,j in enumerate(range((star*2-1), 0 , -2)):\n",
    "    print(' '*i,end = '')\n",
    "    print('*'*j)"
   ]
  },
  {
   "cell_type": "code",
   "execution_count": 19,
   "id": "736ad274-1d05-48f0-a068-f59a6a8138ba",
   "metadata": {
    "tags": []
   },
   "outputs": [],
   "source": [
    "#bronze 2"
   ]
  },
  {
   "cell_type": "code",
   "execution_count": 26,
   "id": "53e7d28b-fa5a-410c-9a14-d2db8abdd79a",
   "metadata": {
    "tags": []
   },
   "outputs": [],
   "source": [
    "text1 =  'The last character is a blank'"
   ]
  },
  {
   "cell_type": "code",
   "execution_count": 35,
   "id": "93dff595-302c-4070-b6e0-a1577a0000b2",
   "metadata": {
    "tags": []
   },
   "outputs": [
    {
     "name": "stdin",
     "output_type": "stream",
     "text": [
      " The last character is a blank\n"
     ]
    },
    {
     "name": "stdout",
     "output_type": "stream",
     "text": [
      "6\n"
     ]
    }
   ],
   "source": [
    "text = input()\n",
    "print(len(text.split()))"
   ]
  },
  {
   "cell_type": "code",
   "execution_count": 38,
   "id": "1180ffdd-8713-464f-b95c-ec47aa763da0",
   "metadata": {
    "tags": []
   },
   "outputs": [
    {
     "data": {
      "text/plain": [
       "1107.5584"
      ]
     },
     "execution_count": 38,
     "metadata": {},
     "output_type": "execute_result"
    }
   ],
   "source": [
    "((52**2) * (16**2)) / (25**2)"
   ]
  },
  {
   "cell_type": "code",
   "execution_count": 39,
   "id": "3c156be7-113b-4b6c-8807-db21cc1d8c90",
   "metadata": {
    "tags": []
   },
   "outputs": [
    {
     "data": {
      "text/plain": [
       "33.28"
      ]
     },
     "execution_count": 39,
     "metadata": {},
     "output_type": "execute_result"
    }
   ],
   "source": [
    "(1107.5584)**(1/2)"
   ]
  },
  {
   "cell_type": "code",
   "execution_count": 40,
   "id": "dbc7140c-5879-437c-86ac-103d70e20578",
   "metadata": {
    "tags": []
   },
   "outputs": [
    {
     "data": {
      "text/plain": [
       "15.076923076923077"
      ]
     },
     "execution_count": 40,
     "metadata": {},
     "output_type": "execute_result"
    }
   ],
   "source": [
    "196/13"
   ]
  },
  {
   "cell_type": "code",
   "execution_count": 42,
   "id": "5752512b-4a76-40be-a9f0-d87f7596b907",
   "metadata": {
    "tags": []
   },
   "outputs": [
    {
     "data": {
      "text/plain": [
       "3.882901373576604"
      ]
     },
     "execution_count": 42,
     "metadata": {},
     "output_type": "execute_result"
    }
   ],
   "source": [
    "(15.076923076923077)**(1/2)"
   ]
  },
  {
   "cell_type": "code",
   "execution_count": 19,
   "id": "dd9b1d43-a392-47cd-aa2e-5716ba9c8603",
   "metadata": {
    "tags": []
   },
   "outputs": [],
   "source": [
    "#bronze 2"
   ]
  },
  {
   "cell_type": "code",
   "execution_count": 108,
   "id": "9c3f5178-8f83-407e-ba42-742aedad1bba",
   "metadata": {
    "tags": []
   },
   "outputs": [
    {
     "name": "stdin",
     "output_type": "stream",
     "text": [
      " 11 15 16\n"
     ]
    },
    {
     "name": "stdout",
     "output_type": "stream",
     "text": [
      "7 8\n"
     ]
    }
   ],
   "source": [
    "h,w = 0,0\n",
    "text = input().split()\n",
    "dia, height_1, width_1 = int(text[0]),int(text[1]),int(text[2])\n",
    "\n",
    "num1 = ((height_1/width_1)**2 + 1)\n",
    "w = (dia**2 / num1)**(1/2)\n",
    "h = ((dia**2) - (w**2))**(1/2)\n",
    "w,h = int(w), int(h)\n",
    "print(h,w)"
   ]
  },
  {
   "cell_type": "code",
   "execution_count": 19,
   "id": "cdcf2e91-f47b-4afb-8244-eac3cdcfbaba",
   "metadata": {
    "tags": []
   },
   "outputs": [],
   "source": [
    "#bronze 1"
   ]
  },
  {
   "cell_type": "code",
   "execution_count": 117,
   "id": "72807ada-e259-4553-80f3-12c0e0026f3b",
   "metadata": {
    "tags": []
   },
   "outputs": [
    {
     "name": "stdin",
     "output_type": "stream",
     "text": [
      " 2 2\n"
     ]
    },
    {
     "name": "stdout",
     "output_type": "stream",
     "text": [
      "3\n"
     ]
    }
   ],
   "source": [
    "a,b = map(int, input().split())\n",
    "s = (a*b)-1\n",
    "print(s)"
   ]
  },
  {
   "cell_type": "code",
   "execution_count": 188,
   "id": "477cb42c-fca8-43b5-8c91-41d08c5db68c",
   "metadata": {
    "tags": []
   },
   "outputs": [
    {
     "name": "stdin",
     "output_type": "stream",
     "text": [
      " 1 3 5\n"
     ]
    },
    {
     "data": {
      "text/plain": [
       "[1, 3, 5]"
      ]
     },
     "execution_count": 188,
     "metadata": {},
     "output_type": "execute_result"
    }
   ],
   "source": [
    "list(map(int, input().split()))"
   ]
  },
  {
   "cell_type": "code",
   "execution_count": 19,
   "id": "30930fe9-ba21-4c7c-ab00-3ade5bfc7ecf",
   "metadata": {
    "tags": []
   },
   "outputs": [],
   "source": [
    "#bronze 1"
   ]
  },
  {
   "cell_type": "code",
   "execution_count": 154,
   "id": "9986feb9-7d47-4001-ba09-a919599644ef",
   "metadata": {
    "tags": []
   },
   "outputs": [
    {
     "name": "stdin",
     "output_type": "stream",
     "text": [
      " 71\n"
     ]
    },
    {
     "name": "stdout",
     "output_type": "stream",
     "text": [
      "12\n"
     ]
    }
   ],
   "source": [
    "s = input()\n",
    "temp,tot = 0,-1\n",
    "a = int(s[0])\n",
    "if len(s) ==2:\n",
    "    b = int(s[1])\n",
    "else:\n",
    "    b = 0\n",
    "    \n",
    "original = 10*a+b\n",
    "while True:\n",
    "    if original == tot:\n",
    "        print(temp)\n",
    "        break\n",
    "    if temp:\n",
    "        a = tot//10\n",
    "        b = tot % 10\n",
    "    ret1 = a+b\n",
    "    \n",
    "    new1 = b\n",
    "    new2 = ret1%10\n",
    "    \n",
    "    tot = 10*new1 + new2\n",
    "    temp +=1"
   ]
  },
  {
   "cell_type": "code",
   "execution_count": null,
   "id": "d7a5238a-06a2-4ec8-9eef-fa8a83de3401",
   "metadata": {},
   "outputs": [],
   "source": [
    "#silver 5"
   ]
  },
  {
   "cell_type": "code",
   "execution_count": 135,
   "id": "933fb9be-0554-44e0-bdfb-bcd22cd27f6e",
   "metadata": {
    "collapsed": true,
    "jupyter": {
     "outputs_hidden": true
    },
    "tags": []
   },
   "outputs": [
    {
     "name": "stdin",
     "output_type": "stream",
     "text": [
      " 13\n",
      " but\n",
      " i\n",
      " wont\n",
      " hesitate\n",
      " no\n",
      " more\n",
      " no\n",
      " more\n",
      " it\n",
      " cannot\n",
      " wait\n",
      " im\n",
      " yours\n"
     ]
    },
    {
     "name": "stdout",
     "output_type": "stream",
     "text": [
      "i\n",
      "im\n",
      "it\n",
      "no\n",
      "but\n",
      "more\n",
      "wait\n",
      "wont\n",
      "yours\n",
      "cannot\n",
      "hesitate\n"
     ]
    }
   ],
   "source": [
    "n = int(input())\n",
    "\n",
    "tes = []\n",
    "for _ in range(n):\n",
    "    word = str(input())\n",
    "    tes.append(word)\n",
    "\n",
    "tes = list(set(tes))\n",
    "\n",
    "for i in range(len(tes)-1):\n",
    "    for j in range(len(tes) - i-1):\n",
    "        a,b = len(tes[j]), len(tes[j+1])\n",
    "        if a > b:\n",
    "            tes[j], tes[j+1] = tes[j+1], tes[j]\n",
    "        elif (a == b):\n",
    "            s = [tes[j], tes[j+1]]\n",
    "            s.sort()\n",
    "            tes[j],tes[j+1] = s[0], s[1]\n",
    "for h in tes:\n",
    "    print(h)"
   ]
  },
  {
   "cell_type": "code",
   "execution_count": 137,
   "id": "789de2da-2231-4186-8c91-cabca4905fcd",
   "metadata": {
    "tags": []
   },
   "outputs": [
    {
     "ename": "ValueError",
     "evalue": "invalid literal for int() with base 10: ''",
     "output_type": "error",
     "traceback": [
      "\u001b[0;31m---------------------------------------------------------------------------\u001b[0m",
      "\u001b[0;31mValueError\u001b[0m                                Traceback (most recent call last)",
      "Cell \u001b[0;32mIn[137], line 3\u001b[0m\n\u001b[1;32m      1\u001b[0m \u001b[38;5;28;01mimport\u001b[39;00m \u001b[38;5;21;01msys\u001b[39;00m\n\u001b[0;32m----> 3\u001b[0m n \u001b[38;5;241m=\u001b[39m \u001b[38;5;28;43mint\u001b[39;49m\u001b[43m(\u001b[49m\u001b[43msys\u001b[49m\u001b[38;5;241;43m.\u001b[39;49m\u001b[43mstdin\u001b[49m\u001b[38;5;241;43m.\u001b[39;49m\u001b[43mreadline\u001b[49m\u001b[43m(\u001b[49m\u001b[43m)\u001b[49m\u001b[43m)\u001b[49m\n\u001b[1;32m      4\u001b[0m lst \u001b[38;5;241m=\u001b[39m []\n\u001b[1;32m      6\u001b[0m \u001b[38;5;28;01mfor\u001b[39;00m i \u001b[38;5;129;01min\u001b[39;00m \u001b[38;5;28mrange\u001b[39m(n):\n",
      "\u001b[0;31mValueError\u001b[0m: invalid literal for int() with base 10: ''"
     ]
    }
   ],
   "source": [
    "import sys\n",
    "\n",
    "n = int(sys.stdin.readline())\n",
    "lst = []\n",
    "\n",
    "for i in range(n):\n",
    "    lst.append(sys.stdin.readline().strip())\n",
    "set_lst = set(lst)\n",
    "lst = list(set_lst)\n",
    "lst.sort()\n",
    "lst.sort(key = len)\n",
    "\n",
    "for i in lst:\n",
    "    print(i)"
   ]
  },
  {
   "cell_type": "code",
   "execution_count": null,
   "id": "cf132ed7-f8a5-4801-abde-d0b50de41b83",
   "metadata": {},
   "outputs": [],
   "source": [
    "#bronze2 1987"
   ]
  },
  {
   "cell_type": "code",
   "execution_count": 186,
   "id": "dd7a617a-e45c-495b-b3b8-f431c22a652f",
   "metadata": {
    "tags": []
   },
   "outputs": [
    {
     "name": "stdout",
     "output_type": "stream",
     "text": [
      "25 5\n",
      "소수가 이다..?\n",
      "64 2\n",
      "소수가 이다..?\n",
      "4\n"
     ]
    }
   ],
   "source": [
    "n = int(input())\n",
    "arr = list(map(int, input().split()))\n",
    "ret = 0\n",
    "for i in arr:\n",
    "    if i==1:\n",
    "        ret +=1\n",
    "    for j in range(1,i):        \n",
    "        if  (j!= 1)&(i % j == 0):\n",
    "            ret +=1\n",
    "            break\n",
    "print(len(arr) - ret)        "
   ]
  },
  {
   "cell_type": "code",
   "execution_count": null,
   "id": "3dc74986-def2-456e-80c1-e05588718431",
   "metadata": {},
   "outputs": [],
   "source": [
    "#bronze1 2775"
   ]
  },
  {
   "cell_type": "code",
   "execution_count": 144,
   "id": "25c707cb-5462-431a-ae9a-aa6210dd37e3",
   "metadata": {
    "tags": []
   },
   "outputs": [
    {
     "name": "stdin",
     "output_type": "stream",
     "text": [
      " 2\n",
      " 1\n",
      " 3\n",
      " 2\n",
      " 3\n"
     ]
    },
    {
     "name": "stdout",
     "output_type": "stream",
     "text": [
      "6\n",
      "10\n"
     ]
    }
   ],
   "source": [
    "t = int(input())\n",
    "result = []\n",
    "for _ in range(t):\n",
    "    floor = int(input())\n",
    "    ho = int(input())\n",
    "    \n",
    "    floor0 = [j for j in range(1,ho+1)]\n",
    "    \n",
    "    for _ in range(floor-1):\n",
    "        test = [1]\n",
    "        for i,_ in enumerate(floor0):\n",
    "            if i!=0:\n",
    "                test.append(sum(floor0[:i+1]))\n",
    "        floor0 = test\n",
    "    result.append(sum(floor0))\n",
    "\n",
    "for i in result:\n",
    "    print(i)"
   ]
  },
  {
   "cell_type": "code",
   "execution_count": null,
   "id": "b12891b2-17d0-4035-80a6-01048011e2d3",
   "metadata": {},
   "outputs": [],
   "source": [
    "#bronze5 1000 ,1001,1008"
   ]
  },
  {
   "cell_type": "code",
   "execution_count": 267,
   "id": "ced61ffd-81cc-4aa9-a209-58ff1128298a",
   "metadata": {
    "tags": []
   },
   "outputs": [
    {
     "name": "stdin",
     "output_type": "stream",
     "text": [
      " 4 5\n"
     ]
    },
    {
     "name": "stdout",
     "output_type": "stream",
     "text": [
      "0.8\n"
     ]
    }
   ],
   "source": [
    "a,b = map(int, input().split())\n",
    "print(a/b)"
   ]
  },
  {
   "cell_type": "code",
   "execution_count": 265,
   "id": "65b02a4d-6667-4fe8-8df1-5a12e8465c30",
   "metadata": {
    "tags": []
   },
   "outputs": [
    {
     "name": "stdout",
     "output_type": "stream",
     "text": [
      "4\n"
     ]
    }
   ],
   "source": [
    "print(a+b)"
   ]
  },
  {
   "cell_type": "code",
   "execution_count": 268,
   "id": "ca944dbb-00ae-4bed-aa96-27560802cb17",
   "metadata": {
    "tags": []
   },
   "outputs": [
    {
     "name": "stdin",
     "output_type": "stream",
     "text": [
      " 5\n"
     ]
    }
   ],
   "source": [
    "a = int(input())"
   ]
  },
  {
   "cell_type": "code",
   "execution_count": 270,
   "id": "cebe584c-5552-4053-befa-071c6f1ead45",
   "metadata": {
    "tags": []
   },
   "outputs": [
    {
     "name": "stdout",
     "output_type": "stream",
     "text": [
      "*\n",
      "**\n",
      "***\n",
      "****\n",
      "*****\n"
     ]
    }
   ],
   "source": [
    "a = int(input())\n",
    "for i in range(1,a+1):\n",
    "    print('*'*i)"
   ]
  },
  {
   "cell_type": "code",
   "execution_count": null,
   "id": "15a2d98a-b61c-48d7-9fa6-6be20a0e467b",
   "metadata": {},
   "outputs": [],
   "source": [
    "#bronze 1 1546"
   ]
  },
  {
   "cell_type": "code",
   "execution_count": 286,
   "id": "b99cbaa9-4cd1-4063-9ca4-ed890a705dbf",
   "metadata": {
    "tags": []
   },
   "outputs": [
    {
     "name": "stdout",
     "output_type": "stream",
     "text": [
      "75.0\n"
     ]
    }
   ],
   "source": [
    "s = int(input())\n",
    "g = list(map(int, input().split()))\n",
    "maxint = max(g)\n",
    "ret = []\n",
    "for i in g:\n",
    "    temp = (i/maxint)*100\n",
    "    ret.append(temp)\n",
    "print(sum(ret)/len(ret))"
   ]
  },
  {
   "cell_type": "markdown",
   "id": "6326b740-db6c-4e1e-a990-6746eb43b588",
   "metadata": {},
   "source": [
    "# fail"
   ]
  },
  {
   "cell_type": "code",
   "execution_count": null,
   "id": "e1fa2d78-3b8d-49b8-9e41-f1252efcb522",
   "metadata": {},
   "outputs": [],
   "source": [
    "#bronze1 2609 "
   ]
  },
  {
   "cell_type": "code",
   "execution_count": null,
   "id": "3097769c-669c-4f35-b719-7c93f9fcceb6",
   "metadata": {},
   "outputs": [],
   "source": [
    "1666 / 2666/ 3666 /4666/5666/ 6660/6662/6663/~6669/7666/8666/9666/10666/~11666~16661~16669/17666"
   ]
  },
  {
   "cell_type": "code",
   "execution_count": null,
   "id": "38b9cbc7-a12e-451d-9a26-72be7bb6dc22",
   "metadata": {},
   "outputs": [],
   "source": [
    "59666. / 60666/ 65666/. 66660"
   ]
  },
  {
   "cell_type": "code",
   "execution_count": null,
   "id": "0db8beb2-38a3-4541-9463-7adda5e719eb",
   "metadata": {},
   "outputs": [],
   "source": [
    "5666 6666 7666 6661"
   ]
  },
  {
   "cell_type": "code",
   "execution_count": 344,
   "id": "b25edd97-851c-40ee-b0d5-0e773ca0dc0e",
   "metadata": {
    "tags": []
   },
   "outputs": [
    {
     "name": "stdin",
     "output_type": "stream",
     "text": [
      " 187\n"
     ]
    }
   ],
   "source": [
    "first_num = 0\n",
    "jong = '666'\n",
    "last_num = 0 #계속 순환\n",
    "result = ''\n",
    "s = int(input())"
   ]
  },
  {
   "cell_type": "code",
   "execution_count": 345,
   "id": "73dfbb0a-f435-4f28-8370-3428f0316af3",
   "metadata": {
    "tags": []
   },
   "outputs": [
    {
     "name": "stdout",
     "output_type": "stream",
     "text": [
      "96669\n"
     ]
    }
   ],
   "source": [
    "for i in range(s):\n",
    "\n",
    "    if (str(first_num)[-1] =='6'):\n",
    "\n",
    "        if first_num >=10:\n",
    "            result = str(first_num)[:-1] + jong + str(last_num)\n",
    "        else:\n",
    "            result = jong + str(last_num)\n",
    "        last_num +=1\n",
    "        if last_num == 10:\n",
    "            last_num = 0\n",
    "            first_num +=1\n",
    "    else:\n",
    "        result = str(first_num)+jong\n",
    "        first_num +=1\n",
    "print(result)    "
   ]
  },
  {
   "cell_type": "code",
   "execution_count": 1,
   "id": "05c1210c-fbaf-420d-bce2-74a7e3951a78",
   "metadata": {
    "tags": []
   },
   "outputs": [],
   "source": [
    "#bronze 1 1259 "
   ]
  },
  {
   "cell_type": "code",
   "execution_count": null,
   "id": "b0a93d42-2e61-466b-81c1-7b605724f508",
   "metadata": {},
   "outputs": [],
   "source": [
    "while True:\n",
    "    s = str(input())\n",
    "    \n",
    "    if s == \"0\":\n",
    "        break\n",
    "\n",
    "    if s == s[::-1]:\n",
    "        print(\"yes\")\n",
    "    else:\n",
    "        print('no')"
   ]
  },
  {
   "cell_type": "code",
   "execution_count": 117,
   "id": "7b8d3fb8-07da-44ba-bcc5-e4cb7882a24b",
   "metadata": {
    "tags": []
   },
   "outputs": [
    {
     "name": "stdin",
     "output_type": "stream",
     "text": [
      " 123\n"
     ]
    },
    {
     "name": "stdout",
     "output_type": "stream",
     "text": [
      "no\n"
     ]
    },
    {
     "name": "stdin",
     "output_type": "stream",
     "text": [
      " 12321\n"
     ]
    },
    {
     "name": "stdout",
     "output_type": "stream",
     "text": [
      "yes\n"
     ]
    },
    {
     "name": "stdin",
     "output_type": "stream",
     "text": [
      " 0\n"
     ]
    }
   ],
   "source": [
    "while True:\n",
    "    s = str(input())\n",
    "    \n",
    "    if s == \"0\":\n",
    "        break\n",
    "    g = list(s)\n",
    "    g.reverse()\n",
    "    felin_b = ''.join(g)\n",
    "    if s == felin_b:\n",
    "        print('yes')\n",
    "    else:\n",
    "        print('no')"
   ]
  },
  {
   "cell_type": "code",
   "execution_count": 23,
   "id": "09779271-9912-4187-a1d9-638c773da160",
   "metadata": {
    "tags": []
   },
   "outputs": [
    {
     "name": "stdin",
     "output_type": "stream",
     "text": [
      " 121\n"
     ]
    },
    {
     "name": "stdout",
     "output_type": "stream",
     "text": [
      "yes\n"
     ]
    },
    {
     "name": "stdin",
     "output_type": "stream",
     "text": [
      " 1231\n"
     ]
    },
    {
     "name": "stdout",
     "output_type": "stream",
     "text": [
      "no\n"
     ]
    },
    {
     "name": "stdin",
     "output_type": "stream",
     "text": [
      " 12421\n"
     ]
    },
    {
     "name": "stdout",
     "output_type": "stream",
     "text": [
      "yes\n"
     ]
    },
    {
     "name": "stdin",
     "output_type": "stream",
     "text": [
      " 0\n"
     ]
    }
   ],
   "source": [
    "# reverse 말고 if문 양 끝 비교\n",
    "while True:\n",
    "    s = str(input())\n",
    "    if s == \"0\":\n",
    "        break\n",
    "    g = list(s)\n",
    "    for _  in g:\n",
    "        \n",
    "        if (len(g) == 0) | (len(g) == 1):\n",
    "            print('yes')\n",
    "            break\n",
    "            \n",
    "        if g[0] == g[-1]:\n",
    "            g= g[1:]\n",
    "            g= g[:-1]\n",
    "        else:\n",
    "            print('no')\n",
    "            break"
   ]
  },
  {
   "cell_type": "code",
   "execution_count": 9,
   "id": "a193a838-b9bd-488b-bcc9-786d02674903",
   "metadata": {
    "tags": []
   },
   "outputs": [],
   "source": [
    "s = ['1', '2', '1']\n"
   ]
  },
  {
   "cell_type": "code",
   "execution_count": 15,
   "id": "36eb854c-5834-404b-8b7e-7b1e8107fcbb",
   "metadata": {
    "tags": []
   },
   "outputs": [],
   "source": [
    "s  = s[1:]"
   ]
  },
  {
   "cell_type": "code",
   "execution_count": 16,
   "id": "fda6163d-0368-4c72-8a60-f693ed366528",
   "metadata": {
    "tags": []
   },
   "outputs": [
    {
     "data": {
      "text/plain": [
       "['2', '1']"
      ]
     },
     "execution_count": 16,
     "metadata": {},
     "output_type": "execute_result"
    }
   ],
   "source": [
    "s"
   ]
  },
  {
   "cell_type": "code",
   "execution_count": 17,
   "id": "57674691-0e0d-475a-93bb-95fa967680dc",
   "metadata": {
    "tags": []
   },
   "outputs": [],
   "source": [
    "s = s[:-1]"
   ]
  },
  {
   "cell_type": "code",
   "execution_count": 18,
   "id": "b4b0972f-49cc-42cf-adfc-ac491f7cb003",
   "metadata": {
    "tags": []
   },
   "outputs": [
    {
     "data": {
      "text/plain": [
       "['2']"
      ]
     },
     "execution_count": 18,
     "metadata": {},
     "output_type": "execute_result"
    }
   ],
   "source": [
    "s"
   ]
  },
  {
   "cell_type": "code",
   "execution_count": null,
   "id": "a79c184d-6177-4f5c-b2cd-93873ee0343c",
   "metadata": {},
   "outputs": [],
   "source": []
  },
  {
   "cell_type": "code",
   "execution_count": null,
   "id": "affbe0e0-eccd-4307-9a7b-85b9d94f6700",
   "metadata": {},
   "outputs": [],
   "source": []
  },
  {
   "cell_type": "code",
   "execution_count": null,
   "id": "ae54953a-0647-492c-88d5-5027cd81de1c",
   "metadata": {},
   "outputs": [],
   "source": []
  },
  {
   "cell_type": "code",
   "execution_count": 1,
   "id": "822bc690-b15a-40db-8a77-f4d128e45c9a",
   "metadata": {
    "tags": []
   },
   "outputs": [],
   "source": [
    "f = [1,2,3,4,5]"
   ]
  },
  {
   "cell_type": "code",
   "execution_count": 6,
   "id": "1c9795ce-fb84-4b9b-bfcb-356dc4473e19",
   "metadata": {
    "tags": []
   },
   "outputs": [
    {
     "data": {
      "text/plain": [
       "1"
      ]
     },
     "execution_count": 6,
     "metadata": {},
     "output_type": "execute_result"
    }
   ],
   "source": [
    "f.pop(0)"
   ]
  },
  {
   "cell_type": "code",
   "execution_count": null,
   "id": "d3b5c6d1-2d18-423a-ae19-7633264a7dd2",
   "metadata": {},
   "outputs": [],
   "source": [
    "#bronze 1 2869 "
   ]
  },
  {
   "cell_type": "code",
   "execution_count": 142,
   "id": "d983a3bf-7fb1-49ea-91c5-66cfc25ee918",
   "metadata": {
    "tags": []
   },
   "outputs": [
    {
     "name": "stdout",
     "output_type": "stream",
     "text": [
      "999999901\n"
     ]
    }
   ],
   "source": [
    "import sys\n",
    "a, b, v = map(int,sys.stdin.readline().split())\n",
    "c= v-a\n",
    "if c % (a-b) !=0:\n",
    "    ret = int(c / (a-b)) +1\n",
    "else:\n",
    "    ret = int(c / (a-b))\n",
    "print(ret+1)"
   ]
  },
  {
   "cell_type": "code",
   "execution_count": null,
   "id": "24e2fab2-441d-412f-a5f0-eb835e97c60f",
   "metadata": {},
   "outputs": [],
   "source": []
  },
  {
   "cell_type": "code",
   "execution_count": null,
   "id": "88203333-f715-4851-b7b2-dab6caeb7fe1",
   "metadata": {},
   "outputs": [],
   "source": []
  },
  {
   "cell_type": "code",
   "execution_count": null,
   "id": "bf9b0262-762c-4055-932d-c619bd1e51af",
   "metadata": {},
   "outputs": [],
   "source": []
  }
 ],
 "metadata": {
  "kernelspec": {
   "display_name": "Python 3 (ipykernel)",
   "language": "python",
   "name": "python3"
  },
  "language_info": {
   "codemirror_mode": {
    "name": "ipython",
    "version": 3
   },
   "file_extension": ".py",
   "mimetype": "text/x-python",
   "name": "python",
   "nbconvert_exporter": "python",
   "pygments_lexer": "ipython3",
   "version": "3.11.5"
  }
 },
 "nbformat": 4,
 "nbformat_minor": 5
}
