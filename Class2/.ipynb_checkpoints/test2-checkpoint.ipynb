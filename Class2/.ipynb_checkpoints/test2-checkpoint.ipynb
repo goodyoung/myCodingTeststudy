{
 "cells": [
  {
   "cell_type": "code",
   "execution_count": 1,
   "id": "a8622b74-011e-4969-91a1-0eda8819a5a5",
   "metadata": {
    "tags": []
   },
   "outputs": [],
   "source": [
    "#bronze 3 4153"
   ]
  },
  {
   "cell_type": "code",
   "execution_count": null,
   "id": "544b541b-b23d-4dad-be8b-2a1c494a99af",
   "metadata": {},
   "outputs": [],
   "source": [
    "import sys\n",
    "while True:\n",
    "    a, b, v = map(int,sys.stdin.readline().split())\n",
    "    if 0 in [a,b,v]:\n",
    "        break\n",
    "    temp = [a,b,v]\n",
    "    ret = 0\n",
    "    for i in temp:\n",
    "        if i > ret:\n",
    "            ret = i\n",
    "    temp.remove(ret)\n",
    "    bools = ret**2 == temp[0]**2 + temp[1]**2\n",
    "    if not (bools):\n",
    "        print('wrong')\n",
    "    else:\n",
    "        print('right')"
   ]
  },
  {
   "cell_type": "markdown",
   "id": "4261ef00-ef05-4a76-88d7-92d18d2c562b",
   "metadata": {},
   "source": [
    "# fail"
   ]
  },
  {
   "cell_type": "code",
   "execution_count": null,
   "id": "2189f700-f1dc-4678-a791-06822151c66b",
   "metadata": {},
   "outputs": [],
   "source": [
    "#bronze 1 10989 "
   ]
  },
  {
   "cell_type": "code",
   "execution_count": null,
   "id": "7f78b257-a95a-4466-9c18-f2ed76adbbb4",
   "metadata": {},
   "outputs": [],
   "source": [
    "import sys\n",
    "n = int(sys.stdin.readline())\n",
    "data = [sys.stdin.readline().strip() for i in range(n)]\n",
    "for i in range(len(data)):\n",
    "    for j in range(len(data)-i-1):\n",
    "        if data[j] > data[j+1]:\n",
    "            data[j], data[j+1] = data[j+1], data[j]\n",
    "for j in data:\n",
    "    print(j)"
   ]
  },
  {
   "cell_type": "code",
   "execution_count": 74,
   "id": "3009fcf3-4c3e-4b9f-b6ef-eb5a6d537b38",
   "metadata": {
    "tags": []
   },
   "outputs": [],
   "source": [
    "#silver 5 7568"
   ]
  },
  {
   "cell_type": "code",
   "execution_count": 107,
   "id": "3e9612e1-715c-49c5-b82e-aad463cd0a35",
   "metadata": {
    "tags": []
   },
   "outputs": [
    {
     "name": "stdout",
     "output_type": "stream",
     "text": [
      "2 2 1 2 5 "
     ]
    }
   ],
   "source": [
    "import sys\n",
    "n = int(sys.stdin.readline())\n",
    "student = []\n",
    "for _ in range(n):\n",
    "    weight, height = map(int, sys.stdin.readline().split())\n",
    "    student.append((weight, height))\n",
    "    \n",
    "for i,_ in enumerate(student):\n",
    "    rank_num = 1\n",
    "    for j,_ in enumerate(student):\n",
    "        if i == j:\n",
    "            pass\n",
    "        elif (student[i][0] < student[j][0]) and (student[i][1] < student[j][1]):\n",
    "            rank_num +=1\n",
    "    print(rank_num, end = ' ')"
   ]
  },
  {
   "cell_type": "code",
   "execution_count": 162,
   "id": "009cdaf5-433b-4475-b8f4-40971854071f",
   "metadata": {
    "tags": []
   },
   "outputs": [
    {
     "name": "stdout",
     "output_type": "stream",
     "text": [
      "2 2 1 2 5 "
     ]
    }
   ],
   "source": [
    "import sys\n",
    "n = int(sys.stdin.readline())\n",
    "student = []\n",
    "for _ in range(n):\n",
    "    weight, height = map(int, sys.stdin.readline().split())\n",
    "    student.append((weight, height))\n",
    "for i in student:\n",
    "    rank_num = 1\n",
    "    for j in student:\n",
    "        if i == j:\n",
    "            pass\n",
    "        elif (i[0] < j[0]) and (i[1] < j[1]):\n",
    "            rank_num +=1\n",
    "    print(rank_num, end = ' ')"
   ]
  },
  {
   "cell_type": "code",
   "execution_count": null,
   "id": "c72a4c11-de91-4751-a5e7-503b02a008e0",
   "metadata": {},
   "outputs": [],
   "source": [
    "#bronze2  벌집"
   ]
  },
  {
   "cell_type": "code",
   "execution_count": 150,
   "id": "c1fc94ff-d9b9-4724-8bf3-8238a6ef6590",
   "metadata": {
    "tags": []
   },
   "outputs": [],
   "source": [
    "import sys"
   ]
  },
  {
   "cell_type": "code",
   "execution_count": 128,
   "id": "1e96434e-2dd8-404e-9f09-af97ba5f0f09",
   "metadata": {
    "tags": []
   },
   "outputs": [
    {
     "name": "stdout",
     "output_type": "stream",
     "text": [
      "1\n"
     ]
    }
   ],
   "source": [
    "answer = int(sys.stdin.readline())\n",
    "re =[]\n",
    "num,pattern = 1,6\n",
    "while True:\n",
    "    if answer == 1:\n",
    "        re.append(1)\n",
    "        break\n",
    "    if (len(re)  > 1):\n",
    "        if (re[-2]<answer<re[-1]):\n",
    "            break;\n",
    "    re.append(num)\n",
    "    num += pattern\n",
    "    pattern += 6\n",
    "    if answer == num:\n",
    "        re.append(num)\n",
    "        break;\n",
    "print(len(re))"
   ]
  },
  {
   "cell_type": "code",
   "execution_count": 159,
   "id": "9116c292-b912-468d-92b0-0c955a7a39a1",
   "metadata": {
    "tags": []
   },
   "outputs": [
    {
     "name": "stdout",
     "output_type": "stream",
     "text": [
      "5\n"
     ]
    }
   ],
   "source": [
    "answer = int(sys.stdin.readline())\n",
    "count, num, pattern = 1,1,6\n",
    "while answer > num:\n",
    "    num += pattern\n",
    "    pattern += 6\n",
    "    count +=1\n",
    "print(count)"
   ]
  },
  {
   "cell_type": "code",
   "execution_count": null,
   "id": "a10a5e7f-09ad-431b-9de7-bc02aa6e9542",
   "metadata": {},
   "outputs": [],
   "source": [
    "#bronze 1 2775"
   ]
  },
  {
   "cell_type": "code",
   "execution_count": 91,
   "id": "96d1902b-e7b6-4908-a18a-8d63b28d3aa6",
   "metadata": {
    "tags": []
   },
   "outputs": [
    {
     "name": "stdin",
     "output_type": "stream",
     "text": [
      " 2\n",
      " 1\n",
      " 3\n"
     ]
    },
    {
     "name": "stdout",
     "output_type": "stream",
     "text": [
      "6\n"
     ]
    },
    {
     "name": "stdin",
     "output_type": "stream",
     "text": [
      " 2\n",
      " 3\n"
     ]
    },
    {
     "name": "stdout",
     "output_type": "stream",
     "text": [
      "10\n"
     ]
    }
   ],
   "source": [
    "def su(li:list):\n",
    "    ret = 0\n",
    "    for i in li:\n",
    "        ret+=i\n",
    "    return ret\n",
    "\n",
    "t = int(input())\n",
    "result = []\n",
    "for _ in range(t):\n",
    "    floor = int(input())\n",
    "    ho = int(input())\n",
    "    \n",
    "    floor0 = [j for j in range(1,ho+1)]\n",
    "    \n",
    "    for _ in range(floor-1):\n",
    "        for i,k in enumerate(floor0):\n",
    "            if i!=0:\n",
    "                floor0[i]+=floor0[i-1]       \n",
    "    print(su(floor0))"
   ]
  },
  {
   "cell_type": "code",
   "execution_count": null,
   "id": "32f15e20-b9c3-4839-8e36-d714eb9f30d8",
   "metadata": {},
   "outputs": [],
   "source": []
  },
  {
   "cell_type": "code",
   "execution_count": null,
   "id": "3ae57d47-0a66-436f-98e9-8934a828136d",
   "metadata": {},
   "outputs": [],
   "source": [
    "#bronze 1085"
   ]
  },
  {
   "cell_type": "code",
   "execution_count": 176,
   "id": "eb41e14e-7034-4eb1-bec5-f2d085053a72",
   "metadata": {
    "collapsed": true,
    "jupyter": {
     "outputs_hidden": true
    },
    "tags": []
   },
   "outputs": [
    {
     "ename": "ValueError",
     "evalue": "not enough values to unpack (expected 4, got 0)",
     "output_type": "error",
     "traceback": [
      "\u001b[0;31m---------------------------------------------------------------------------\u001b[0m",
      "\u001b[0;31mValueError\u001b[0m                                Traceback (most recent call last)",
      "Cell \u001b[0;32mIn[176], line 2\u001b[0m\n\u001b[1;32m      1\u001b[0m \u001b[38;5;28;01mimport\u001b[39;00m \u001b[38;5;21;01msys\u001b[39;00m\n\u001b[0;32m----> 2\u001b[0m x,y,w,h \u001b[38;5;241m=\u001b[39m \u001b[38;5;28mmap\u001b[39m(\u001b[38;5;28mint\u001b[39m, sys\u001b[38;5;241m.\u001b[39mstdin\u001b[38;5;241m.\u001b[39mreadline()\u001b[38;5;241m.\u001b[39msplit())\n\u001b[1;32m      4\u001b[0m re_x, re_y\u001b[38;5;241m=\u001b[39m \u001b[38;5;241m0\u001b[39m,\u001b[38;5;241m0\u001b[39m\n\u001b[1;32m      6\u001b[0m \u001b[38;5;28;01mif\u001b[39;00m x \u001b[38;5;241m>\u001b[39m (w\u001b[38;5;241m/\u001b[39m\u001b[38;5;241m2\u001b[39m):\n",
      "\u001b[0;31mValueError\u001b[0m: not enough values to unpack (expected 4, got 0)"
     ]
    }
   ],
   "source": [
    "import sys\n",
    "x,y,w,h = map(int, sys.stdin.readline().split())\n",
    "\n",
    "if x > (w/2):\n",
    "    x = w-x    \n",
    "if y > (h/2):\n",
    "    y = h-y    \n",
    "if x > y:\n",
    "    print(y)\n",
    "else:\n",
    "    print(x)"
   ]
  },
  {
   "cell_type": "code",
   "execution_count": null,
   "id": "10389599-b099-4aef-bb71-589495fe617e",
   "metadata": {},
   "outputs": [],
   "source": []
  }
 ],
 "metadata": {
  "kernelspec": {
   "display_name": "Python 3 (ipykernel)",
   "language": "python",
   "name": "python3"
  },
  "language_info": {
   "codemirror_mode": {
    "name": "ipython",
    "version": 3
   },
   "file_extension": ".py",
   "mimetype": "text/x-python",
   "name": "python",
   "nbconvert_exporter": "python",
   "pygments_lexer": "ipython3",
   "version": "3.11.2"
  }
 },
 "nbformat": 4,
 "nbformat_minor": 5
}
