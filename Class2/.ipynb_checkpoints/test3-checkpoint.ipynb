{
 "cells": [
  {
   "cell_type": "code",
   "execution_count": null,
   "id": "518766c9-03c9-48d4-b7cd-523da14d1433",
   "metadata": {},
   "outputs": [],
   "source": [
    "#silver4 10773"
   ]
  },
  {
   "cell_type": "code",
   "execution_count": 116,
   "id": "acb79b24-9ab0-42b5-8f90-a9efd6553e66",
   "metadata": {
    "tags": []
   },
   "outputs": [
    {
     "name": "stdin",
     "output_type": "stream",
     "text": [
      " 3\n",
      " 0\n",
      " 4\n",
      " 0\n"
     ]
    },
    {
     "name": "stdout",
     "output_type": "stream",
     "text": [
      "0\n",
      "8.505698204040527\n"
     ]
    }
   ],
   "source": [
    "import time\n",
    "start = time.time()\n",
    "import sys\n",
    "# n = int(sys.stdin.readline())\n",
    "result = []\n",
    "for _ in range(n):\n",
    "    a = int(input())\n",
    "    if a == 0 :\n",
    "        result.pop()\n",
    "    else:\n",
    "        result.append(a)\n",
    "print(sum(result))\n",
    "print(time.time() - start)"
   ]
  },
  {
   "cell_type": "code",
   "execution_count": 117,
   "id": "9117c9ca-5b9d-4a5b-a815-9284607b965e",
   "metadata": {
    "tags": []
   },
   "outputs": [
    {
     "name": "stdin",
     "output_type": "stream",
     "text": [
      " 3\n",
      " 0\n",
      " 4\n",
      " 0\n"
     ]
    },
    {
     "name": "stdout",
     "output_type": "stream",
     "text": [
      "0\n",
      "4.891912937164307\n"
     ]
    }
   ],
   "source": [
    "import sys\n",
    "# n = int(sys.stdin.readline())\n",
    "start = time.time()\n",
    "result = []\n",
    "total = 0\n",
    "for _ in range(n):\n",
    "    num = int(input())\n",
    "    if num == 0:\n",
    "        temp = result.pop()\n",
    "        total -= temp\n",
    "    else:\n",
    "        result.append(num)\n",
    "        total += num\n",
    "print(total)\n",
    "print(time.time() - start)"
   ]
  },
  {
   "cell_type": "code",
   "execution_count": 71,
   "id": "21c90bbf-f343-4bd2-b9d9-824eca4b7ea6",
   "metadata": {
    "collapsed": true,
    "jupyter": {
     "outputs_hidden": true
    },
    "tags": []
   },
   "outputs": [
    {
     "name": "stdin",
     "output_type": "stream",
     "text": [
      " 1\n",
      " 3\n",
      " 5\n",
      " 4\n",
      " 0\n",
      " 0\n",
      " 7\n",
      " 0\n",
      " 0\n",
      " 6\n"
     ]
    },
    {
     "name": "stdout",
     "output_type": "stream",
     "text": [
      "7\n"
     ]
    }
   ],
   "source": [
    "from collections import deque\n",
    "import sys\n",
    "result = deque()\n",
    "total = 0\n",
    "for _ in range(n):\n",
    "    num = int(input())\n",
    "    if num == 0:\n",
    "        temp = result.pop()\n",
    "        total -= temp\n",
    "    else:\n",
    "        result.append(num)\n",
    "        total += num\n",
    "print(total)"
   ]
  },
  {
   "cell_type": "markdown",
   "id": "12bfb091-489d-4cb8-98f2-ee584a4f8cfa",
   "metadata": {},
   "source": [
    "# FAIL"
   ]
  },
  {
   "cell_type": "code",
   "execution_count": 72,
   "id": "ca507b76-4412-465b-8f78-a22a663343a4",
   "metadata": {
    "tags": []
   },
   "outputs": [],
   "source": [
    "#silver4 1920 "
   ]
  },
  {
   "cell_type": "code",
   "execution_count": null,
   "id": "9c456864-8741-4a01-a68c-0b96a7d311d0",
   "metadata": {},
   "outputs": [],
   "source": []
  },
  {
   "cell_type": "code",
   "execution_count": null,
   "id": "1e85a20e-0437-4744-bc5a-1f7edb86e3c9",
   "metadata": {},
   "outputs": [],
   "source": [
    "# 정수의 범위는 -231 보다 크거나 같고 231보다 작다.\n",
    "하하핳,,,ㅁ잗자ㅓㅣㅁㅈ다하"
   ]
  },
  {
   "cell_type": "code",
   "execution_count": 114,
   "id": "ec7a6a65-080a-44fb-90fa-0d3ce55d4ed8",
   "metadata": {
    "tags": []
   },
   "outputs": [
    {
     "name": "stdin",
     "output_type": "stream",
     "text": [
      " 5\n",
      " 1 2 3 -1 13\n",
      " 4\n",
      " 1 2 -1 0\n"
     ]
    },
    {
     "name": "stdout",
     "output_type": "stream",
     "text": [
      "1\n",
      "1\n",
      "1\n",
      "0\n"
     ]
    }
   ],
   "source": [
    "import sys\n",
    "li1 = [0] * 1000001\n",
    "li2 = [0] * 1000001\n",
    "n = int(input())\n",
    "answer = list(map(int,input().split()))\n",
    "n = int(input())\n",
    "pw = list(map(int,input().split()))\n",
    "\n",
    "for i in answer:\n",
    "    if i >= 0:\n",
    "        li1[i] = 1\n",
    "    else:\n",
    "        li2[i] = 1\n",
    "\n",
    "for s in pw:\n",
    "    if s >= 0:\n",
    "        if li1[s]==1:\n",
    "            print(1)\n",
    "        else:\n",
    "            print(0)\n",
    "    else:\n",
    "        if li2[s]==1:\n",
    "            print(1)\n",
    "        else:\n",
    "            print(0)"
   ]
  },
  {
   "cell_type": "code",
   "execution_count": null,
   "id": "4b628352-2dac-4bef-9fa9-f3f696d4ab17",
   "metadata": {},
   "outputs": [],
   "source": []
  },
  {
   "cell_type": "code",
   "execution_count": null,
   "id": "b0a2fc56-4d6a-4fea-8b58-76b34af6c06d",
   "metadata": {},
   "outputs": [],
   "source": []
  },
  {
   "cell_type": "code",
   "execution_count": null,
   "id": "a7cfbbf8-50cd-4448-ab99-dd88ae86e50c",
   "metadata": {},
   "outputs": [
    {
     "name": "stdin",
     "output_type": "stream",
     "text": [
      " 3\n",
      " 5\n"
     ]
    },
    {
     "name": "stdout",
     "output_type": "stream",
     "text": [
      "0\n"
     ]
    }
   ],
   "source": [
    "import sys\n",
    "ret = 0\n",
    "n = int(sys.stdin.readline())\n",
    "li = [0] * (n+1)\n",
    "for _ in range(2):\n",
    "    answer = list(map(int,input().split()))\n",
    "    if not (ret):\n",
    "        for i in answer:\n",
    "            li[i] = 1\n",
    "    else:\n",
    "        for s in answer:\n",
    "            if li[s]==1:\n",
    "                print(1)\n",
    "            else:\n",
    "                print(0)\n",
    "    ret+=1"
   ]
  },
  {
   "cell_type": "code",
   "execution_count": 95,
   "id": "3394ef69-a315-46c6-8759-b2926ea5a0d5",
   "metadata": {
    "tags": []
   },
   "outputs": [
    {
     "name": "stdin",
     "output_type": "stream",
     "text": [
      " 13 5 6 7\n"
     ]
    },
    {
     "data": {
      "text/plain": [
       "[13, 5, 6, 7]"
      ]
     },
     "execution_count": 95,
     "metadata": {},
     "output_type": "execute_result"
    }
   ],
   "source": [
    "list(map(int,input().split()))"
   ]
  },
  {
   "cell_type": "code",
   "execution_count": null,
   "id": "3d6ad5cc-8c65-4c59-9894-a28ff7b8d09d",
   "metadata": {},
   "outputs": [],
   "source": []
  },
  {
   "cell_type": "code",
   "execution_count": 96,
   "id": "cf6d5890-a641-4b97-a629-adce58a3e965",
   "metadata": {
    "tags": []
   },
   "outputs": [],
   "source": [
    "ans = [4, 1, 5, 2, 3]"
   ]
  },
  {
   "cell_type": "code",
   "execution_count": 97,
   "id": "d263e86a-4850-4b05-897f-29facdf01448",
   "metadata": {
    "tags": []
   },
   "outputs": [],
   "source": [
    "for i in answer:\n",
    "    li[i] = 1"
   ]
  },
  {
   "cell_type": "code",
   "execution_count": null,
   "id": "4655e678-c238-4d00-99e1-b2f42dd318af",
   "metadata": {},
   "outputs": [
    {
     "name": "stdout",
     "output_type": "stream",
     "text": [
      "1\n",
      "1\n",
      "0\n",
      "0\n",
      "1\n"
     ]
    }
   ],
   "source": [
    "for s in answer:\n",
    "    if li[s]==1:\n",
    "        print(1)\n",
    "    else:\n",
    "        print(0)"
   ]
  },
  {
   "cell_type": "code",
   "execution_count": null,
   "id": "d2938cf4-9187-40d5-8432-57f01e74b23a",
   "metadata": {},
   "outputs": [],
   "source": [
    "# 10866 silver 4"
   ]
  },
  {
   "cell_type": "code",
   "execution_count": 154,
   "id": "54ea56f5-8ddd-441b-a851-4fa93d068d56",
   "metadata": {
    "tags": []
   },
   "outputs": [],
   "source": [
    "ans = ['push_back 1',\n",
    "'push_front 2',\n",
    "'front',\n",
    "'back',\n",
    "'size',\n",
    "'empty',\n",
    "'pop_front',\n",
    "'pop_back',\n",
    "'pop_front',\n",
    "'size',\n",
    "'empty',\n",
    "'pop_back',\n",
    "'push_front 3',\n",
    "'empty',\n",
    "'front']\n",
    "ans = [\"front\",\n",
    "\"back\",\n",
    "\"pop_front\",\n",
    "\"pop_back\",\n",
    "\"push_front 1\",\n",
    "\"front\",\n",
    "\"pop_back\",\n",
    "\"push_back 2\",\n",
    "\"back\",\n",
    "\"pop_front\",\n",
    "\"push_front 10\",\n",
    "\"push_front 333\",\n",
    "\"front\",\n",
    "\"back\",\n",
    "\"pop_back\",\n",
    "\"pop_back\",\n",
    "\"push_back 20\",\n",
    "\"push_back 1234\",\n",
    "\"front\",\n",
    "\"back\",\n",
    "\"pop_back\",\n",
    "\"pop_back\"]"
   ]
  },
  {
   "cell_type": "code",
   "execution_count": 118,
   "id": "a80c3492-bbd3-4519-9eca-5c22aa2380b3",
   "metadata": {
    "tags": []
   },
   "outputs": [],
   "source": []
  },
  {
   "cell_type": "code",
   "execution_count": 158,
   "id": "881de246-6751-4128-90af-55258d55c08e",
   "metadata": {
    "tags": []
   },
   "outputs": [],
   "source": []
  },
  {
   "cell_type": "code",
   "execution_count": 157,
   "id": "b057c8cc-1664-41ab-a271-9b4ae71f954d",
   "metadata": {
    "tags": []
   },
   "outputs": [],
   "source": [
    "from collections import deque\n",
    "import sys\n",
    "\n",
    "d = deque()\n",
    "n = int(input())\n",
    "\n",
    "for i in range(n):\n",
    "    command = sys.stdin.readline().split()\n",
    "\n",
    "    if command[0] == \"push_front\":\n",
    "        d.appendleft(command[1])\n",
    "    elif command[0] == \"push_back\":\n",
    "        d.append(command[1])\n",
    "    elif command[0] == \"pop_front\":\n",
    "        if d:\n",
    "            print(d[0])    \n",
    "            d.popleft()\n",
    "        else:\n",
    "            print(\"-1\")\n",
    "    elif command[0] == \"pop_back\":\n",
    "        if d:\n",
    "            print(d[len(d) - 1])    \n",
    "            d.pop()\n",
    "        else:\n",
    "            print(\"-1\")\n",
    "    elif command[0] == \"size\":\n",
    "        print(len(d))\n",
    "    elif command[0] == \"empty\":\n",
    "        if d:\n",
    "            print(\"0\")\n",
    "        else:\n",
    "            print(\"1\")\n",
    "    elif command[0] == \"front\":\n",
    "        if d:\n",
    "            print(d[0])\n",
    "        else:\n",
    "            print(\"-1\")\n",
    "    elif command[0] == \"back\":\n",
    "        if d:\n",
    "            print(d[len(d) - 1])\n",
    "        else:\n",
    "            print(\"-1\")"
   ]
  },
  {
   "cell_type": "code",
   "execution_count": 159,
   "id": "2c6cd213-ad39-47a9-80c7-f300f17a561d",
   "metadata": {
    "collapsed": true,
    "jupyter": {
     "outputs_hidden": true
    },
    "tags": []
   },
   "outputs": [
    {
     "name": "stdout",
     "output_type": "stream",
     "text": [
      "-1\n",
      "-1\n",
      "-1\n",
      "-1\n",
      "1\n",
      "1\n",
      "2\n",
      "2\n",
      "333\n",
      "10\n",
      "10\n",
      "333\n",
      "20\n",
      "1234\n",
      "1234\n",
      "20\n"
     ]
    }
   ],
   "source": [
    "from collections import deque\n",
    "import sys\n",
    "n = int(sys.stdin.readline())\n",
    "result = deque()\n",
    "for _ in range(n):\n",
    "    ans = sys.stdin.readline().split()\n",
    "\n",
    "    if ans[0] == 'push_back':\n",
    "        result.append(ans[1])\n",
    "    elif ans[0] == 'push_front':\n",
    "        result.appendleft(ans[1])\n",
    "    elif ans[0] == 'pop_front':\n",
    "        if result:\n",
    "            print(result.popleft())\n",
    "        else:\n",
    "            print(-1)\n",
    "    elif ans[0] == 'pop_back':\n",
    "        if result:\n",
    "            print(result.pop())\n",
    "        else:\n",
    "            print(-1)\n",
    "            \n",
    "    elif ans[0] == 'size':\n",
    "        print(len(result))\n",
    "        \n",
    "    elif ans[0] == 'empty':\n",
    "        if (result):\n",
    "            print(0)\n",
    "        else:\n",
    "            print(1)\n",
    "    elif ans[0] == 'front':\n",
    "        if result:\n",
    "            print(result[0])\n",
    "        else:\n",
    "            print(-1)\n",
    "    elif ans[0] == 'back':\n",
    "        if result:\n",
    "            print(result[-1])\n",
    "        else:\n",
    "            print(-1)\n",
    "\n"
   ]
  },
  {
   "cell_type": "code",
   "execution_count": 1,
   "id": "bd3e35ad-7f2e-4a9c-91d5-53933996b9b8",
   "metadata": {},
   "outputs": [],
   "source": [
    "#jungol  1092"
   ]
  },
  {
   "cell_type": "code",
   "execution_count": null,
   "id": "dc9b1281-41a8-40d7-960c-c56f81d9a3ed",
   "metadata": {},
   "outputs": [],
   "source": []
  },
  {
   "cell_type": "code",
   "execution_count": null,
   "id": "0b152aaa-dfbc-4313-88f3-08fe8c29fe56",
   "metadata": {},
   "outputs": [],
   "source": [
    "import sys\n",
    "a,b = map(int,sys.stdin.readline().split())\n",
    "se = 18135873\n",
    "c = a**b\n",
    "if c != 0:\n",
    "    print(c % se)\n",
    "else:\n",
    "    print(1)"
   ]
  },
  {
   "cell_type": "code",
   "execution_count": 10,
   "id": "23001db6-a85f-40ae-870d-52b41736befe",
   "metadata": {
    "tags": []
   },
   "outputs": [
    {
     "name": "stdout",
     "output_type": "stream",
     "text": [
      "1024\n"
     ]
    }
   ],
   "source": []
  },
  {
   "cell_type": "code",
   "execution_count": 8,
   "id": "30c79ac6-6f17-4792-905e-6887ec75caaa",
   "metadata": {
    "tags": []
   },
   "outputs": [
    {
     "data": {
      "text/plain": [
       "576990"
      ]
     },
     "execution_count": 8,
     "metadata": {},
     "output_type": "execute_result"
    }
   ],
   "source": []
  },
  {
   "cell_type": "code",
   "execution_count": null,
   "id": "cc73f600-82ad-416b-b907-1dd7f6aaedbd",
   "metadata": {},
   "outputs": [],
   "source": []
  }
 ],
 "metadata": {
  "kernelspec": {
   "display_name": "Python 3 (ipykernel)",
   "language": "python",
   "name": "python3"
  },
  "language_info": {
   "codemirror_mode": {
    "name": "ipython",
    "version": 3
   },
   "file_extension": ".py",
   "mimetype": "text/x-python",
   "name": "python",
   "nbconvert_exporter": "python",
   "pygments_lexer": "ipython3",
   "version": "3.11.4"
  }
 },
 "nbformat": 4,
 "nbformat_minor": 5
}
