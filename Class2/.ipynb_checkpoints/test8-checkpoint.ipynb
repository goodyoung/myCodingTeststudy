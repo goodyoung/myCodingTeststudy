{
 "cells": [
  {
   "cell_type": "markdown",
   "id": "2d94a359-0953-4a31-835c-6a291d25fc85",
   "metadata": {
    "tags": []
   },
   "source": [
    "# 1157 bronze 1   && count max로 활용 가능 더 파이써닉"
   ]
  },
  {
   "cell_type": "code",
   "execution_count": null,
   "id": "5a2b10de-269c-4749-86fb-c2d00d09b046",
   "metadata": {},
   "outputs": [],
   "source": [
    "ans = input()\n",
    "\n",
    "words_count = [0]*26\n",
    "max_num = [0,0]\n",
    "su, result = 0,0\n",
    "\n",
    "#입력 -> 리스트\n",
    "for i in ans:\n",
    "    num = ord(i)\n",
    "    if ord(i) > 90: # 소문자이면:\n",
    "        num = ord(i) -32\n",
    "    words_count[num-65] +=1\n",
    "\n",
    "## 단어의 max확인.\n",
    "for j in words_count:\n",
    "    if j > max_num[0]:\n",
    "        max_num = [j,su]\n",
    "    su +=1\n",
    "\n",
    "### 겹치는 여부 확인\n",
    "for key in words_count:\n",
    "    if max_num[0] == key:\n",
    "        result +=1\n",
    "        \n",
    "if result >1:\n",
    "    print('?')\n",
    "else:\n",
    "    print(chr(max_num[1]+65))"
   ]
  },
  {
   "cell_type": "markdown",
   "id": "61296dea-fb6c-411d-bdc1-625cf3910381",
   "metadata": {},
   "source": [
    "## 23881 bronze 1 선택정렬 fail"
   ]
  },
  {
   "cell_type": "code",
   "execution_count": null,
   "id": "5156db2e-2863-4ee0-a0e9-76429b9ac866",
   "metadata": {
    "tags": []
   },
   "outputs": [],
   "source": [
    "import sys\n",
    "ans1,ans2 = map(int, input().split())\n",
    "li =  list(map(int, input().split()))\n",
    "def select_sort(li,ans):\n",
    "    cnt = 0\n",
    "    result =[]\n",
    "    for i in range(len(li)-1):\n",
    "        min_in = i\n",
    "        for key in range(i+1,len(li)):\n",
    "            if li[i] > li[key]:\n",
    "                min_in = key\n",
    "                cnt +=1\n",
    "                if cnt == ans:\n",
    "                    return print(li[min_in],li[i])\n",
    "        li[i],li[min_in] = li[min_in],li[i]\n",
    "    return print(-1)\n",
    "select_sort(li,ans2)"
   ]
  },
  {
   "cell_type": "code",
   "execution_count": null,
   "id": "5a813917-1c48-4cb0-9357-bee97c6774a9",
   "metadata": {
    "tags": []
   },
   "outputs": [],
   "source": [
    "import sys\n",
    "ans1,ans2 = map(int,sys.stdin.readline().split())\n",
    "li = list(map(int,sys.stdin.readline().split()))\n",
    "\n",
    "def select_sort(li,ans2):\n",
    "    cnt = 0\n",
    "    for i in range(len(li)):\n",
    "        min_idx=i\n",
    "        for key in range(i+1,len(li)):\n",
    "            if li[i] > li[key]:\n",
    "                min_idx = key\n",
    "                cnt +=1\n",
    "                if cnt == ans2:\n",
    "                    return print(li[min_idx],li[i])\n",
    "\n",
    "        li[i],li[min_idx] = li[min_idx],li[i]\n",
    "            \n",
    "    return print(-1)\n",
    "select_sort(li,ans2)"
   ]
  },
  {
   "cell_type": "markdown",
   "id": "91ae3d70-30bb-45e1-9984-1dae7f381521",
   "metadata": {},
   "source": [
    "# 1966 siliver 3"
   ]
  },
  {
   "cell_type": "code",
   "execution_count": null,
   "id": "af3c2b1f-04d7-476c-a9d9-6ea7e41f17b3",
   "metadata": {
    "tags": []
   },
   "outputs": [],
   "source": [
    "import sys\n",
    "num = int(sys.stdin.readline())\n",
    "\n",
    "def max_list(li):\n",
    "    idx = 0\n",
    "    idx_result = 0\n",
    "    for i in li[1:]:\n",
    "        idx +=1\n",
    "        if  i > max_num:\n",
    "            idx_result = idx\n",
    "    return idx_result\n",
    "\n",
    "\n",
    "for _ in range(num):\n",
    "    document, order_idx = map(int,sys.stdin.readline().split())\n",
    "    order_list = list(map(int,sys.stdin.readline().split()))\n",
    "    result = 0\n",
    "    while len(order_list):\n",
    "        \n",
    "        if max_list(order_list): #index가 0이 아니면\n",
    "            if order_idx == 0:\n",
    "                order_idx += len(order_list)-1\n",
    "            else:\n",
    "                order_idx -= 1\n",
    "            pop_num = order_list.pop(0)\n",
    "            order_list.append(pop_num)\n",
    "        else: #index 0 이 최대\n",
    "            result += 1\n",
    "            if order_idx == 0:\n",
    "                print(result)\n",
    "                break\n",
    "                \n",
    "            order_list.pop(0)\n",
    "            order_idx -=1"
   ]
  },
  {
   "cell_type": "code",
   "execution_count": null,
   "id": "06986025-df8b-4392-b4b3-8b821dc9450e",
   "metadata": {
    "tags": []
   },
   "outputs": [],
   "source": [
    "from collections import deque\n",
    "import sys\n",
    "num = int(sys.stdin.readline())\n",
    "for _ in range(num):\n",
    "    document, order_idx = map(int,sys.stdin.readline().split())\n",
    "    order_list = deque(list(map(int,sys.stdin.readline().split())))\n",
    "    result = 0\n",
    "    while order_list:\n",
    "        max_num = max(order_list)\n",
    "        order_idx -= 1\n",
    "        pop_num = order_list.popleft()\n",
    "        if max_num != pop_num:\n",
    "            \n",
    "            order_list.append(pop_num)\n",
    "            \n",
    "            if order_idx  < 0:\n",
    "                order_idx = len(order_list) -1\n",
    "\n",
    "        else:\n",
    "            result +=1\n",
    "            if order_idx < 0:\n",
    "                print(result)\n",
    "                break\n"
   ]
  },
  {
   "cell_type": "code",
   "execution_count": null,
   "id": "5b1f4a0a-4ace-48d9-b075-b448d64b8218",
   "metadata": {
    "tags": []
   },
   "outputs": [],
   "source": [
    "from collections import deque\n",
    "s = deque([1,2,3,4])"
   ]
  },
  {
   "cell_type": "code",
   "execution_count": null,
   "id": "3464a97b-f3d9-4369-9e4f-a60fd19a82f5",
   "metadata": {
    "tags": []
   },
   "outputs": [],
   "source": [
    "len(s)"
   ]
  },
  {
   "cell_type": "code",
   "execution_count": null,
   "id": "95437127-0d2e-4e13-8c99-d64ca0a1b466",
   "metadata": {
    "tags": []
   },
   "outputs": [],
   "source": [
    "s.index(1)"
   ]
  },
  {
   "cell_type": "code",
   "execution_count": null,
   "id": "122469a7-6f6d-47f0-a15a-06f17950985f",
   "metadata": {
    "tags": []
   },
   "outputs": [],
   "source": [
    "s.count(4)"
   ]
  },
  {
   "cell_type": "code",
   "execution_count": null,
   "id": "a9c00cc3-c5fb-40fa-a080-12c7f3998b03",
   "metadata": {},
   "outputs": [],
   "source": [
    "deque.asdas"
   ]
  },
  {
   "cell_type": "markdown",
   "id": "8cf3c1ee-c1e2-4ba1-b264-6a7c7b83a4f0",
   "metadata": {},
   "source": [
    "# 11866 silver 5"
   ]
  },
  {
   "cell_type": "code",
   "execution_count": null,
   "id": "bf258f46-5b36-44c1-b3c4-f2b95470f36a",
   "metadata": {
    "tags": []
   },
   "outputs": [],
   "source": [
    "import sys\n",
    "N,K = map(int,sys.stdin.readline().split())\n",
    "\n",
    "n_list = list(range(1,N+1))\n",
    "flag = 1\n",
    "print('<',end = '')\n",
    "while len(n_list):\n",
    "    pop_num = n_list.pop(0)\n",
    "    if K == flag:\n",
    "        if len(n_list):\n",
    "            string = str(pop_num)+', '\n",
    "            print(string,end='')\n",
    "        else:\n",
    "            string = str(pop_num)+'>'\n",
    "            print(string,end='')\n",
    "        flag = 1\n",
    "    else:\n",
    "        n_list.append(pop_num)\n",
    "        flag+=1"
   ]
  },
  {
   "cell_type": "code",
   "execution_count": null,
   "id": "1cf38592-0ac4-4f2b-94f7-c967cbbf9a80",
   "metadata": {},
   "outputs": [],
   "source": [
    "import sys\n",
    "N,K = map(int,sys.stdin.readline().split())\n",
    "n_list = list(range(1,N+1))\n",
    "flag = 1\n",
    "print('<',end = '')\n",
    "while len(n_list):\n",
    "    pop_num = n_list.pop(0)\n",
    "    if K == flag:\n",
    "        string = str(pop_num)\n",
    "        if len(n_list):\n",
    "            string+=', '\n",
    "        else:\n",
    "            string+='>'\n",
    "        print(string,end='')\n",
    "        flag = 1\n",
    "    else:\n",
    "        n_list.append(pop_num)\n",
    "        flag+=1"
   ]
  },
  {
   "cell_type": "markdown",
   "id": "f3f2ecc7-7132-4b23-b54a-4b7ae5da8039",
   "metadata": {},
   "source": [
    "# 10816 silver 4 ? + dick or counter 로 활용 가능"
   ]
  },
  {
   "cell_type": "code",
   "execution_count": 15,
   "id": "06f6c968-9322-47f6-9f99-81f12d71119d",
   "metadata": {
    "tags": []
   },
   "outputs": [
    {
     "name": "stdout",
     "output_type": "stream",
     "text": [
      "3 2 3 2 "
     ]
    }
   ],
   "source": [
    "import sys\n",
    "card_num = int(sys.stdin.readline())\n",
    "card_list = list(map(int,sys.stdin.readline().split()))\n",
    "card_list.sort()\n",
    "result_num = int(sys.stdin.readline())\n",
    "result_list = list(map(int,sys.stdin.readline().split()))\n",
    "def binary_search(key,first,last,li):\n",
    "    if first > last:\n",
    "        return 0\n",
    "    mid = (first+last)//2\n",
    "    if li[mid]==key:\n",
    "        return cnt.get(key)\n",
    "    elif li[mid] > key:\n",
    "        return binary_search(key,first,mid-1,li)\n",
    "    else:\n",
    "        return binary_search(key,mid+1, last,li)\n",
    "    \n",
    "cnt ={} ## hash map\n",
    "for i in card_list:\n",
    "    if i in cnt:\n",
    "        cnt[i] +=1\n",
    "    else:\n",
    "        cnt[i] = 1\n",
    "        \n",
    "for keys in result_list:\n",
    "    result = 0\n",
    "    print(binary_search(keys,0,len(card_list)-1,card_list),end = ' ')"
   ]
  },
  {
   "cell_type": "markdown",
   "id": "63026381-8efb-4c9f-bf84-94f28999275f",
   "metadata": {},
   "source": [
    "# 10815 silver 5 "
   ]
  },
  {
   "cell_type": "code",
   "execution_count": 23,
   "id": "3b7c2c25-dc0f-4218-a799-5d03db1bbc4c",
   "metadata": {
    "tags": []
   },
   "outputs": [
    {
     "name": "stdout",
     "output_type": "stream",
     "text": [
      "3 0 0 1 0 0 0 1 "
     ]
    }
   ],
   "source": [
    "import sys\n",
    "_ = int(sys.stdin.readline())\n",
    "card_list = list(map(int,sys.stdin.readline().split()))\n",
    "card_list.sort()\n",
    "_ = int(sys.stdin.readline())\n",
    "result_list = list(map(int,sys.stdin.readline().split()))\n",
    "\n",
    "def binary_search(key,first,last,li):\n",
    "    if first > last:\n",
    "        return 0\n",
    "    mid = (first+last)//2\n",
    "    if li[mid]==key:\n",
    "        return li[first:last+1].count(key)\n",
    "    elif li[mid] > key:\n",
    "        return binary_search(key,first,mid-1,li)\n",
    "    else:\n",
    "        return binary_search(key,mid+1, last,li)\n",
    "        \n",
    "for keys in result_list:\n",
    "    print(binary_search(keys,0,len(card_list)-1,card_list),end=' ')"
   ]
  },
  {
   "cell_type": "markdown",
   "id": "7fabe9b5-6ed0-48d1-8f96-b01f0e9461f1",
   "metadata": {},
   "source": [
    "# 10845 silver 4"
   ]
  },
  {
   "cell_type": "code",
   "execution_count": 24,
   "id": "f5035035-ff96-4ab7-8483-f6201b6076f2",
   "metadata": {
    "collapsed": true,
    "jupyter": {
     "outputs_hidden": true
    },
    "tags": []
   },
   "outputs": [
    {
     "name": "stdin",
     "output_type": "stream",
     "text": [
      " 15\n",
      " push 1\n",
      " push 2\n",
      " front\n"
     ]
    },
    {
     "name": "stdout",
     "output_type": "stream",
     "text": [
      "1\n"
     ]
    },
    {
     "name": "stdin",
     "output_type": "stream",
     "text": [
      " back\n"
     ]
    },
    {
     "name": "stdout",
     "output_type": "stream",
     "text": [
      "2\n"
     ]
    },
    {
     "name": "stdin",
     "output_type": "stream",
     "text": [
      " size\n"
     ]
    },
    {
     "name": "stdout",
     "output_type": "stream",
     "text": [
      "2\n"
     ]
    },
    {
     "name": "stdin",
     "output_type": "stream",
     "text": [
      " empty\n"
     ]
    },
    {
     "name": "stdout",
     "output_type": "stream",
     "text": [
      "0\n"
     ]
    },
    {
     "name": "stdin",
     "output_type": "stream",
     "text": [
      " pop'\n",
      " pop\n"
     ]
    },
    {
     "name": "stdout",
     "output_type": "stream",
     "text": [
      "1\n"
     ]
    },
    {
     "name": "stdin",
     "output_type": "stream",
     "text": [
      " pop\n"
     ]
    },
    {
     "name": "stdout",
     "output_type": "stream",
     "text": [
      "2\n"
     ]
    },
    {
     "name": "stdin",
     "output_type": "stream",
     "text": [
      " pop\n"
     ]
    },
    {
     "name": "stdout",
     "output_type": "stream",
     "text": [
      "-1\n"
     ]
    },
    {
     "name": "stdin",
     "output_type": "stream",
     "text": [
      " size\n"
     ]
    },
    {
     "name": "stdout",
     "output_type": "stream",
     "text": [
      "0\n"
     ]
    },
    {
     "name": "stdin",
     "output_type": "stream",
     "text": [
      " empty\n"
     ]
    },
    {
     "name": "stdout",
     "output_type": "stream",
     "text": [
      "1\n"
     ]
    },
    {
     "name": "stdin",
     "output_type": "stream",
     "text": [
      " pop\n"
     ]
    },
    {
     "name": "stdout",
     "output_type": "stream",
     "text": [
      "-1\n"
     ]
    },
    {
     "name": "stdin",
     "output_type": "stream",
     "text": [
      " push\n"
     ]
    },
    {
     "ename": "IndexError",
     "evalue": "list index out of range",
     "output_type": "error",
     "traceback": [
      "\u001b[0;31m---------------------------------------------------------------------------\u001b[0m",
      "\u001b[0;31mIndexError\u001b[0m                                Traceback (most recent call last)",
      "Cell \u001b[0;32mIn[24], line 8\u001b[0m\n\u001b[1;32m      6\u001b[0m command \u001b[38;5;241m=\u001b[39mS[\u001b[38;5;241m0\u001b[39m]\n\u001b[1;32m      7\u001b[0m \u001b[38;5;28;01mif\u001b[39;00m command \u001b[38;5;241m==\u001b[39m\u001b[38;5;124m'\u001b[39m\u001b[38;5;124mpush\u001b[39m\u001b[38;5;124m'\u001b[39m:\n\u001b[0;32m----> 8\u001b[0m     queue\u001b[38;5;241m.\u001b[39mappend(\u001b[38;5;28mint\u001b[39m(\u001b[43mS\u001b[49m\u001b[43m[\u001b[49m\u001b[38;5;241;43m1\u001b[39;49m\u001b[43m]\u001b[49m))\n\u001b[1;32m      9\u001b[0m \u001b[38;5;28;01melif\u001b[39;00m command \u001b[38;5;241m==\u001b[39m\u001b[38;5;124m'\u001b[39m\u001b[38;5;124mpop\u001b[39m\u001b[38;5;124m'\u001b[39m:\n\u001b[1;32m     10\u001b[0m     \u001b[38;5;28;01mif\u001b[39;00m queue:\n",
      "\u001b[0;31mIndexError\u001b[0m: list index out of range"
     ]
    }
   ],
   "source": [
    "import sys\n",
    "N = int(input())\n",
    "queue=[]\n",
    "for _ in range(N):\n",
    "    S = list(map(str,sys.stdin.readline().split()))\n",
    "    command =S[0]\n",
    "    if command =='push':\n",
    "        queue.append(int(S[1]))\n",
    "    elif command =='pop':\n",
    "        if queue:\n",
    "            print(queue.pop(0))\n",
    "        else:\n",
    "            print(-1)\n",
    "    elif command =='size':\n",
    "        print(len(queue))\n",
    "    elif command =='empty':\n",
    "        if queue:\n",
    "            print(0)\n",
    "        else:\n",
    "            print(1)\n",
    "    elif command =='front':\n",
    "        if queue:\n",
    "            print(queue[0])\n",
    "        else:\n",
    "            print(-1)\n",
    "    elif command =='back':\n",
    "        if queue:\n",
    "            print(queue[-1])\n",
    "        else:\n",
    "            print(-1)"
   ]
  },
  {
   "cell_type": "code",
   "execution_count": null,
   "id": "7e37b76a-49a4-4c91-adf8-31a69f96ec92",
   "metadata": {},
   "outputs": [],
   "source": []
  },
  {
   "cell_type": "code",
   "execution_count": null,
   "id": "5a2627c1-1460-441e-9afb-3371a76cbadc",
   "metadata": {},
   "outputs": [],
   "source": []
  }
 ],
 "metadata": {
  "kernelspec": {
   "display_name": "Python 3 (ipykernel)",
   "language": "python",
   "name": "python3"
  },
  "language_info": {
   "codemirror_mode": {
    "name": "ipython",
    "version": 3
   },
   "file_extension": ".py",
   "mimetype": "text/x-python",
   "name": "python",
   "nbconvert_exporter": "python",
   "pygments_lexer": "ipython3",
   "version": "3.11.4"
  }
 },
 "nbformat": 4,
 "nbformat_minor": 5
}
