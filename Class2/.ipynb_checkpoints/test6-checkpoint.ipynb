{
 "cells": [
  {
   "cell_type": "markdown",
   "id": "fb5aa654-74e0-4261-81a5-20ea707586c2",
   "metadata": {
    "jp-MarkdownHeadingCollapsed": true,
    "tags": []
   },
   "source": [
    "# 2750 bronze 2 - 삽입정렬"
   ]
  },
  {
   "cell_type": "code",
   "execution_count": null,
   "id": "ba65d731-67ee-4974-91e3-7e96dbc40611",
   "metadata": {
    "tags": []
   },
   "outputs": [],
   "source": [
    "n = int(input())\n",
    "temp = []\n",
    "for i in range(n):\n",
    "    n = int(input())\n",
    "    temp.append(n)\n",
    "temp.sort()\n",
    "for j in temp:\n",
    "    print(j)"
   ]
  },
  {
   "cell_type": "markdown",
   "id": "e4a068bd-87a5-4cb4-b0b2-cec6dc7c4804",
   "metadata": {},
   "source": [
    "## 삽입정렬"
   ]
  },
  {
   "cell_type": "code",
   "execution_count": null,
   "id": "70ef9ba9-531e-4571-aa50-f5e659c211b9",
   "metadata": {
    "tags": []
   },
   "outputs": [],
   "source": [
    "n = int(input())\n",
    "temp = []\n",
    "for i in range(n):\n",
    "    n = int(input())\n",
    "    temp.append(n)\n",
    "    \n",
    "for j in range(1,n):\n",
    "    for k in range(j,0,-1):\n",
    "        if temp[k-1] > temp[k]:\n",
    "            temp[k-1],temp[k] = temp[k],temp[k-1]\n",
    "            \n",
    "for j in temp:\n",
    "    print(j)"
   ]
  },
  {
   "cell_type": "markdown",
   "id": "80613521-5a6c-406e-a98c-dfc260585ae0",
   "metadata": {
    "tags": []
   },
   "source": [
    "# 2751 silver 5 - 합병정렬"
   ]
  },
  {
   "cell_type": "code",
   "execution_count": null,
   "id": "bd2f0308-eb4b-4cb6-b4a7-67787652f474",
   "metadata": {
    "tags": []
   },
   "outputs": [],
   "source": [
    "import sys\n",
    "n = int(sys.stdin.readline())\n",
    "temp = []\n",
    "for _ in range(n):\n",
    "    temp.append(int(sys.stdin.readline()))\n",
    "temp.sort()\n",
    "for j in temp:\n",
    "    print(j)"
   ]
  },
  {
   "cell_type": "markdown",
   "id": "44c7513e-8733-4335-b4ee-9e4607314efe",
   "metadata": {},
   "source": [
    "## 합병 정렬"
   ]
  },
  {
   "cell_type": "code",
   "execution_count": 1,
   "id": "8dcc49b8-d908-4738-bfc6-652bf6eb0372",
   "metadata": {},
   "outputs": [],
   "source": [
    "s = [27,10,12,20,25,13]"
   ]
  },
  {
   "cell_type": "code",
   "execution_count": null,
   "id": "75a5ff75-5c39-4487-b6d4-2d2c627e6294",
   "metadata": {
    "tags": []
   },
   "outputs": [],
   "source": [
    "m = len(s) //2 "
   ]
  },
  {
   "cell_type": "code",
   "execution_count": null,
   "id": "1d24e79e-5e9a-44c4-b142-86dca54747f2",
   "metadata": {
    "tags": []
   },
   "outputs": [],
   "source": [
    "s[m:]"
   ]
  },
  {
   "cell_type": "code",
   "execution_count": 2,
   "id": "eb0e3f24-f755-465f-9ecd-b256cadf71db",
   "metadata": {
    "tags": []
   },
   "outputs": [],
   "source": [
    "def merge(tem1, tem2):\n",
    "    # print(tem1,tem2)\n",
    "    sorted_list = []\n",
    "    i,h = 0,0\n",
    "    while (len(tem1) > i) and (len(tem2) > h) :\n",
    "        if tem1[i] > tem2[h]:\n",
    "            sorted_list.append(tem1[i])\n",
    "            i+=1\n",
    "        else:\n",
    "            sorted_list.append(tem2[h])\n",
    "            h+=1\n",
    "    while (len(tem1) > i):\n",
    "        sorted_list.append(tem1[i])\n",
    "        i+=1\n",
    "    while (len(tem2) > h):\n",
    "        sorted_list.append(tem2[h])\n",
    "        h+=1\n",
    "        \n",
    "    sorted_list += tem1[i:]\n",
    "    sorted_list += tem1[h:]\n",
    "    print('sorted_list: ',sorted_list)\n",
    "    return sorted_list"
   ]
  },
  {
   "cell_type": "code",
   "execution_count": 3,
   "id": "e0d5319a-1932-4661-a061-4b9a2ce88935",
   "metadata": {
    "tags": []
   },
   "outputs": [],
   "source": [
    "def mergeSort(li:list):\n",
    "    if len(li) < 2:\n",
    "        return li\n",
    "    \n",
    "    m = len(li) //2\n",
    "    left = mergeSort(li[:m])\n",
    "    right = mergeSort(li[m:])\n",
    "    print(left,right,'s',li)\n",
    "    return merge(left,right)"
   ]
  },
  {
   "cell_type": "code",
   "execution_count": 4,
   "id": "2595135e-d72b-495c-a2bb-a9afd8ffd947",
   "metadata": {
    "tags": []
   },
   "outputs": [
    {
     "name": "stdout",
     "output_type": "stream",
     "text": [
      "[10] [12] s [10, 12]\n",
      "sorted_list:  [12, 10]\n",
      "[27] [12, 10] s [27, 10, 12]\n",
      "sorted_list:  [27, 12, 10]\n",
      "[25] [13] s [25, 13]\n",
      "sorted_list:  [25, 13]\n",
      "[20] [25, 13] s [20, 25, 13]\n",
      "sorted_list:  [25, 20, 13]\n",
      "[27, 12, 10] [25, 20, 13] s [27, 10, 12, 20, 25, 13]\n",
      "sorted_list:  [27, 25, 20, 13, 12, 10]\n"
     ]
    },
    {
     "data": {
      "text/plain": [
       "[27, 25, 20, 13, 12, 10]"
      ]
     },
     "execution_count": 4,
     "metadata": {},
     "output_type": "execute_result"
    }
   ],
   "source": [
    "mergeSort(s)"
   ]
  },
  {
   "cell_type": "code",
   "execution_count": 3,
   "id": "a5b0bee7-0e06-458d-b42b-905d5583b7c1",
   "metadata": {
    "tags": []
   },
   "outputs": [
    {
     "name": "stdout",
     "output_type": "stream",
     "text": [
      "1\n",
      "2\n",
      "3\n",
      "4\n",
      "5\n"
     ]
    }
   ],
   "source": [
    "import sys\n",
    "n = int(sys.stdin.readline())\n",
    "\n",
    "temp = []\n",
    "for _ in range(n):\n",
    "    temp.append(int(sys.stdin.readline()))\n",
    "    \n",
    "def mergeSort(li):\n",
    "    if len(li) < 2:\n",
    "        return li\n",
    "    m = len(li) //2\n",
    "    left = mergeSort(li[:m])\n",
    "    right = mergeSort(li[m:])\n",
    "    \n",
    "    return merge(left,right)\n",
    "\n",
    "def merge(tem1, tem2):\n",
    "    # print(tem1,tem2)\n",
    "    sorted_list = []\n",
    "    i,h = 0,0\n",
    "    while (len(tem1) > i) and (len(tem2) > h) :\n",
    "        if tem1[i] < tem2[h]:\n",
    "            sorted_list.append(tem1[i])\n",
    "            i+=1\n",
    "        else:\n",
    "            sorted_list.append(tem2[h])\n",
    "            h+=1\n",
    "            \n",
    "    sorted_list += tem1[i:]\n",
    "    sorted_list += tem2[h:]\n",
    "    \n",
    "    return sorted_list\n",
    "\n",
    "\n",
    "for j in mergeSort(temp):\n",
    "    print(j)"
   ]
  },
  {
   "cell_type": "markdown",
   "id": "fbb392a8-da52-40f8-b8f3-c53dc620f7f1",
   "metadata": {
    "jp-MarkdownHeadingCollapsed": true,
    "tags": []
   },
   "source": [
    "# 10828 silver 4"
   ]
  },
  {
   "cell_type": "code",
   "execution_count": null,
   "id": "481f4c7c-864c-479a-94ae-f5d799889535",
   "metadata": {},
   "outputs": [],
   "source": [
    "import sys\n",
    "n = int(sys.stdin.readline())"
   ]
  },
  {
   "cell_type": "code",
   "execution_count": 17,
   "id": "113bdc19-4992-4518-ad29-1f239f3e3d57",
   "metadata": {
    "tags": []
   },
   "outputs": [],
   "source": [
    "n = 14"
   ]
  },
  {
   "cell_type": "code",
   "execution_count": 20,
   "id": "7123ec6e-1e7a-40c9-9806-fb86392a6a70",
   "metadata": {
    "tags": []
   },
   "outputs": [
    {
     "name": "stdin",
     "output_type": "stream",
     "text": [
      " push 1\n",
      " push 2\n",
      " top\n"
     ]
    },
    {
     "name": "stdout",
     "output_type": "stream",
     "text": [
      "2\n"
     ]
    },
    {
     "name": "stdin",
     "output_type": "stream",
     "text": [
      " size\n"
     ]
    },
    {
     "name": "stdout",
     "output_type": "stream",
     "text": [
      "2\n"
     ]
    },
    {
     "name": "stdin",
     "output_type": "stream",
     "text": [
      " empty\n"
     ]
    },
    {
     "name": "stdout",
     "output_type": "stream",
     "text": [
      "0\n"
     ]
    },
    {
     "name": "stdin",
     "output_type": "stream",
     "text": [
      " pop\n"
     ]
    },
    {
     "name": "stdout",
     "output_type": "stream",
     "text": [
      "2\n"
     ]
    },
    {
     "name": "stdin",
     "output_type": "stream",
     "text": [
      " pop\n"
     ]
    },
    {
     "name": "stdout",
     "output_type": "stream",
     "text": [
      "1\n"
     ]
    },
    {
     "name": "stdin",
     "output_type": "stream",
     "text": [
      " pop\n"
     ]
    },
    {
     "name": "stdout",
     "output_type": "stream",
     "text": [
      "-1\n"
     ]
    },
    {
     "name": "stdin",
     "output_type": "stream",
     "text": [
      " size\n"
     ]
    },
    {
     "name": "stdout",
     "output_type": "stream",
     "text": [
      "0\n"
     ]
    },
    {
     "name": "stdin",
     "output_type": "stream",
     "text": [
      " empty\n"
     ]
    },
    {
     "name": "stdout",
     "output_type": "stream",
     "text": [
      "1\n"
     ]
    },
    {
     "name": "stdin",
     "output_type": "stream",
     "text": [
      " pop\n"
     ]
    },
    {
     "name": "stdout",
     "output_type": "stream",
     "text": [
      "-1\n"
     ]
    },
    {
     "name": "stdin",
     "output_type": "stream",
     "text": [
      " push 3\n",
      " empty\n"
     ]
    },
    {
     "name": "stdout",
     "output_type": "stream",
     "text": [
      "0\n"
     ]
    },
    {
     "name": "stdin",
     "output_type": "stream",
     "text": [
      " top\n"
     ]
    },
    {
     "name": "stdout",
     "output_type": "stream",
     "text": [
      "3\n"
     ]
    }
   ],
   "source": [
    "stack = []\n",
    "for _ in range(n):\n",
    "    ans = sys.stdin.readline().split()#input().split()#sys.stdin.readline().split()\n",
    "    if len(ans) < 2:\n",
    "        if ans[0]=='pop':\n",
    "            if stack:\n",
    "                pop_num = stack.pop()\n",
    "                print(pop_num)\n",
    "            else:\n",
    "                print(-1)\n",
    "        elif ans[0]=='size':\n",
    "            print(len(stack))\n",
    "        elif ans[0]=='empty':\n",
    "            if stack:\n",
    "                print(0)\n",
    "            else:\n",
    "                print(1)\n",
    "        elif ans[0]=='top':\n",
    "            if stack:\n",
    "                print(stack[-1])\n",
    "            else:\n",
    "                print(-1)\n",
    "    else:\n",
    "        if ans[0]=='push':\n",
    "            stack.append(int(ans[1]))\n",
    "        "
   ]
  },
  {
   "cell_type": "code",
   "execution_count": null,
   "id": "5ec07f5d-315a-4b3e-9290-118c691f6352",
   "metadata": {},
   "outputs": [],
   "source": []
  }
 ],
 "metadata": {
  "kernelspec": {
   "display_name": "Python 3 (ipykernel)",
   "language": "python",
   "name": "python3"
  },
  "language_info": {
   "codemirror_mode": {
    "name": "ipython",
    "version": 3
   },
   "file_extension": ".py",
   "mimetype": "text/x-python",
   "name": "python",
   "nbconvert_exporter": "python",
   "pygments_lexer": "ipython3",
   "version": "3.11.5"
  }
 },
 "nbformat": 4,
 "nbformat_minor": 5
}
