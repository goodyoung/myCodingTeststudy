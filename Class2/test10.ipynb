{
 "cells": [
  {
   "cell_type": "markdown",
   "id": "78f83f4c-62fe-41e4-b535-284c1e20cc92",
   "metadata": {
    "jp-MarkdownHeadingCollapsed": true,
    "tags": []
   },
   "source": [
    "# 11651 silver 5"
   ]
  },
  {
   "cell_type": "code",
   "execution_count": 3,
   "id": "7825459d-c729-4b62-8352-ac255d327eed",
   "metadata": {
    "tags": []
   },
   "outputs": [
    {
     "name": "stdin",
     "output_type": "stream",
     "text": [
      " 0 4\n",
      " 1 2\n",
      " 1 -1\n",
      " 2 2\n",
      " 3 3\n"
     ]
    },
    {
     "name": "stdout",
     "output_type": "stream",
     "text": [
      "1 -1\n",
      "1 2\n",
      "2 2\n",
      "3 3\n",
      "0 4\n"
     ]
    }
   ],
   "source": [
    "import sys\n",
    "num = int(sys.stdin.readline())\n",
    "temp = []\n",
    "for _ in range(num):\n",
    "    N,K = map(int,sys.stdin.readline().split())\n",
    "    temp.append([N,K])\n",
    "temp = sorted(temp, key = lambda x: (x[1],x[0]))\n",
    "for i in temp:\n",
    "    print(i[0],i[1])"
   ]
  },
  {
   "cell_type": "code",
   "execution_count": null,
   "id": "61bbe41d-8691-440f-a64b-8dfd97ff0002",
   "metadata": {},
   "outputs": [],
   "source": [
    "43721\n",
    "865"
   ]
  },
  {
   "cell_type": "markdown",
   "id": "1fc9ab80-1b38-453a-ba82-f7b472cc6b56",
   "metadata": {
    "jp-MarkdownHeadingCollapsed": true,
    "tags": []
   },
   "source": [
    "# 1874 silver 2"
   ]
  },
  {
   "cell_type": "markdown",
   "id": "ac8807d6-11ea-4fac-8db5-eba5ac886962",
   "metadata": {
    "jp-MarkdownHeadingCollapsed": true,
    "tags": []
   },
   "source": [
    "## try1"
   ]
  },
  {
   "cell_type": "code",
   "execution_count": 65,
   "id": "fac78fcd-5a41-4bf8-91a4-b73b50d88c69",
   "metadata": {
    "tags": []
   },
   "outputs": [],
   "source": [
    "num = 8\n",
    "result =[4, 3, 6, 8, 7, 5, 2, 1]\n",
    "temp=[]\n",
    "idx = 0\n",
    "target=0"
   ]
  },
  {
   "cell_type": "code",
   "execution_count": 67,
   "id": "6d11c0b3-5cf4-4f03-9d10-da34971fe7c5",
   "metadata": {
    "tags": []
   },
   "outputs": [],
   "source": [
    "num = 5\n",
    "result =[1,2,5,3,4]\n",
    "temp=[]\n",
    "idx = 0\n",
    "target=0"
   ]
  },
  {
   "cell_type": "code",
   "execution_count": 68,
   "id": "0a2fa328-b78f-4e47-89c6-d549610296ae",
   "metadata": {
    "tags": []
   },
   "outputs": [
    {
     "name": "stdout",
     "output_type": "stream",
     "text": [
      "NO\n"
     ]
    }
   ],
   "source": [
    "import sys\n",
    "num = int(sys.stdin.readline())\n",
    "result,result_,temp = [],[],[]\n",
    "idx,target = 0,0\n",
    "for _ in range(num):\n",
    "    result.append(int(sys.stdin.readline()))\n",
    "\n",
    "while True:\n",
    "    if idx > len(result)-1:\n",
    "        for i in result_:\n",
    "            print(i)\n",
    "        break\n",
    "        \n",
    "    if target < result[idx]:\n",
    "        target +=1\n",
    "        temp.append(target)\n",
    "        result_.append('+')\n",
    "        \n",
    "    elif target > result[idx]:\n",
    "        pop_num = temp.pop()\n",
    "        if pop_num == result[idx]:\n",
    "            idx +=1\n",
    "            result_.append('-')\n",
    "        else:\n",
    "            print('NO')\n",
    "            break\n",
    "        \n",
    "    else:\n",
    "        temp.pop()\n",
    "        idx +=1\n",
    "        result_.append('-')\n",
    "        "
   ]
  },
  {
   "cell_type": "code",
   "execution_count": null,
   "id": "1cd11867-2798-4780-bab7-13811091aac1",
   "metadata": {},
   "outputs": [],
   "source": []
  },
  {
   "cell_type": "markdown",
   "id": "1392c787-2564-47e3-8a06-05e9c5045145",
   "metadata": {
    "jp-MarkdownHeadingCollapsed": true,
    "tags": []
   },
   "source": [
    "# 1764 silver 4"
   ]
  },
  {
   "cell_type": "code",
   "execution_count": 152,
   "id": "dd81edd8-166d-4225-a720-1be82c3f7d72",
   "metadata": {
    "tags": []
   },
   "outputs": [
    {
     "name": "stdout",
     "output_type": "stream",
     "text": [
      "2\n",
      "ohhenrie\n",
      "baesangwook\n"
     ]
    }
   ],
   "source": [
    "import sys\n",
    "N,M = map(int,sys.stdin.readline().split())\n",
    "n_list,m_list = [],[]\n",
    "tem = []\n",
    "def binary_search(li,first,end,target):\n",
    "    if first > end:\n",
    "        return 0\n",
    "    mid = (first + end) // 2\n",
    "    if target > li[mid]:\n",
    "        return binary_search(li,mid +1, end,target)\n",
    "    elif target < li[mid]:\n",
    "        return binary_search(li,first,mid -1,target)\n",
    "    else:\n",
    "        return 1\n",
    "    \n",
    "for _ in range(N):\n",
    "    n_list.append(str(sys.stdin.readline().rstrip()))\n",
    "    \n",
    "n_list.sort()\n",
    "\n",
    "for _ in range(M):\n",
    "    target = str(sys.stdin.readline().rstrip())\n",
    "    if binary_search(n_list, 0, N-1, target):\n",
    "        tem.append(target)\n",
    "        \n",
    "        \n",
    "print(len(tem))\n",
    "for s in tem:\n",
    "    \n",
    "    print(s)"
   ]
  },
  {
   "cell_type": "markdown",
   "id": "a41c2bc8-2f6b-4cb9-a238-086111226860",
   "metadata": {},
   "source": [
    "#### 이진 탐색 반복문"
   ]
  },
  {
   "cell_type": "code",
   "execution_count": 31,
   "id": "66a1f166-a5f2-4d96-ad07-dd4dac008f1c",
   "metadata": {
    "tags": []
   },
   "outputs": [
    {
     "name": "stdout",
     "output_type": "stream",
     "text": [
      "baesangwook\n"
     ]
    }
   ],
   "source": [
    "import sys\n",
    "N,M = map(int,sys.stdin.readline().split())\n",
    "n_list,m_list = [],[]\n",
    "tem = []\n",
    "    \n",
    "for _ in range(N):\n",
    "    n_list.append(str(sys.stdin.readline().rstrip()))\n",
    "    \n",
    "n_list.sort()\n",
    "\n",
    "for _ in range(M):\n",
    "    target = str(sys.stdin.readline().rstrip())\n",
    "    first = 0\n",
    "    end = N - 1\n",
    "    \n",
    "    while first <= end: #이진 탐색 반복문\n",
    "        mid = (first + end) //2\n",
    "        if target > n_list[mid]:\n",
    "            first = mid + 1\n",
    "        elif target < n_list[mid]:\n",
    "            end = mid - 1\n",
    "        else:\n",
    "            tem.append(target)\n",
    "            break\n",
    "            \n",
    "print(len(tem))\n",
    "\n",
    "for s in sorted(tem):\n",
    "    print(s)"
   ]
  },
  {
   "cell_type": "code",
   "execution_count": null,
   "id": "bed113d7-8e85-4b1c-953f-b6381295d184",
   "metadata": {},
   "outputs": [],
   "source": []
  },
  {
   "cell_type": "code",
   "execution_count": null,
   "id": "c16b3ffe-dcb3-43cc-b518-9b77044a74d7",
   "metadata": {},
   "outputs": [],
   "source": []
  },
  {
   "cell_type": "code",
   "execution_count": null,
   "id": "16454ed4-f11c-42e1-b65f-16d5bf185b62",
   "metadata": {},
   "outputs": [],
   "source": []
  },
  {
   "cell_type": "code",
   "execution_count": null,
   "id": "f3ce8855-c696-43c5-81a9-1dcaabdf468b",
   "metadata": {},
   "outputs": [],
   "source": []
  },
  {
   "cell_type": "code",
   "execution_count": null,
   "id": "c872d0b1-0efd-4100-99de-1eb737e9f57e",
   "metadata": {},
   "outputs": [],
   "source": [
    "import sys\n",
    "N,M = map(int,sys.stdin.readline().split())\n",
    "n_list,m_list = [],[]\n",
    "tem = []\n",
    "def binary_search(li,first,end,target):\n",
    "    if first > end:\n",
    "        return 0\n",
    "    mid = (first + end) // 2\n",
    "    if target > li[mid]:\n",
    "        return binary_search(li,mid +1, end,target)\n",
    "    elif target < li[mid]:\n",
    "        return binary_search(li,first,mid -1,target)\n",
    "    else:\n",
    "        return 1\n",
    "    \n",
    "for _ in range(N):\n",
    "    n_list.append(sys.stdin.readline().rstrip()\n",
    "    \n",
    "n_list.sort()\n",
    "\n",
    "for _ in range(M):\n",
    "    target = sys.stdin.readline().rstrip()\n",
    "    if binary_search(n_list, 0, N-1, target):\n",
    "        tem.append(target)\n",
    "        \n",
    "        \n",
    "print(len(tem))\n",
    "\n",
    "for s in sorted(tem):\n",
    "    print(s)"
   ]
  },
  {
   "cell_type": "code",
   "execution_count": 83,
   "id": "72a7c3e0-11f1-4da1-88b4-c8ed340b5824",
   "metadata": {
    "tags": []
   },
   "outputs": [
    {
     "name": "stdout",
     "output_type": "stream",
     "text": [
      "baesangwook\n",
      "ohhenrie\n"
     ]
    }
   ],
   "source": [
    "result = []\n",
    "for n_str in n_list:\n",
    "    for m_str in m_list:\n",
    "        a = 0\n",
    "        for bi in m_str:\n",
    "            if n_str[a] == bi:\n",
    "                if (len(n_str) -1) == a:\n",
    "                    result.append(n_str)\n",
    "                a+=1\n",
    "            else:\n",
    "                break\n",
    "result.sort()\n",
    "for i in result:\n",
    "    print(i)"
   ]
  },
  {
   "cell_type": "code",
   "execution_count": null,
   "id": "da711120-6e8a-4da8-8485-cc02c9fe281d",
   "metadata": {},
   "outputs": [],
   "source": [
    "import sys\n",
    "N,M = map(int,sys.stdin.readline().split())\n",
    "n_list,m_list = [],[]\n",
    "result = []\n",
    "\n",
    "for _ in range(N):\n",
    "    n_list.append(str(sys.stdin.readline()))\n",
    "    \n",
    "for _ in range(M):\n",
    "    m_list.append(str(sys.stdin.readline()))\n",
    "    \n",
    "\n",
    "for n_str in n_list:\n",
    "    for m_str in m_list:\n",
    "        a = 0\n",
    "        for bi in m_str:\n",
    "            if n_str[a] == bi:\n",
    "                if (len(n_str) -1) == a:\n",
    "                    result.append(n_str)\n",
    "                a+=1\n",
    "            else:\n",
    "                break\n",
    "result.sort()\n",
    "print(len(result))\n",
    "for i in result:\n",
    "    print(i)"
   ]
  },
  {
   "cell_type": "markdown",
   "id": "ac418486-7b6f-4a77-bdaa-3af38eac8dbe",
   "metadata": {},
   "source": []
  },
  {
   "cell_type": "markdown",
   "id": "453dd862-f53a-4d7d-8185-6185c5fa342d",
   "metadata": {
    "jp-MarkdownHeadingCollapsed": true,
    "tags": []
   },
   "source": [
    "# 2609 bronze 1"
   ]
  },
  {
   "cell_type": "code",
   "execution_count": 69,
   "id": "6dcfd05e-2d6d-4423-b2fb-6a0928b6ba26",
   "metadata": {
    "tags": []
   },
   "outputs": [
    {
     "name": "stdout",
     "output_type": "stream",
     "text": [
      "6\n",
      "72\n"
     ]
    }
   ],
   "source": [
    "import sys\n",
    "N,M = map(int,sys.stdin.readline().split())\n",
    "\n",
    "mul = N * M\n",
    "while M > 0:\n",
    "    N , M = M , (N % M)\n",
    "print(N)\n",
    "print(mul // N)"
   ]
  },
  {
   "cell_type": "code",
   "execution_count": 72,
   "id": "8d4cdbf7-0e78-4f1b-969c-1b6d74d5cfc3",
   "metadata": {
    "tags": []
   },
   "outputs": [],
   "source": [
    "def gcd(a,b):\n",
    "    if b == 0:\n",
    "        print(a)\n",
    "        return a\n",
    "    return gcd(b,a%b)\n",
    "\n",
    "def lcm(a,b):\n",
    "    return (a * b) // gcd(a,b)"
   ]
  },
  {
   "cell_type": "code",
   "execution_count": 75,
   "id": "df2c1b0a-7148-400a-bbce-b402e2589805",
   "metadata": {
    "tags": []
   },
   "outputs": [
    {
     "name": "stdout",
     "output_type": "stream",
     "text": [
      "6\n",
      "6\n"
     ]
    },
    {
     "data": {
      "text/plain": [
       "72"
      ]
     },
     "execution_count": 75,
     "metadata": {},
     "output_type": "execute_result"
    }
   ],
   "source": [
    "gcd(18,24)\n",
    "lcm(18,24)"
   ]
  },
  {
   "cell_type": "markdown",
   "id": "07773a31-0e65-4679-b742-4531b639faa7",
   "metadata": {
    "jp-MarkdownHeadingCollapsed": true,
    "tags": []
   },
   "source": [
    "# 1654 silver 2 매개변수 탐색"
   ]
  },
  {
   "cell_type": "code",
   "execution_count": 107,
   "id": "70b1b549-cff1-46e2-99be-c8f42d10af6e",
   "metadata": {
    "tags": []
   },
   "outputs": [
    {
     "name": "stdout",
     "output_type": "stream",
     "text": [
      "200\n"
     ]
    }
   ],
   "source": [
    "import sys\n",
    "K,N = map(int,sys.stdin.readline().split())\n",
    "\n",
    "rope = []\n",
    "for _ in range(K):\n",
    "    rope.append(int(sys.stdin.readline()))\n",
    "    \n",
    "    \n",
    "first  = 1  \n",
    "end = max(rope)\n",
    "while first <= end:\n",
    "    te = 0\n",
    "    mid = (first + end) // 2\n",
    "    for i in rope:\n",
    "        te += (i // mid)\n",
    "    if N > te:\n",
    "        end = mid - 1\n",
    "    elif N <= te:\n",
    "        first = mid + 1\n",
    "print(end)"
   ]
  },
  {
   "cell_type": "markdown",
   "id": "caaaafe5-7d4b-44fe-89c0-4593e8d68cae",
   "metadata": {
    "tags": []
   },
   "source": [
    "# silver 2 2805"
   ]
  },
  {
   "cell_type": "code",
   "execution_count": 178,
   "id": "0b62fff7-3288-4173-b2b3-e268e507447b",
   "metadata": {
    "collapsed": true,
    "jupyter": {
     "outputs_hidden": true
    },
    "tags": []
   },
   "outputs": [
    {
     "ename": "ValueError",
     "evalue": "not enough values to unpack (expected 2, got 0)",
     "output_type": "error",
     "traceback": [
      "\u001b[0;31m---------------------------------------------------------------------------\u001b[0m",
      "\u001b[0;31mValueError\u001b[0m                                Traceback (most recent call last)",
      "Cell \u001b[0;32mIn[178], line 2\u001b[0m\n\u001b[1;32m      1\u001b[0m \u001b[38;5;28;01mimport\u001b[39;00m \u001b[38;5;21;01msys\u001b[39;00m\n\u001b[0;32m----> 2\u001b[0m K,M \u001b[38;5;241m=\u001b[39m \u001b[38;5;28mmap\u001b[39m(\u001b[38;5;28mint\u001b[39m,sys\u001b[38;5;241m.\u001b[39mstdin\u001b[38;5;241m.\u001b[39mreadline()\u001b[38;5;241m.\u001b[39msplit())\n\u001b[1;32m      3\u001b[0m tree \u001b[38;5;241m=\u001b[39m \u001b[38;5;28mlist\u001b[39m(\u001b[38;5;28mmap\u001b[39m(\u001b[38;5;28mint\u001b[39m,sys\u001b[38;5;241m.\u001b[39mstdin\u001b[38;5;241m.\u001b[39mreadline()\u001b[38;5;241m.\u001b[39msplit()))\n\u001b[1;32m      5\u001b[0m first,end \u001b[38;5;241m=\u001b[39m \u001b[38;5;241m0\u001b[39m, \u001b[38;5;28mmax\u001b[39m(tree)\n",
      "\u001b[0;31mValueError\u001b[0m: not enough values to unpack (expected 2, got 0)"
     ]
    }
   ],
   "source": [
    "import sys\n",
    "K,M = map(int,sys.stdin.readline().split())\n",
    "tree = list(map(int,sys.stdin.readline().split()))\n",
    "\n",
    "first,end = 0, max(tree)\n",
    "\n",
    "while first <= end:\n",
    "    mid = (first + end) // 2\n",
    "    count = 0\n",
    "    for i in tree:\n",
    "        if count > M: ### 제한 조건\n",
    "            break\n",
    "            \n",
    "        if ((i - mid) > 0):\n",
    "            count += (i - mid)\n",
    "    if M <= count:\n",
    "        first = mid + 1\n",
    "    elif M > count:\n",
    "        end = mid - 1\n",
    "print(end)"
   ]
  },
  {
   "cell_type": "markdown",
   "id": "cec355e7-954f-4879-a11e-ab01016b1b9e",
   "metadata": {
    "jp-MarkdownHeadingCollapsed": true,
    "tags": []
   },
   "source": [
    "# 2439 bronze 4"
   ]
  },
  {
   "cell_type": "code",
   "execution_count": 183,
   "id": "abeba5a2-aed7-4d57-8579-55a397220390",
   "metadata": {
    "tags": []
   },
   "outputs": [
    {
     "name": "stdout",
     "output_type": "stream",
     "text": [
      "    *\n",
      "   **\n",
      "  ***\n",
      " ****\n",
      "*****\n"
     ]
    }
   ],
   "source": [
    "num = int(input())\n",
    "for i in range(1,num+1):\n",
    "    print(' '*(num-i),end='')\n",
    "    print('*'*i)"
   ]
  },
  {
   "cell_type": "code",
   "execution_count": 185,
   "id": "5b63d9c8-fcab-46e6-9f8f-a0c7b6e1b5d1",
   "metadata": {
    "tags": []
   },
   "outputs": [
    {
     "name": "stdin",
     "output_type": "stream",
     "text": [
      " 5\n",
      " 54321\n"
     ]
    }
   ],
   "source": []
  },
  {
   "cell_type": "code",
   "execution_count": 186,
   "id": "8feac583-109d-4e93-bace-dc99a32e7125",
   "metadata": {
    "tags": []
   },
   "outputs": [],
   "source": [
    "num = int(input())\n",
    "re = str(input())\n",
    "tem = 0\n",
    "for i in re:\n",
    "    tem +=int(i)\n",
    "print(tem)"
   ]
  },
  {
   "cell_type": "code",
   "execution_count": 188,
   "id": "b146b3ca-87e3-46c1-a8d5-2a9b6c4d9133",
   "metadata": {
    "tags": []
   },
   "outputs": [
    {
     "name": "stdin",
     "output_type": "stream",
     "text": [
      " 3\n",
      " 29\n",
      " 38\n",
      " 12\n",
      " 57\n",
      " 74\n",
      " 40\n",
      " 85\n",
      " 61\n"
     ]
    },
    {
     "name": "stdout",
     "output_type": "stream",
     "text": [
      "85\n",
      "7\n"
     ]
    }
   ],
   "source": [
    "hi,trys = 0,0\n",
    "for i in range(1,10):\n",
    "    s = int(input())\n",
    "    if s > hi:\n",
    "        hi = s\n",
    "        trys = i\n",
    "print(hi)\n",
    "print(trys)"
   ]
  },
  {
   "cell_type": "code",
   "execution_count": 189,
   "id": "0f316271-195f-40b9-a147-2d0cad96ff1a",
   "metadata": {
    "tags": []
   },
   "outputs": [
    {
     "name": "stdin",
     "output_type": "stream",
     "text": [
      " 5\n"
     ]
    }
   ],
   "source": [
    "re = int(input())"
   ]
  },
  {
   "cell_type": "code",
   "execution_count": 191,
   "id": "e7e45a41-1162-4adb-9c05-a768e037a35e",
   "metadata": {
    "collapsed": true,
    "jupyter": {
     "outputs_hidden": true
    },
    "tags": []
   },
   "outputs": [
    {
     "name": "stdin",
     "output_type": "stream",
     "text": [
      " OOXXOXXOOO\n"
     ]
    },
    {
     "name": "stdout",
     "output_type": "stream",
     "text": [
      "10\n"
     ]
    },
    {
     "name": "stdin",
     "output_type": "stream",
     "text": [
      " OOXXOOXXOO\n"
     ]
    },
    {
     "name": "stdout",
     "output_type": "stream",
     "text": [
      "9\n"
     ]
    },
    {
     "ename": "KeyboardInterrupt",
     "evalue": "Interrupted by user",
     "output_type": "error",
     "traceback": [
      "\u001b[0;31m---------------------------------------------------------------------------\u001b[0m",
      "\u001b[0;31mKeyboardInterrupt\u001b[0m                         Traceback (most recent call last)",
      "Cell \u001b[0;32mIn[191], line 2\u001b[0m\n\u001b[1;32m      1\u001b[0m \u001b[38;5;28;01mfor\u001b[39;00m i \u001b[38;5;129;01min\u001b[39;00m \u001b[38;5;28mrange\u001b[39m(re):\n\u001b[0;32m----> 2\u001b[0m     st \u001b[38;5;241m=\u001b[39m \u001b[38;5;28mstr\u001b[39m(\u001b[38;5;28;43minput\u001b[39;49m\u001b[43m(\u001b[49m\u001b[43m)\u001b[49m)\n\u001b[1;32m      3\u001b[0m     score \u001b[38;5;241m=\u001b[39m \u001b[38;5;241m0\u001b[39m\n\u001b[1;32m      4\u001b[0m     stack \u001b[38;5;241m=\u001b[39m \u001b[38;5;241m1\u001b[39m\n",
      "File \u001b[0;32m~/Desktop/대학교/gytest/lib/python3.11/site-packages/ipykernel/kernelbase.py:1191\u001b[0m, in \u001b[0;36mKernel.raw_input\u001b[0;34m(self, prompt)\u001b[0m\n\u001b[1;32m   1189\u001b[0m     msg \u001b[38;5;241m=\u001b[39m \u001b[38;5;124m\"\u001b[39m\u001b[38;5;124mraw_input was called, but this frontend does not support input requests.\u001b[39m\u001b[38;5;124m\"\u001b[39m\n\u001b[1;32m   1190\u001b[0m     \u001b[38;5;28;01mraise\u001b[39;00m StdinNotImplementedError(msg)\n\u001b[0;32m-> 1191\u001b[0m \u001b[38;5;28;01mreturn\u001b[39;00m \u001b[38;5;28;43mself\u001b[39;49m\u001b[38;5;241;43m.\u001b[39;49m\u001b[43m_input_request\u001b[49m\u001b[43m(\u001b[49m\n\u001b[1;32m   1192\u001b[0m \u001b[43m    \u001b[49m\u001b[38;5;28;43mstr\u001b[39;49m\u001b[43m(\u001b[49m\u001b[43mprompt\u001b[49m\u001b[43m)\u001b[49m\u001b[43m,\u001b[49m\n\u001b[1;32m   1193\u001b[0m \u001b[43m    \u001b[49m\u001b[38;5;28;43mself\u001b[39;49m\u001b[38;5;241;43m.\u001b[39;49m\u001b[43m_parent_ident\u001b[49m\u001b[43m[\u001b[49m\u001b[38;5;124;43m\"\u001b[39;49m\u001b[38;5;124;43mshell\u001b[39;49m\u001b[38;5;124;43m\"\u001b[39;49m\u001b[43m]\u001b[49m\u001b[43m,\u001b[49m\n\u001b[1;32m   1194\u001b[0m \u001b[43m    \u001b[49m\u001b[38;5;28;43mself\u001b[39;49m\u001b[38;5;241;43m.\u001b[39;49m\u001b[43mget_parent\u001b[49m\u001b[43m(\u001b[49m\u001b[38;5;124;43m\"\u001b[39;49m\u001b[38;5;124;43mshell\u001b[39;49m\u001b[38;5;124;43m\"\u001b[39;49m\u001b[43m)\u001b[49m\u001b[43m,\u001b[49m\n\u001b[1;32m   1195\u001b[0m \u001b[43m    \u001b[49m\u001b[43mpassword\u001b[49m\u001b[38;5;241;43m=\u001b[39;49m\u001b[38;5;28;43;01mFalse\u001b[39;49;00m\u001b[43m,\u001b[49m\n\u001b[1;32m   1196\u001b[0m \u001b[43m\u001b[49m\u001b[43m)\u001b[49m\n",
      "File \u001b[0;32m~/Desktop/대학교/gytest/lib/python3.11/site-packages/ipykernel/kernelbase.py:1234\u001b[0m, in \u001b[0;36mKernel._input_request\u001b[0;34m(self, prompt, ident, parent, password)\u001b[0m\n\u001b[1;32m   1231\u001b[0m \u001b[38;5;28;01mexcept\u001b[39;00m \u001b[38;5;167;01mKeyboardInterrupt\u001b[39;00m:\n\u001b[1;32m   1232\u001b[0m     \u001b[38;5;66;03m# re-raise KeyboardInterrupt, to truncate traceback\u001b[39;00m\n\u001b[1;32m   1233\u001b[0m     msg \u001b[38;5;241m=\u001b[39m \u001b[38;5;124m\"\u001b[39m\u001b[38;5;124mInterrupted by user\u001b[39m\u001b[38;5;124m\"\u001b[39m\n\u001b[0;32m-> 1234\u001b[0m     \u001b[38;5;28;01mraise\u001b[39;00m \u001b[38;5;167;01mKeyboardInterrupt\u001b[39;00m(msg) \u001b[38;5;28;01mfrom\u001b[39;00m \u001b[38;5;28mNone\u001b[39m\n\u001b[1;32m   1235\u001b[0m \u001b[38;5;28;01mexcept\u001b[39;00m \u001b[38;5;167;01mException\u001b[39;00m:\n\u001b[1;32m   1236\u001b[0m     \u001b[38;5;28mself\u001b[39m\u001b[38;5;241m.\u001b[39mlog\u001b[38;5;241m.\u001b[39mwarning(\u001b[38;5;124m\"\u001b[39m\u001b[38;5;124mInvalid Message:\u001b[39m\u001b[38;5;124m\"\u001b[39m, exc_info\u001b[38;5;241m=\u001b[39m\u001b[38;5;28;01mTrue\u001b[39;00m)\n",
      "\u001b[0;31mKeyboardInterrupt\u001b[0m: Interrupted by user"
     ]
    }
   ],
   "source": [
    "re = int(input())\n",
    "for i in range(re):\n",
    "    st = str(input())\n",
    "    score = 0\n",
    "    stack = 1\n",
    "    for i in st:\n",
    "        if i =='O':\n",
    "            score +=stack\n",
    "            stack +=1\n",
    "        else:\n",
    "            stack = 1\n",
    "    print(score)"
   ]
  },
  {
   "cell_type": "markdown",
   "id": "8efe0a1f-82dc-42f4-b4b3-47df3bdc16b5",
   "metadata": {},
   "source": [
    "# 10989 bronze 1"
   ]
  },
  {
   "cell_type": "code",
   "execution_count": 9,
   "id": "c25c6b36-5558-4f63-a75f-7a2b4f33803a",
   "metadata": {
    "collapsed": true,
    "jupyter": {
     "outputs_hidden": true
    },
    "tags": []
   },
   "outputs": [
    {
     "name": "stdin",
     "output_type": "stream",
     "text": [
      " 5\n",
      " 2\n",
      " 3\n",
      " 1\n",
      " 4\n",
      " 2\n",
      " 3\n",
      " 5\n",
      " 1\n",
      " 7\n"
     ]
    },
    {
     "name": "stdout",
     "output_type": "stream",
     "text": [
      "1\n",
      "1\n",
      "2\n",
      "2\n",
      "3\n",
      "3\n",
      "4\n",
      "5\n",
      "5\n",
      "7\n"
     ]
    }
   ],
   "source": [
    "import sys\n",
    "num = int(sys.stdin.readline())\n",
    "arr = [0]*10001\n",
    "\n",
    "for i in range(num):\n",
    "    re = int(sys.stdin.readline())\n",
    "    arr[re] +=1\n",
    "    \n",
    "a = 0\n",
    "for number in arr:\n",
    "    if number:\n",
    "        for i in range(number):\n",
    "            print(a)\n",
    "    a+=1 "
   ]
  }
 ],
 "metadata": {
  "kernelspec": {
   "display_name": "Python 3 (ipykernel)",
   "language": "python",
   "name": "python3"
  },
  "language_info": {
   "codemirror_mode": {
    "name": "ipython",
    "version": 3
   },
   "file_extension": ".py",
   "mimetype": "text/x-python",
   "name": "python",
   "nbconvert_exporter": "python",
   "pygments_lexer": "ipython3",
   "version": "3.11.5"
  }
 },
 "nbformat": 4,
 "nbformat_minor": 5
}
