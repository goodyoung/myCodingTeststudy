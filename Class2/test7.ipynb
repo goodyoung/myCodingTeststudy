{
 "cells": [
  {
   "cell_type": "markdown",
   "id": "54f339c4-215a-48c9-a57a-3ea7ef5afa3d",
   "metadata": {
    "jp-MarkdownHeadingCollapsed": true,
    "tags": []
   },
   "source": [
    "# 2164 silver 4"
   ]
  },
  {
   "cell_type": "code",
   "execution_count": 36,
   "id": "3bcea5e5-4588-44a4-b766-e6fde18afbdd",
   "metadata": {
    "tags": []
   },
   "outputs": [],
   "source": [
    "a = int(input())\n",
    "a = 6"
   ]
  },
  {
   "cell_type": "markdown",
   "id": "dc337be1-dd55-4e1a-9b77-cce3968a826e",
   "metadata": {
    "jp-MarkdownHeadingCollapsed": true,
    "tags": []
   },
   "source": [
    "# list slicing Big-O"
   ]
  },
  {
   "cell_type": "code",
   "execution_count": 254,
   "id": "3e3c45ed-4535-4cef-ba99-0aec51eed9c3",
   "metadata": {
    "tags": []
   },
   "outputs": [
    {
     "name": "stdout",
     "output_type": "stream",
     "text": [
      "2\n"
     ]
    }
   ],
   "source": [
    "import sys\n",
    "a = 3#int(sys.stdin.readline())\n",
    "le = range(1,a+1)\n",
    "s = 0\n",
    "while (len(le) > 1):\n",
    "    temp = []\n",
    "    for j in le:\n",
    "        if (s==1):\n",
    "            s = 0\n",
    "            temp.append(j)\n",
    "        else:\n",
    "            s = 1\n",
    "    le = temp\n",
    "    \n",
    "print(le[0])"
   ]
  },
  {
   "cell_type": "markdown",
   "id": "c7cc20f3-4fb3-4599-9d12-1935eeccf7ef",
   "metadata": {
    "jp-MarkdownHeadingCollapsed": true,
    "tags": []
   },
   "source": [
    "# from deque"
   ]
  },
  {
   "cell_type": "code",
   "execution_count": 248,
   "id": "17cadeaf-5948-47e9-a7ba-52ccf85179c1",
   "metadata": {
    "tags": []
   },
   "outputs": [
    {
     "name": "stdout",
     "output_type": "stream",
     "text": [
      "2\n"
     ]
    }
   ],
   "source": [
    "from collections import deque\n",
    "import sys\n",
    "a = 3#int(sys.stdin.readline())\n",
    "le = range(1,a+1)\n",
    "deq = deque(le)\n",
    "while len(deq) > 1:\n",
    "    deq.popleft()\n",
    "    num = deq.popleft()\n",
    "    deq.append(num)\n",
    "print(deq[0])"
   ]
  },
  {
   "cell_type": "code",
   "execution_count": 206,
   "id": "b9d64c60-6721-4db9-8c3b-e3ba64e0b406",
   "metadata": {
    "tags": []
   },
   "outputs": [
    {
     "name": "stdout",
     "output_type": "stream",
     "text": [
      "488\n"
     ]
    }
   ],
   "source": [
    "import queue, sys\n",
    "\n",
    "a = 500#int(sys.stdin.readline())\n",
    "queue = queue.Queue()\n",
    "\n",
    "for i in range(1,a+1):\n",
    "    queue.put(i)\n",
    "    \n",
    "while queue.qsize() > 1:\n",
    "    queue.get()\n",
    "    queue.put(queue.get())\n",
    "    \n",
    "print(queue.get())"
   ]
  },
  {
   "cell_type": "code",
   "execution_count": null,
   "id": "dceeb050-97b5-48c3-a0b7-0a3f508667e5",
   "metadata": {},
   "outputs": [],
   "source": []
  },
  {
   "cell_type": "code",
   "execution_count": null,
   "id": "482afd32-016f-41d2-8107-d978d7b21243",
   "metadata": {},
   "outputs": [],
   "source": []
  },
  {
   "cell_type": "markdown",
   "id": "dc8a6823-0734-43b0-87f2-912edad92304",
   "metadata": {
    "jp-MarkdownHeadingCollapsed": true,
    "tags": []
   },
   "source": [
    "# 15829 bronze 2"
   ]
  },
  {
   "cell_type": "code",
   "execution_count": 112,
   "id": "116e2798-d645-4946-b5ef-0962f31bdcdd",
   "metadata": {
    "tags": []
   },
   "outputs": [
    {
     "name": "stdin",
     "output_type": "stream",
     "text": [
      " 5\n",
      " abcde\n"
     ]
    },
    {
     "name": "stdout",
     "output_type": "stream",
     "text": [
      "4739715\n"
     ]
    }
   ],
   "source": [
    "num = int(input())\n",
    "sr = str(input())\n",
    "\n",
    "dic = {'a':1,'b':2,'c':3,'d':4,'e':5,'f':6,'g':7,'h':8,'i':9,'j':10,'k':11,'l':12,'m':13,'n':14,'o':15,'p':16,'q':17,'r':18,\n",
    "       's':19,'t':20,'u':21,'v':22,'w':23,'x':24,'y':25,'z':26,}\n",
    "r,sum_all,s = 31,0,0\n",
    "for i in sr:\n",
    "    sum_all += dic[i] * (r**s)\n",
    "    s+=1\n",
    "print(sum_all % 1234567891)"
   ]
  },
  {
   "cell_type": "markdown",
   "id": "bd41c2d1-9c5b-436a-8067-68e4930c9cff",
   "metadata": {
    "jp-MarkdownHeadingCollapsed": true,
    "tags": []
   },
   "source": [
    "# 방법2"
   ]
  },
  {
   "cell_type": "code",
   "execution_count": null,
   "id": "d54b97cc-a191-4c31-8a5c-0359b2d46f34",
   "metadata": {},
   "outputs": [],
   "source": [
    "# num = int(input())\n",
    "# sr = str(input())\n",
    "\n",
    "dic = {'a':1,'b':2,'c':3,'d':4,'e':5,'f':6,'g':7,'h':8,'i':9,'j':10,'k':11,'l':12,'m':13,'n':14,'o':15,'p':16,'q':17,'r':18,\n",
    "       's':19,'t':20,'u':21,'v':22,'w':23,'x':24,'y':25,'z':26,}\n",
    "r,sum_all,s = 31,0,0\n",
    "for i in sr:\n",
    "    sum_all += dic[i] * (r**s)\n",
    "    s+=1\n",
    "print(sum_all % 1234567891)"
   ]
  },
  {
   "cell_type": "code",
   "execution_count": null,
   "id": "812b1c8a-f483-46a5-a689-b5b495cff528",
   "metadata": {},
   "outputs": [],
   "source": []
  },
  {
   "cell_type": "code",
   "execution_count": 275,
   "id": "8b43711e-4430-41c3-8dff-567bbae0578c",
   "metadata": {
    "tags": []
   },
   "outputs": [
    {
     "name": "stdin",
     "output_type": "stream",
     "text": [
      " 5\n",
      " abcde\n"
     ]
    },
    {
     "name": "stdout",
     "output_type": "stream",
     "text": [
      "4739715\n"
     ]
    }
   ],
   "source": [
    "num = int(input())\n",
    "sr = str(input())\n",
    "dic ={}\n",
    "for i in sr:\n",
    "    dic[i] = ord(i)-96\n",
    "    \n",
    "r,sum_all,s = 31,0,1\n",
    "for i in sr:\n",
    "    su = (dic[i] * s )\n",
    "    sum_all = (sum_all + su) % 1234567891\n",
    "    s = (s * r) % 1234567891\n",
    "print(sum_all)"
   ]
  },
  {
   "cell_type": "code",
   "execution_count": null,
   "id": "a5b99861-24ff-4c0e-bdb2-8faeaed9ce2c",
   "metadata": {},
   "outputs": [],
   "source": []
  },
  {
   "cell_type": "code",
   "execution_count": 271,
   "id": "c3ab7254-07b3-437a-a509-9bbbfd9eef47",
   "metadata": {
    "tags": []
   },
   "outputs": [
    {
     "data": {
      "text/plain": [
       "{'a': 1, 'b': 2, 'c': 3, 'd': 4, 'e': 5}"
      ]
     },
     "execution_count": 271,
     "metadata": {},
     "output_type": "execute_result"
    }
   ],
   "source": [
    "dic"
   ]
  },
  {
   "cell_type": "code",
   "execution_count": null,
   "id": "7c1ebbb6-9a71-44ee-b7fd-1357164ab583",
   "metadata": {},
   "outputs": [],
   "source": []
  },
  {
   "cell_type": "code",
   "execution_count": null,
   "id": "27a8f88b-9ffe-4b57-9dad-f48c1a164043",
   "metadata": {},
   "outputs": [],
   "source": []
  },
  {
   "cell_type": "code",
   "execution_count": null,
   "id": "ce8fe537-ddbc-4f3c-a209-9343b821b802",
   "metadata": {},
   "outputs": [],
   "source": []
  },
  {
   "cell_type": "code",
   "execution_count": null,
   "id": "9dee3315-0548-41ab-a8e4-eccce9dd25e1",
   "metadata": {},
   "outputs": [],
   "source": []
  },
  {
   "cell_type": "markdown",
   "id": "ab5056d4-645c-4945-ac76-b74bdc033996",
   "metadata": {
    "jp-MarkdownHeadingCollapsed": true,
    "tags": []
   },
   "source": [
    "# 1676 silver 5 fail"
   ]
  },
  {
   "cell_type": "code",
   "execution_count": 116,
   "id": "9c6a8b67-2b8e-40aa-8033-acb56d591fb6",
   "metadata": {
    "tags": []
   },
   "outputs": [
    {
     "data": {
      "text/plain": [
       "3628800"
      ]
     },
     "execution_count": 116,
     "metadata": {},
     "output_type": "execute_result"
    }
   ],
   "source": [
    "10*9*8*7*6*5*4*3*2*1"
   ]
  },
  {
   "cell_type": "code",
   "execution_count": null,
   "id": "1f7c3756-5eb3-4073-8f2f-41e05b6ac8aa",
   "metadata": {},
   "outputs": [],
   "source": [
    "2,5,0"
   ]
  },
  {
   "cell_type": "code",
   "execution_count": null,
   "id": "881b4913-1255-4e1f-ae87-5edb56878fea",
   "metadata": {
    "tags": []
   },
   "outputs": [
    {
     "name": "stdin",
     "output_type": "stream",
     "text": [
      " 25\n"
     ]
    },
    {
     "name": "stdout",
     "output_type": "stream",
     "text": [
      "5\n"
     ]
    }
   ],
   "source": [
    "num = int(input())\n",
    "count = 0\n",
    "for i in range(1,num+1):\n",
    "    if i%10==0:\n",
    "        count +=1\n",
    "    elif (i%10 == 2)| (i%10 == 5):\n",
    "        count +=0.5\n",
    "print(int(count))"
   ]
  },
  {
   "cell_type": "code",
   "execution_count": 69,
   "id": "9f23a376-e863-49a7-a339-36b8d2186839",
   "metadata": {},
   "outputs": [
    {
     "name": "stdin",
     "output_type": "stream",
     "text": [
      " 25\n"
     ]
    },
    {
     "name": "stdout",
     "output_type": "stream",
     "text": [
      "6\n"
     ]
    }
   ],
   "source": [
    "n = int(input())\n",
    "def five_count(n):\n",
    "    cnt = 0\n",
    "    while n != 0:\n",
    "        n //= 5\n",
    "        cnt += n\n",
    "    return cnt\n",
    "    \n",
    "print(five_count(n))"
   ]
  },
  {
   "cell_type": "markdown",
   "id": "353940b3-d718-4cb7-a092-75a66f342b8f",
   "metadata": {
    "jp-MarkdownHeadingCollapsed": true,
    "tags": []
   },
   "source": [
    "# 4949 silver 4"
   ]
  },
  {
   "cell_type": "code",
   "execution_count": 163,
   "id": "e0f5abe2-b788-4e03-a0db-834a1224b01c",
   "metadata": {
    "collapsed": true,
    "jupyter": {
     "outputs_hidden": true
    },
    "tags": []
   },
   "outputs": [
    {
     "name": "stdin",
     "output_type": "stream",
     "text": [
      " )\n"
     ]
    },
    {
     "name": "stdout",
     "output_type": "stream",
     "text": [
      "no\n"
     ]
    },
    {
     "name": "stdin",
     "output_type": "stream",
     "text": [
      " A rope may form )( a trail in a maze.\n"
     ]
    },
    {
     "name": "stdout",
     "output_type": "stream",
     "text": [
      "no\n"
     ]
    },
    {
     "name": "stdin",
     "output_type": "stream",
     "text": [
      " ([ (([( [ ] ) ( ) (( ))] )) ]).\n"
     ]
    },
    {
     "name": "stdout",
     "output_type": "stream",
     "text": [
      "yes\n"
     ]
    },
    {
     "name": "stdin",
     "output_type": "stream",
     "text": [
      "  .\n"
     ]
    },
    {
     "name": "stdout",
     "output_type": "stream",
     "text": [
      "yes\n"
     ]
    },
    {
     "name": "stdin",
     "output_type": "stream",
     "text": [
      " .\n"
     ]
    }
   ],
   "source": [
    "import sys\n",
    "\n",
    "while True:\n",
    "    \n",
    "    s = str(input())\n",
    "    if s=='.':\n",
    "        break\n",
    "        \n",
    "    temp = []\n",
    "    for string in s:\n",
    "        if (string == '(') | (string=='['):\n",
    "            temp.append(string)\n",
    "        elif string ==')':\n",
    "\n",
    "            if (temp) and (temp[-1] == '('):\n",
    "                temp.pop()\n",
    "            else:\n",
    "                temp.append(string)\n",
    "                break;\n",
    "        elif string ==']':\n",
    "            if (temp) and (temp[-1]=='['):\n",
    "                temp.pop()\n",
    "            else:\n",
    "                temp.append(string)\n",
    "                break;\n",
    "\n",
    "    if not temp:\n",
    "        print('yes')\n",
    "    else:\n",
    "        print('no')"
   ]
  },
  {
   "cell_type": "markdown",
   "id": "4cfa28f9-3a7c-484d-80e3-4c015b927b11",
   "metadata": {
    "tags": []
   },
   "source": [
    "# 1920 silver 4 이분 탐색"
   ]
  },
  {
   "cell_type": "code",
   "execution_count": 44,
   "id": "4604b84b-d316-4c8f-b705-65a46db7ff51",
   "metadata": {
    "tags": []
   },
   "outputs": [
    {
     "name": "stdin",
     "output_type": "stream",
     "text": [
      " 5\n",
      " 4 1 5 3 2\n",
      " 5\n",
      " 2 7 4 3 2\n"
     ]
    },
    {
     "name": "stdout",
     "output_type": "stream",
     "text": [
      "1\n",
      "0\n",
      "1\n",
      "1\n",
      "1\n"
     ]
    }
   ],
   "source": [
    "num1 = int(input())\n",
    "data = list(map(int, input().split()))\n",
    "num2 = int(input())\n",
    "answer = list(map(int, input().split()))\n",
    "data.sort()\n",
    "data_num = len(data)\n",
    "\n",
    "def search(first, last, data, key):\n",
    "    if first > last:\n",
    "        return 0\n",
    "    mid = (last + first)//2\n",
    "    if key == data[mid]:\n",
    "        return 1\n",
    "    elif key > data[mid]:\n",
    "        first = mid+1\n",
    "        return search(first,last,data,key)\n",
    "    else:\n",
    "        last = mid-1\n",
    "        return search(first,last,data,key)\n",
    "\n",
    "\n",
    "for key in answer:\n",
    "    result = search(0,data_num-1,data,key)\n",
    "    print(result)"
   ]
  },
  {
   "cell_type": "code",
   "execution_count": null,
   "id": "cf503798-a96e-4c95-a6d2-fc5df7c32b9c",
   "metadata": {},
   "outputs": [],
   "source": []
  },
  {
   "cell_type": "code",
   "execution_count": null,
   "id": "b1525be4-be8f-484a-8ccd-e624bb2219c3",
   "metadata": {},
   "outputs": [],
   "source": []
  },
  {
   "cell_type": "code",
   "execution_count": null,
   "id": "e99eb922-28f1-48dd-b8fe-1a73d056bbd3",
   "metadata": {},
   "outputs": [],
   "source": []
  },
  {
   "cell_type": "code",
   "execution_count": null,
   "id": "aeb8842a-c40a-42ef-89c6-928d2c914675",
   "metadata": {},
   "outputs": [],
   "source": []
  }
 ],
 "metadata": {
  "kernelspec": {
   "display_name": "Python 3 (ipykernel)",
   "language": "python",
   "name": "python3"
  },
  "language_info": {
   "codemirror_mode": {
    "name": "ipython",
    "version": 3
   },
   "file_extension": ".py",
   "mimetype": "text/x-python",
   "name": "python",
   "nbconvert_exporter": "python",
   "pygments_lexer": "ipython3",
   "version": "3.11.5"
  }
 },
 "nbformat": 4,
 "nbformat_minor": 5
}
