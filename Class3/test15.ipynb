{
 "cells": [
  {
   "cell_type": "markdown",
   "id": "99ac71b2-28b7-48d2-9951-cd6ddec32003",
   "metadata": {
    "jp-MarkdownHeadingCollapsed": true,
    "tags": []
   },
   "source": [
    "# 1074 silver 1 fail"
   ]
  },
  {
   "cell_type": "code",
   "execution_count": null,
   "id": "0f2489e7-eff2-4ef4-a1dd-e125c2edc21c",
   "metadata": {},
   "outputs": [],
   "source": [
    "\"\"\"\n",
    "시간 복잡도: O(N) (배열의 크기)\n",
    "공간 복잡도: O(1) \n",
    "\"\"\"\n",
    "import sys\n",
    "sys.setrecursionlimit(10*6)\n",
    "\n",
    "def z(x,y,N):\n",
    "    global cnt,flag\n",
    "    if flag:\n",
    "        print('asd',x,y,N)\n",
    "        return\n",
    "    n = N//2\n",
    "    if n> 0:\n",
    "        z(x,y,n)\n",
    "        z(x+n,y,n)\n",
    "        z(x,y+n,n)\n",
    "        z(x+n,y+n,n)\n",
    "        return\n",
    "    if (y == r) and (x == c):\n",
    "        print(cnt)\n",
    "        flag = 1\n",
    "    cnt +=1\n",
    "    \n",
    "\n",
    "N,r,c = map(int,sys.stdin.readline().split())\n",
    "flag,cnt = 0,0\n",
    "\n",
    "z(0,0,2**N)"
   ]
  },
  {
   "cell_type": "code",
   "execution_count": 45,
   "id": "19f17413-1c66-43c6-920a-52ed2138bf4b",
   "metadata": {
    "tags": []
   },
   "outputs": [],
   "source": [
    "\"\"\"\n",
    "시간 복잡도: O(2*(2**N)) (배열의 크기)\n",
    "공간 복잡도: O(2*(2**N)) (배열의 크기)\n",
    "\"\"\"\n",
    "import sys\n",
    "sys.setrecursionlimit(10*6)\n",
    "\n",
    "def z(x,y,N):\n",
    "    global cnt\n",
    "    \n",
    "    for i in range(x,N+x):\n",
    "        for j in range(y,N+y):\n",
    "            n = N //2\n",
    "            if n:\n",
    "                z(x,y,n)\n",
    "                z(x+n,y,n)\n",
    "                z(x,y+n,n)\n",
    "                z(x+n,y+n,n)\n",
    "                return\n",
    "    if (y == r) and (x == c):\n",
    "        print(cnt)\n",
    "        break;\n",
    "    cnt +=1\n",
    "    \n",
    "\n",
    "N,r,c = map(int,sys.stdin.readline())\n",
    "z_list = [[0]* (2**N) for _ in range(2**N)]\n",
    "cnt = 0\n",
    "\n",
    "z(0,0,2**N)    \n",
    "print(z_list[r][c])"
   ]
  },
  {
   "cell_type": "code",
   "execution_count": 47,
   "id": "aafc5b85-ddd7-4111-bdc8-8a0f43fbf08a",
   "metadata": {
    "tags": []
   },
   "outputs": [
    {
     "name": "stdout",
     "output_type": "stream",
     "text": [
      "0 0 0\n",
      "1 0 1\n",
      "0 1 2\n",
      "1 1 3\n",
      "2 0 4\n",
      "3 0 5\n",
      "2 1 6\n",
      "3 1 7\n",
      "0 2 8\n",
      "1 2 9\n",
      "0 3 10\n",
      "1 3 11\n",
      "2 2 12\n",
      "3 2 13\n",
      "2 3 14\n",
      "3 3 15\n"
     ]
    }
   ],
   "source": []
  },
  {
   "cell_type": "code",
   "execution_count": 49,
   "id": "7c861160-7961-4b91-b4fb-2898c8327b09",
   "metadata": {
    "tags": []
   },
   "outputs": [
    {
     "data": {
      "text/plain": [
       "11"
      ]
     },
     "execution_count": 49,
     "metadata": {},
     "output_type": "execute_result"
    }
   ],
   "source": []
  },
  {
   "cell_type": "code",
   "execution_count": null,
   "id": "e001006e-e339-401d-b0c6-1b09135c243f",
   "metadata": {},
   "outputs": [],
   "source": []
  },
  {
   "cell_type": "markdown",
   "id": "ad18bc48-c46c-419b-9f82-7a2bba2b965c",
   "metadata": {
    "jp-MarkdownHeadingCollapsed": true,
    "tags": []
   },
   "source": [
    "# 11279 silver 2"
   ]
  },
  {
   "cell_type": "code",
   "execution_count": 1,
   "id": "919dc9eb-d77d-4575-ae84-f9db3460c6c3",
   "metadata": {
    "tags": []
   },
   "outputs": [],
   "source": [
    "\"\"\"\n",
    "시간복잡도: O(NlogN) (heapq 시간복잡도 포함)\n",
    "공간복잡도: O(N)\n",
    "\n",
    "최소힙의 반대로 구현하였다.\n",
    "\"\"\"\n",
    "import sys\n",
    "import heapq\n",
    "\n",
    "N = int(sys.stdin.readline())\n",
    "\n",
    "heap = []\n",
    "for _ in range(N):\n",
    "    x = int(sys.stdin.readline())\n",
    "    if (not x):\n",
    "        if not len(heap):\n",
    "            print(0)\n",
    "        else:\n",
    "            print(-heapq.heappop(heap))\n",
    "    else:\n",
    "        heapq.heappush(heap,-x)"
   ]
  },
  {
   "cell_type": "markdown",
   "id": "ea2a1787-24c9-49fd-b207-a86cfcebc695",
   "metadata": {
    "jp-MarkdownHeadingCollapsed": true,
    "tags": []
   },
   "source": [
    "# 11286 silver1"
   ]
  },
  {
   "cell_type": "markdown",
   "id": "74e0f993-c1de-40c3-9da8-8a9fb9870a50",
   "metadata": {
    "jp-MarkdownHeadingCollapsed": true,
    "tags": []
   },
   "source": [
    "### try 1"
   ]
  },
  {
   "cell_type": "code",
   "execution_count": null,
   "id": "d7dae3df-389c-4d73-bdeb-1381bb5e5f3d",
   "metadata": {},
   "outputs": [],
   "source": [
    "\"\"\"\n",
    "시간복잡도: O(NlogN) (heapq 시간복잡도 포함)\n",
    "공간복잡도: O(N)\n",
    "\n",
    "양의 정수랑 음의 정수를 나눴다.\n",
    "\"\"\"\n",
    "import sys\n",
    "import heapq\n",
    "\n",
    "N = int(sys.stdin.readline())\n",
    "\n",
    "heap_plus = []\n",
    "heap_minus = []\n",
    "\n",
    "for _ in range(N):\n",
    "    x = int(sys.stdin.readline())\n",
    "    if not x: #0이면 출력\n",
    "        if (not len(heap_plus)) or (not len(heap_minus)): # 값이 없을 경우\n",
    "            if (not len(heap_plus)) and (not len(heap_minus)):\n",
    "                print(0)\n",
    "            elif (not len(heap_plus)):\n",
    "                print(-heapq.heappop(heap_minus))\n",
    "            else:\n",
    "                print(heapq.heappop(heap_plus))\n",
    "        else:\n",
    "            minus = heapq.heappop(heap_minus)\n",
    "            plus = heapq.heappop(heap_plus)\n",
    "            if (plus) >= minus:\n",
    "                print(-minus)\n",
    "                heapq.heappush(heap_plus,plus)\n",
    "            else:\n",
    "                print(plus)\n",
    "                heapq.heappush(heap_minus,minus)\n",
    "    else:\n",
    "        if x > 0:\n",
    "            heapq.heappush(heap_plus,x)\n",
    "        else:\n",
    "            heapq.heappush(heap_minus,-x)"
   ]
  },
  {
   "cell_type": "markdown",
   "id": "c517b571-5d21-4106-8ea3-7ef5c1f26add",
   "metadata": {
    "jp-MarkdownHeadingCollapsed": true,
    "tags": []
   },
   "source": [
    "### try 2"
   ]
  },
  {
   "cell_type": "code",
   "execution_count": null,
   "id": "42e458be-16bf-4df1-9d34-28ba2d967bb5",
   "metadata": {},
   "outputs": [],
   "source": [
    "\"\"\"\n",
    "시간복잡도: O(NlogN) (heapq 시간복잡도 포함)\n",
    "공간복잡도: O(N)\n",
    "\n",
    "양의 정수랑 음의 정수를 나눴다.\n",
    "\"\"\"\n",
    "import sys\n",
    "import heapq\n",
    "\n",
    "N = int(sys.stdin.readline())\n",
    "\n",
    "heap = []\n",
    "\n",
    "for _ in range(N):\n",
    "    x = int(sys.stdin.readline())\n",
    "    if not x: #0 이면\n",
    "        print(heapq.heappop(heap))\n",
    "    else:\n",
    "        heapq.heappush(heap,(x,abs(x))) #(원본, 절대값)\n",
    "        "
   ]
  },
  {
   "cell_type": "code",
   "execution_count": null,
   "id": "6571e284-4802-4d41-9502-7403b2d1b8d2",
   "metadata": {},
   "outputs": [],
   "source": []
  },
  {
   "cell_type": "code",
   "execution_count": null,
   "id": "6fd4e0d8-7732-4f8d-b324-4b92e9314f6c",
   "metadata": {},
   "outputs": [],
   "source": []
  },
  {
   "cell_type": "code",
   "execution_count": null,
   "id": "5885a2aa-5a44-43aa-b13f-4ce9577002a4",
   "metadata": {},
   "outputs": [],
   "source": []
  },
  {
   "cell_type": "markdown",
   "id": "e9681e21-8c03-44db-906c-2275db710600",
   "metadata": {
    "jp-MarkdownHeadingCollapsed": true,
    "tags": []
   },
   "source": [
    "# 10773 silver 4"
   ]
  },
  {
   "cell_type": "code",
   "execution_count": 1,
   "id": "0c7191ef-653f-4f2b-9bde-402959447cf1",
   "metadata": {
    "tags": []
   },
   "outputs": [],
   "source": [
    "import sys\n",
    "\n",
    "K = int(sys.stdin.readline())\n",
    "\n",
    "li = []\n",
    "\n",
    "total_num = 0\n",
    "for _ in range(K):\n",
    "    s = int(sys.stdin.readline())\n",
    "    if not s: # 0이면\n",
    "        pop_num = li.pop()\n",
    "        total_num -= pop_num\n",
    "    else:\n",
    "        li.append(s)\n",
    "        total_num += s\n",
    "print(total_num)"
   ]
  },
  {
   "cell_type": "markdown",
   "id": "cbffe4f4-b158-478f-bbe5-0ad71f255b0d",
   "metadata": {
    "jp-MarkdownHeadingCollapsed": true
   },
   "source": [
    "# 7576 gold 5"
   ]
  },
  {
   "cell_type": "markdown",
   "id": "7a417a7e-b204-46bb-8a69-c2a16d15b77c",
   "metadata": {
    "jp-MarkdownHeadingCollapsed": true,
    "tags": []
   },
   "source": [
    "### try 1"
   ]
  },
  {
   "cell_type": "code",
   "execution_count": null,
   "id": "b1ce081c-ee75-4f87-90db-0ab18f43a31e",
   "metadata": {},
   "outputs": [],
   "source": [
    "\"\"\"\n",
    "시간 복잡도: O(NM)\n",
    "공간 복잡도: O(NM)\n",
    "\n",
    "최소 날짜이므로 bfs 선택, 깊이(날짜) 저장, 모두 익지는 못하는 상황 판별\n",
    "\"\"\"\n",
    "import sys\n",
    "import queue\n",
    "\n",
    "def bfs(i,j, first_list):\n",
    "    d = [(-1,0),(1,0),(0,1),(0,-1)]\n",
    "    q = queue.Queue()\n",
    "    \n",
    "    # 처음 익은 토마토 먼저 넣기\n",
    "    if first_list:\n",
    "        for i in first_list:\n",
    "            q.put(i)\n",
    "    else: #익은 토마토가 없다면 -1 전달 (1이 없을 경우 -> 모두 익지는 못하는 상황)\n",
    "        cnt = -1\n",
    "\n",
    "    while not q.empty():\n",
    "        x,y,cnt = q.get()\n",
    "        for ix,iy in d:\n",
    "            dx, dy = x+ix, y+iy\n",
    "            if (0 <= dx < M) and (0 <= dy < N):\n",
    "                if (graph[dx][dy] == 0):\n",
    "                    graph[dx][dy] = 1\n",
    "                    q.put((dx,dy,cnt + 1))\n",
    "\n",
    "    return cnt\n",
    "\n",
    "\n",
    "if  __name__ == '__main__':\n",
    "    \n",
    "    N,M = map(int,sys.stdin.readline().split())\n",
    "    graph = [list(map(int,sys.stdin.readline().split())) for _ in range(M)]\n",
    "\n",
    "    first_list, result = [], 0\n",
    "\n",
    "    # 익은 토마토 판별\n",
    "    for i in range(M):\n",
    "        for j in range(N):\n",
    "            if graph[i][j] == 1:\n",
    "                first_list.append((i,j,0))\n",
    "    #bfs 시작\n",
    "    result = bfs(i,j,first_list)\n",
    "\n",
    "    #토마토가 모두 익지는 못하는 상황 판별\n",
    "    for i in range(M):\n",
    "        for j in range(N):\n",
    "            if not graph[i][j]:\n",
    "                result = -1\n",
    "    print(result)"
   ]
  },
  {
   "cell_type": "markdown",
   "id": "a21a9230-61cf-4b02-8a40-a52bb610352e",
   "metadata": {
    "jp-MarkdownHeadingCollapsed": true
   },
   "source": [
    "# 5430 gold 5"
   ]
  },
  {
   "cell_type": "markdown",
   "id": "62425311-dfab-421c-bee0-255add00a5c7",
   "metadata": {
    "jp-MarkdownHeadingCollapsed": true
   },
   "source": [
    "### try 1"
   ]
  },
  {
   "cell_type": "code",
   "execution_count": null,
   "id": "f5d28802-9143-4520-ae91-f5c74c7aa788",
   "metadata": {},
   "outputs": [],
   "source": [
    "\"\"\"\n",
    "시간 복잡도: O(N)\n",
    "공간 복잡도: O(N)\n",
    "자료형 deque로 양 방향에서 pop할 수 있게 하였다.\n",
    "\"\"\"\n",
    "import sys\n",
    "from collections import deque\n",
    "\n",
    "T = int(sys.stdin.readline())\n",
    "\n",
    "for _ in range(T):\n",
    "    definition = sys.stdin.readline().rstrip()\n",
    "    n = int(sys.stdin.readline())\n",
    "    arr = sys.stdin.readline().rstrip()\n",
    "    \n",
    "    if n:\n",
    "        arr = arr.replace('[','')\n",
    "        arr = arr.replace(']','')\n",
    "        arr = arr.strip().split(',') \n",
    "    else:\n",
    "        arr = []\n",
    "\n",
    "    q = deque(arr)\n",
    "    flag,error = 1,0\n",
    "    for defs in definition:\n",
    "        if defs=='R': # R인 경우\n",
    "            if flag:\n",
    "                flag = 0\n",
    "            else:\n",
    "                flag= 1\n",
    "        else: # D인 경우\n",
    "            if n:\n",
    "                if flag: # flag가 1일 때 정상\n",
    "                    q.popleft()\n",
    "                else:\n",
    "                    q.pop()\n",
    "                n -=1\n",
    "            else:\n",
    "                error = 1\n",
    "                break\n",
    "    if n:\n",
    "        if flag:\n",
    "            print(f\"[{','.join(list(q))}]\")\n",
    "        else:\n",
    "            print(f\"[{','.join(list(q)[::-1])}]\")\n",
    "    else:\n",
    "        if error:\n",
    "            print('error')\n",
    "        else:\n",
    "            print('[]') #비어있고 에러도 아닌 경우"
   ]
  },
  {
   "cell_type": "markdown",
   "id": "76713422-f9ab-40f7-a1f0-a56c2e78e06b",
   "metadata": {},
   "source": [
    "# 2607 silver 2 fail"
   ]
  },
  {
   "cell_type": "markdown",
   "id": "281e7d34-2fc2-47e5-94f6-93a137a3945d",
   "metadata": {},
   "source": [
    "### try1 fail"
   ]
  },
  {
   "cell_type": "code",
   "execution_count": null,
   "id": "493f5b55-8fb7-4a0a-a118-ab12b644a657",
   "metadata": {},
   "outputs": [],
   "source": [
    "import sys\n",
    "\n",
    "word_cnt = int(sys.stdin.readline())\n",
    "\n",
    "word_cnt = 4\n",
    "\n",
    "first_word = sys.stdin.readline().rstrip()\n",
    "first_set = set(first_word)\n",
    "first_num = len(first_word)\n",
    "result = 0\n",
    "\n",
    "for _ in range(word_cnt-1):\n",
    "    word = sys.stdin.readline().rstrip()\n",
    "    word_set = set(word)\n",
    "    word_num = len(word)\n",
    "    cnt = 0 \n",
    "    \n",
    "    # 같은 구성일 때 \n",
    "    if (first_set == word_set) and (first_num == word_num): \n",
    "        result += 1\n",
    "        break\n",
    "    # 비슷한 구성일 때\n",
    "\n",
    "    \n",
    "    if (first_num == word_num + 1):\n",
    "        if (len(first_set) <= len(first_set.intersection(word_set)) <= len(first_set)+1):\n",
    "            result +=1\n",
    "    elif (first_num == word_num - 1):\n",
    "        if (len(first_set)-1 <=len(first_set.intersection(word_set)) <= len(first_set)):\n",
    "            result +=1\n",
    "    elif(first_set == word_num):\n",
    "        if (len(first_set)-1 == len(first_set.intersection(word_set))):\n",
    "            result +=1\n",
    "print(result)"
   ]
  },
  {
   "cell_type": "markdown",
   "id": "d423129a-cb1d-47eb-936c-176cb5ff7dad",
   "metadata": {},
   "source": [
    "### try2"
   ]
  },
  {
   "cell_type": "code",
   "execution_count": null,
   "id": "5a153650-fe37-4c8c-9259-b3070ea2c494",
   "metadata": {},
   "outputs": [],
   "source": [
    "import sys\n",
    "word_cnt = int(sys.stdin.readline())\n",
    "\n",
    "first_word = sys.stdin.readline().rstrip()\n",
    "\n",
    "result, cnt = 0, 0 \n",
    "for _ in range(word_cnt-1):\n",
    "    word = sys.stdin.readline().rstrip()\n",
    "    s = list(first_word)\n",
    "    for i in word:\n",
    "        if i in s:\n",
    "            s.remove(i)\n",
    "        else:\n",
    "            cnt +=1\n",
    "    if len(s) < 2 and cnt < 2:\n",
    "        result += 1\n",
    "print(result)"
   ]
  },
  {
   "cell_type": "code",
   "execution_count": null,
   "id": "e61a061b-0d47-4772-a3c0-c77e66c4f4f5",
   "metadata": {},
   "outputs": [],
   "source": []
  },
  {
   "cell_type": "code",
   "execution_count": null,
   "id": "5b8c4ce1-77b1-4154-9dad-e1520fe2f345",
   "metadata": {},
   "outputs": [],
   "source": []
  },
  {
   "cell_type": "code",
   "execution_count": null,
   "id": "90018a1d-49b1-430f-9d28-33ec195b0b1d",
   "metadata": {},
   "outputs": [],
   "source": []
  },
  {
   "cell_type": "markdown",
   "id": "ba6d4927-1f65-4e13-bc88-8983d9582df3",
   "metadata": {},
   "source": [
    "# 10801 bronze 2"
   ]
  },
  {
   "cell_type": "code",
   "execution_count": null,
   "id": "b722cadd-eb29-42cb-8f3d-0265bd959706",
   "metadata": {},
   "outputs": [],
   "source": [
    "import sys\n",
    "\n",
    "card_a = list(map(int,sys.stdin.readline().split()))\n",
    "card_b = list(map(int,sys.stdin.readline().split()))\n",
    "cnt_a, cnt_b = 0, 0\n",
    "for i in range(10):\n",
    "    num = card_a[i] - card_b[i]\n",
    "    if num:\n",
    "        if num> 0:\n",
    "            cnt_a +=1\n",
    "        else:\n",
    "            cnt_b +=1\n",
    "        \n",
    "if cnt_a == cnt_b:\n",
    "    print('D')\n",
    "elif (cnt_a > cnt_b):\n",
    "    print('A')\n",
    "else:\n",
    "    print('B')\n",
    "        "
   ]
  },
  {
   "cell_type": "code",
   "execution_count": null,
   "id": "627ba540-7bb1-4190-8920-3a8be75df246",
   "metadata": {},
   "outputs": [],
   "source": []
  }
 ],
 "metadata": {
  "kernelspec": {
   "display_name": "Python 3 (ipykernel)",
   "language": "python",
   "name": "python3"
  },
  "language_info": {
   "codemirror_mode": {
    "name": "ipython",
    "version": 3
   },
   "file_extension": ".py",
   "mimetype": "text/x-python",
   "name": "python",
   "nbconvert_exporter": "python",
   "pygments_lexer": "ipython3",
   "version": "3.11.5"
  }
 },
 "nbformat": 4,
 "nbformat_minor": 5
}
