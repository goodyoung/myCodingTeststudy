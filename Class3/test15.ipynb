{
 "cells": [
  {
   "cell_type": "markdown",
   "id": "99ac71b2-28b7-48d2-9951-cd6ddec32003",
   "metadata": {
    "jp-MarkdownHeadingCollapsed": true,
    "tags": []
   },
   "source": [
    "# 1074 silver 1 fail"
   ]
  },
  {
   "cell_type": "code",
   "execution_count": null,
   "id": "0f2489e7-eff2-4ef4-a1dd-e125c2edc21c",
   "metadata": {},
   "outputs": [],
   "source": [
    "\"\"\"\n",
    "시간 복잡도: O(N) (배열의 크기)\n",
    "공간 복잡도: O(1) \n",
    "\"\"\"\n",
    "import sys\n",
    "sys.setrecursionlimit(10*6)\n",
    "\n",
    "def z(x,y,N):\n",
    "    global cnt,flag\n",
    "    if flag:\n",
    "        print('asd',x,y,N)\n",
    "        return\n",
    "    n = N//2\n",
    "    if n> 0:\n",
    "        z(x,y,n)\n",
    "        z(x+n,y,n)\n",
    "        z(x,y+n,n)\n",
    "        z(x+n,y+n,n)\n",
    "        return\n",
    "    if (y == r) and (x == c):\n",
    "        print(cnt)\n",
    "        flag = 1\n",
    "    cnt +=1\n",
    "    \n",
    "\n",
    "N,r,c = map(int,sys.stdin.readline().split())\n",
    "flag,cnt = 0,0\n",
    "\n",
    "z(0,0,2**N)"
   ]
  },
  {
   "cell_type": "code",
   "execution_count": 45,
   "id": "19f17413-1c66-43c6-920a-52ed2138bf4b",
   "metadata": {
    "tags": []
   },
   "outputs": [],
   "source": [
    "\"\"\"\n",
    "시간 복잡도: O(2*(2**N)) (배열의 크기)\n",
    "공간 복잡도: O(2*(2**N)) (배열의 크기)\n",
    "\"\"\"\n",
    "import sys\n",
    "sys.setrecursionlimit(10*6)\n",
    "\n",
    "def z(x,y,N):\n",
    "    global cnt\n",
    "    \n",
    "    for i in range(x,N+x):\n",
    "        for j in range(y,N+y):\n",
    "            n = N //2\n",
    "            if n:\n",
    "                z(x,y,n)\n",
    "                z(x+n,y,n)\n",
    "                z(x,y+n,n)\n",
    "                z(x+n,y+n,n)\n",
    "                return\n",
    "    if (y == r) and (x == c):\n",
    "        print(cnt)\n",
    "        break;\n",
    "    cnt +=1\n",
    "    \n",
    "\n",
    "N,r,c = map(int,sys.stdin.readline())\n",
    "z_list = [[0]* (2**N) for _ in range(2**N)]\n",
    "cnt = 0\n",
    "\n",
    "z(0,0,2**N)    \n",
    "print(z_list[r][c])"
   ]
  },
  {
   "cell_type": "code",
   "execution_count": 47,
   "id": "aafc5b85-ddd7-4111-bdc8-8a0f43fbf08a",
   "metadata": {
    "tags": []
   },
   "outputs": [
    {
     "name": "stdout",
     "output_type": "stream",
     "text": [
      "0 0 0\n",
      "1 0 1\n",
      "0 1 2\n",
      "1 1 3\n",
      "2 0 4\n",
      "3 0 5\n",
      "2 1 6\n",
      "3 1 7\n",
      "0 2 8\n",
      "1 2 9\n",
      "0 3 10\n",
      "1 3 11\n",
      "2 2 12\n",
      "3 2 13\n",
      "2 3 14\n",
      "3 3 15\n"
     ]
    }
   ],
   "source": []
  },
  {
   "cell_type": "code",
   "execution_count": 49,
   "id": "7c861160-7961-4b91-b4fb-2898c8327b09",
   "metadata": {
    "tags": []
   },
   "outputs": [
    {
     "data": {
      "text/plain": [
       "11"
      ]
     },
     "execution_count": 49,
     "metadata": {},
     "output_type": "execute_result"
    }
   ],
   "source": []
  },
  {
   "cell_type": "code",
   "execution_count": null,
   "id": "e001006e-e339-401d-b0c6-1b09135c243f",
   "metadata": {},
   "outputs": [],
   "source": []
  },
  {
   "cell_type": "markdown",
   "id": "ad18bc48-c46c-419b-9f82-7a2bba2b965c",
   "metadata": {
    "jp-MarkdownHeadingCollapsed": true,
    "tags": []
   },
   "source": [
    "# 11279 silver 2"
   ]
  },
  {
   "cell_type": "code",
   "execution_count": 1,
   "id": "919dc9eb-d77d-4575-ae84-f9db3460c6c3",
   "metadata": {
    "tags": []
   },
   "outputs": [],
   "source": [
    "\"\"\"\n",
    "시간복잡도: O(NlogN) (heapq 시간복잡도 포함)\n",
    "공간복잡도: O(N)\n",
    "\n",
    "최소힙의 반대로 구현하였다.\n",
    "\"\"\"\n",
    "import sys\n",
    "import heapq\n",
    "\n",
    "N = int(sys.stdin.readline())\n",
    "\n",
    "heap = []\n",
    "for _ in range(N):\n",
    "    x = int(sys.stdin.readline())\n",
    "    if (not x):\n",
    "        if not len(heap):\n",
    "            print(0)\n",
    "        else:\n",
    "            print(-heapq.heappop(heap))\n",
    "    else:\n",
    "        heapq.heappush(heap,-x)"
   ]
  },
  {
   "cell_type": "markdown",
   "id": "ea2a1787-24c9-49fd-b207-a86cfcebc695",
   "metadata": {
    "jp-MarkdownHeadingCollapsed": true,
    "tags": []
   },
   "source": [
    "# 11286 silver1"
   ]
  },
  {
   "cell_type": "markdown",
   "id": "74e0f993-c1de-40c3-9da8-8a9fb9870a50",
   "metadata": {
    "jp-MarkdownHeadingCollapsed": true,
    "tags": []
   },
   "source": [
    "### try 1"
   ]
  },
  {
   "cell_type": "code",
   "execution_count": null,
   "id": "d7dae3df-389c-4d73-bdeb-1381bb5e5f3d",
   "metadata": {},
   "outputs": [],
   "source": [
    "\"\"\"\n",
    "시간복잡도: O(NlogN) (heapq 시간복잡도 포함)\n",
    "공간복잡도: O(N)\n",
    "\n",
    "양의 정수랑 음의 정수를 나눴다.\n",
    "\"\"\"\n",
    "import sys\n",
    "import heapq\n",
    "\n",
    "N = int(sys.stdin.readline())\n",
    "\n",
    "heap_plus = []\n",
    "heap_minus = []\n",
    "\n",
    "for _ in range(N):\n",
    "    x = int(sys.stdin.readline())\n",
    "    if not x: #0이면 출력\n",
    "        if (not len(heap_plus)) or (not len(heap_minus)): # 값이 없을 경우\n",
    "            if (not len(heap_plus)) and (not len(heap_minus)):\n",
    "                print(0)\n",
    "            elif (not len(heap_plus)):\n",
    "                print(-heapq.heappop(heap_minus))\n",
    "            else:\n",
    "                print(heapq.heappop(heap_plus))\n",
    "        else:\n",
    "            minus = heapq.heappop(heap_minus)\n",
    "            plus = heapq.heappop(heap_plus)\n",
    "            if (plus) >= minus:\n",
    "                print(-minus)\n",
    "                heapq.heappush(heap_plus,plus)\n",
    "            else:\n",
    "                print(plus)\n",
    "                heapq.heappush(heap_minus,minus)\n",
    "    else:\n",
    "        if x > 0:\n",
    "            heapq.heappush(heap_plus,x)\n",
    "        else:\n",
    "            heapq.heappush(heap_minus,-x)"
   ]
  },
  {
   "cell_type": "markdown",
   "id": "c517b571-5d21-4106-8ea3-7ef5c1f26add",
   "metadata": {
    "jp-MarkdownHeadingCollapsed": true,
    "tags": []
   },
   "source": [
    "### try 2"
   ]
  },
  {
   "cell_type": "code",
   "execution_count": null,
   "id": "42e458be-16bf-4df1-9d34-28ba2d967bb5",
   "metadata": {},
   "outputs": [],
   "source": [
    "\"\"\"\n",
    "시간복잡도: O(NlogN) (heapq 시간복잡도 포함)\n",
    "공간복잡도: O(N)\n",
    "\n",
    "양의 정수랑 음의 정수를 나눴다.\n",
    "\"\"\"\n",
    "import sys\n",
    "import heapq\n",
    "\n",
    "N = int(sys.stdin.readline())\n",
    "\n",
    "heap = []\n",
    "\n",
    "for _ in range(N):\n",
    "    x = int(sys.stdin.readline())\n",
    "    if not x: #0 이면\n",
    "        print(heapq.heappop(heap))\n",
    "    else:\n",
    "        heapq.heappush(heap,(x,abs(x))) #(원본, 절대값)\n",
    "        "
   ]
  },
  {
   "cell_type": "code",
   "execution_count": null,
   "id": "6571e284-4802-4d41-9502-7403b2d1b8d2",
   "metadata": {},
   "outputs": [],
   "source": []
  },
  {
   "cell_type": "code",
   "execution_count": null,
   "id": "6fd4e0d8-7732-4f8d-b324-4b92e9314f6c",
   "metadata": {},
   "outputs": [],
   "source": []
  },
  {
   "cell_type": "code",
   "execution_count": null,
   "id": "5885a2aa-5a44-43aa-b13f-4ce9577002a4",
   "metadata": {},
   "outputs": [],
   "source": []
  },
  {
   "cell_type": "markdown",
   "id": "e9681e21-8c03-44db-906c-2275db710600",
   "metadata": {
    "jp-MarkdownHeadingCollapsed": true,
    "tags": []
   },
   "source": [
    "# 10773 silver 4"
   ]
  },
  {
   "cell_type": "code",
   "execution_count": 1,
   "id": "0c7191ef-653f-4f2b-9bde-402959447cf1",
   "metadata": {
    "tags": []
   },
   "outputs": [],
   "source": [
    "import sys\n",
    "\n",
    "K = int(sys.stdin.readline())\n",
    "\n",
    "li = []\n",
    "\n",
    "total_num = 0\n",
    "for _ in range(K):\n",
    "    s = int(sys.stdin.readline())\n",
    "    if not s: # 0이면\n",
    "        pop_num = li.pop()\n",
    "        total_num -= pop_num\n",
    "    else:\n",
    "        li.append(s)\n",
    "        total_num += s\n",
    "print(total_num)"
   ]
  },
  {
   "cell_type": "markdown",
   "id": "cbffe4f4-b158-478f-bbe5-0ad71f255b0d",
   "metadata": {},
   "source": [
    "# 7576 gold 5"
   ]
  },
  {
   "cell_type": "markdown",
   "id": "7a417a7e-b204-46bb-8a69-c2a16d15b77c",
   "metadata": {
    "jp-MarkdownHeadingCollapsed": true,
    "tags": []
   },
   "source": [
    "### try 1"
   ]
  },
  {
   "cell_type": "code",
   "execution_count": null,
   "id": "b1ce081c-ee75-4f87-90db-0ab18f43a31e",
   "metadata": {},
   "outputs": [],
   "source": [
    "\"\"\"\n",
    "시간 복잡도: O(NM)\n",
    "공간 복잡도: O(NM)\n",
    "\n",
    "최소 날짜이므로 bfs 선택, 깊이(날짜) 저장, 모두 익지는 못하는 상황 판별\n",
    "\"\"\"\n",
    "import sys\n",
    "import queue\n",
    "\n",
    "def bfs(i,j, first_list):\n",
    "    d = [(-1,0),(1,0),(0,1),(0,-1)]\n",
    "    q = queue.Queue()\n",
    "    \n",
    "    # 처음 익은 토마토 먼저 넣기\n",
    "    if first_list:\n",
    "        for i in first_list:\n",
    "            q.put(i)\n",
    "    else: #익은 토마토가 없다면 -1 전달 (1이 없을 경우 -> 모두 익지는 못하는 상황)\n",
    "        cnt = -1\n",
    "\n",
    "    while not q.empty():\n",
    "        x,y,cnt = q.get()\n",
    "        for ix,iy in d:\n",
    "            dx, dy = x+ix, y+iy\n",
    "            if (0 <= dx < M) and (0 <= dy < N):\n",
    "                if (graph[dx][dy] == 0):\n",
    "                    graph[dx][dy] = 1\n",
    "                    q.put((dx,dy,cnt + 1))\n",
    "\n",
    "    return cnt\n",
    "\n",
    "\n",
    "if  __name__ == '__main__':\n",
    "    \n",
    "    N,M = map(int,sys.stdin.readline().split())\n",
    "    graph = [list(map(int,sys.stdin.readline().split())) for _ in range(M)]\n",
    "\n",
    "    first_list, result = [], 0\n",
    "\n",
    "    # 익은 토마토 판별\n",
    "    for i in range(M):\n",
    "        for j in range(N):\n",
    "            if graph[i][j] == 1:\n",
    "                first_list.append((i,j,0))\n",
    "    #bfs 시작\n",
    "    result = bfs(i,j,first_list)\n",
    "\n",
    "    #토마토가 모두 익지는 못하는 상황 판별\n",
    "    for i in range(M):\n",
    "        for j in range(N):\n",
    "            if not graph[i][j]:\n",
    "                result = -1\n",
    "    print(result)"
   ]
  },
  {
   "cell_type": "markdown",
   "id": "0510935b-c5c6-4177-8de1-b708ec6160a6",
   "metadata": {},
   "source": [
    "### try 2 - day 수정"
   ]
  },
  {
   "cell_type": "code",
   "execution_count": null,
   "id": "862613d6-7cc4-4c19-8fb2-927faeb614cc",
   "metadata": {},
   "outputs": [],
   "source": [
    "\"\"\"\n",
    "시간 복잡도: O(NM)\n",
    "공간 복잡도: O(NM)\n",
    "\n",
    "최소 날짜이므로 bfs 선택, 깊이(날짜) 저장, 모두 익지는 못하는 상황 판별\n",
    "\"\"\"\n",
    "import sys\n",
    "import queue\n",
    "\n",
    "def bfs(i,j, first_list):\n",
    "    d = [(-1,0),(1,0),(0,1),(0,-1)]\n",
    "    q = queue.Queue()\n",
    "    day = 0\n",
    "\n",
    "    \n",
    "    # 처음 익은 토마토 먼저 넣기\n",
    "    if first_list:\n",
    "        for i in first_list:\n",
    "            q.put(i)\n",
    "    else: #익은 토마토가 없다면 -1 전달 (1이 없을 경우 -> 모두 익지는 못하는 상황)\n",
    "        day = -1\n",
    "\n",
    "    \n",
    "    while not q.empty():\n",
    "        size = q.qsize()\n",
    "        for _ in range(size):\n",
    "            x,y = q.get()\n",
    "            for ix,iy in d:\n",
    "                dx, dy = x+ix, y+iy\n",
    "                if (0 <= dx < M) and (0 <= dy < N) and (graph[dx][dy] == 0):\n",
    "                    graph[dx][dy] = 1\n",
    "                    q.put((dx,dy))\n",
    "        day += 1\n",
    "    return day\n",
    "\n",
    "\n",
    "if  __name__ == '__main__':\n",
    "    \n",
    "    N,M = map(int,sys.stdin.readline().split())\n",
    "    graph = [list(map(int,sys.stdin.readline().split())) for _ in range(M)]\n",
    "\n",
    "    first_list, result = [], 0\n",
    "\n",
    "    # 익은 토마토 판별\n",
    "    for i in range(M):\n",
    "        for j in range(N):\n",
    "            if graph[i][j] == 1:\n",
    "                first_list.append((i,j))\n",
    "            # elif graph[i][j] == 0:\n",
    "            #     amount += 1\n",
    "    #bfs 시작\n",
    "    result = bfs(i,j,first_list)\n",
    "\n",
    "    #토마토가 모두 익지는 못하는 상황 판별\n",
    "    for i in range(M):\n",
    "        for j in range(N):\n",
    "            if not graph[i][j]:\n",
    "                result = -1\n",
    "                \n",
    "    if result >= 0:\n",
    "        print(result -1)\n",
    "    else:\n",
    "        print(result)"
   ]
  },
  {
   "cell_type": "markdown",
   "id": "a0dec3b1-a1e2-4c03-9703-25a0c18138a0",
   "metadata": {
    "jp-MarkdownHeadingCollapsed": true
   },
   "source": [
    "### try 3 - queue 수정"
   ]
  },
  {
   "cell_type": "code",
   "execution_count": null,
   "id": "d843a007-ce0d-4322-a676-53709a710a5a",
   "metadata": {},
   "outputs": [],
   "source": [
    "\"\"\"\n",
    "시간 복잡도: O(NM)\n",
    "공간 복잡도: O(NM)\n",
    "\n",
    "최소 날짜이므로 bfs 선택, 깊이(날짜) 저장, 모두 익지는 못하는 상황 판별\n",
    "\"\"\"\n",
    "import sys\n",
    "import queue\n",
    "\n",
    "def bfs(i,j):\n",
    "    d = [(-1,0),(1,0),(0,1),(0,-1)]\n",
    "    day = 0\n",
    "\n",
    "    while not q.empty():\n",
    "        size = q.qsize()\n",
    "        for _ in range(size):\n",
    "            x,y = q.get()\n",
    "            for ix,iy in d:\n",
    "                dx, dy = x+ix, y+iy\n",
    "                if (0 <= dx < M) and (0 <= dy < N) and (graph[dx][dy] == 0):\n",
    "                    graph[dx][dy] = 1\n",
    "                    q.put((dx,dy))\n",
    "        day += 1\n",
    "    return day\n",
    "\n",
    "\n",
    "if  __name__ == '__main__':\n",
    "    \n",
    "    N,M = map(int,sys.stdin.readline().split())\n",
    "    graph = [list(map(int,sys.stdin.readline().split())) for _ in range(M)]\n",
    "\n",
    "    first_list, result = [], 0\n",
    "    q = queue.Queue()\n",
    "    # 익은 토마토 판별\n",
    "    for i in range(M):\n",
    "        for j in range(N):\n",
    "            if graph[i][j] == 1: # 처음 익은 토마토 먼저 넣기\n",
    "                q.put((i,j))\n",
    "                \n",
    "    #bfs 시작\n",
    "    result = bfs(i,j,first_list)\n",
    "\n",
    "    #토마토가 모두 익지는 못하는 상황 판별\n",
    "    for i in range(M):\n",
    "        for j in range(N):\n",
    "            if not graph[i][j]:\n",
    "                result = -1\n",
    "                \n",
    "    if result >= 0:\n",
    "        print(result -1)\n",
    "    else:\n",
    "        print(result)"
   ]
  },
  {
   "cell_type": "markdown",
   "id": "5b3d6f37-e7e1-4e50-afe7-3b9a34123336",
   "metadata": {},
   "source": [
    "### try 4 - Add: amount"
   ]
  },
  {
   "cell_type": "code",
   "execution_count": null,
   "id": "fe1efd6c-ad1b-48eb-baa4-1b1a86b643c1",
   "metadata": {},
   "outputs": [],
   "source": [
    "\"\"\"\n",
    "시간 복잡도: O(NM)\n",
    "공간 복잡도: O(NM)\n",
    "\n",
    "최소 날짜이므로 bfs 선택, 깊이(날짜) 저장, 모두 익지는 못하는 상황 판별\n",
    "\"\"\"\n",
    "import sys\n",
    "import queue\n",
    "\n",
    "def bfs():\n",
    "    global amount\n",
    "    d = [(-1,0),(1,0),(0,1),(0,-1)]\n",
    "    day = 0\n",
    "\n",
    "    while not q.empty():\n",
    "        size = q.qsize()\n",
    "        for _ in range(size):\n",
    "            x,y = q.get()\n",
    "            for ix,iy in d:\n",
    "                dx, dy = x+ix, y+iy\n",
    "                if (0 <= dx < M) and (0 <= dy < N) and (graph[dx][dy] == 0):\n",
    "                    graph[dx][dy] = 1\n",
    "                    q.put((dx,dy))\n",
    "                    amount -= 1\n",
    "        day += 1\n",
    "    return day\n",
    "\n",
    "\n",
    "if  __name__ == '__main__':\n",
    "    \n",
    "    N,M = map(int,sys.stdin.readline().split())\n",
    "    graph = [list(map(int,sys.stdin.readline().split())) for _ in range(M)]\n",
    "\n",
    "    q = queue.Queue()\n",
    "    amount = 0 # 안익은 토마토 개수\n",
    "    \n",
    "    # 익은 토마토 판별\n",
    "    for i in range(M):\n",
    "        for j in range(N):\n",
    "            if graph[i][j] == 1: # 처음 익은 토마토 먼저 넣기\n",
    "                q.put((i,j))\n",
    "            elif graph[i][j] == 0:\n",
    "                amount += 1\n",
    "                \n",
    "    #bfs 시작\n",
    "    result = bfs() # 사실 함수 필요 없다\n",
    "\n",
    "    if not amount:\n",
    "        print(result - 1)\n",
    "    else:\n",
    "        print(-1)"
   ]
  },
  {
   "cell_type": "markdown",
   "id": "a21a9230-61cf-4b02-8a40-a52bb610352e",
   "metadata": {
    "jp-MarkdownHeadingCollapsed": true
   },
   "source": [
    "# 5430 gold 5"
   ]
  },
  {
   "cell_type": "markdown",
   "id": "62425311-dfab-421c-bee0-255add00a5c7",
   "metadata": {
    "jp-MarkdownHeadingCollapsed": true
   },
   "source": [
    "### try 1"
   ]
  },
  {
   "cell_type": "code",
   "execution_count": null,
   "id": "f5d28802-9143-4520-ae91-f5c74c7aa788",
   "metadata": {},
   "outputs": [],
   "source": [
    "\"\"\"\n",
    "시간 복잡도: O(N)\n",
    "공간 복잡도: O(N)\n",
    "자료형 deque로 양 방향에서 pop할 수 있게 하였다.\n",
    "\"\"\"\n",
    "import sys\n",
    "from collections import deque\n",
    "\n",
    "T = int(sys.stdin.readline())\n",
    "\n",
    "for _ in range(T):\n",
    "    definition = sys.stdin.readline().rstrip()\n",
    "    n = int(sys.stdin.readline())\n",
    "    arr = sys.stdin.readline().rstrip()\n",
    "    \n",
    "    if n:\n",
    "        arr = arr.replace('[','')\n",
    "        arr = arr.replace(']','')\n",
    "        arr = arr.strip().split(',') \n",
    "    else:\n",
    "        arr = []\n",
    "\n",
    "    q = deque(arr)\n",
    "    flag,error = 1,0\n",
    "    for defs in definition:\n",
    "        if defs=='R': # R인 경우\n",
    "            if flag:\n",
    "                flag = 0\n",
    "            else:\n",
    "                flag= 1\n",
    "        else: # D인 경우\n",
    "            if n:\n",
    "                if flag: # flag가 1일 때 정상\n",
    "                    q.popleft()\n",
    "                else:\n",
    "                    q.pop()\n",
    "                n -=1\n",
    "            else:\n",
    "                error = 1\n",
    "                break\n",
    "    if n:\n",
    "        if flag:\n",
    "            print(f\"[{','.join(list(q))}]\")\n",
    "        else:\n",
    "            print(f\"[{','.join(list(q)[::-1])}]\")\n",
    "    else:\n",
    "        if error:\n",
    "            print('error')\n",
    "        else:\n",
    "            print('[]') #비어있고 에러도 아닌 경우"
   ]
  },
  {
   "cell_type": "markdown",
   "id": "d3683cad-27dd-4ce7-a0e2-a7a24724262a",
   "metadata": {
    "jp-MarkdownHeadingCollapsed": true
   },
   "source": [
    "### try 2"
   ]
  },
  {
   "cell_type": "code",
   "execution_count": null,
   "id": "a8b1ad69-cfbd-494d-9cce-0b7430a9353a",
   "metadata": {},
   "outputs": [],
   "source": [
    "\"\"\"\n",
    "시간 복잡도: O(N)\n",
    "공간 복잡도: O(N)\n",
    "자료형 deque로 양 방향에서 pop할 수 있게 하였다.\n",
    "\"\"\"\n",
    "import sys\n",
    "from collections import deque\n",
    "\n",
    "T = int(sys.stdin.readline())\n",
    "\n",
    "for _ in range(T):\n",
    "    definition = sys.stdin.readline().rstrip()\n",
    "    n = int(sys.stdin.readline())\n",
    "    arr = sys.stdin.readline().rstrip()\n",
    "    \n",
    "    if n:\n",
    "        arr = arr[1:-1].split(',') # splicing과 split으로 배열 생성\n",
    "\n",
    "    else:\n",
    "        arr = []\n",
    "\n",
    "    q = deque(arr)\n",
    "    flag,error = 1,0\n",
    "    for defs in definition:\n",
    "        if defs=='R': \n",
    "            flag *= (-1) # if 안쓰고 flag 바꾸기....?\n",
    "            \n",
    "        else: # D인 경우\n",
    "            if n:\n",
    "                if flag==1: # flag가 1일 때 정상\n",
    "                    q.popleft()\n",
    "                else:\n",
    "                    q.pop()\n",
    "                n -=1\n",
    "            else:\n",
    "                error = 1\n",
    "                break\n",
    "    if n:\n",
    "        if flag==1:\n",
    "            print(f\"[{','.join(list(q))}]\")\n",
    "        else:\n",
    "            print(f\"[{','.join(list(q)[::-1])}]\")\n",
    "    else:\n",
    "        if error:\n",
    "            print('error')\n",
    "        else:\n",
    "            print('[]') #비어있고 에러도 아닌 경우"
   ]
  },
  {
   "cell_type": "markdown",
   "id": "e21784c0-d45a-4b11-9a76-aeafdc39eacf",
   "metadata": {
    "jp-MarkdownHeadingCollapsed": true
   },
   "source": [
    "### try 3 - two pointer"
   ]
  },
  {
   "cell_type": "code",
   "execution_count": null,
   "id": "2a19194b-7e84-4d60-96d1-f569e7e6ba64",
   "metadata": {},
   "outputs": [],
   "source": [
    "\"\"\"\n",
    "시간 복잡도: O(N)\n",
    "공간 복잡도: O(N)\n",
    "two pointer 로 l,r을 각각 인덱스 양 끝을 지정.\n",
    "\"\"\"\n",
    "import sys\n",
    "from collections import deque\n",
    "\n",
    "T = int(sys.stdin.readline())\n",
    "\n",
    "for _ in range(T):\n",
    "    definition = sys.stdin.readline().rstrip()\n",
    "    n = int(sys.stdin.readline())\n",
    "    arr = sys.stdin.readline().rstrip()\n",
    "    \n",
    "    if n:\n",
    "        arr = arr[1:-1].split(',') # splicing과 split으로 배열 생성\n",
    "    else:\n",
    "        arr = []\n",
    "        \n",
    "    # deque 자료형 필요 없다\n",
    "    # q = deque(arr)\n",
    "    \n",
    "    l, r = 0, (n-1) # pointer\n",
    "    \n",
    "    flag, error = 1,0\n",
    "    \n",
    "    for defs in definition:\n",
    "        if defs=='R': \n",
    "            flag *= (-1)\n",
    "        else:\n",
    "            if n:\n",
    "                if flag==1: # flag가 1일 때 정상\n",
    "                    l += 1  # 정상 -> 0인덱스 증가\n",
    "                else:\n",
    "                    r -= 1\n",
    "                n -=1\n",
    "            else:\n",
    "                error = 1\n",
    "                break\n",
    "    # l과 r이 교차 -> 빈 배열 생성\n",
    "    # arr 배열 다시 할당\n",
    "    arr = arr[l:r+1]\n",
    "                \n",
    "    if n:\n",
    "        if flag==1:\n",
    "            print(f\"[{','.join(arr)}]\")\n",
    "        else:\n",
    "            print(f\"[{','.join(arr[::-1])}]\")\n",
    "    else:\n",
    "        if error:\n",
    "            print('error')\n",
    "        else:\n",
    "            print(arr)"
   ]
  },
  {
   "cell_type": "markdown",
   "id": "76713422-f9ab-40f7-a1f0-a56c2e78e06b",
   "metadata": {},
   "source": [
    "# 2607 silver 2"
   ]
  },
  {
   "cell_type": "markdown",
   "id": "281e7d34-2fc2-47e5-94f6-93a137a3945d",
   "metadata": {
    "jp-MarkdownHeadingCollapsed": true
   },
   "source": [
    "### try1 fail"
   ]
  },
  {
   "cell_type": "code",
   "execution_count": null,
   "id": "493f5b55-8fb7-4a0a-a118-ab12b644a657",
   "metadata": {},
   "outputs": [],
   "source": [
    "import sys\n",
    "\n",
    "word_cnt = int(sys.stdin.readline())\n",
    "\n",
    "word_cnt = 4\n",
    "\n",
    "first_word = sys.stdin.readline().rstrip()\n",
    "first_set = set(first_word)\n",
    "first_num = len(first_word)\n",
    "result = 0\n",
    "\n",
    "for _ in range(word_cnt-1):\n",
    "    word = sys.stdin.readline().rstrip()\n",
    "    word_set = set(word)\n",
    "    word_num = len(word)\n",
    "    cnt = 0 \n",
    "    \n",
    "    # 같은 구성일 때 \n",
    "    if (first_set == word_set) and (first_num == word_num): \n",
    "        result += 1\n",
    "        break\n",
    "    # 비슷한 구성일 때\n",
    "\n",
    "    \n",
    "    if (first_num == word_num + 1):\n",
    "        if (len(first_set) <= len(first_set.intersection(word_set)) <= len(first_set)+1):\n",
    "            result +=1\n",
    "    elif (first_num == word_num - 1):\n",
    "        if (len(first_set)-1 <=len(first_set.intersection(word_set)) <= len(first_set)):\n",
    "            result +=1\n",
    "    elif(first_set == word_num):\n",
    "        if (len(first_set)-1 == len(first_set.intersection(word_set))):\n",
    "            result +=1\n",
    "print(result)"
   ]
  },
  {
   "cell_type": "markdown",
   "id": "d423129a-cb1d-47eb-936c-176cb5ff7dad",
   "metadata": {
    "jp-MarkdownHeadingCollapsed": true
   },
   "source": [
    "### try2"
   ]
  },
  {
   "cell_type": "code",
   "execution_count": null,
   "id": "5a153650-fe37-4c8c-9259-b3070ea2c494",
   "metadata": {},
   "outputs": [],
   "source": [
    "\"\"\"\n",
    "시간복잡도: O(NM) (in연산 포함)\n",
    "공간복잡도: O(N)\n",
    "\"\"\"\n",
    "import sys\n",
    "word_cnt = int(sys.stdin.readline())\n",
    "\n",
    "first_word = sys.stdin.readline().rstrip()\n",
    "\n",
    "result = 0\n",
    "for _ in range(word_cnt-1):\n",
    "    cnt = 0\n",
    "    word = sys.stdin.readline().rstrip()\n",
    "    s = list(first_word)\n",
    "    for i in word:\n",
    "        if i in s:\n",
    "            s.remove(i)\n",
    "        else:\n",
    "            cnt +=1\n",
    "    if len(s) < 2 and cnt < 2:\n",
    "        result += 1\n",
    "print(result)"
   ]
  },
  {
   "cell_type": "markdown",
   "id": "acca5174-5180-4b15-b484-959a66d6b5fa",
   "metadata": {
    "jp-MarkdownHeadingCollapsed": true
   },
   "source": [
    "### try3"
   ]
  },
  {
   "cell_type": "code",
   "execution_count": 9,
   "id": "35a83002-d4c0-42ba-a048-b115e1d40d7c",
   "metadata": {
    "collapsed": true,
    "jupyter": {
     "outputs_hidden": true
    }
   },
   "outputs": [
    {
     "ename": "ValueError",
     "evalue": "invalid literal for int() with base 10: ''",
     "output_type": "error",
     "traceback": [
      "\u001b[0;31m---------------------------------------------------------------------------\u001b[0m",
      "\u001b[0;31mValueError\u001b[0m                                Traceback (most recent call last)",
      "Cell \u001b[0;32mIn[9], line 6\u001b[0m\n\u001b[1;32m      1\u001b[0m \u001b[38;5;124;03m\"\"\"\u001b[39;00m\n\u001b[1;32m      2\u001b[0m \u001b[38;5;124;03m시간복잡도: O(NM) (in연산 포함)\u001b[39;00m\n\u001b[1;32m      3\u001b[0m \u001b[38;5;124;03m공간복잡도: O(N)\u001b[39;00m\n\u001b[1;32m      4\u001b[0m \u001b[38;5;124;03m\"\"\"\u001b[39;00m\n\u001b[1;32m      5\u001b[0m \u001b[38;5;28;01mimport\u001b[39;00m \u001b[38;5;21;01msys\u001b[39;00m\n\u001b[0;32m----> 6\u001b[0m word_cnt \u001b[38;5;241m=\u001b[39m \u001b[38;5;28;43mint\u001b[39;49m\u001b[43m(\u001b[49m\u001b[43msys\u001b[49m\u001b[38;5;241;43m.\u001b[39;49m\u001b[43mstdin\u001b[49m\u001b[38;5;241;43m.\u001b[39;49m\u001b[43mreadline\u001b[49m\u001b[43m(\u001b[49m\u001b[43m)\u001b[49m\u001b[43m)\u001b[49m\n\u001b[1;32m      8\u001b[0m first_word \u001b[38;5;241m=\u001b[39m sys\u001b[38;5;241m.\u001b[39mstdin\u001b[38;5;241m.\u001b[39mreadline()\u001b[38;5;241m.\u001b[39mrstrip()\n\u001b[1;32m     10\u001b[0m result \u001b[38;5;241m=\u001b[39m \u001b[38;5;241m0\u001b[39m\n",
      "\u001b[0;31mValueError\u001b[0m: invalid literal for int() with base 10: ''"
     ]
    }
   ],
   "source": [
    "\"\"\"\n",
    "시간복잡도: O(NM) (in연산 포함)\n",
    "공간복잡도: O(N)\n",
    "\"\"\"\n",
    "import sys\n",
    "word_cnt = int(sys.stdin.readline())\n",
    "\n",
    "first_word = sys.stdin.readline().rstrip()\n",
    "\n",
    "result = 0\n",
    "\n",
    "\n",
    "for _ in range(word_cnt-1):\n",
    "    cnt = 0\n",
    "    word = sys.stdin.readline().rstrip()\n",
    "    # 배열 초기화  -> Coun\n",
    "    words = {}\n",
    "    for w in first_word:\n",
    "        if w in words:\n",
    "            words[w] +=1 \n",
    "        else:\n",
    "            words[w] = 1\n",
    "        \n",
    "    # 단어 비교\n",
    "    for i in word:\n",
    "        if (i in words) and (words[i]):\n",
    "            words[i] -=1\n",
    "        else:\n",
    "            cnt +=1\n",
    "            \n",
    "    if sum(words.values()) < 2 and cnt < 2:\n",
    "        result += 1\n",
    "print(result)"
   ]
  },
  {
   "cell_type": "markdown",
   "id": "ba6d4927-1f65-4e13-bc88-8983d9582df3",
   "metadata": {},
   "source": [
    "# 10801 bronze 2"
   ]
  },
  {
   "cell_type": "code",
   "execution_count": null,
   "id": "b722cadd-eb29-42cb-8f3d-0265bd959706",
   "metadata": {},
   "outputs": [],
   "source": [
    "import sys\n",
    "\n",
    "card_a = list(map(int,sys.stdin.readline().split()))\n",
    "card_b = list(map(int,sys.stdin.readline().split()))\n",
    "cnt_a, cnt_b = 0, 0\n",
    "for i in range(10):\n",
    "    num = card_a[i] - card_b[i]\n",
    "    if num:\n",
    "        if num> 0:\n",
    "            cnt_a +=1\n",
    "        else:\n",
    "            cnt_b +=1\n",
    "        \n",
    "if cnt_a == cnt_b:\n",
    "    print('D')\n",
    "elif (cnt_a > cnt_b):\n",
    "    print('A')\n",
    "else:\n",
    "    print('B')   "
   ]
  },
  {
   "cell_type": "markdown",
   "id": "e4369da5-6f5a-471d-9242-4ebaf54824b3",
   "metadata": {
    "jp-MarkdownHeadingCollapsed": true
   },
   "source": [
    "# 1931 silver 1"
   ]
  },
  {
   "cell_type": "code",
   "execution_count": null,
   "id": "2bd59cf6-6198-445d-b135-83c470f9057a",
   "metadata": {},
   "outputs": [],
   "source": [
    "\"\"\"\n",
    "시간 복잡도: O(NlogN)\n",
    "공간 복잡도: O(2N)\n",
    "\"\"\"\n",
    "import sys\n",
    "N = int(sys.stdin.readline())\n",
    "\n",
    "meet = []\n",
    "for _ in range(N):\n",
    "    a,b = map(int,sys.stdin.readline().split())\n",
    "    meet.append((a,b))\n",
    "    \n",
    "c = sorted(meet, key = lambda x: (x[1],x[0]))\n",
    "\n",
    "cnt = 1\n",
    "flag = c[0][1]\n",
    "for i in range(1,N):\n",
    "    if (flag <= c[i][0]):\n",
    "        cnt +=1\n",
    "        flag = c[i][1]\n",
    "\n",
    "print(cnt)"
   ]
  }
 ],
 "metadata": {
  "kernelspec": {
   "display_name": "Python 3 (ipykernel)",
   "language": "python",
   "name": "python3"
  },
  "language_info": {
   "codemirror_mode": {
    "name": "ipython",
    "version": 3
   },
   "file_extension": ".py",
   "mimetype": "text/x-python",
   "name": "python",
   "nbconvert_exporter": "python",
   "pygments_lexer": "ipython3",
   "version": "3.11.5"
  }
 },
 "nbformat": 4,
 "nbformat_minor": 5
}
