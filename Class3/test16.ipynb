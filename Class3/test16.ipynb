{
 "cells": [
  {
   "cell_type": "markdown",
   "id": "906f4a9b-b11d-4570-abe0-dbf503f69484",
   "metadata": {
    "jp-MarkdownHeadingCollapsed": true
   },
   "source": [
    "# 1541 silver 2"
   ]
  },
  {
   "cell_type": "code",
   "execution_count": null,
   "id": "39fba7cc-ce98-4327-8b81-af0cc3a80290",
   "metadata": {},
   "outputs": [],
   "source": [
    "\"\"\"\n",
    "시간 복잡도: O(N)\n",
    "공간 복잡도: O(N)\n",
    "\n",
    "마이너스일 땐 그 뒤로 나오는 숫자 다 더해서 빼면 된다\n",
    "\"\"\"\n",
    "import sys\n",
    "\n",
    "sentence = sys.stdin.readline().rstrip()\n",
    "\n",
    "minus, plus =[], []\n",
    "flag = 1\n",
    "number = ''\n",
    "for i in sentence:2\n",
    "    if ord(i) == 45: # 빼기\n",
    "        if flag:\n",
    "            plus.append(number)\n",
    "            flag = 0\n",
    "        else:\n",
    "            minus.append(number)\n",
    "        number = ''\n",
    "    elif ord(i) == 43: # 더하기\n",
    "        if flag:\n",
    "            plus.append(number)\n",
    "        else:\n",
    "            minus.append(number)\n",
    "        number = ''\n",
    "    else: # 숫자\n",
    "        number += i\n",
    "# 마지막\n",
    "if flag:\n",
    "    plus.append(number)\n",
    "else:\n",
    "    minus.append(number)\n",
    "    \n",
    "plus_num = sum(map(int,plus))\n",
    "minus_num = sum(map(int,minus))\n",
    "print(plus_num - minus_num)"
   ]
  },
  {
   "cell_type": "markdown",
   "id": "ff100679-defd-4a0e-aed6-730ad3acc2e2",
   "metadata": {
    "jp-MarkdownHeadingCollapsed": true
   },
   "source": [
    "# 20291 silver 3"
   ]
  },
  {
   "cell_type": "code",
   "execution_count": null,
   "id": "d6c7440f-8675-4894-b28a-c530aeff03bf",
   "metadata": {},
   "outputs": [],
   "source": [
    "\"\"\"\n",
    "시간 복잡도: O(NlogN) (sorted)\n",
    "공간 복잡도: O(N)\n",
    "\"\"\"\n",
    "import sys\n",
    "\n",
    "N = int(sys.stdin.readline())\n",
    "\n",
    "extension_set = dict()\n",
    "for _ in range(N):\n",
    "    name = sys.stdin.readline().rstrip()\n",
    "    extension = name.split('.')\n",
    "    \n",
    "    if extension[1] in extension_set:\n",
    "        extension_set[extension[1]] +=1\n",
    "    else:\n",
    "        extension_set[extension[1]] =1\n",
    "        \n",
    "extension_list = sorted(extension_set.items())\n",
    "\n",
    "for exName,num in extension_list:\n",
    "    print(f\"{exName} {num}\")"
   ]
  },
  {
   "cell_type": "markdown",
   "id": "c03894af-c531-4c66-86cb-d2b494a91493",
   "metadata": {
    "jp-MarkdownHeadingCollapsed": true
   },
   "source": [
    "# 9461 silver 3"
   ]
  },
  {
   "cell_type": "code",
   "execution_count": null,
   "id": "4e4be014-879a-40a8-82cb-9531d6b4e960",
   "metadata": {},
   "outputs": [],
   "source": [
    "\"\"\"\n",
    "시간 복잡도: O(N)\n",
    "공간 복잡도: O(1)\n",
    "\n",
    "4부터는 기준의 2,3번째를 더하는 점화식을 발견하게 되었다.\n",
    "\"\"\"\n",
    "import sys\n",
    "\n",
    "T = int(sys.stdin.readline())\n",
    "\n",
    "dp = [0]*(100+1)\n",
    "\n",
    "for _ in range(T):\n",
    "    N = int(sys.stdin.readline())\n",
    "    dp[1] = 1\n",
    "    dp[2] = 1\n",
    "    dp[3] = 1\n",
    "    if N > 3:\n",
    "        for i in range(4,N+1):\n",
    "            dp[i] = dp[i-2] + dp[i-3]\n",
    "    print(dp[N])"
   ]
  }
 ],
 "metadata": {
  "kernelspec": {
   "display_name": "Python 3 (ipykernel)",
   "language": "python",
   "name": "python3"
  },
  "language_info": {
   "codemirror_mode": {
    "name": "ipython",
    "version": 3
   },
   "file_extension": ".py",
   "mimetype": "text/x-python",
   "name": "python",
   "nbconvert_exporter": "python",
   "pygments_lexer": "ipython3",
   "version": "3.11.5"
  }
 },
 "nbformat": 4,
 "nbformat_minor": 5
}
