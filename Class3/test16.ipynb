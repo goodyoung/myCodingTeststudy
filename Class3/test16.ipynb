{
 "cells": [
  {
   "cell_type": "markdown",
   "id": "906f4a9b-b11d-4570-abe0-dbf503f69484",
   "metadata": {},
   "source": [
    "# 1541 silver 2"
   ]
  },
  {
   "cell_type": "code",
   "execution_count": null,
   "id": "39fba7cc-ce98-4327-8b81-af0cc3a80290",
   "metadata": {},
   "outputs": [],
   "source": [
    "\"\"\"\n",
    "시간 복잡도: O(N)\n",
    "공간 복잡도: O(N)\n",
    "\n",
    "마이너스일 땐 그 뒤로 나오는 숫자 다 더해서 빼면 된다\n",
    "\"\"\"\n",
    "import sys\n",
    "\n",
    "sentence = sys.stdin.readline().rstrip()\n",
    "\n",
    "minus, plus =[], []\n",
    "flag = 1\n",
    "number = ''\n",
    "for i in sentence:2\n",
    "    if ord(i) == 45: # 빼기\n",
    "        if flag:\n",
    "            plus.append(number)\n",
    "            flag = 0\n",
    "        else:\n",
    "            minus.append(number)\n",
    "        number = ''\n",
    "    elif ord(i) == 43: # 더하기\n",
    "        if flag:\n",
    "            plus.append(number)\n",
    "        else:\n",
    "            minus.append(number)\n",
    "        number = ''\n",
    "    else: # 숫자\n",
    "        number += i\n",
    "# 마지막\n",
    "if flag:\n",
    "    plus.append(number)\n",
    "else:\n",
    "    minus.append(number)\n",
    "    \n",
    "plus_num = sum(map(int,plus))\n",
    "minus_num = sum(map(int,minus))\n",
    "print(plus_num - minus_num)"
   ]
  }
 ],
 "metadata": {
  "kernelspec": {
   "display_name": "Python 3 (ipykernel)",
   "language": "python",
   "name": "python3"
  },
  "language_info": {
   "codemirror_mode": {
    "name": "ipython",
    "version": 3
   },
   "file_extension": ".py",
   "mimetype": "text/x-python",
   "name": "python",
   "nbconvert_exporter": "python",
   "pygments_lexer": "ipython3",
   "version": "3.11.5"
  }
 },
 "nbformat": 4,
 "nbformat_minor": 5
}
