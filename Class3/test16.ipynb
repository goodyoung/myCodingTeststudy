{
 "cells": [
  {
   "cell_type": "markdown",
   "id": "906f4a9b-b11d-4570-abe0-dbf503f69484",
   "metadata": {
    "jp-MarkdownHeadingCollapsed": true
   },
   "source": [
    "# 1541 silver 2"
   ]
  },
  {
   "cell_type": "code",
   "execution_count": null,
   "id": "39fba7cc-ce98-4327-8b81-af0cc3a80290",
   "metadata": {},
   "outputs": [],
   "source": [
    "\"\"\"\n",
    "시간 복잡도: O(N)\n",
    "공간 복잡도: O(N)\n",
    "\n",
    "마이너스일 땐 그 뒤로 나오는 숫자 다 더해서 빼면 된다\n",
    "\"\"\"\n",
    "import sys\n",
    "\n",
    "sentence = sys.stdin.readline().rstrip()\n",
    "\n",
    "minus, plus =[], []\n",
    "flag = 1\n",
    "number = ''\n",
    "for i in sentence:2\n",
    "    if ord(i) == 45: # 빼기\n",
    "        if flag:\n",
    "            plus.append(number)\n",
    "            flag = 0\n",
    "        else:\n",
    "            minus.append(number)\n",
    "        number = ''\n",
    "    elif ord(i) == 43: # 더하기\n",
    "        if flag:\n",
    "            plus.append(number)\n",
    "        else:\n",
    "            minus.append(number)\n",
    "        number = ''\n",
    "    else: # 숫자\n",
    "        number += i\n",
    "# 마지막\n",
    "if flag:\n",
    "    plus.append(number)\n",
    "else:\n",
    "    minus.append(number)\n",
    "    \n",
    "plus_num = sum(map(int,plus))\n",
    "minus_num = sum(map(int,minus))\n",
    "print(plus_num - minus_num)"
   ]
  },
  {
   "cell_type": "markdown",
   "id": "ff100679-defd-4a0e-aed6-730ad3acc2e2",
   "metadata": {
    "jp-MarkdownHeadingCollapsed": true
   },
   "source": [
    "# 20291 silver 3"
   ]
  },
  {
   "cell_type": "code",
   "execution_count": null,
   "id": "d6c7440f-8675-4894-b28a-c530aeff03bf",
   "metadata": {},
   "outputs": [],
   "source": [
    "\"\"\"\n",
    "시간 복잡도: O(NlogN) (sorted)\n",
    "공간 복잡도: O(N)\n",
    "\"\"\"\n",
    "import sys\n",
    "\n",
    "N = int(sys.stdin.readline())\n",
    "\n",
    "extension_set = dict()\n",
    "for _ in range(N):\n",
    "    name = sys.stdin.readline().rstrip()\n",
    "    extension = name.split('.')\n",
    "    \n",
    "    if extension[1] in extension_set:\n",
    "        extension_set[extension[1]] +=1\n",
    "    else:\n",
    "        extension_set[extension[1]] =1\n",
    "        \n",
    "extension_list = sorted(extension_set.items())\n",
    "\n",
    "for exName,num in extension_list:\n",
    "    print(f\"{exName} {num}\")"
   ]
  },
  {
   "cell_type": "markdown",
   "id": "c03894af-c531-4c66-86cb-d2b494a91493",
   "metadata": {
    "jp-MarkdownHeadingCollapsed": true
   },
   "source": [
    "# 9461 silver 3"
   ]
  },
  {
   "cell_type": "code",
   "execution_count": null,
   "id": "4e4be014-879a-40a8-82cb-9531d6b4e960",
   "metadata": {},
   "outputs": [],
   "source": [
    "\"\"\"\n",
    "시간 복잡도: O(N)\n",
    "공간 복잡도: O(1)\n",
    "\n",
    "4부터는 기준의 2,3번째를 더하는 점화식을 발견하게 되었다.\n",
    "\"\"\"\n",
    "import sys\n",
    "\n",
    "T = int(sys.stdin.readline())\n",
    "\n",
    "dp = [0]*(100+1)\n",
    "\n",
    "for _ in range(T):\n",
    "    N = int(sys.stdin.readline())\n",
    "    dp[1] = 1\n",
    "    dp[2] = 1\n",
    "    dp[3] = 1\n",
    "    if N > 3:\n",
    "        for i in range(4,N+1):\n",
    "            dp[i] = dp[i-2] + dp[i-3]\n",
    "    print(dp[N])"
   ]
  },
  {
   "cell_type": "markdown",
   "id": "224301d4-41b2-493a-abd1-a7075a37a2b2",
   "metadata": {
    "jp-MarkdownHeadingCollapsed": true
   },
   "source": [
    "# 10025 silver 3"
   ]
  },
  {
   "cell_type": "markdown",
   "id": "29e71cfe-b6f4-4771-b6e3-72dedb8cd84e",
   "metadata": {
    "jp-MarkdownHeadingCollapsed": true
   },
   "source": [
    "### try 1 fail"
   ]
  },
  {
   "cell_type": "code",
   "execution_count": null,
   "id": "43569bac-e178-4195-b553-9feb668d700c",
   "metadata": {},
   "outputs": [],
   "source": [
    "import sys\n",
    "\n",
    "N, K = map(int,sys.stdin.readline().split())\n",
    "\n",
    "N,K =  4, 3\n",
    "\n",
    "x_max = 0\n",
    "tot = dict()\n",
    "for _ in range(N):\n",
    "    # g,x = map(int,sys.stdin.readline().split())\n",
    "    g,x = map(int,input().split())\n",
    "    tot[x] = g\n",
    "    \n",
    "    if not x_max:\n",
    "        x_max = x\n",
    "    else:\n",
    "        if x_max > x:\n",
    "            x_max = x\n",
    "\n",
    "result = 0\n",
    "for num in range(x_max):\n",
    "    for k in range(num-K,num+K):\n",
    "        temp = 0\n",
    "        if (0 <= k <= 1_000_000) and (k in tot):\n",
    "            temp += tot[k]\n",
    "            print(k)    \n",
    "    if temp >= result:\n",
    "        result = temp\n",
    "print(result)"
   ]
  },
  {
   "cell_type": "markdown",
   "id": "d0398e6f-ca18-4189-b7cc-27ab91b7e37e",
   "metadata": {
    "jp-MarkdownHeadingCollapsed": true
   },
   "source": [
    "### try 2"
   ]
  },
  {
   "cell_type": "code",
   "execution_count": 33,
   "id": "92759fa6-4a89-44cf-b43e-e7f9134fcf55",
   "metadata": {},
   "outputs": [
    {
     "ename": "ValueError",
     "evalue": "not enough values to unpack (expected 2, got 0)",
     "output_type": "error",
     "traceback": [
      "\u001b[0;31m---------------------------------------------------------------------------\u001b[0m",
      "\u001b[0;31mValueError\u001b[0m                                Traceback (most recent call last)",
      "Cell \u001b[0;32mIn[33], line 3\u001b[0m\n\u001b[1;32m      1\u001b[0m \u001b[38;5;28;01mimport\u001b[39;00m \u001b[38;5;21;01msys\u001b[39;00m\n\u001b[0;32m----> 3\u001b[0m N, K \u001b[38;5;241m=\u001b[39m \u001b[38;5;28mmap\u001b[39m(\u001b[38;5;28mint\u001b[39m,sys\u001b[38;5;241m.\u001b[39mstdin\u001b[38;5;241m.\u001b[39mreadline()\u001b[38;5;241m.\u001b[39msplit())\n\u001b[1;32m      5\u001b[0m \u001b[38;5;66;03m# N,K =  4, 3\u001b[39;00m\n\u001b[1;32m      7\u001b[0m x_max,x_min \u001b[38;5;241m=\u001b[39m \u001b[38;5;241m0\u001b[39m,\u001b[38;5;241m0\u001b[39m\n",
      "\u001b[0;31mValueError\u001b[0m: not enough values to unpack (expected 2, got 0)"
     ]
    }
   ],
   "source": [
    "import sys\n",
    "\n",
    "N, K = map(int,sys.stdin.readline().split())\n",
    "\n",
    "# N,K =  4, 3\n",
    "\n",
    "x_max,x_min = 0,0\n",
    "\n",
    "tot = [0]*(1_000_001)\n",
    "for _ in range(N):\n",
    "    g,x = map(int,sys.stdin.readline().split())\n",
    "    # g,x = map(int,input().split())\n",
    "    tot[x] = g\n",
    "    \n",
    "    if not x_max:\n",
    "        x_max = x\n",
    "    else:\n",
    "        if x > x_max:\n",
    "            x_max = x\n",
    "            \n",
    "    if not x_min:\n",
    "        x_min = x\n",
    "    else:\n",
    "        if x_min > x:\n",
    "            x_max = x\n",
    "total = 0\n",
    "result = 0\n",
    "end = x_min\n",
    "for start in range(x_min, x_max+1):\n",
    "    while (end < x_max+1) and (end-start <= K*2):\n",
    "        if not tot[end]:\n",
    "            end +=1\n",
    "            continue\n",
    "        result += tot[end]\n",
    "        end +=1\n",
    "        \n",
    "    total = max(total,result)\n",
    "    result -= tot[start]\n",
    "    \n",
    "    # temp = 0\n",
    "    # for k in range(num-K,num+K+1):\n",
    "    #     if (0 <= k <= 1_000_000) and (tot[k]):\n",
    "    #         temp += tot[k]\n",
    "    # if temp > result:\n",
    "    #     result = temp\n",
    "print(total)"
   ]
  },
  {
   "cell_type": "markdown",
   "id": "685b16af-4212-48fd-bc64-4422badcac2c",
   "metadata": {
    "jp-MarkdownHeadingCollapsed": true
   },
   "source": [
    "# 2003 silver 4 (투 포인터)"
   ]
  },
  {
   "cell_type": "code",
   "execution_count": null,
   "id": "725c8d27-b89b-4c4f-bd12-eca8006c8f35",
   "metadata": {},
   "outputs": [],
   "source": [
    "import sys\n",
    "\n",
    "N,M = map(int,sys.stdin.readline().split())\n",
    "sequence = list(map(int,sys.stdin.readline().split()))\n",
    "\n",
    "\n",
    "end = 0 \n",
    "tot = 0\n",
    "cnt  = 0\n",
    "for start in range(N):\n",
    "    while tot < M and end < N:\n",
    "        tot += sequence[end]\n",
    "        end +=1\n",
    "    if tot == M:\n",
    "        cnt +=1\n",
    "        \n",
    "    tot -= sequence[start]\n",
    "print(cnt)"
   ]
  },
  {
   "cell_type": "markdown",
   "id": "6eacdc02-c776-4877-84ed-e229685e9aea",
   "metadata": {},
   "source": [
    "# 체육복 programmas"
   ]
  },
  {
   "cell_type": "code",
   "execution_count": 63,
   "id": "d7758fa2-cc72-4d24-83a7-4fe00c9d9ff2",
   "metadata": {},
   "outputs": [],
   "source": [
    "def solution(n, lost, reserve):\n",
    "    answer = 0\n",
    "    answer = n-len(lost)\n",
    "    people = []\n",
    "    lost.sort()\n",
    "    reserve.sort()\n",
    "    for i in lost:\n",
    "        if i in reserve:\n",
    "            answer+=1\n",
    "            reserve.remove(i)\n",
    "            continue\n",
    "        for k in reserve:\n",
    "            if (k not in lo) and ((i+1 == k) or (i-1 == k)):\n",
    "                answer+=1\n",
    "                people.append(k)\n",
    "                reserve.remove(k)\n",
    "                break\n",
    "            \n",
    "    \n",
    "    return answer"
   ]
  },
  {
   "cell_type": "code",
   "execution_count": null,
   "id": "3810b087-6e45-4516-9028-e9f06fbc0b84",
   "metadata": {},
   "outputs": [],
   "source": []
  }
 ],
 "metadata": {
  "kernelspec": {
   "display_name": "Python 3 (ipykernel)",
   "language": "python",
   "name": "python3"
  },
  "language_info": {
   "codemirror_mode": {
    "name": "ipython",
    "version": 3
   },
   "file_extension": ".py",
   "mimetype": "text/x-python",
   "name": "python",
   "nbconvert_exporter": "python",
   "pygments_lexer": "ipython3",
   "version": "3.11.5"
  }
 },
 "nbformat": 4,
 "nbformat_minor": 5
}
