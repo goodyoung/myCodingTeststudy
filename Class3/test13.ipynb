{
 "cells": [
  {
   "cell_type": "markdown",
   "id": "6d75baf0-b783-4a28-b40c-177b77ec899b",
   "metadata": {
    "jp-MarkdownHeadingCollapsed": true,
    "tags": []
   },
   "source": [
    "# 2630 silver 2"
   ]
  },
  {
   "cell_type": "code",
   "execution_count": null,
   "id": "a4933d5e-ac5d-4ca3-b757-1cf38469f0ac",
   "metadata": {
    "tags": []
   },
   "outputs": [],
   "source": [
    "\"\"\"\n",
    "시간 복잡도: O(N**2)\n",
    "공간 복잡도: O(N**2)\n",
    "\n",
    "종이를 같은 색이 아니면 반으로 분할 하고 같은 색이면 반환하는 코드를 작성했다.\n",
    "재귀 함수 반환값 코드 리펙토링이 필요함.\n",
    "\"\"\"\n",
    "import sys\n",
    "N = int(sys.stdin.readline())\n",
    "paper = [list(map(int,sys.stdin.readline().split())) for _ in range(N) ]\n",
    "\n",
    "# 분할 하는 경우 -> 같은 색이 아닐 때\n",
    "def papers(li):\n",
    "    ## 모두 같은 색인지 확인\n",
    "    colors = li[0][0] #color 초기 설정\n",
    "    \n",
    "    flag = 1\n",
    "    for lis in li:\n",
    "        for color in lis:\n",
    "            if (colors != color) and (flag):\n",
    "                flag = 0\n",
    "                break\n",
    "    ## 같은 색이 아닐 시 분할\n",
    "    if not flag:\n",
    "        mid = len(li[0]) // 2\n",
    "        results = []\n",
    "        for k in range(0,len(li),mid):\n",
    "            temp1,temp2 = [],[]\n",
    "            for co in li[k:k+mid]:\n",
    "                temp1.append(co[:mid])\n",
    "                temp2.append(co[mid:])\n",
    "            papers(temp1)\n",
    "            papers(temp2)\n",
    "    \n",
    "    if flag: # 같은 색일 때\n",
    "        if colors == 1: #파란색\n",
    "            memo.append(0)\n",
    "        else:\n",
    "            memo.append(1)\n",
    "\n",
    "memo = []\n",
    "papers(paper)\n",
    "print(sum(memo))\n",
    "print(len(memo) - sum(memo))"
   ]
  },
  {
   "cell_type": "markdown",
   "id": "eeaf1f9a-b26a-4729-a9a5-9edf04d98f58",
   "metadata": {
    "jp-MarkdownHeadingCollapsed": true,
    "tags": []
   },
   "source": [
    "# 10799 silver 2"
   ]
  },
  {
   "cell_type": "markdown",
   "id": "1ea398b1-be2f-4f20-aa5f-f28868b4a3a4",
   "metadata": {
    "jp-MarkdownHeadingCollapsed": true,
    "tags": []
   },
   "source": [
    "### try1"
   ]
  },
  {
   "cell_type": "code",
   "execution_count": null,
   "id": "45e10b94-cba4-4b03-97fb-307fe7819c08",
   "metadata": {},
   "outputs": [],
   "source": [
    "1 -> 2조각\n",
    "2 -> 3조각\n",
    "3 -> 4조각\n",
    "4 -> 5조각"
   ]
  },
  {
   "cell_type": "code",
   "execution_count": null,
   "id": "056770a9-81e7-409b-baeb-b33dc49c6b9d",
   "metadata": {
    "tags": []
   },
   "outputs": [],
   "source": [
    "\"\"\"\n",
    "시간 복잡도: O(N)\n",
    "공간 복잡도: O(N)\n",
    "\n",
    "정답이 쇠막대기 개수 + 각 막대기 별 레이저 맞은 수를 알게되었고\n",
    "레이저인 경우와 막대기인 경우를 나누어 각각 개수를 세어주었다.\n",
    "\"\"\"\n",
    "import sys\n",
    "rod = str(sys.stdin.readline().rstrip())\n",
    "rod_num, lazer_num, cnt = 0,0,0\n",
    "for i in range(len(rod)-1): # 맨끝 뺴고\n",
    "    if (rod[i] == '(') and (rod[i+1] == ')'): # 레이저인 경우\n",
    "        lazer_num += (cnt)\n",
    "    else: #레이저가 아닌 경우\n",
    "        if rod[i] == '(': # 쇠 막대기 시작\n",
    "            rod_num +=1\n",
    "            cnt+=1\n",
    "        elif (rod[i-1] == ')') and (rod[i]==')'): #쇠 막대기 끝\n",
    "            cnt-=1\n",
    "print(rod_num+lazer_num)        "
   ]
  },
  {
   "cell_type": "markdown",
   "id": "d040cdaf-69f0-4891-8113-eda5300a00ba",
   "metadata": {
    "jp-MarkdownHeadingCollapsed": true,
    "tags": []
   },
   "source": [
    "### try2"
   ]
  },
  {
   "cell_type": "code",
   "execution_count": 83,
   "id": "bf4da27d-9cc7-4649-8887-56867a6eb9ae",
   "metadata": {
    "tags": []
   },
   "outputs": [],
   "source": [
    "import sys\n",
    "rod = str(sys.stdin.readline().rstrip())\n",
    "\n",
    "total,cnt = 0,0\n",
    "for i in range(len(rod)): # 맨끝 뺴고\n",
    "    if rod[i] == '(':\n",
    "        cnt += 1\n",
    "        # print('cnt',cnt)\n",
    "    else:\n",
    "        cnt -= 1\n",
    "        if rod[i-1] == '(': #레이저일 때\n",
    "            total +=cnt\n",
    "        else: #막대의 끝\n",
    "            total +=1\n",
    "print(total)        "
   ]
  },
  {
   "cell_type": "code",
   "execution_count": 87,
   "id": "c468debb-d0f0-4635-8587-04bd83041213",
   "metadata": {
    "tags": []
   },
   "outputs": [
    {
     "name": "stdout",
     "output_type": "stream",
     "text": [
      "17\n"
     ]
    }
   ],
   "source": [
    "import sys\n",
    "rod = '()(((()())(())()))(())'#str(sys.stdin.readline().rstrip())\n",
    "\n",
    "rod_num, lazer_num, cnt = 0,0,0\n",
    "for i in range(len(rod)-1): # 맨끝 뺴고\n",
    "    if (rod[i] == '(') and (rod[i+1] == ')'): # 레이저인 경우\n",
    "        rod_num += (cnt)\n",
    "    else: #레이저가 아닌 경우\n",
    "        if rod[i] == '(': # 쇠 막대기 시작\n",
    "            rod_num +=1\n",
    "            cnt+=1\n",
    "        elif (rod[i-1] == ')') and (rod[i]==')'): #쇠 막대기 끝\n",
    "            cnt-=1\n",
    "print(rod_num+lazer_num)     "
   ]
  },
  {
   "cell_type": "code",
   "execution_count": 89,
   "id": "d37a1ee9-33c2-46e2-8482-4a849dda9d15",
   "metadata": {
    "tags": []
   },
   "outputs": [
    {
     "data": {
      "text/plain": [
       "17"
      ]
     },
     "execution_count": 89,
     "metadata": {},
     "output_type": "execute_result"
    }
   ],
   "source": [
    "rod_num"
   ]
  },
  {
   "cell_type": "code",
   "execution_count": 88,
   "id": "64d0f4de-b1af-4db1-86d7-01cecf5aa8e8",
   "metadata": {
    "tags": []
   },
   "outputs": [
    {
     "data": {
      "text/plain": [
       "0"
      ]
     },
     "execution_count": 88,
     "metadata": {},
     "output_type": "execute_result"
    }
   ],
   "source": [
    "lazer_num"
   ]
  },
  {
   "cell_type": "code",
   "execution_count": null,
   "id": "6ff0a051-647e-4a1b-9086-62b900ca321a",
   "metadata": {},
   "outputs": [],
   "source": []
  },
  {
   "cell_type": "markdown",
   "id": "c71e3d7d-3028-49cb-954f-130a1b18e52e",
   "metadata": {
    "jp-MarkdownHeadingCollapsed": true,
    "tags": []
   },
   "source": [
    "# 1676 silver5"
   ]
  },
  {
   "cell_type": "markdown",
   "id": "39161b56-b53e-45fc-871c-6690f6965730",
   "metadata": {
    "jp-MarkdownHeadingCollapsed": true,
    "tags": []
   },
   "source": [
    "#### try1"
   ]
  },
  {
   "cell_type": "code",
   "execution_count": null,
   "id": "68dc3894-db54-496d-b468-990615fa73e7",
   "metadata": {
    "tags": []
   },
   "outputs": [],
   "source": [
    "\"\"\"\n",
    "시간 복잡도: O(N)\n",
    "공간 복잡도: O(N)\n",
    "\n",
    "뒤 숫자가 4,5,0 인것만 찾고\n",
    "그 숫자들만 곱하여 계산하였다\n",
    "\"\"\"\n",
    "import sys\n",
    "num = int(sys.stdin.readline())\n",
    "cnt = 1\n",
    "temp=[]\n",
    "for i in range(num,0,-1):\n",
    "    if str(i)[-1] in ['4','5','0']:\n",
    "        temp.append(i)\n",
    "for k in temp:\n",
    "    cnt*=k\n",
    "count = 0\n",
    "for j in range(len(str(cnt))-1,0,-1):\n",
    "    if str(cnt)[j]=='0':\n",
    "        count+= 1\n",
    "    else:\n",
    "        break\n",
    "print(count)"
   ]
  },
  {
   "cell_type": "markdown",
   "id": "596e0d19-be01-46d7-adc8-7015cd7947b4",
   "metadata": {
    "jp-MarkdownHeadingCollapsed": true,
    "tags": []
   },
   "source": [
    "#### try2"
   ]
  },
  {
   "cell_type": "code",
   "execution_count": null,
   "id": "5f049250-b59a-468c-aa89-ffd4cf7d4519",
   "metadata": {},
   "outputs": [],
   "source": [
    "import sys\n",
    "num = int(sys.stdin.readline())\n",
    "\n",
    "cnt, count = 1, 0\n",
    "temp=[]\n",
    "for i in range(num,0,-1):\n",
    "    back_num = i % 10\n",
    "    if (back_num == 4) or (back_num == 5) or (back_num == 0):\n",
    "        temp.append(i)\n",
    "for k in temp:\n",
    "    cnt *= k\n",
    "\n",
    "while (not cnt % 10):\n",
    "    cnt //= 10\n",
    "    count += 1\n",
    "print(count)"
   ]
  },
  {
   "cell_type": "markdown",
   "id": "4dff0f24-33f1-46bc-bf14-e35dc604e2d1",
   "metadata": {
    "jp-MarkdownHeadingCollapsed": true,
    "tags": []
   },
   "source": [
    "#### try3"
   ]
  },
  {
   "cell_type": "code",
   "execution_count": null,
   "id": "5377ea95-d369-41f8-9343-16207c02ed45",
   "metadata": {},
   "outputs": [],
   "source": [
    "import sys\n",
    "N = int(sys.stdin.readline())\n",
    "num_1 = N // 5\n",
    "num_2 = N // 25\n",
    "num_3 = N // 125\n",
    "print(num_1+num_2+num_3)"
   ]
  },
  {
   "cell_type": "markdown",
   "id": "12195082-aca4-4d8b-96eb-bfef088843f4",
   "metadata": {
    "tags": []
   },
   "source": [
    "# 너비 우선 탐색 (BFS, Breadth-First Search)"
   ]
  },
  {
   "cell_type": "code",
   "execution_count": null,
   "id": "2a9dda5b-869f-4577-8809-663d82523907",
   "metadata": {
    "tags": []
   },
   "outputs": [],
   "source": [
    "from collections import deque\n",
    "\n",
    "\n",
    "def bfs (graph, node, visit):\n",
    "    root = deque([node])\n",
    "    visit[node] = True\n",
    "    \n",
    "    while root:\n",
    "        nodes = root.popleft()\n",
    "        print(nodes,root)\n",
    "        for i in graph[nodes]: #인접한 노드\n",
    "            if not visit[i]:\n",
    "                root.append(i)\n",
    "                visit[i] = True\n",
    "    print(root)\n",
    "\n",
    "graph = [\n",
    "    [],\n",
    "    [2, 3],\n",
    "    [1, 8],\n",
    "    [1, 4, 5],\n",
    "    [3, 5],\n",
    "    [3, 4],\n",
    "    [7, 8],\n",
    "    [6, 8],\n",
    "    [2, 6, 7]\n",
    "]\n",
    "# 리스트의 인덱스는 노드 번호, \n",
    "# 각 인덱스에 해당하는 원소에 해당 노드에 인접한 노드 번호가 담겨 있다.\n",
    "visited = [False] * len(graph)\n",
    "bfs (graph,1,visited)"
   ]
  },
  {
   "cell_type": "markdown",
   "id": "5b3b3362-ef35-4338-991f-967d34ae9e53",
   "metadata": {
    "tags": []
   },
   "source": [
    "# 깊이 우선 탐색 (DFS, Depth-First Search)"
   ]
  },
  {
   "cell_type": "code",
   "execution_count": null,
   "id": "a471cb0b-0f0c-4819-b74e-5552a1b52946",
   "metadata": {
    "tags": []
   },
   "outputs": [],
   "source": [
    "def dfs(graph, node, visited):\n",
    "    visited[node] = True\n",
    "    print(node)\n",
    "    for i in graph[node]:\n",
    "        if not visited[i]:\n",
    "            dfs(graph,i,visited)\n",
    "\n",
    "graph = [\n",
    "    [],\n",
    "    [2, 3],\n",
    "    [1, 8],\n",
    "    [1, 4, 5],\n",
    "    [3, 5],\n",
    "    [3, 4],\n",
    "    [7, 8],\n",
    "    [6, 8],\n",
    "    [2, 6, 7]\n",
    "]\n",
    "\n",
    "# 노드별로 방문 정보를 리스트로 표현\n",
    "visited = [False] * 9\n",
    "\n",
    "# 정의한 DFS 메서드 호출(노드 1을 탐색 시작 노드로 설정)\n",
    "dfs(graph, 1, visited)"
   ]
  },
  {
   "cell_type": "markdown",
   "id": "b0a35c37-2028-48b9-a1c0-af5d9ad8b0bf",
   "metadata": {
    "jp-MarkdownHeadingCollapsed": true,
    "tags": []
   },
   "source": [
    "# 11724 silver 2"
   ]
  },
  {
   "cell_type": "markdown",
   "id": "95868e37-8df3-4d83-8fc3-40a56c546d13",
   "metadata": {
    "jp-MarkdownHeadingCollapsed": true,
    "tags": []
   },
   "source": [
    "### try1 DFS"
   ]
  },
  {
   "cell_type": "code",
   "execution_count": null,
   "id": "e4c9ae44-428d-4d80-9ff6-00ca34e398f2",
   "metadata": {
    "tags": []
   },
   "outputs": [],
   "source": [
    "\"\"\"\n",
    "시간 복잡도: O(N)\n",
    "공간 복잡도: O(N)\n",
    "정점의 모든 노드를 돌아 그에 연결된 노드를 dfs로 찾는다.\n",
    "그 개수를 세어주는 방식의 코드를 작성해보았다.\n",
    "\"\"\"\n",
    "import sys\n",
    "sys.setrecursionlimit(2500) # 최대 재귀 깊이 설정\n",
    "\n",
    "# N,M = map(int,sys.stdin.readline().split())\n",
    "\n",
    "N,M = 6,8\n",
    "\n",
    "graph = [[] for _ in range(N+1)]\n",
    "visit = [0] * (N+1)\n",
    "for _ in range(M):\n",
    "    # u,v = map(int,sys.stdin.readline().split())\n",
    "    u,v = map(int,input().split())\n",
    "    graph[u].append(v)\n",
    "    graph[v].append(u) #각 노드 별 연결 노드들의 인덱스를 저장한다.\n",
    "\n",
    "\n",
    "\n",
    "def dfs(graph, node, visit):\n",
    "    visit[node] = 1 #노드 방문\n",
    "    for gra in graph[node]:\n",
    "        if (not visit[gra]): \n",
    "            dfs(graph,gra,visit) # 연결된 노드로 이동\n",
    "\n",
    "cnt = 0\n",
    "for x in range(1,N+1): #정점의 개수만큼 돈다\n",
    "    if not visit[x]: # 방문을 안한 노드에 연결된 모든 노드들이 한 번에 방문이 된다.\n",
    "        dfs(graph,x,visit)\n",
    "        cnt +=1\n",
    "print(cnt)"
   ]
  },
  {
   "cell_type": "markdown",
   "id": "92a92de4-0ee3-4d53-9062-45a14547dc27",
   "metadata": {
    "jp-MarkdownHeadingCollapsed": true,
    "tags": []
   },
   "source": [
    "### try2 BFS"
   ]
  },
  {
   "cell_type": "code",
   "execution_count": null,
   "id": "4c65c03f-1917-4db0-a65c-fe2a866f32bb",
   "metadata": {
    "tags": []
   },
   "outputs": [],
   "source": [
    "\"\"\"\n",
    "시간 복잡도: O(N)\n",
    "공간 복잡도: O(N)\n",
    "\n",
    "BFS로 구현해보았다.\n",
    "\"\"\"\n",
    "from collections import deque\n",
    "import sys\n",
    "sys.setrecursionlimit(10**6) # 최대 재귀 깊이 설정\n",
    "\n",
    "# N,M = map(int,sys.stdin.readline().split())\n",
    "\n",
    "N,M = 6,8\n",
    "\n",
    "graph = [[] for _ in range(N+1)]\n",
    "visit = [0] * (N+1)\n",
    "for _ in range(M):\n",
    "    # u,v = map(int,sys.stdin.readline().split())\n",
    "    u,v = map(int,input().split())\n",
    "    graph[u].append(v)\n",
    "    graph[v].append(u) #각 노드 별 연결 노드들의 인덱스를 저장한다.\n",
    "\n",
    "visit = [0] * (N+1)\n",
    "def bfs(graph,node,visit):\n",
    "    q = deque([node])\n",
    "    visit[node] = 1\n",
    "    while q:\n",
    "        target = q.popleft()\n",
    "        for i in graph[target]:\n",
    "            if not visit[i]:\n",
    "                q.append(i)\n",
    "                visit[i] = 1\n",
    "                \n",
    "\n",
    "cnt = 0\n",
    "for i in range(1, N+1):\n",
    "    if not visit[i]:\n",
    "        bfs(graph, i, visit)\n",
    "        cnt += 1\n",
    "print(cnt)"
   ]
  },
  {
   "cell_type": "markdown",
   "id": "7f22e8a3-7512-4a90-8a0a-b19f65e5fcf2",
   "metadata": {
    "jp-MarkdownHeadingCollapsed": true,
    "tags": []
   },
   "source": [
    "# 1012 silver 2"
   ]
  },
  {
   "cell_type": "code",
   "execution_count": null,
   "id": "e594b3d1-9560-48af-82dd-3e56aff5643e",
   "metadata": {
    "tags": []
   },
   "outputs": [],
   "source": [
    "\"\"\"\n",
    "시간 복잡도: O(M*N) (격자의 크기 만큼?)\n",
    "공간 복잡도: O(M*N)\n",
    "\n",
    "2차원 배열에 True,False를 만들어 상하좌우 4방향을 재귀호출을 하도록 만들었다.\n",
    "호출 시 범위를 벗어나면 에러가 나게끔 하고 True, 방문 여부 조건을 걸어 제한을 두었다.\n",
    "\n",
    "\"\"\"\n",
    "import sys\n",
    "sys.setrecursionlimit(10**6)\n",
    "T = int(sys.stdin.readline())\n",
    "\n",
    "def dfs(X,Y):\n",
    "    if (X < 0) or (Y< 0) or (X > M-1) or (Y > N-1): # 범위에서 벗어난다면\n",
    "        return False\n",
    "    if (graph[Y][X]) and (not visit[Y][X]): # True(배추 위치)이고 방문을 안했다면\n",
    "        visit[Y][X] = 1\n",
    "        dfs(X-1,Y)\n",
    "        dfs(X,Y-1)\n",
    "        dfs(X+1,Y)\n",
    "        dfs(X,Y+1)\n",
    "        \n",
    "        \n",
    "for _ in range(T):\n",
    "    # M, N, K = map(int,sys.stdin.readline().split())\n",
    "    M, N, K = map(int,input().split())\n",
    "    \n",
    "    # graph 생성\n",
    "    graph = [[False]*(M) for _ in range(N)]\n",
    "    graph2 = [] # 정답 체크용\n",
    "    \n",
    "    # 방문체크 용 visit 생성\n",
    "    visit = [[0]*(M) for _ in range(N)]\n",
    "    \n",
    "    for _ in range(K):\n",
    "        # X,Y = map(int,sys.stdin.readline().split())\n",
    "        X,Y = map(int,input().split())\n",
    "        graph[Y][X] = True\n",
    "        graph2.append([X,Y])\n",
    "        \n",
    "    #DFS\n",
    "    cnt = 0\n",
    "    for i in graph2: # 한번에 연결된 visit이 변경된다.\n",
    "        x,y = i[0],i[1]\n",
    "        if (not visit[y][x]):\n",
    "            dfs(x,y)\n",
    "            cnt +=1\n",
    "    print(cnt)\n",
    "\n",
    "\n",
    "\n"
   ]
  },
  {
   "cell_type": "markdown",
   "id": "5041f15f-a4d5-4aac-8b6b-6c79c9bb9d04",
   "metadata": {
    "jp-MarkdownHeadingCollapsed": true,
    "tags": []
   },
   "source": [
    "# 1260 silver 2"
   ]
  },
  {
   "cell_type": "code",
   "execution_count": null,
   "id": "315c68cc-322a-4941-b72f-dac0e48f72e6",
   "metadata": {
    "tags": []
   },
   "outputs": [],
   "source": [
    "\"\"\"\n",
    "시간 복잡도: O(N)\n",
    "공간 복잡도: O(N*M)\n",
    "\n",
    "dfs와 bfs를 구현하고 node들을 정렬하여 순회하게 하였다.\n",
    "\"\"\"\n",
    "import sys\n",
    "from collections import deque\n",
    "sys.setrecursionlimit(10**6)\n",
    "# N,M,V = map(int,sys.stdin.readline())\n",
    "N,M,V = map(int,input().split())\n",
    "\n",
    "graph = [[] for _ in range(N+1)]\n",
    "\n",
    "for _ in range(M):\n",
    "    # u,v = map(int,sys.stdin.readline())\n",
    "    u,v = map(int,input().split())\n",
    "    graph[u].append(v)\n",
    "    graph[v].append(u)\n",
    "\n",
    "#정렬\n",
    "for i in graph:\n",
    "    i.sort()\n",
    "\n",
    "def dfs(graph,target,visited):\n",
    "    visited[target] = 1\n",
    "    print(target, end = ' ')\n",
    "    for gra in graph[target]:\n",
    "        if (not visited[gra]):\n",
    "            dfs(graph,gra,visited)\n",
    "\n",
    "def bfs(graph,target):\n",
    "    visit = [0 for _ in range(N+1)]\n",
    "    q = deque([target])\n",
    "    visit[target] = 1\n",
    "    while q:\n",
    "        node = q.popleft()\n",
    "        print(node, end=' ')\n",
    "        for gra in graph[node]:\n",
    "            if (not visit[gra]):\n",
    "                q.append(gra)\n",
    "                visit[gra] = 1 \n",
    "                \n",
    "\n",
    "visited = [0 for _ in range(N+1)]\n",
    "dfs(graph,V,visited)\n",
    "print()\n",
    "bfs(graph,V)"
   ]
  },
  {
   "cell_type": "markdown",
   "id": "50201203-a52b-4992-bd25-adcae799a44a",
   "metadata": {
    "jp-MarkdownHeadingCollapsed": true,
    "tags": []
   },
   "source": [
    "# 2178 silver 1"
   ]
  },
  {
   "cell_type": "markdown",
   "id": "086eec98-071a-4e76-a3a3-a94e2909dad0",
   "metadata": {
    "jp-MarkdownHeadingCollapsed": true,
    "tags": []
   },
   "source": [
    "## try 1"
   ]
  },
  {
   "cell_type": "code",
   "execution_count": null,
   "id": "e8d134c7-3227-40c0-a315-56bf9a689466",
   "metadata": {
    "tags": []
   },
   "outputs": [],
   "source": [
    "\"\"\"\n",
    "시간 복잡도: O(N)\n",
    "공간 복잡도: O(N)\n",
    "\n",
    "2차원으로 상하좌우로 이동하게 하고 범위 안에서 bfs를 수행하도록 했다.\n",
    "\"\"\"\n",
    "import sys\n",
    "from collections import deque\n",
    "\n",
    "def bfs(X,Y):\n",
    "    q = deque([[X,Y]])\n",
    "    dx = [0,0,1,-1]\n",
    "    dy = [1,-1,0,0]\n",
    "    while q:\n",
    "        node_x,node_y = q.popleft()\n",
    "        for idx in range(4):\n",
    "            nx,ny = node_x+dx[idx],node_y + dy[idx]\n",
    "            \n",
    "            if (nx >= 0) and (ny >= 0) and(nx <= N-1) and(ny <= M-1):\n",
    "                if graph[nx][ny]==1:\n",
    "                    graph[nx][ny] = graph[node_x][node_y] +1\n",
    "                    q.append([nx,ny])\n",
    "    return graph[N-1][M-1]\n",
    "print(bfs(0,0))"
   ]
  },
  {
   "cell_type": "markdown",
   "id": "68fe7ea7-fa45-44e3-865e-5bea44c043ad",
   "metadata": {
    "jp-MarkdownHeadingCollapsed": true,
    "tags": []
   },
   "source": [
    "## try 2"
   ]
  },
  {
   "cell_type": "code",
   "execution_count": 7,
   "id": "bf902bcb-450d-45da-bb0a-e2c47b53a28c",
   "metadata": {
    "tags": []
   },
   "outputs": [
    {
     "name": "stdout",
     "output_type": "stream",
     "text": [
      "9\n"
     ]
    }
   ],
   "source": [
    "\"\"\"\n",
    "시간 복잡도: O(N*M)\n",
    "공간 복잡도: O(N*M)\n",
    "\n",
    "2차원으로 상하좌우로 이동하게 하고 범위 안에서 bfs를 수행하도록 했다.\n",
    "\"\"\"\n",
    "import sys\n",
    "import queue\n",
    "\n",
    "def bfs(X,Y):\n",
    "    q = queue.Queue()\n",
    "    q.put([X,Y])\n",
    "    dx = [0,0,1,-1]\n",
    "    dy = [1,-1,0,0]\n",
    "    while not q.empty():\n",
    "        node_x,node_y = q.get()\n",
    "        for idx in range(4):\n",
    "            nx,ny = node_x+dx[idx],node_y + dy[idx]\n",
    "            \n",
    "            if (nx >= 0) and (ny >= 0) and(nx <= N-1) and(ny <= M-1):\n",
    "                if graph[nx][ny]==1:\n",
    "                    graph[nx][ny] = graph[node_x][node_y] +1\n",
    "                    q.put([nx,ny])\n",
    "    return graph[N-1][M-1]\n",
    "\n",
    "N,M = map(int,sys.stdin.readline().split())\n",
    "graph = [list(map(int,sys.stdin.readline().rstrip())) for _ in range(N)]\n",
    "print(bfs(0,0))"
   ]
  },
  {
   "cell_type": "markdown",
   "id": "5bd5991d-6820-4b22-b78d-cb05e7c54027",
   "metadata": {
    "jp-MarkdownHeadingCollapsed": true,
    "tags": []
   },
   "source": [
    "# 10250 bronze 3"
   ]
  },
  {
   "cell_type": "code",
   "execution_count": null,
   "id": "5aa361c5-661c-48b7-bcce-0895e01ae880",
   "metadata": {
    "tags": []
   },
   "outputs": [],
   "source": [
    "import sys\n",
    "# T = int(sys.stdin.readline())\n",
    "\n",
    "for _ in range(T):\n",
    "    # H, W, N = map(int,sys.stdin.readline().split())\n",
    "    H, W, N = map(int,input().split())\n",
    "    first = str(N % H)\n",
    "    second = str((N//H)+1).zfill(2)\n",
    "    if first == '0': # 나머지가 0이면\n",
    "        first = str(H)\n",
    "        second = str(N//H).zfill(2)\n",
    "        \n",
    "    print(first+second)"
   ]
  },
  {
   "cell_type": "markdown",
   "id": "5d897828-6f65-4957-96d3-6e374b946553",
   "metadata": {
    "tags": []
   },
   "source": [
    "# 2667 silver 1"
   ]
  },
  {
   "cell_type": "markdown",
   "id": "7d5cafe8-b526-4152-a39e-875468465256",
   "metadata": {
    "jp-MarkdownHeadingCollapsed": true,
    "tags": []
   },
   "source": [
    "#### try1"
   ]
  },
  {
   "cell_type": "code",
   "execution_count": null,
   "id": "a3b5daa6-0da8-4480-b4c0-19dac5ff213c",
   "metadata": {
    "tags": []
   },
   "outputs": [],
   "source": [
    "graph = [list(map(int,input())) for _ in range(5)]"
   ]
  },
  {
   "cell_type": "code",
   "execution_count": null,
   "id": "8e38cd14-bade-41bf-9be4-155e60e48f1f",
   "metadata": {
    "tags": []
   },
   "outputs": [],
   "source": [
    "graph = [[0, 0, 0, 0, 0],\n",
    " [0, 0, 0, 0, 0],\n",
    " [0, 0, 1, 0, 0],\n",
    " [0, 0, 0, 0, 0],\n",
    " [0, 0, 0, 0, 0]]"
   ]
  },
  {
   "cell_type": "code",
   "execution_count": null,
   "id": "1552c845-17ad-4670-88be-2d0d4f6b22ae",
   "metadata": {
    "tags": []
   },
   "outputs": [],
   "source": [
    "\"\"\"\n",
    "시간복잡도: O(N)\n",
    "공간복잡도: O(N)\n",
    "\n",
    "일반적인 bfs에서 개수(cnt) 세고 경우의 수를 나누어 1개의 경우일 때만 있을 때를 구분하였다.\n",
    "\"\"\"\n",
    "import sys\n",
    "from collections import deque\n",
    "# N = int(sys.stdin.readline())\n",
    "N = 7\n",
    "\n",
    "graph = [list(map(int,sys.stdin.readline().rstrip())) for _ in range(N)]    \n",
    "visit = [[0]*(N) for _ in range(N)]\n",
    "\n",
    "\n",
    "def bfs(X,Y):\n",
    "    q = deque([(X,Y)])\n",
    "    dx = [0,0,1,-1]\n",
    "    dy = [1,-1,0,0]\n",
    "    cnt = 0\n",
    "    while q:\n",
    "        node_x, node_y = q.popleft()\n",
    "        \n",
    "        if (graph[node_x][node_y]) and (not visit[node_x][node_y]): # True 면\n",
    "            visit[node_x][node_y] = 1\n",
    "            \n",
    "            for idx in range(4):\n",
    "                nx, ny = node_x+dx[idx], node_y+dy[idx]\n",
    "                if (nx < 0) or (ny < 0) or (nx > (N-1)) or (ny > (N-1)):\n",
    "                    continue\n",
    "                else:\n",
    "                    if graph[nx][ny] == 1:\n",
    "                        q.append((nx,ny))\n",
    "                        graph[nx][ny] = graph[node_x][node_y] + 1\n",
    "                        cnt+=1\n",
    "                        \n",
    "            if not cnt:\n",
    "                cnt = 1\n",
    "    return cnt\n",
    "\n",
    "result = []\n",
    "cnt_ = 0\n",
    "for x in range(N):\n",
    "    for y in range(N):\n",
    "        num = bfs(x,y)\n",
    "        if num:\n",
    "            result.append(num)\n",
    "            cnt_ += 1\n",
    "result.sort()\n",
    "print(cnt_)\n",
    "for i in result:\n",
    "    print(i)"
   ]
  },
  {
   "cell_type": "code",
   "execution_count": null,
   "id": "9f8da2ec-1e4f-4077-a6d7-474372968233",
   "metadata": {},
   "outputs": [],
   "source": []
  },
  {
   "cell_type": "code",
   "execution_count": 65,
   "id": "6c8d088e-5d22-4f60-b302-8b1b399661dd",
   "metadata": {
    "tags": []
   },
   "outputs": [],
   "source": [
    "graph = [[0, 1, 1, 0, 1, 0, 0],\n",
    " [0, 1, 1, 0, 1, 0, 1],\n",
    " [1, 1, 1, 0, 1, 0, 1],\n",
    " [0, 0, 0, 0, 1, 1, 1],\n",
    " [0, 1, 0, 0, 0, 0, 0],\n",
    " [0, 1, 1, 1, 1, 1, 0],\n",
    " [0, 1, 1, 1, 0, 0, 0]]"
   ]
  },
  {
   "cell_type": "code",
   "execution_count": 66,
   "id": "e00e0bf8-aaad-4987-9bb9-becbda7937ee",
   "metadata": {
    "tags": []
   },
   "outputs": [],
   "source": [
    "N = 7"
   ]
  },
  {
   "cell_type": "code",
   "execution_count": null,
   "id": "8949052f-feb1-495a-843a-27c0c7d5f1d5",
   "metadata": {
    "tags": []
   },
   "outputs": [],
   "source": [
    "graph = [[0, 1, 0, 0, 1, 0, 0],\n",
    " [0, 1, 0, 0, 0, 0, 0],\n",
    " [0, 0, 0, 0, 0, 0, 0],\n",
    " [0, 0, 0, 0, 0, 0, 0],\n",
    " [0, 0, 0, 0, 0, 0, 0],\n",
    " [0, 0, 0, 0, 0, 0, 0],\n",
    " [0, 0, 0, 0, 0, 0, 0]]"
   ]
  },
  {
   "cell_type": "markdown",
   "id": "b50b92d8-1cdd-48ec-a406-9b006012ee78",
   "metadata": {
    "jp-MarkdownHeadingCollapsed": true,
    "tags": []
   },
   "source": [
    "### try 2"
   ]
  },
  {
   "cell_type": "code",
   "execution_count": 67,
   "id": "0c688f9f-b184-4def-8079-59842230d9ef",
   "metadata": {
    "tags": []
   },
   "outputs": [
    {
     "name": "stdout",
     "output_type": "stream",
     "text": [
      "3\n",
      "7\n",
      "8\n",
      "9\n"
     ]
    }
   ],
   "source": [
    "\"\"\"\n",
    "시간복잡도: O(N^2)\n",
    "공간복잡도: O(N^2)\n",
    "\n",
    "일반적인 bfs에서 개수(cnt) 세고 경우의 수를 나누어 1개의 경우일 때만 있을 때를 구분하였다.\n",
    "\"\"\"\n",
    "import sys\n",
    "import queue\n",
    "\n",
    "def bfs(X,Y):\n",
    "    q = queue.Queue()\n",
    "    q.put((X,Y))\n",
    "    dx = [0,0,1,-1]\n",
    "    dy = [1,-1,0,0]\n",
    "    cnt = 0\n",
    "    while not q.empty():\n",
    "        node_x, node_y = q.get()\n",
    "        if (graph[node_x][node_y]) and (not visit[node_x][node_y]): # True 면\n",
    "            visit[node_x][node_y] = 1\n",
    "            \n",
    "            for idx in range(4):\n",
    "                nx, ny = node_x+dx[idx], node_y+dy[idx]\n",
    "                if (nx < 0) or (ny < 0) or (nx > (N-1)) or (ny > (N-1)):\n",
    "                    continue\n",
    "                else:\n",
    "                    if graph[nx][ny] == 1:\n",
    "                        q.put((nx,ny))\n",
    "                        graph[nx][ny] = graph[node_x][node_y] + 1\n",
    "                        cnt+=1\n",
    "                        \n",
    "            if not cnt:\n",
    "                cnt = 1\n",
    "    return cnt\n",
    "\n",
    "\n",
    "N = int(sys.stdin.readline())\n",
    "graph = [list(map(int,sys.stdin.readline().rstrip())) for _ in range(N)]    \n",
    "visit = [[0]*(N) for _ in range(N)]\n",
    "result = []\n",
    "cnt_ = 0\n",
    "\n",
    "for x in range(N):\n",
    "    for y in range(N):\n",
    "        num = bfs(x,y)\n",
    "        if num:\n",
    "            result.append(num)\n",
    "            cnt_ += 1\n",
    "result.sort()\n",
    "print(cnt_)\n",
    "for i in result:\n",
    "    print(i)"
   ]
  },
  {
   "cell_type": "markdown",
   "id": "7c7d4b88-f8b9-4146-b4f2-3a32eb94a48c",
   "metadata": {
    "tags": []
   },
   "source": [
    "### try3"
   ]
  },
  {
   "cell_type": "code",
   "execution_count": null,
   "id": "8e82a4fc-b9dc-45c2-b47c-14ae82022568",
   "metadata": {},
   "outputs": [],
   "source": [
    "\"\"\"\n",
    "시간복잡도: O(N^2)\n",
    "공간복잡도: O(N^2)\n",
    "\n",
    "일반적인 bfs에서 개수(cnt) 세고 경우의 수를 나누어 1개의 경우일 때만 있을 때를 구분하였다.\n",
    "\"\"\"\n",
    "import sys\n",
    "import queue\n",
    "\n",
    "def bfs(X,Y):\n",
    "    q = queue.Queue()\n",
    "    q.put((X,Y))\n",
    "    dx = [0,0,1,-1]\n",
    "    dy = [1,-1,0,0]\n",
    "    cnt = 1      ### cnt 1 설정\n",
    "    while not q.empty():\n",
    "        node_x, node_y = q.get()\n",
    "        if (graph[node_x][node_y]) and (not visit[node_x][node_y]): # True 면\n",
    "            visit[node_x][node_y] = 1\n",
    "            \n",
    "            for idx in range(4):\n",
    "                nx, ny = node_x+dx[idx], node_y+dy[idx]\n",
    "                if (nx < 0) or (ny < 0) or (nx > (N-1)) or (ny > (N-1)):\n",
    "                    continue\n",
    "                else:\n",
    "                    if graph[nx][ny] == 1:\n",
    "                        q.put((nx,ny))\n",
    "                        graph[nx][ny] = graph[node_x][node_y] + 1\n",
    "                        cnt+=1\n",
    "    if cnt != 1: ### 1이 아니면 1 빼기\n",
    "        cnt -= 1\n",
    "    return cnt\n",
    "\n",
    "\n",
    "N = int(sys.stdin.readline())\n",
    "graph = [list(map(int,sys.stdin.readline().rstrip())) for _ in range(N)]    \n",
    "visit = [[0]*(N) for _ in range(N)]\n",
    "result = []\n",
    "cnt_ = 0\n",
    "\n",
    "for x in range(N):\n",
    "    for y in range(N):\n",
    "        if (graph[x][y]) and(not visit[x][y]):  ### bfs 들어가기 전\n",
    "            num = bfs(x,y)\n",
    "            if num:\n",
    "                result.append(num)\n",
    "                cnt_ += 1\n",
    "            \n",
    "result.sort()\n",
    "print(cnt_)\n",
    "for i in result:\n",
    "    print(i)"
   ]
  },
  {
   "cell_type": "markdown",
   "id": "b18eb7df-ba66-4708-8f88-4d7bafdf666a",
   "metadata": {
    "jp-MarkdownHeadingCollapsed": true,
    "tags": []
   },
   "source": [
    "# 11728 silver 5"
   ]
  },
  {
   "cell_type": "code",
   "execution_count": null,
   "id": "16aa8b94-5522-4431-b65f-3c046ee5ef7e",
   "metadata": {
    "tags": []
   },
   "outputs": [],
   "source": [
    "import sys\n",
    "# A_size, B_size = map(int,sys.stdin.readline().split())\n",
    "\n",
    "# left = list(map(int,sys.stdin.readline().split()))\n",
    "# right = list(map(int,sys.stdin.readline().split()))\n",
    "\n",
    "left = [4,7 ]\n",
    "right = [1]\n",
    "\n",
    "def Sort(left,right):\n",
    "    i,h=0,0\n",
    "    sort_ = []\n",
    "    while (len(left) > i) and (len(right) > h):\n",
    "        if left[i] > right[h]:\n",
    "            sort_.append(right[h])\n",
    "            h +=1\n",
    "        else:\n",
    "            sort_.append(left[i])\n",
    "            i +=1\n",
    "            \n",
    "    sort_ += right[h:]\n",
    "    sort_ += left[i:]\n",
    "    return sort_\n",
    "\n",
    "def divide(tot):\n",
    "    mid = len(tot) // 2\n",
    "    sort_list = []\n",
    "    if len(tot) < 2:\n",
    "        return tot\n",
    "    \n",
    "    left = divide(tot[:mid])\n",
    "    right = divide(tot[mid:])\n",
    "    print(left,right)\n",
    "    return Sort(left,right)\n",
    "\n",
    "# for i in Sort(left,right):\n",
    "#     print(i , end= ' ')\n",
    "print(*Sort(left,right))"
   ]
  },
  {
   "cell_type": "markdown",
   "id": "17cf9102-ebf8-484b-bf6a-da0858cbe87c",
   "metadata": {
    "jp-MarkdownHeadingCollapsed": true,
    "tags": []
   },
   "source": [
    "# 1074 silver 1 fail"
   ]
  },
  {
   "cell_type": "code",
   "execution_count": null,
   "id": "fd538928-c8e0-48b6-8e50-8bc337ec05c4",
   "metadata": {
    "tags": []
   },
   "outputs": [],
   "source": [
    "import sys\n",
    "N,r,c = map(int,sys.stdin.readline().split())"
   ]
  },
  {
   "cell_type": "code",
   "execution_count": null,
   "id": "0b958c2e-741c-4259-ab62-eded3a06b76b",
   "metadata": {
    "tags": []
   },
   "outputs": [],
   "source": [
    "N,r,c = 2,3,1"
   ]
  },
  {
   "cell_type": "code",
   "execution_count": null,
   "id": "534ea5eb-d450-49a5-a38e-d385f1838c2c",
   "metadata": {
    "tags": []
   },
   "outputs": [],
   "source": [
    "num = (2**N) * (2**N)"
   ]
  },
  {
   "cell_type": "code",
   "execution_count": null,
   "id": "96190d3a-d050-4be3-bd32-bcdd41a440b6",
   "metadata": {
    "tags": []
   },
   "outputs": [],
   "source": [
    "arr = [i for i in range(num) ]"
   ]
  },
  {
   "cell_type": "code",
   "execution_count": null,
   "id": "cb56c378-53b1-4c09-ad11-0a41a074b0ef",
   "metadata": {
    "tags": []
   },
   "outputs": [],
   "source": [
    "arr"
   ]
  },
  {
   "cell_type": "code",
   "execution_count": null,
   "id": "31c7d3d0-c7e5-4ac0-a559-1ec11ec6d088",
   "metadata": {},
   "outputs": [],
   "source": [
    "row\n",
    "column"
   ]
  },
  {
   "cell_type": "code",
   "execution_count": null,
   "id": "332934c4-4984-4380-b6b5-9b1f658dfea5",
   "metadata": {
    "tags": []
   },
   "outputs": [],
   "source": [
    "cnt = 0\n",
    "\n",
    "for s in range(0,num,2**N):\n",
    "    print(s)\n",
    "    cnt += 1\n",
    "    "
   ]
  },
  {
   "cell_type": "markdown",
   "id": "9a81ddbb-a3e3-4142-8591-13a753bd3965",
   "metadata": {
    "jp-MarkdownHeadingCollapsed": true,
    "tags": []
   },
   "source": [
    "# 25305 bronze 2"
   ]
  },
  {
   "cell_type": "code",
   "execution_count": null,
   "id": "c52a054e-51d5-4f27-a1df-38170b02e5ad",
   "metadata": {},
   "outputs": [],
   "source": [
    "import sys\n",
    "N,k = map(int,sys.stdin.readline().split())\n",
    "\n",
    "N,k = 5,2\n",
    "\n",
    "score = list(map(int,sys.stdin.readline().split()))\n",
    "\n",
    "score.sort(reverse = True)\n",
    "print(score[k-1])"
   ]
  },
  {
   "cell_type": "markdown",
   "id": "e6099297-1746-4413-8bd9-01966cd656e1",
   "metadata": {
    "jp-MarkdownHeadingCollapsed": true,
    "tags": []
   },
   "source": [
    "# 11726 silver 2"
   ]
  },
  {
   "cell_type": "code",
   "execution_count": 32,
   "id": "ef35be3e-94f3-4253-a9e9-f2e6373df1f7",
   "metadata": {
    "tags": []
   },
   "outputs": [
    {
     "name": "stdin",
     "output_type": "stream",
     "text": [
      " 3\n"
     ]
    },
    {
     "name": "stdout",
     "output_type": "stream",
     "text": [
      "3\n"
     ]
    }
   ],
   "source": [
    "\"\"\"\n",
    "시간 복잡도: O(N)\n",
    "공간 복잡도: O(1)\n",
    "\n",
    "bottom-up방식을 사용하려고 하나하나 그려가다 보니 개수의 규칙을 발견하게 되었다.\n",
    "\"\"\"\n",
    "\n",
    "def square(n):\n",
    "    dp = [0]*(1001)\n",
    "    dp[1] = 1\n",
    "    dp[2] = 2\n",
    "    dp[3] = 3\n",
    "    s = 1\n",
    "    for i in range(4,n+1):\n",
    "        dp[i] = dp[i-1] + dp[i-2]\n",
    "    return dp[n]\n",
    "n = int(input())\n",
    "print(square(n) % 10007)"
   ]
  }
 ],
 "metadata": {
  "kernelspec": {
   "display_name": "Python 3 (ipykernel)",
   "language": "python",
   "name": "python3"
  },
  "language_info": {
   "codemirror_mode": {
    "name": "ipython",
    "version": 3
   },
   "file_extension": ".py",
   "mimetype": "text/x-python",
   "name": "python",
   "nbconvert_exporter": "python",
   "pygments_lexer": "ipython3",
   "version": "3.11.5"
  }
 },
 "nbformat": 4,
 "nbformat_minor": 5
}
