{
 "cells": [
  {
   "cell_type": "markdown",
   "id": "29d3b2f3-1677-4332-a195-203e015d10c0",
   "metadata": {
    "jp-MarkdownHeadingCollapsed": true
   },
   "source": [
    "# 1080 silver 1"
   ]
  },
  {
   "cell_type": "code",
   "execution_count": null,
   "id": "7b748aa7-137b-4540-9b41-0b301ac1693c",
   "metadata": {},
   "outputs": [],
   "source": [
    "\"\"\"\n",
    "시간 복잡도: O(N*M)\n",
    "공간 복잡도: O(N*M)\n",
    "행렬A 전체 돌면서 B랑 다르면 3*3을 바꾼다 -> cnt +=1\n",
    "\"\"\"\n",
    "import sys\n",
    "N,M = map(int, sys.stdin.readline().split())\n",
    "A = [list(sys.stdin.readline().rstrip()) for _ in range(N)]\n",
    "B = [list(sys.stdin.readline().rstrip()) for _ in range(N)]\n",
    "cnt = 0\n",
    "\n",
    "for i in range(N):\n",
    "    for j in range(M):\n",
    "        if A[i][j] != B[i][j]:\n",
    "            # 3*3 행렬 변환            \n",
    "            if ((i+3) <= N) and ((j+3) <= M):\n",
    "                cnt += 1\n",
    "                for k in range(3):\n",
    "                    for h in range(3):\n",
    "                        if A[i+k][j+h] == '1':\n",
    "                            A[i+k][j+h] = '0'\n",
    "                        else:\n",
    "                            A[i+k][j+h] = '1'\n",
    "\n",
    "# 다 바뀌었는지 검사\n",
    "for i in range(N):\n",
    "    for j in range(M):\n",
    "        if A[i][j] != B[i][j]:\n",
    "            cnt = -1\n",
    "                            \n",
    "print(cnt)"
   ]
  },
  {
   "cell_type": "markdown",
   "id": "ec31a3ab-64d9-45be-95b6-0652dfd40261",
   "metadata": {},
   "source": [
    "# 20055 gold5"
   ]
  },
  {
   "cell_type": "markdown",
   "id": "f43efffc-a652-4785-afa5-fe8b517190e7",
   "metadata": {
    "jp-MarkdownHeadingCollapsed": true
   },
   "source": [
    "### try 1"
   ]
  },
  {
   "cell_type": "code",
   "execution_count": 23,
   "id": "2b525a3a-82d1-4f6b-a9d4-a4a1cb01579e",
   "metadata": {
    "collapsed": true,
    "jupyter": {
     "outputs_hidden": true
    },
    "scrolled": true
   },
   "outputs": [
    {
     "name": "stdout",
     "output_type": "stream",
     "text": [
      "deque([1, 1, 2, 1, 2, 1])\n",
      "deque([0, 0, 1, 2, 1, 2])\n",
      "2\n"
     ]
    }
   ],
   "source": [
    "\"\"\"\n",
    "시간 복잡도: O(N) \n",
    "공간 복잡도: O(1)\n",
    "회전 시키고 각 조건에 맞게 구현하였다.\n",
    "로봇 index를 위한 리스트를 따로 만들었다.\n",
    "\"\"\"\n",
    "\n",
    "import sys\n",
    "from collections import deque\n",
    "\n",
    "N,K = map(int,sys.stdin.readline().split())\n",
    "belt = list(map(int,sys.stdin.readline().split()))\n",
    "belt = deque(belt)\n",
    "robots = deque([0]*(N))\n",
    "step = 0\n",
    "\n",
    "while True:\n",
    "    #벨트 회전\n",
    "    step += 1\n",
    "    belt.rotate()\n",
    "    robots.rotate()\n",
    "    \n",
    "    robots[0] = 0 # 회전 후 맨 첫번째는 무조건 0\n",
    "    robots[-1] = 0 # 내리는 위치에 도달하는 즉시 내림\n",
    "    \n",
    "    for i in range(N-1,-1,-1): #가장 먼저 벨트에 올라간 로봇 부터\n",
    "        if robots[i]:\n",
    "            if (i < N-1) and (belt[i+1]) and (not robots[i+1]): # 범위 안넘고, 내구도 0이상이고, 그 다음칸에 로봇이 없을 때\n",
    "                belt[i+1] -= 1\n",
    "                robots[i] = 0\n",
    "                robots[i+1] = 1\n",
    "                \n",
    "    if belt[0]: # 올리는 위치\n",
    "        robots[0] = 1\n",
    "        belt[0] -= 1\n",
    "        \n",
    "    cnt = 0 \n",
    "    for j in belt: # 내구도 0인 칸의 개수 파악\n",
    "        if not j:\n",
    "            cnt += 1\n",
    "\n",
    "    if cnt >= K:\n",
    "        print(step)\n",
    "        break "
   ]
  },
  {
   "cell_type": "code",
   "execution_count": null,
   "id": "eeb498fb-e6b7-446d-8f0a-fbea5e438f74",
   "metadata": {},
   "outputs": [],
   "source": []
  }
 ],
 "metadata": {
  "kernelspec": {
   "display_name": "Python 3 (ipykernel)",
   "language": "python",
   "name": "python3"
  },
  "language_info": {
   "codemirror_mode": {
    "name": "ipython",
    "version": 3
   },
   "file_extension": ".py",
   "mimetype": "text/x-python",
   "name": "python",
   "nbconvert_exporter": "python",
   "pygments_lexer": "ipython3",
   "version": "3.11.5"
  }
 },
 "nbformat": 4,
 "nbformat_minor": 5
}
