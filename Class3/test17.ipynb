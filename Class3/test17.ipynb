{
 "cells": [
  {
   "cell_type": "markdown",
   "id": "295c3bb0-3ea1-4223-ad37-e4d622d95374",
   "metadata": {
    "jp-MarkdownHeadingCollapsed": true
   },
   "source": [
    "# 11727 silver 3"
   ]
  },
  {
   "cell_type": "code",
   "execution_count": 36,
   "id": "8adbf922-a635-444f-ac67-b002789addfc",
   "metadata": {
    "collapsed": true,
    "jupyter": {
     "outputs_hidden": true
    }
   },
   "outputs": [
    {
     "ename": "ValueError",
     "evalue": "invalid literal for int() with base 10: ''",
     "output_type": "error",
     "traceback": [
      "\u001b[0;31m---------------------------------------------------------------------------\u001b[0m",
      "\u001b[0;31mValueError\u001b[0m                                Traceback (most recent call last)",
      "Cell \u001b[0;32mIn[36], line 2\u001b[0m\n\u001b[1;32m      1\u001b[0m \u001b[38;5;28;01mimport\u001b[39;00m \u001b[38;5;21;01msys\u001b[39;00m\n\u001b[0;32m----> 2\u001b[0m n \u001b[38;5;241m=\u001b[39m \u001b[38;5;28;43mint\u001b[39;49m\u001b[43m(\u001b[49m\u001b[43msys\u001b[49m\u001b[38;5;241;43m.\u001b[39;49m\u001b[43mstdin\u001b[49m\u001b[38;5;241;43m.\u001b[39;49m\u001b[43mreadline\u001b[49m\u001b[43m(\u001b[49m\u001b[43m)\u001b[49m\u001b[43m)\u001b[49m\n\u001b[1;32m      4\u001b[0m dp \u001b[38;5;241m=\u001b[39m [\u001b[38;5;241m0\u001b[39m]\u001b[38;5;241m*\u001b[39m(\u001b[38;5;241m1001\u001b[39m)\n\u001b[1;32m      5\u001b[0m dp[\u001b[38;5;241m1\u001b[39m] \u001b[38;5;241m=\u001b[39m \u001b[38;5;241m1\u001b[39m\n",
      "\u001b[0;31mValueError\u001b[0m: invalid literal for int() with base 10: ''"
     ]
    }
   ],
   "source": [
    "\"\"\"\n",
    "시간 복잡도: O(N)\n",
    "공간 복잡도: O(N)\n",
    "\"\"\"\n",
    "import sys\n",
    "n = int(sys.stdin.readline())\n",
    "\n",
    "dp = [0]*(1001)\n",
    "dp[1] = 1\n",
    "dp[2] = 3\n",
    "\n",
    "for i in range(3,n+1):\n",
    "    if i % 2 == 0:\n",
    "        dp[i] = (2*dp[i-1] + 1) % 10007\n",
    "    else:\n",
    "        dp[i] = (2*dp[i-1] - 1) % 10007\n",
    "        \n",
    "\n",
    "print(dp[n])"
   ]
  },
  {
   "cell_type": "markdown",
   "id": "02d3cbe2-dc29-419f-b4a3-ee86eedcaad5",
   "metadata": {
    "jp-MarkdownHeadingCollapsed": true
   },
   "source": [
    "# 17626 silver 3 Fail"
   ]
  },
  {
   "cell_type": "code",
   "execution_count": 1,
   "id": "74a4aa76-8352-4fb0-8ab6-10c5549e14b9",
   "metadata": {},
   "outputs": [],
   "source": [
    "import sys"
   ]
  },
  {
   "cell_type": "code",
   "execution_count": 2,
   "id": "ce282101-0547-4af6-9f45-c8e332b9d81a",
   "metadata": {},
   "outputs": [
    {
     "ename": "ValueError",
     "evalue": "invalid literal for int() with base 10: ''",
     "output_type": "error",
     "traceback": [
      "\u001b[0;31m---------------------------------------------------------------------------\u001b[0m",
      "\u001b[0;31mValueError\u001b[0m                                Traceback (most recent call last)",
      "Cell \u001b[0;32mIn[2], line 1\u001b[0m\n\u001b[0;32m----> 1\u001b[0m n \u001b[38;5;241m=\u001b[39m \u001b[38;5;28;43mint\u001b[39;49m\u001b[43m(\u001b[49m\u001b[43msys\u001b[49m\u001b[38;5;241;43m.\u001b[39;49m\u001b[43mstdin\u001b[49m\u001b[38;5;241;43m.\u001b[39;49m\u001b[43mreadline\u001b[49m\u001b[43m(\u001b[49m\u001b[43m)\u001b[49m\u001b[43m)\u001b[49m\n",
      "\u001b[0;31mValueError\u001b[0m: invalid literal for int() with base 10: ''"
     ]
    }
   ],
   "source": [
    "n = int(sys.stdin.readline())"
   ]
  },
  {
   "cell_type": "code",
   "execution_count": 20,
   "id": "595a5bfb-c189-4c43-944f-ce0f5ec61763",
   "metadata": {},
   "outputs": [],
   "source": [
    "n = 26"
   ]
  },
  {
   "cell_type": "code",
   "execution_count": 18,
   "id": "39b9c68e-8660-4921-a340-c63f62e13de6",
   "metadata": {},
   "outputs": [
    {
     "name": "stdout",
     "output_type": "stream",
     "text": [
      "0\n"
     ]
    }
   ],
   "source": [
    "cnt = 0\n",
    "for i in range(n):\n",
    "    print(i)\n",
    "    if i*i > n:\n",
    "        print(i)\n",
    "        cnt +=1\n",
    "        n = n - ((i-1)*(i-1))\n",
    "        print('s?',n,i)\n",
    "        break\n",
    "    elif i*i == n:\n",
    "        cnt +=1\n",
    "        print('s??',n,i)\n",
    "        break"
   ]
  },
  {
   "cell_type": "code",
   "execution_count": null,
   "id": "dbcbcfd4-45db-45a3-8a88-6b89de3dbe7d",
   "metadata": {},
   "outputs": [],
   "source": []
  },
  {
   "cell_type": "code",
   "execution_count": 14,
   "id": "500241c4-4e11-42ea-a906-75864215bd48",
   "metadata": {},
   "outputs": [
    {
     "data": {
      "text/plain": [
       "1"
      ]
     },
     "execution_count": 14,
     "metadata": {},
     "output_type": "execute_result"
    }
   ],
   "source": [
    "n"
   ]
  },
  {
   "cell_type": "code",
   "execution_count": 50,
   "id": "5194b7c5-81df-4d08-8637-9502f08e8d9a",
   "metadata": {},
   "outputs": [
    {
     "name": "stdout",
     "output_type": "stream",
     "text": [
      "first, 106 11\n",
      "next 6 11\n",
      "first, 2 2\n",
      "next 1 2\n",
      "3\n"
     ]
    }
   ],
   "source": [
    "n = 11339\n",
    "cnt = 0\n",
    "while n > 0:\n",
    "    if n == 1:\n",
    "        cnt +=1\n",
    "        break\n",
    "    n = int(n**(1/2))\n",
    "    for i in range(n+1):\n",
    "        if i*i > n:\n",
    "            print('first,',n,i)\n",
    "            cnt +=1\n",
    "            n = n - ((i-1)*(i-1))\n",
    "            print('next',n,i)\n",
    "            break\n",
    "        elif i*i == n:\n",
    "            cnt +=1\n",
    "            n = n - (i*i)\n",
    "            break\n",
    "print(cnt)"
   ]
  },
  {
   "cell_type": "code",
   "execution_count": 46,
   "id": "7ff4a909-93cf-4c04-a4a9-25f188ea3e7c",
   "metadata": {},
   "outputs": [
    {
     "data": {
      "text/plain": [
       "11449"
      ]
     },
     "execution_count": 46,
     "metadata": {},
     "output_type": "execute_result"
    }
   ],
   "source": [
    "107**2"
   ]
  },
  {
   "cell_type": "code",
   "execution_count": 47,
   "id": "05539240-7a67-4dc1-af5b-4ced254c884f",
   "metadata": {},
   "outputs": [
    {
     "data": {
      "text/plain": [
       "106.48474069086143"
      ]
     },
     "execution_count": 47,
     "metadata": {},
     "output_type": "execute_result"
    }
   ],
   "source": [
    "11339**(1/2)"
   ]
  },
  {
   "cell_type": "code",
   "execution_count": 38,
   "id": "162e76d5-3bd4-4bfb-a8bf-497f37aa9fd9",
   "metadata": {},
   "outputs": [
    {
     "data": {
      "text/plain": [
       "185"
      ]
     },
     "execution_count": 38,
     "metadata": {},
     "output_type": "execute_result"
    }
   ],
   "source": [
    "int(34567**(1/2))"
   ]
  },
  {
   "cell_type": "code",
   "execution_count": 58,
   "id": "23695305-7b89-4f71-b719-1efe5e9c114f",
   "metadata": {},
   "outputs": [
    {
     "data": {
      "text/plain": [
       "185.92202666709505"
      ]
     },
     "execution_count": 58,
     "metadata": {},
     "output_type": "execute_result"
    }
   ],
   "source": [
    "34567**(1/2)"
   ]
  },
  {
   "cell_type": "code",
   "execution_count": 59,
   "id": "841bca21-f75c-44cd-87da-42a63ed2e84e",
   "metadata": {},
   "outputs": [
    {
     "data": {
      "text/plain": [
       "34225"
      ]
     },
     "execution_count": 59,
     "metadata": {},
     "output_type": "execute_result"
    }
   ],
   "source": [
    "185**2"
   ]
  },
  {
   "cell_type": "code",
   "execution_count": 60,
   "id": "b804ec6c-4301-411a-aa0c-327e92e90e68",
   "metadata": {},
   "outputs": [
    {
     "data": {
      "text/plain": [
       "1.0"
      ]
     },
     "execution_count": 60,
     "metadata": {},
     "output_type": "execute_result"
    }
   ],
   "source": [
    "1**(1/2)"
   ]
  },
  {
   "cell_type": "code",
   "execution_count": 74,
   "id": "02677004-e74f-4d45-b535-2a1088488148",
   "metadata": {},
   "outputs": [
    {
     "name": "stdout",
     "output_type": "stream",
     "text": [
      "106 11236 11339\n",
      "10 100 103\n",
      "1 1 3\n",
      "1 1 2\n",
      "1 1 1\n",
      "5\n"
     ]
    }
   ],
   "source": [
    "n = 27\n",
    "# n = 34567\n",
    "n = 11339\n",
    "cnt = 0\n",
    "while n > 0:\n",
    "    num = int(n**(1/2)) # 소수점 버리기\n",
    "    print(num, num**2,n)\n",
    "    if num**2 == n:\n",
    "        cnt +=1\n",
    "        break\n",
    "    else:\n",
    "        n -= num**2\n",
    "    cnt +=1 # 개수 count\n",
    "print(cnt)"
   ]
  },
  {
   "cell_type": "code",
   "execution_count": 77,
   "id": "2ae29e4d-888a-4014-a413-9bff7f9211f1",
   "metadata": {},
   "outputs": [
    {
     "data": {
      "text/plain": [
       "89"
      ]
     },
     "execution_count": 77,
     "metadata": {},
     "output_type": "execute_result"
    }
   ],
   "source": [
    "11339 - 11025 - 225"
   ]
  },
  {
   "cell_type": "code",
   "execution_count": 80,
   "id": "502c6fc9-499f-4105-8d83-a33b4a40567a",
   "metadata": {},
   "outputs": [
    {
     "data": {
      "text/plain": [
       "106.48474069086143"
      ]
     },
     "execution_count": 80,
     "metadata": {},
     "output_type": "execute_result"
    }
   ],
   "source": [
    "11339**(1/2)"
   ]
  },
  {
   "cell_type": "code",
   "execution_count": 75,
   "id": "ead588a8-1d28-4385-b71d-a9f637c2c3ec",
   "metadata": {},
   "outputs": [
    {
     "data": {
      "text/plain": [
       "11025"
      ]
     },
     "execution_count": 75,
     "metadata": {},
     "output_type": "execute_result"
    }
   ],
   "source": [
    "**2"
   ]
  },
  {
   "cell_type": "code",
   "execution_count": 73,
   "id": "665c4b61-4e58-424d-82bb-df14763108a8",
   "metadata": {},
   "outputs": [
    {
     "data": {
      "text/plain": [
       "225"
      ]
     },
     "execution_count": 73,
     "metadata": {},
     "output_type": "execute_result"
    }
   ],
   "source": [
    "15**2"
   ]
  },
  {
   "cell_type": "code",
   "execution_count": 63,
   "id": "98eaca9d-c0c7-4563-b53b-6d17cbd4867a",
   "metadata": {},
   "outputs": [
    {
     "data": {
      "text/plain": [
       "34596"
      ]
     },
     "execution_count": 63,
     "metadata": {},
     "output_type": "execute_result"
    }
   ],
   "source": [
    "186**2"
   ]
  },
  {
   "cell_type": "code",
   "execution_count": 40,
   "id": "0dc8b069-dea1-4515-93ec-9058c9f1c0f2",
   "metadata": {},
   "outputs": [
    {
     "data": {
      "text/plain": [
       "342"
      ]
     },
     "execution_count": 40,
     "metadata": {},
     "output_type": "execute_result"
    }
   ],
   "source": [
    "34567-34225"
   ]
  },
  {
   "cell_type": "code",
   "execution_count": null,
   "id": "795b5856-f381-4c16-a5d9-58a34b5a9155",
   "metadata": {},
   "outputs": [],
   "source": []
  },
  {
   "cell_type": "code",
   "execution_count": 32,
   "id": "49b1a011-a93c-4cd7-909d-1da4c975e1f4",
   "metadata": {},
   "outputs": [
    {
     "data": {
      "text/plain": [
       "106.48474069086143"
      ]
     },
     "execution_count": 32,
     "metadata": {},
     "output_type": "execute_result"
    }
   ],
   "source": [
    "11339**(1/2)"
   ]
  },
  {
   "cell_type": "code",
   "execution_count": 30,
   "id": "8234c0a3-f38a-4d38-abd2-beb1bc365fa8",
   "metadata": {},
   "outputs": [
    {
     "data": {
      "text/plain": [
       "11236"
      ]
     },
     "execution_count": 30,
     "metadata": {},
     "output_type": "execute_result"
    }
   ],
   "source": [
    "106**2"
   ]
  },
  {
   "cell_type": "markdown",
   "id": "a33a6095-6174-401b-8865-94f076dbe666",
   "metadata": {
    "jp-MarkdownHeadingCollapsed": true
   },
   "source": [
    "# 2979 bronze 2"
   ]
  },
  {
   "cell_type": "code",
   "execution_count": null,
   "id": "2602faa2-5c61-461a-a1a4-6ba62564cd5d",
   "metadata": {},
   "outputs": [],
   "source": [
    "\"\"\"\n",
    "시간 복잡도: O(N^2)\n",
    "공간 복잡도: O(1)\n",
    "\"\"\"\n",
    "import sys\n",
    "A, B, C = map(int,sys.stdin.readline().split())\n",
    "park =[0]*(101)\n",
    "for _ in range(3):\n",
    "    n,m = map(int,sys.stdin.readline().split())\n",
    "    for i in range(n,m):\n",
    "        park[i] +=1\n",
    "\n",
    "result = 0\n",
    "for i in park:\n",
    "    if i == 1:\n",
    "        result += (A)*i\n",
    "    elif i ==2:\n",
    "        result += B*i\n",
    "    elif i == 3:\n",
    "        result += C*i\n",
    "print(result)"
   ]
  },
  {
   "cell_type": "markdown",
   "id": "91044348-4dba-426e-b538-3719f13f5818",
   "metadata": {
    "jp-MarkdownHeadingCollapsed": true
   },
   "source": [
    "# 2852 silver 3"
   ]
  },
  {
   "cell_type": "code",
   "execution_count": null,
   "id": "659b7f58-60a9-4955-a11f-43683c68b492",
   "metadata": {},
   "outputs": [],
   "source": [
    "\"\"\"\n",
    "시간 복잡도: O(N)\n",
    "공간 복잡도: O(1)\n",
    "어렵당......\n",
    "\"\"\"\n",
    "import sys\n",
    "N = int(sys.stdin.readline())\n",
    "result = [[0,0],[0,0],[0,0]] # 0: prev, 1: 1번 팀, 2: 2번 팀\n",
    "\n",
    "for _ in range(N):\n",
    "    team, time = sys.stdin.readline().split()\n",
    "    hour, minute = time.split(':')\n",
    "    \n",
    "    # 팀 숫자 변환\n",
    "    team = ord(team) - ord('0')\n",
    "    minute_time = int(hour)*60 + int(minute)\n",
    "    \n",
    "    # 점수 획득\n",
    "    result[team][0] +=1\n",
    "\n",
    "    a, b= result[1][0], result[2][0]\n",
    "    if a == b: # 비길 경우\n",
    "        result[result[0][0]][1] += minute_time - result[0][1]\n",
    "        result[0][0] = 0\n",
    "            \n",
    "    elif a > b: # 1이 이기고 있을 경우\n",
    "        if result[0][0] == 0: #그 전에 비길 경우\n",
    "            result[0][0] = 1\n",
    "            result[0][1] = minute_time\n",
    "    else:\n",
    "        if result[0][0] == 0:\n",
    "            result[0][0] = 2\n",
    "            result[0][1] = minute_time\n",
    "            \n",
    "# 마지막 시간 빼기\n",
    "if result[0][0] == 1:\n",
    "    result[1][1] += (48*60) - result[0][1]    \n",
    "elif result[0][0] == 2:\n",
    "    result[2][1] += (48*60) - result[0][1]\n",
    "\n",
    "# main\n",
    "for i in range(2):\n",
    "    print(\"%02d:%02d\"%(result[i+1][1]//60,result[i+1][1]%60))"
   ]
  },
  {
   "cell_type": "markdown",
   "id": "0ed4249d-5aec-4cd5-a3ab-e9a0f41abdff",
   "metadata": {
    "jp-MarkdownHeadingCollapsed": true
   },
   "source": [
    "# 10026 gold 5"
   ]
  },
  {
   "cell_type": "code",
   "execution_count": 1,
   "id": "8fcdc15e-9be5-47b5-8a68-43e19a0b3387",
   "metadata": {},
   "outputs": [],
   "source": [
    "\"\"\"\n",
    "시간 복잡도: O(N^2)\n",
    "공간 복잡도: O(N^2)\n",
    "\n",
    "정상인..과 적록색약을 나누고 구역 bfs로 계산하였다\n",
    "안나누고.. 푸는 방법을 생각해봐야겠다\n",
    "\"\"\"\n",
    "import sys\n",
    "import queue\n",
    "\n",
    "def bfs(x,y):\n",
    "    q = queue.Queue()\n",
    "    q.put((x,y))\n",
    "    d = [(1,0),(-1,0),(0,1),(0,-1)]\n",
    "    \n",
    "    while not q.empty():\n",
    "        ix,iy = q.get()\n",
    "        for dx,dy in d:\n",
    "            idx, idy = ix+dx, iy+dy\n",
    "            if (0<=idx<N) and (0<=idy<N) and not visited[idx][idy] and graph[x][y]==graph[idx][idy]:\n",
    "                q.put((idx,idy))\n",
    "                visited[idx][idy] = 1\n",
    "\n",
    "if __name__ =='__main__':\n",
    "    N = int(sys.stdin.readline())\n",
    "    \n",
    "    graph = [list(sys.stdin.readline()) for _ in range(N)]\n",
    "    \n",
    "    visited = [[0]*N for _ in range(N)]\n",
    "    cnt1, cnt2 = 0,0\n",
    "    \n",
    "    # 정상인\n",
    "    for i in range(N):\n",
    "        for j in range(N):\n",
    "            if not visited[i][j]:\n",
    "                bfs(i,j)\n",
    "                cnt1 +=1\n",
    "    \n",
    "    # G -> R 변경\n",
    "    for i in range(N):\n",
    "        for j in range(N):\n",
    "            if graph[i][j] == 'G':\n",
    "                graph[i][j] = 'R'\n",
    "    \n",
    "    # 방문 초기화\n",
    "    visited = [[0]*N for _ in range(N)]            \n",
    "    # 적록색약\n",
    "    for i in range(N):\n",
    "        for j in range(N):\n",
    "            if not visited[i][j]:\n",
    "                bfs(i,j)\n",
    "                cnt2 +=1\n",
    "    \n",
    "    print(cnt1,cnt2)"
   ]
  },
  {
   "cell_type": "markdown",
   "id": "025bedf9-f997-4b08-90f0-b693d9d373be",
   "metadata": {
    "jp-MarkdownHeadingCollapsed": true
   },
   "source": [
    "# 10431 silver 5"
   ]
  },
  {
   "cell_type": "code",
   "execution_count": null,
   "id": "6743907c-90f1-46ee-99bf-31b7f7f16ffe",
   "metadata": {},
   "outputs": [],
   "source": [
    "import sys\n",
    "\n",
    "P = int(sys.stdin.readline())\n",
    "\n",
    "for _ in range(P):\n",
    "    case = list(map(int,sys.stdin.readline().split()))\n",
    "    cnt = 0\n",
    "    \n",
    "    for i in range(20):\n",
    "        for k in range(i+1,1,-1): #1\n",
    "            if case[k] < case[k-1]:\n",
    "                case[k], case[k-1] = case[k-1], case[k]\n",
    "                cnt += 1\n",
    "    print(case[0], cnt)"
   ]
  },
  {
   "cell_type": "markdown",
   "id": "e18e80d1-cadb-4f39-9243-7b605bac20d2",
   "metadata": {
    "jp-MarkdownHeadingCollapsed": true
   },
   "source": [
    "# 7569 gold 5"
   ]
  },
  {
   "cell_type": "markdown",
   "id": "f37473d3-2f2e-4263-8c2b-59a60df0b8cb",
   "metadata": {
    "jp-MarkdownHeadingCollapsed": true
   },
   "source": [
    "### try 1 -fail (2차원)"
   ]
  },
  {
   "cell_type": "code",
   "execution_count": null,
   "id": "50121c7c-4ad7-4a29-9602-a93c3619ac20",
   "metadata": {},
   "outputs": [],
   "source": [
    "\"\"\"\n",
    "시간 복잡도: O(N*M*H)\n",
    "공간 복잡도: O(N*M*H)\n",
    "\n",
    "d에 높이를 추가하였다. (3차원 -> 2차원)\n",
    "\"\"\"\n",
    "import sys\n",
    "import queue\n",
    "\n",
    "# input\n",
    "M, N, H = map(int,sys.stdin.readline().split())\n",
    "graph = [list(map(int,sys.stdin.readline().split())) for _ in range(N*H)]\n",
    "\n",
    "q = queue.Queue()\n",
    "amount, day = 0, 0\n",
    "\n",
    "for i in range(N*H):\n",
    "    for j in range(M):\n",
    "        if graph[i][j] == 1:\n",
    "            q.put((j,i))\n",
    "        elif graph[i][j] == 0:\n",
    "            amount += 1\n",
    "\n",
    "# bfs\n",
    "while not q.empty():\n",
    "    d = [(1,0),(-1,0),(0,1),(0,-1),(0,N),(0,-N)]\n",
    "    qnum = q.qsize()\n",
    "    \n",
    "    for _ in range(qnum):\n",
    "        x, y = q.get()\n",
    "        for ix, iy in d:\n",
    "            dx, dy = x+ix, y+iy\n",
    "            if (0<= dx <M) and (0<= dy < N*H) and (graph[dy][dx] == 0):\n",
    "                if dy==0 and dx ==0:\n",
    "                    print(x,y,ix,iy)\n",
    "                graph[dy][dx] = 1\n",
    "                amount -= 1\n",
    "                q.put((dy, dx))\n",
    "    day += 1\n",
    "print(amount, graph)\n",
    "# output\n",
    "if not amount:\n",
    "    print(day -1)\n",
    "else:\n",
    "    print(-1)"
   ]
  },
  {
   "cell_type": "markdown",
   "id": "f5856987-c614-42dd-871b-1f210c328d33",
   "metadata": {
    "jp-MarkdownHeadingCollapsed": true
   },
   "source": [
    "### try 2 -fail 3차원 (시간 터짐)"
   ]
  },
  {
   "cell_type": "code",
   "execution_count": null,
   "id": "28288d82-f548-487c-812a-223ff60c7027",
   "metadata": {},
   "outputs": [],
   "source": [
    "\"\"\"\n",
    "시간 복잡도: O(N*M*H)\n",
    "공간 복잡도: O(N*M*H)\n",
    "\n",
    "d에 높이를 추가하였다. (3차원)\n",
    "\"\"\"\n",
    "import sys\n",
    "import queue\n",
    "\n",
    "# input\n",
    "M, N, H = map(int,sys.stdin.readline().split())\n",
    "############### 여기가 문제 였다\n",
    "graph = [[list(map(int,sys.stdin.readline().split())) for _ in range(N)] for _ in range(H)] \n",
    "\n",
    "q = queue.Queue()\n",
    "amount, day = 0, 0\n",
    "\n",
    "for i in range(H):\n",
    "    for j in range(N):\n",
    "        for k in range(M):\n",
    "            if graph[i][j][k] == 1:\n",
    "                q.put((i,j,k))\n",
    "            elif graph[i][j][k] == 0:\n",
    "                amount += 1\n",
    "\n",
    "# bfs\n",
    "while not q.empty():\n",
    "    d = [(1,0,0),(-1,0,0),(0,1,0),(0,-1,0),(0,0,1),(0,0,-1)]\n",
    "    qnum = q.qsize()\n",
    "    \n",
    "    for _ in range(qnum):\n",
    "        x, y, z = q.get()\n",
    "        for ix, iy, iz in d:\n",
    "            dx, dy, dz = x+ix, y+iy, z+iz\n",
    "            if (0<= dx <H) and (0<= dy < N)  and (0<= dz <M) and (graph[dx][dy][dz] == 0):\n",
    "                \n",
    "                graph[dx][dy][dz] = 1\n",
    "                amount -= 1\n",
    "                q.put((dx, dy, dz))\n",
    "    day += 1\n",
    "\n",
    "# output\n",
    "if not amount:\n",
    "    print(day -1)\n",
    "else:\n",
    "    print(-1)"
   ]
  },
  {
   "cell_type": "markdown",
   "id": "29dd66ee-c69b-492d-94cd-8fbb7296148f",
   "metadata": {
    "jp-MarkdownHeadingCollapsed": true
   },
   "source": [
    "### try 3 - input"
   ]
  },
  {
   "cell_type": "code",
   "execution_count": null,
   "id": "3003ff1e-719b-4308-a2fb-40e5a86c6380",
   "metadata": {},
   "outputs": [],
   "source": [
    "\"\"\"\n",
    "시간 복잡도: O(N*M*H)\n",
    "공간 복잡도: O(N*M*H)\n",
    "\n",
    "d에 높이를 추가하였다. (3차원)\n",
    "\"\"\"\n",
    "import sys\n",
    "import queue\n",
    "\n",
    "\n",
    "M, N, H = map(int,sys.stdin.readline().split())\n",
    "q = queue.Queue()\n",
    "amount, day = 0, 0\n",
    "graph = []\n",
    "\n",
    "# input\n",
    "for z in range(H):\n",
    "    graph1 = []\n",
    "    for x in range(N):\n",
    "        graph1.append(list(map(int, sys.stdin.readline().split())))\n",
    "        for y in range(M):\n",
    "            if graph1[x][y] == 1:\n",
    "                q.put((z, x, y))\n",
    "            elif graph1[x][y] == 0:\n",
    "                amount +=1\n",
    "    graph.append(graph1)\n",
    "\n",
    "# bfs\n",
    "while not q.empty():\n",
    "    d = [(1,0,0),(-1,0,0),(0,1,0),(0,-1,0),(0,0,1),(0,0,-1)]\n",
    "    qnum = q.qsize()\n",
    "    \n",
    "    for _ in range(qnum):\n",
    "        x, y, z = q.get()\n",
    "        for ix, iy, iz in d:\n",
    "            dx, dy, dz = x+ix, y+iy, z+iz\n",
    "            if (0<= dx <H) and (0<= dy < N)  and (0<= dz <M) and (graph[dx][dy][dz] == 0):\n",
    "                \n",
    "                graph[dx][dy][dz] = 1\n",
    "                amount -= 1\n",
    "                q.put((dx, dy, dz))\n",
    "    day += 1\n",
    "\n",
    "# output\n",
    "if not amount:\n",
    "    print(day -1)\n",
    "else:\n",
    "    print(-1)"
   ]
  },
  {
   "cell_type": "markdown",
   "id": "c28d9115-8e7f-4b3e-9f43-1ccb90193455",
   "metadata": {},
   "source": [
    "# 21736 silver 2"
   ]
  },
  {
   "cell_type": "markdown",
   "id": "bace2064-e99d-4ee5-9829-d5a91148008c",
   "metadata": {
    "jp-MarkdownHeadingCollapsed": true
   },
   "source": [
    "### try 1"
   ]
  },
  {
   "cell_type": "code",
   "execution_count": null,
   "id": "f9addc9d-dcc6-4fee-9592-089e8f469066",
   "metadata": {},
   "outputs": [],
   "source": [
    "\"\"\"\n",
    "시간 복잡도: O(N*M)\n",
    "공간 복잡도: O(N*M)\n",
    "\"\"\"\n",
    "import sys\n",
    "import queue\n",
    "\n",
    "def bfs(x,y):\n",
    "    q = queue.Queue()\n",
    "    q.put((x,y))\n",
    "    d = [(1,0),(-1,0),(0,1),(0,-1)]\n",
    "    visited[x][y], cnt  = 1, 0\n",
    "    \n",
    "    while not q.empty():\n",
    "        x_, y_ = q.get()\n",
    "        for ix, iy in d:\n",
    "            dx, dy = x_ + ix, y_ + iy\n",
    "            if (0 <= dx < N) and (0 <= dy < M) and (graph[dx][dy] != 'X') and (not visited[dx][dy]):\n",
    "                if graph[dx][dy] == 'P':\n",
    "                    cnt += 1\n",
    "                visited[dx][dy] = 1\n",
    "                q.put((dx,dy))\n",
    "\n",
    "    return cnt\n",
    "\n",
    "N,M = map(int,sys.stdin.readline().split())\n",
    "graph = [list(sys.stdin.readline().rstrip()) for _ in range(N)]\n",
    "visited = [[0 for _ in range(M)] for _ in range(N)]\n",
    "result = 0\n",
    "\n",
    "for i in range(N):\n",
    "    for j in range(M):\n",
    "        if graph[i][j] == 'I':\n",
    "            result = bfs(i,j)\n",
    "            break\n",
    "            \n",
    "if not result:\n",
    "    print('TT')\n",
    "else:\n",
    "    print(result)"
   ]
  },
  {
   "cell_type": "markdown",
   "id": "3e9f8894-c358-4e32-8132-11f285316ae7",
   "metadata": {
    "jp-MarkdownHeadingCollapsed": true
   },
   "source": [
    "### try 2"
   ]
  },
  {
   "cell_type": "code",
   "execution_count": null,
   "id": "f60a7961-8e90-4120-9378-473b0b254b59",
   "metadata": {},
   "outputs": [],
   "source": [
    "\"\"\"\n",
    "시간 복잡도: O(N*M)\n",
    "공간 복잡도: O(N*M)\n",
    "\"\"\"\n",
    "import sys\n",
    "import queue\n",
    "\n",
    "def bfs():\n",
    "    d = [(1,0),(-1,0),(0,1),(0,-1)]\n",
    "    cnt = 0\n",
    "    \n",
    "    while not q.empty():\n",
    "        x_, y_ = q.get()\n",
    "        for ix, iy in d:\n",
    "            dx, dy = x_ + ix, y_ + iy\n",
    "            if (0 <= dx < N) and (0 <= dy < M) and (graph[dx][dy] != 'X') and (not visited[dx][dy]):\n",
    "                if graph[dx][dy] == 'P':\n",
    "                    cnt += 1\n",
    "                visited[dx][dy] = 1\n",
    "                q.put((dx,dy))\n",
    "\n",
    "    return cnt\n",
    "\n",
    "# queue 미리 선언\n",
    "q, graph = queue.Queue(), []\n",
    "\n",
    "# input\n",
    "N,M = map(int,sys.stdin.readline().split())\n",
    "\n",
    "# 입력과 동시에 사람 찾기\n",
    "for i in range(N):\n",
    "    col = list(sys.stdin.readline().rstrip())\n",
    "    for j in range(M):\n",
    "        if col[j] == 'I':\n",
    "            q.put((i,j))\n",
    "    graph.append(col)\n",
    "# 방문\n",
    "visited = [[0 for _ in range(M)] for _ in range(N)]\n",
    "result = bfs() # 사실 함수 필요 없다\n",
    "            \n",
    "if not result:\n",
    "    print('TT')\n",
    "else:\n",
    "    print(result)"
   ]
  },
  {
   "cell_type": "code",
   "execution_count": null,
   "id": "56cac806-550d-4bf3-ad44-73a3385c8e35",
   "metadata": {},
   "outputs": [],
   "source": []
  }
 ],
 "metadata": {
  "kernelspec": {
   "display_name": "Python 3 (ipykernel)",
   "language": "python",
   "name": "python3"
  },
  "language_info": {
   "codemirror_mode": {
    "name": "ipython",
    "version": 3
   },
   "file_extension": ".py",
   "mimetype": "text/x-python",
   "name": "python",
   "nbconvert_exporter": "python",
   "pygments_lexer": "ipython3",
   "version": "3.11.5"
  }
 },
 "nbformat": 4,
 "nbformat_minor": 5
}
