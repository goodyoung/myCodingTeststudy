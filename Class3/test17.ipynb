{
 "cells": [
  {
   "cell_type": "markdown",
   "id": "295c3bb0-3ea1-4223-ad37-e4d622d95374",
   "metadata": {
    "jp-MarkdownHeadingCollapsed": true
   },
   "source": [
    "# 11727 silver 3"
   ]
  },
  {
   "cell_type": "code",
   "execution_count": 36,
   "id": "8adbf922-a635-444f-ac67-b002789addfc",
   "metadata": {
    "collapsed": true,
    "jupyter": {
     "outputs_hidden": true
    }
   },
   "outputs": [
    {
     "ename": "ValueError",
     "evalue": "invalid literal for int() with base 10: ''",
     "output_type": "error",
     "traceback": [
      "\u001b[0;31m---------------------------------------------------------------------------\u001b[0m",
      "\u001b[0;31mValueError\u001b[0m                                Traceback (most recent call last)",
      "Cell \u001b[0;32mIn[36], line 2\u001b[0m\n\u001b[1;32m      1\u001b[0m \u001b[38;5;28;01mimport\u001b[39;00m \u001b[38;5;21;01msys\u001b[39;00m\n\u001b[0;32m----> 2\u001b[0m n \u001b[38;5;241m=\u001b[39m \u001b[38;5;28;43mint\u001b[39;49m\u001b[43m(\u001b[49m\u001b[43msys\u001b[49m\u001b[38;5;241;43m.\u001b[39;49m\u001b[43mstdin\u001b[49m\u001b[38;5;241;43m.\u001b[39;49m\u001b[43mreadline\u001b[49m\u001b[43m(\u001b[49m\u001b[43m)\u001b[49m\u001b[43m)\u001b[49m\n\u001b[1;32m      4\u001b[0m dp \u001b[38;5;241m=\u001b[39m [\u001b[38;5;241m0\u001b[39m]\u001b[38;5;241m*\u001b[39m(\u001b[38;5;241m1001\u001b[39m)\n\u001b[1;32m      5\u001b[0m dp[\u001b[38;5;241m1\u001b[39m] \u001b[38;5;241m=\u001b[39m \u001b[38;5;241m1\u001b[39m\n",
      "\u001b[0;31mValueError\u001b[0m: invalid literal for int() with base 10: ''"
     ]
    }
   ],
   "source": [
    "\"\"\"\n",
    "시간 복잡도: O(N)\n",
    "공간 복잡도: O(N)\n",
    "\"\"\"\n",
    "import sys\n",
    "n = int(sys.stdin.readline())\n",
    "\n",
    "dp = [0]*(1001)\n",
    "dp[1] = 1\n",
    "dp[2] = 3\n",
    "\n",
    "for i in range(3,n+1):\n",
    "    if i % 2 == 0:\n",
    "        dp[i] = (2*dp[i-1] + 1) % 10007\n",
    "    else:\n",
    "        dp[i] = (2*dp[i-1] - 1) % 10007\n",
    "        \n",
    "\n",
    "print(dp[n])"
   ]
  },
  {
   "cell_type": "markdown",
   "id": "02d3cbe2-dc29-419f-b4a3-ee86eedcaad5",
   "metadata": {
    "jp-MarkdownHeadingCollapsed": true
   },
   "source": [
    "# 17626 silver 3 Fail"
   ]
  },
  {
   "cell_type": "code",
   "execution_count": 1,
   "id": "74a4aa76-8352-4fb0-8ab6-10c5549e14b9",
   "metadata": {},
   "outputs": [],
   "source": [
    "import sys"
   ]
  },
  {
   "cell_type": "code",
   "execution_count": 2,
   "id": "ce282101-0547-4af6-9f45-c8e332b9d81a",
   "metadata": {},
   "outputs": [
    {
     "ename": "ValueError",
     "evalue": "invalid literal for int() with base 10: ''",
     "output_type": "error",
     "traceback": [
      "\u001b[0;31m---------------------------------------------------------------------------\u001b[0m",
      "\u001b[0;31mValueError\u001b[0m                                Traceback (most recent call last)",
      "Cell \u001b[0;32mIn[2], line 1\u001b[0m\n\u001b[0;32m----> 1\u001b[0m n \u001b[38;5;241m=\u001b[39m \u001b[38;5;28;43mint\u001b[39;49m\u001b[43m(\u001b[49m\u001b[43msys\u001b[49m\u001b[38;5;241;43m.\u001b[39;49m\u001b[43mstdin\u001b[49m\u001b[38;5;241;43m.\u001b[39;49m\u001b[43mreadline\u001b[49m\u001b[43m(\u001b[49m\u001b[43m)\u001b[49m\u001b[43m)\u001b[49m\n",
      "\u001b[0;31mValueError\u001b[0m: invalid literal for int() with base 10: ''"
     ]
    }
   ],
   "source": [
    "n = int(sys.stdin.readline())"
   ]
  },
  {
   "cell_type": "code",
   "execution_count": 20,
   "id": "595a5bfb-c189-4c43-944f-ce0f5ec61763",
   "metadata": {},
   "outputs": [],
   "source": [
    "n = 26"
   ]
  },
  {
   "cell_type": "code",
   "execution_count": 18,
   "id": "39b9c68e-8660-4921-a340-c63f62e13de6",
   "metadata": {},
   "outputs": [
    {
     "name": "stdout",
     "output_type": "stream",
     "text": [
      "0\n"
     ]
    }
   ],
   "source": [
    "cnt = 0\n",
    "for i in range(n):\n",
    "    print(i)\n",
    "    if i*i > n:\n",
    "        print(i)\n",
    "        cnt +=1\n",
    "        n = n - ((i-1)*(i-1))\n",
    "        print('s?',n,i)\n",
    "        break\n",
    "    elif i*i == n:\n",
    "        cnt +=1\n",
    "        print('s??',n,i)\n",
    "        break"
   ]
  },
  {
   "cell_type": "code",
   "execution_count": null,
   "id": "dbcbcfd4-45db-45a3-8a88-6b89de3dbe7d",
   "metadata": {},
   "outputs": [],
   "source": []
  },
  {
   "cell_type": "code",
   "execution_count": 14,
   "id": "500241c4-4e11-42ea-a906-75864215bd48",
   "metadata": {},
   "outputs": [
    {
     "data": {
      "text/plain": [
       "1"
      ]
     },
     "execution_count": 14,
     "metadata": {},
     "output_type": "execute_result"
    }
   ],
   "source": [
    "n"
   ]
  },
  {
   "cell_type": "code",
   "execution_count": 50,
   "id": "5194b7c5-81df-4d08-8637-9502f08e8d9a",
   "metadata": {},
   "outputs": [
    {
     "name": "stdout",
     "output_type": "stream",
     "text": [
      "first, 106 11\n",
      "next 6 11\n",
      "first, 2 2\n",
      "next 1 2\n",
      "3\n"
     ]
    }
   ],
   "source": [
    "n = 11339\n",
    "cnt = 0\n",
    "while n > 0:\n",
    "    if n == 1:\n",
    "        cnt +=1\n",
    "        break\n",
    "    n = int(n**(1/2))\n",
    "    for i in range(n+1):\n",
    "        if i*i > n:\n",
    "            print('first,',n,i)\n",
    "            cnt +=1\n",
    "            n = n - ((i-1)*(i-1))\n",
    "            print('next',n,i)\n",
    "            break\n",
    "        elif i*i == n:\n",
    "            cnt +=1\n",
    "            n = n - (i*i)\n",
    "            break\n",
    "print(cnt)"
   ]
  },
  {
   "cell_type": "code",
   "execution_count": 46,
   "id": "7ff4a909-93cf-4c04-a4a9-25f188ea3e7c",
   "metadata": {},
   "outputs": [
    {
     "data": {
      "text/plain": [
       "11449"
      ]
     },
     "execution_count": 46,
     "metadata": {},
     "output_type": "execute_result"
    }
   ],
   "source": [
    "107**2"
   ]
  },
  {
   "cell_type": "code",
   "execution_count": 47,
   "id": "05539240-7a67-4dc1-af5b-4ced254c884f",
   "metadata": {},
   "outputs": [
    {
     "data": {
      "text/plain": [
       "106.48474069086143"
      ]
     },
     "execution_count": 47,
     "metadata": {},
     "output_type": "execute_result"
    }
   ],
   "source": [
    "11339**(1/2)"
   ]
  },
  {
   "cell_type": "code",
   "execution_count": 38,
   "id": "162e76d5-3bd4-4bfb-a8bf-497f37aa9fd9",
   "metadata": {},
   "outputs": [
    {
     "data": {
      "text/plain": [
       "185"
      ]
     },
     "execution_count": 38,
     "metadata": {},
     "output_type": "execute_result"
    }
   ],
   "source": [
    "int(34567**(1/2))"
   ]
  },
  {
   "cell_type": "code",
   "execution_count": 58,
   "id": "23695305-7b89-4f71-b719-1efe5e9c114f",
   "metadata": {},
   "outputs": [
    {
     "data": {
      "text/plain": [
       "185.92202666709505"
      ]
     },
     "execution_count": 58,
     "metadata": {},
     "output_type": "execute_result"
    }
   ],
   "source": [
    "34567**(1/2)"
   ]
  },
  {
   "cell_type": "code",
   "execution_count": 59,
   "id": "841bca21-f75c-44cd-87da-42a63ed2e84e",
   "metadata": {},
   "outputs": [
    {
     "data": {
      "text/plain": [
       "34225"
      ]
     },
     "execution_count": 59,
     "metadata": {},
     "output_type": "execute_result"
    }
   ],
   "source": [
    "185**2"
   ]
  },
  {
   "cell_type": "code",
   "execution_count": 60,
   "id": "b804ec6c-4301-411a-aa0c-327e92e90e68",
   "metadata": {},
   "outputs": [
    {
     "data": {
      "text/plain": [
       "1.0"
      ]
     },
     "execution_count": 60,
     "metadata": {},
     "output_type": "execute_result"
    }
   ],
   "source": [
    "1**(1/2)"
   ]
  },
  {
   "cell_type": "code",
   "execution_count": 74,
   "id": "02677004-e74f-4d45-b535-2a1088488148",
   "metadata": {},
   "outputs": [
    {
     "name": "stdout",
     "output_type": "stream",
     "text": [
      "106 11236 11339\n",
      "10 100 103\n",
      "1 1 3\n",
      "1 1 2\n",
      "1 1 1\n",
      "5\n"
     ]
    }
   ],
   "source": [
    "n = 27\n",
    "# n = 34567\n",
    "n = 11339\n",
    "cnt = 0\n",
    "while n > 0:\n",
    "    num = int(n**(1/2)) # 소수점 버리기\n",
    "    print(num, num**2,n)\n",
    "    if num**2 == n:\n",
    "        cnt +=1\n",
    "        break\n",
    "    else:\n",
    "        n -= num**2\n",
    "    cnt +=1 # 개수 count\n",
    "print(cnt)"
   ]
  },
  {
   "cell_type": "code",
   "execution_count": 77,
   "id": "2ae29e4d-888a-4014-a413-9bff7f9211f1",
   "metadata": {},
   "outputs": [
    {
     "data": {
      "text/plain": [
       "89"
      ]
     },
     "execution_count": 77,
     "metadata": {},
     "output_type": "execute_result"
    }
   ],
   "source": [
    "11339 - 11025 - 225"
   ]
  },
  {
   "cell_type": "code",
   "execution_count": 80,
   "id": "502c6fc9-499f-4105-8d83-a33b4a40567a",
   "metadata": {},
   "outputs": [
    {
     "data": {
      "text/plain": [
       "106.48474069086143"
      ]
     },
     "execution_count": 80,
     "metadata": {},
     "output_type": "execute_result"
    }
   ],
   "source": [
    "11339**(1/2)"
   ]
  },
  {
   "cell_type": "code",
   "execution_count": 75,
   "id": "ead588a8-1d28-4385-b71d-a9f637c2c3ec",
   "metadata": {},
   "outputs": [
    {
     "data": {
      "text/plain": [
       "11025"
      ]
     },
     "execution_count": 75,
     "metadata": {},
     "output_type": "execute_result"
    }
   ],
   "source": [
    "**2"
   ]
  },
  {
   "cell_type": "code",
   "execution_count": 73,
   "id": "665c4b61-4e58-424d-82bb-df14763108a8",
   "metadata": {},
   "outputs": [
    {
     "data": {
      "text/plain": [
       "225"
      ]
     },
     "execution_count": 73,
     "metadata": {},
     "output_type": "execute_result"
    }
   ],
   "source": [
    "15**2"
   ]
  },
  {
   "cell_type": "code",
   "execution_count": 63,
   "id": "98eaca9d-c0c7-4563-b53b-6d17cbd4867a",
   "metadata": {},
   "outputs": [
    {
     "data": {
      "text/plain": [
       "34596"
      ]
     },
     "execution_count": 63,
     "metadata": {},
     "output_type": "execute_result"
    }
   ],
   "source": [
    "186**2"
   ]
  },
  {
   "cell_type": "code",
   "execution_count": 40,
   "id": "0dc8b069-dea1-4515-93ec-9058c9f1c0f2",
   "metadata": {},
   "outputs": [
    {
     "data": {
      "text/plain": [
       "342"
      ]
     },
     "execution_count": 40,
     "metadata": {},
     "output_type": "execute_result"
    }
   ],
   "source": [
    "34567-34225"
   ]
  },
  {
   "cell_type": "code",
   "execution_count": null,
   "id": "795b5856-f381-4c16-a5d9-58a34b5a9155",
   "metadata": {},
   "outputs": [],
   "source": []
  },
  {
   "cell_type": "code",
   "execution_count": 32,
   "id": "49b1a011-a93c-4cd7-909d-1da4c975e1f4",
   "metadata": {},
   "outputs": [
    {
     "data": {
      "text/plain": [
       "106.48474069086143"
      ]
     },
     "execution_count": 32,
     "metadata": {},
     "output_type": "execute_result"
    }
   ],
   "source": [
    "11339**(1/2)"
   ]
  },
  {
   "cell_type": "code",
   "execution_count": 30,
   "id": "8234c0a3-f38a-4d38-abd2-beb1bc365fa8",
   "metadata": {},
   "outputs": [
    {
     "data": {
      "text/plain": [
       "11236"
      ]
     },
     "execution_count": 30,
     "metadata": {},
     "output_type": "execute_result"
    }
   ],
   "source": [
    "106**2"
   ]
  },
  {
   "cell_type": "markdown",
   "id": "a33a6095-6174-401b-8865-94f076dbe666",
   "metadata": {
    "jp-MarkdownHeadingCollapsed": true
   },
   "source": [
    "# 2979 bronze 2"
   ]
  },
  {
   "cell_type": "code",
   "execution_count": null,
   "id": "2602faa2-5c61-461a-a1a4-6ba62564cd5d",
   "metadata": {},
   "outputs": [],
   "source": [
    "import sys\n",
    "A, B, C = map(int,sys.stdin.readline().split())\n",
    "park =[0]*(101)\n",
    "for _ in range(3):\n",
    "    n,m = map(int,sys.stdin.readline().split())\n",
    "    for i in range(n,m+1):\n",
    "        park[i] +=1\n",
    "        \n",
    "result = 0\n",
    "for i in park:\n",
    "    if i == 1:\n",
    "        result += (A)\n",
    "    elif i ==2:\n",
    "        result += B\n",
    "    elif i == 3:\n",
    "        result += C"
   ]
  }
 ],
 "metadata": {
  "kernelspec": {
   "display_name": "Python 3 (ipykernel)",
   "language": "python",
   "name": "python3"
  },
  "language_info": {
   "codemirror_mode": {
    "name": "ipython",
    "version": 3
   },
   "file_extension": ".py",
   "mimetype": "text/x-python",
   "name": "python",
   "nbconvert_exporter": "python",
   "pygments_lexer": "ipython3",
   "version": "3.11.5"
  }
 },
 "nbformat": 4,
 "nbformat_minor": 5
}
