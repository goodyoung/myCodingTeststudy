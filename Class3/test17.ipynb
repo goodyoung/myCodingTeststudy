{
 "cells": [
  {
   "cell_type": "markdown",
   "id": "295c3bb0-3ea1-4223-ad37-e4d622d95374",
   "metadata": {},
   "source": [
    "# 11727 silver 3"
   ]
  },
  {
   "cell_type": "code",
   "execution_count": 36,
   "id": "8adbf922-a635-444f-ac67-b002789addfc",
   "metadata": {
    "collapsed": true,
    "jupyter": {
     "outputs_hidden": true
    }
   },
   "outputs": [
    {
     "ename": "ValueError",
     "evalue": "invalid literal for int() with base 10: ''",
     "output_type": "error",
     "traceback": [
      "\u001b[0;31m---------------------------------------------------------------------------\u001b[0m",
      "\u001b[0;31mValueError\u001b[0m                                Traceback (most recent call last)",
      "Cell \u001b[0;32mIn[36], line 2\u001b[0m\n\u001b[1;32m      1\u001b[0m \u001b[38;5;28;01mimport\u001b[39;00m \u001b[38;5;21;01msys\u001b[39;00m\n\u001b[0;32m----> 2\u001b[0m n \u001b[38;5;241m=\u001b[39m \u001b[38;5;28;43mint\u001b[39;49m\u001b[43m(\u001b[49m\u001b[43msys\u001b[49m\u001b[38;5;241;43m.\u001b[39;49m\u001b[43mstdin\u001b[49m\u001b[38;5;241;43m.\u001b[39;49m\u001b[43mreadline\u001b[49m\u001b[43m(\u001b[49m\u001b[43m)\u001b[49m\u001b[43m)\u001b[49m\n\u001b[1;32m      4\u001b[0m dp \u001b[38;5;241m=\u001b[39m [\u001b[38;5;241m0\u001b[39m]\u001b[38;5;241m*\u001b[39m(\u001b[38;5;241m1001\u001b[39m)\n\u001b[1;32m      5\u001b[0m dp[\u001b[38;5;241m1\u001b[39m] \u001b[38;5;241m=\u001b[39m \u001b[38;5;241m1\u001b[39m\n",
      "\u001b[0;31mValueError\u001b[0m: invalid literal for int() with base 10: ''"
     ]
    }
   ],
   "source": [
    "\"\"\"\n",
    "시간 복잡도: O(N)\n",
    "공간 복잡도: O(N)\n",
    "\"\"\"\n",
    "import sys\n",
    "n = int(sys.stdin.readline())\n",
    "\n",
    "dp = [0]*(1001)\n",
    "dp[1] = 1\n",
    "dp[2] = 3\n",
    "\n",
    "for i in range(3,n+1):\n",
    "    if i % 2 == 0:\n",
    "        dp[i] = (2*dp[i-1] + 1) % 10007\n",
    "    else:\n",
    "        dp[i] = (2*dp[i-1] - 1) % 10007\n",
    "        \n",
    "\n",
    "print(dp[n])"
   ]
  },
  {
   "cell_type": "code",
   "execution_count": null,
   "id": "016a6ba8-de14-47b7-b989-0fbd79ff7d00",
   "metadata": {},
   "outputs": [],
   "source": []
  }
 ],
 "metadata": {
  "kernelspec": {
   "display_name": "Python 3 (ipykernel)",
   "language": "python",
   "name": "python3"
  },
  "language_info": {
   "codemirror_mode": {
    "name": "ipython",
    "version": 3
   },
   "file_extension": ".py",
   "mimetype": "text/x-python",
   "name": "python",
   "nbconvert_exporter": "python",
   "pygments_lexer": "ipython3",
   "version": "3.11.5"
  }
 },
 "nbformat": 4,
 "nbformat_minor": 5
}
