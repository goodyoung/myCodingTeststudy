{
 "cells": [
  {
   "cell_type": "markdown",
   "id": "07a4cb96-78ed-44c9-8a07-cfd194077c3b",
   "metadata": {
    "jp-MarkdownHeadingCollapsed": true,
    "tags": []
   },
   "source": [
    "# 1697 silver 1"
   ]
  },
  {
   "cell_type": "markdown",
   "id": "8dcb17c5-ccd8-4029-851d-f649a2a6fe08",
   "metadata": {
    "jp-MarkdownHeadingCollapsed": true,
    "tags": []
   },
   "source": [
    "## try 1"
   ]
  },
  {
   "cell_type": "code",
   "execution_count": null,
   "id": "dc451f4e-4175-4b05-bef7-f795da3aa886",
   "metadata": {
    "tags": []
   },
   "outputs": [],
   "source": [
    "\"\"\"\n",
    "시간 복잡도: O(n)\n",
    "공간 복잡도: O(n)\n",
    "\n",
    "bfs로 3가지 경우를 돌며 시간을 저장한다.\n",
    "\"\"\"\n",
    "import sys\n",
    "import queue\n",
    "\n",
    "\n",
    "def bfs(first):\n",
    "    # 큐 선언\n",
    "    queues = queue.Queue()\n",
    "    queues.put((first,first))\n",
    "    \n",
    "    time = 1\n",
    "    result = []\n",
    "    while not queues.empty():\n",
    "        prev_dot, dot = queues.get()\n",
    "        if (dot >= 0) and (dot <= 100000)and (not visited[dot]):# and (graph[dot]==0): #도달한 적 없다\n",
    "            # pop한 숫자가 K라면\n",
    "            if dot == K:\n",
    "                result.append(graph[prev_dot])\n",
    "            # prev에 하나 더하기\n",
    "            graph[dot] = graph[prev_dot] + 1\n",
    "            visited[dot] = 1\n",
    "            # 3가지 경우의 수 넣기\n",
    "            queues.put((dot,2*dot))\n",
    "            queues.put((dot,dot+1))\n",
    "            queues.put((dot,dot-1))\n",
    "            time +=1\n",
    "    return min(result)\n",
    "\n",
    "N,K = map(int,sys.stdin.readline().split())\n",
    "graph = [0]*(100001)\n",
    "visited = [0]*(100001)\n",
    "print(bfs(N))"
   ]
  },
  {
   "cell_type": "markdown",
   "id": "dd3a4410-ce65-4396-aaee-6db211c765f0",
   "metadata": {
    "jp-MarkdownHeadingCollapsed": true,
    "tags": []
   },
   "source": [
    "## try 2"
   ]
  },
  {
   "cell_type": "code",
   "execution_count": null,
   "id": "7eec6be5-6fac-4121-ba7d-a498c7bd0c5e",
   "metadata": {
    "scrolled": true,
    "tags": []
   },
   "outputs": [],
   "source": [
    "\"\"\"\n",
    "시간 복잡도: O(n)\n",
    "공간 복잡도: O(n)\n",
    "\n",
    "bfs로 3가지 경우를 돌며 시간을 저장한다.\n",
    "\"\"\"\n",
    "import sys\n",
    "import queue\n",
    "\n",
    "\n",
    "def bfs(first):\n",
    "    # 큐 선언\n",
    "    queues = queue.Queue()\n",
    "    queues.put((first,first))\n",
    "    \n",
    "    while not queues.empty():\n",
    "        prev_dot, dot = queues.get()\n",
    "        if (0 <= dot <= 100000) and (not visited[dot]): #도달한 적 없다\n",
    "            # pop한 숫자가 K라면\n",
    "            if dot == K:\n",
    "                return graph[prev_dot]\n",
    "            # prev에 하나 더하기\n",
    "            graph[dot] = graph[prev_dot] + 1\n",
    "            visited[dot] = 1\n",
    "            # 3가지 경우의 수 넣기\n",
    "            queues.put((dot,dot+1))\n",
    "            queues.put((dot,dot-1))\n",
    "            queues.put((dot,2*dot))\n",
    "# N,K = map(int,sys.stdin.readline().split())\n",
    "graph = [0]*(100001)\n",
    "visited = [0]*(100001)\n",
    "print(bfs(N))"
   ]
  },
  {
   "cell_type": "code",
   "execution_count": null,
   "id": "c52ab022-6edc-4ad9-9577-db748c83c9fd",
   "metadata": {
    "tags": []
   },
   "outputs": [],
   "source": [
    "1 < 3 < 5"
   ]
  },
  {
   "cell_type": "markdown",
   "id": "98e5e109-c092-4734-823a-abfe576c549f",
   "metadata": {
    "jp-MarkdownHeadingCollapsed": true,
    "tags": []
   },
   "source": [
    "## try 3"
   ]
  },
  {
   "cell_type": "code",
   "execution_count": null,
   "id": "727044a8-6db5-4549-ac7d-b37ebfebbf2b",
   "metadata": {},
   "outputs": [],
   "source": [
    "\"\"\"\n",
    "시간 복잡도: O(n)\n",
    "공간 복잡도: O(n)\n",
    "\n",
    "bfs로 3가지 경우를 돌며 시간을 저장한다.\n",
    "\"\"\"\n",
    "import sys\n",
    "import queue\n",
    "\n",
    "def bfs(first):\n",
    "    # 큐 선언\n",
    "    queues = queue.Queue()\n",
    "    queues.put(first)\n",
    "    while not queues.empty():\n",
    "        dot = queues.get()\n",
    "        \n",
    "        if dot == K:\n",
    "            return graph[dot] #### \n",
    "        \n",
    "        for dot_num in [dot+1,dot-1,2*dot]: ##### 3개의 간선 반복\n",
    "            if (0 <= dot_num <= 100000) and (not graph[dot_num]): #####\n",
    "                graph[dot_num] = graph[dot] + 1  #### 3개의 간선(dot_num)은 겹치지 않음\n",
    "                queues.put(dot_num)\n",
    "                \n",
    "N,K = map(int,sys.stdin.readline().split())\n",
    "graph = [0]*(100001)\n",
    "print(bfs(N))"
   ]
  },
  {
   "cell_type": "markdown",
   "id": "71e1d8f8-b5d3-485e-b875-284a377f7590",
   "metadata": {
    "tags": []
   },
   "source": [
    "# 1780 silver 2"
   ]
  },
  {
   "cell_type": "markdown",
   "id": "c8af1824-049c-41ee-83c3-b86c18c7295d",
   "metadata": {
    "jp-MarkdownHeadingCollapsed": true,
    "tags": []
   },
   "source": [
    "#### try 1"
   ]
  },
  {
   "cell_type": "code",
   "execution_count": null,
   "id": "0e6b8727-f570-4ce8-ac15-e4176d235b0a",
   "metadata": {},
   "outputs": [],
   "source": [
    "\"\"\"\n",
    "시간 복잡도: O(N)\n",
    "공간 복잡도: O(N^2)\n",
    "\n",
    "\n",
    "\"\"\"\n",
    "import sys\n",
    "sys.setrecursionlimit(10*6)\n",
    "\n",
    "def papers(li):\n",
    "    size = len(li)\n",
    "    # 크기가 1이상이고 모두 같은 수 인지 확인\n",
    "    color, flag = li[0][0], 1\n",
    "    \n",
    "    for i in range(size):\n",
    "        for j in range(size):\n",
    "            if (color != li[i][j]) and (flag):\n",
    "                flag = 0\n",
    "                break\n",
    "    if not flag:\n",
    "        mid = size // 3\n",
    "        for i in range(0, size, mid):\n",
    "            temp1,temp2,temp3 = [],[],[]\n",
    "            for new_li in li[i:i+mid]:\n",
    "                temp1.append(new_li[0:mid])\n",
    "                temp2.append(new_li[mid:2*mid])\n",
    "                temp3.append(new_li[2*mid:])\n",
    "            papers(temp1)\n",
    "            papers(temp2)\n",
    "            papers(temp3)\n",
    "        \n",
    "    else:            \n",
    "        memo[color] +=1\n",
    "    # 같은 색일 때\n",
    "        \n",
    "        \n",
    "# 입력\n",
    "N = int(sys.stdin.readline())\n",
    "paper = [list(map(int,sys.stdin.readline().split())) for _ in range(N)]\n",
    "# 메인\n",
    "memo = [0] * 3\n",
    "papers(paper)\n",
    "# 출력\n",
    "print(memo[-1])\n",
    "print(memo[0])\n",
    "print(memo[1])"
   ]
  },
  {
   "cell_type": "code",
   "execution_count": null,
   "id": "c6e6bd64-93d5-4b78-92d2-50aa6abc21ca",
   "metadata": {},
   "outputs": [],
   "source": [
    "\"\"\"\n",
    "시간 복잡도: O(N^2*9logN)(호출 9 번 * 재귀 깊이도 포함함.)\n",
    "공간 복잡도: O(N^2 + logN) (호출 스택도 포함함.)\n",
    "\"\"\"\n",
    "import sys\n",
    "sys.setrecursionlimit(10*6)\n",
    "\n",
    "def papers(li):\n",
    "    size = len(li)\n",
    "    # 크기가 1이상이고 모두 같은 수 인지 확인\n",
    "    color, flag = li[0][0], 1\n",
    "    \n",
    "    for i in range(size):\n",
    "        for j in range(size):\n",
    "            if (color != li[i][j]) and (flag): # 모두 같은 수가 아니라면\n",
    "                flag = 0\n",
    "                mid = size // 3\n",
    "                \n",
    "                for i in range(0, size, mid): # 총 9영역으로 재귀\n",
    "                    temp1,temp2,temp3 = [],[],[]\n",
    "                    for new_li in li[i:i+mid]:\n",
    "                        temp1.append(new_li[0:mid])\n",
    "                        temp2.append(new_li[mid:2*mid])\n",
    "                        temp3.append(new_li[2*mid:])\n",
    "                    papers(temp1)\n",
    "                    papers(temp2)\n",
    "                    papers(temp3)\n",
    "        \n",
    "    if flag: # 같은 색일 때\n",
    "        memo[color] +=1\n",
    "\n",
    "        \n",
    "        \n",
    "# 입력\n",
    "N = int(sys.stdin.readline())\n",
    "paper = [list(map(int,sys.stdin.readline().split())) for _ in range(N)]\n",
    "# 메인\n",
    "memo = [0] * 3\n",
    "papers(paper)\n",
    "# 출력\n",
    "print(memo[-1])\n",
    "print(memo[0])\n",
    "print(memo[1])"
   ]
  },
  {
   "cell_type": "markdown",
   "id": "4417116b-3579-4c75-834a-92d623c4b3a6",
   "metadata": {
    "jp-MarkdownHeadingCollapsed": true,
    "tags": []
   },
   "source": [
    "#### try 2"
   ]
  },
  {
   "cell_type": "code",
   "execution_count": null,
   "id": "bd3f643d-6ac0-4356-a33d-928f6ee3bf0a",
   "metadata": {},
   "outputs": [],
   "source": [
    "\"\"\"\n",
    "시간 복잡도: O(N^2*9logN)(호출 9 번 * 재귀 깊이도 포함함.)\n",
    "공간 복잡도: O(N^2 + logN) (호출 스택도 포함함.)\n",
    "\"\"\"\n",
    "import sys\n",
    "sys.setrecursionlimit(10*6)\n",
    "\n",
    "def papers(x,y,N):\n",
    "    # 크기가 1이상이고 모두 같은 수 인지 확인\n",
    "    color = paper[x][y]\n",
    "    \n",
    "    for i in range(x,N+x):\n",
    "        for j in range(y,N+y):\n",
    "            if (color != paper[i][j]): # 같은 수가 아닐경우\n",
    "                mid = N // 3\n",
    "                \n",
    "                papers(x,y,mid)\n",
    "                papers(x+mid,y,mid)\n",
    "                papers(x+(2*mid),y,mid)\n",
    "                \n",
    "                papers(x,y+mid,mid)\n",
    "                papers(x+mid,y+mid,mid)\n",
    "                papers(x+(2*mid),y+mid,mid)\n",
    "                \n",
    "                papers(x,y+(2*mid),mid)\n",
    "                papers(x+mid,y+(2*mid),mid)\n",
    "                papers(x+(2*mid),y+(2*mid),mid)\n",
    "                \n",
    "                return\n",
    "            \n",
    "    result[color] +=1\n",
    "\n",
    "\n",
    "\n",
    "# 입력\n",
    "N = int(sys.stdin.readline())\n",
    "paper = [list(map(int,sys.stdin.readline().split())) for _ in range(N)]\n",
    "# 메인\n",
    "result = [0] * 3\n",
    "papers(0,0,N)\n",
    "\n",
    "# 출력\n",
    "print(f\"{result[-1]}\\n{result[0]}\\n{result[1]}\")"
   ]
  },
  {
   "cell_type": "markdown",
   "id": "2cde31c5-7929-4be1-86c2-a325a11dc3f4",
   "metadata": {
    "jp-MarkdownHeadingCollapsed": true,
    "tags": []
   },
   "source": [
    "# 2606 silver 3"
   ]
  },
  {
   "cell_type": "markdown",
   "id": "e6723786-10e6-4984-9de2-35db8f463c2a",
   "metadata": {},
   "source": [
    "#### try 1"
   ]
  },
  {
   "cell_type": "code",
   "execution_count": null,
   "id": "c4720ce3-f46b-4b00-a87e-fb1b62f6e39e",
   "metadata": {
    "tags": []
   },
   "outputs": [],
   "source": [
    "\"\"\"\n",
    "시간복잡도: O(N + M)\n",
    "공간복잡도: O(N + M)\n",
    "\"\"\"\n",
    "import sys\n",
    "sys.setrecursionlimit(10**6)\n",
    "\n",
    "def bfs(num):\n",
    "    visited[num] = 1\n",
    "    for number in computer_list[num]:\n",
    "        if not visited[number]:\n",
    "            bfs(number)\n",
    "            \n",
    "if __name__ == '__main__':\n",
    "    computer = int(sys.stdin.readline())\n",
    "    N = int(sys.stdin.readline())\n",
    "\n",
    "    computer_list = [[] for _ in range(computer+1)]\n",
    "    visited = [0 for _ in range(computer+1)]\n",
    "    \n",
    "    for _ in range(N):\n",
    "        a,b = map(int,sys.stdin.readline().split())\n",
    "        computer_list[a].append(b)\n",
    "        computer_list[b].append(a)\n",
    "    bfs(1)            \n",
    "    print(sum(visited)-1)"
   ]
  },
  {
   "cell_type": "markdown",
   "id": "0077f71b-3f9a-42f0-94d4-f2007505572e",
   "metadata": {},
   "source": [
    "#### try 2"
   ]
  },
  {
   "cell_type": "code",
   "execution_count": null,
   "id": "f44f2d9b-3d3b-48d0-aa22-0780b7eff948",
   "metadata": {
    "tags": []
   },
   "outputs": [],
   "source": [
    "\"\"\"\n",
    "시간복잡도: O(N + M)\n",
    "공간복잡도: O(N + M)\n",
    "\"\"\"\n",
    "import sys\n",
    "sys.setrecursionlimit(10**6)\n",
    "\n",
    "def dfs(num):\n",
    "    visited[num] = 1\n",
    "    count = 1\n",
    "    for number in computer_list[num]:\n",
    "        if not visited[number]:\n",
    "            count += dfs(number) \n",
    "    print(num,count)\n",
    "    return count\n",
    "\n",
    "if __name__ == '__main__':\n",
    "    # computer = int(sys.stdin.readline())\n",
    "    computer = int(input())\n",
    "    N = int(input())\n",
    "    count  =0 \n",
    "    computer_list = [[] for _ in range(computer+1)]\n",
    "    visited = [0 for _ in range(computer+1)]\n",
    "    \n",
    "    for _ in range(N):\n",
    "        a,b = map(int,input().split())\n",
    "        computer_list[a].append(b)\n",
    "        computer_list[b].append(a)\n",
    "        \n",
    "    print(dfs(1))"
   ]
  },
  {
   "cell_type": "markdown",
   "id": "2949fad6-a9fb-4dba-bb9a-30381d3e4ca0",
   "metadata": {},
   "source": [
    "### try3"
   ]
  },
  {
   "cell_type": "code",
   "execution_count": null,
   "id": "adc3aa23-62b5-4240-ac38-e6f4887e95c1",
   "metadata": {},
   "outputs": [],
   "source": [
    "\"\"\"\n",
    "시간복잡도: O(N + M)\n",
    "공간복잡도: O(N + M)\n",
    "\"\"\"\n",
    "import sys\n",
    "sys.setrecursionlimit(10**6)\n",
    "\n",
    "def dfs(num):\n",
    "    visited[num] = 1\n",
    "    count = 1\n",
    "    for number in computer_list[num]:\n",
    "        if not visited[number]:\n",
    "            count += dfs(number)\n",
    "    print(num,count)\n",
    "    return count\n",
    "\n",
    "if __name__ == '__main__':\n",
    "    computer = int(sys.stdin.readline())\n",
    "    N = int(sys.stdin.readline())\n",
    "    \n",
    "    computer_list = [[] for _ in range(computer+1)]\n",
    "    visited = [0 for _ in range(computer+1)]\n",
    "    \n",
    "    for _ in range(N):\n",
    "        a,b = map(int,sys.stdin.readline().split())\n",
    "        computer_list[a].append(b)\n",
    "        computer_list[b].append(a)\n",
    "        \n",
    "    print(dfs(1)-1)"
   ]
  },
  {
   "cell_type": "markdown",
   "id": "df348953-00ef-4990-883b-56ec54b37d18",
   "metadata": {
    "jp-MarkdownHeadingCollapsed": true,
    "tags": []
   },
   "source": [
    "# 11723 silver 5"
   ]
  },
  {
   "cell_type": "markdown",
   "id": "cd8eb8e3-a125-4b55-a406-323e1edd4266",
   "metadata": {
    "jp-MarkdownHeadingCollapsed": true,
    "tags": []
   },
   "source": [
    "### try 1"
   ]
  },
  {
   "cell_type": "code",
   "execution_count": null,
   "id": "14d3763b-227d-4b02-9a14-5e4ad814ee56",
   "metadata": {
    "tags": []
   },
   "outputs": [],
   "source": [
    "\"\"\"\n",
    "시간복잡도: O(1)\n",
    "공간복잡도: O(1)\n",
    "\"\"\"\n",
    "import sys\n",
    "M = int(sys.stdin.readline())\n",
    "\n",
    "S = set()\n",
    "for _ in range(M):\n",
    "    li = list(map(str,sys.stdin.readline().rstrip().split()))\n",
    "    a = li[0]\n",
    "    if a == 'all':\n",
    "        S = {i for i in range(1,21)}\n",
    "    elif a == 'empty':\n",
    "        S = set()\n",
    "    else:\n",
    "        b = int(li[1])\n",
    "        if a == 'add':\n",
    "            if not (b in S): #해당 숫자가 없을 경우\n",
    "                S.add(b)\n",
    "\n",
    "        elif a == 'remove':\n",
    "            if (b in S): #해당 숫자가 있을 경우\n",
    "                S.remove(b)\n",
    "\n",
    "        elif a == 'check':\n",
    "            if (b in S): #해당 숫자가 있을 경우\n",
    "                print(1)\n",
    "            else:\n",
    "                print(0)\n",
    "\n",
    "        elif a == 'toggle':\n",
    "            if (b in S):\n",
    "                S.remove(b)\n",
    "            else:\n",
    "                S.add(b)"
   ]
  },
  {
   "cell_type": "markdown",
   "id": "25ba47d3-6936-45ec-ab0f-79e22f1b9832",
   "metadata": {
    "jp-MarkdownHeadingCollapsed": true,
    "tags": []
   },
   "source": [
    "### try2"
   ]
  },
  {
   "cell_type": "code",
   "execution_count": null,
   "id": "7d5a4495-36f1-473c-af37-d4ae1f3f778f",
   "metadata": {},
   "outputs": [],
   "source": [
    "\"\"\"\n",
    "시간복잡도: O(1)\n",
    "공간복잡도: O(1)\n",
    "\"\"\"\n",
    "import sys\n",
    "M = int(sys.stdin.readline())\n",
    "\n",
    "S = 0b0\n",
    "for _ in range(M):\n",
    "    li = list(map(str,sys.stdin.readline().rstrip().split()))\n",
    "    a = li[0]\n",
    "    if a == 'all':\n",
    "        S = (1 << 21) - 1\n",
    "    elif a == 'empty':\n",
    "        S = 0b0\n",
    "        \n",
    "    else:\n",
    "        b = int(li[1])\n",
    "        if a == 'add':\n",
    "            S |= (1 << b)\n",
    "\n",
    "        elif a == 'remove':\n",
    "            S &= ~(1 << b)\n",
    "\n",
    "        elif a == 'check':\n",
    "            print((S & (1<<b)) // (1<<b))\n",
    "\n",
    "        elif a == 'toggle':\n",
    "            S = S ^ (1 << b)"
   ]
  },
  {
   "cell_type": "markdown",
   "id": "54442ed2-22e5-44c2-8648-262a50e32c48",
   "metadata": {
    "jp-MarkdownHeadingCollapsed": true,
    "tags": []
   },
   "source": [
    "# 1389 silver 1"
   ]
  },
  {
   "cell_type": "markdown",
   "id": "9a485316-9fe4-4b87-ba7b-e2035020c6eb",
   "metadata": {
    "jp-MarkdownHeadingCollapsed": true,
    "tags": []
   },
   "source": [
    "### try 1"
   ]
  },
  {
   "cell_type": "code",
   "execution_count": null,
   "id": "c7c2a66d-8a43-47bf-b4e4-5458576d6833",
   "metadata": {},
   "outputs": [],
   "source": [
    "\"\"\"\n",
    "시간 복잡도 O(N*(N + M))\n",
    "공간 복잡도 O(N^2)\n",
    "\"\"\"\n",
    "import sys\n",
    "import queue\n",
    "\n",
    "def bfs(num):\n",
    "    q = queue.Queue()\n",
    "    tot = 0\n",
    "    for i in graph[num]:\n",
    "        q.put((i,1))\n",
    "    while not q.empty():\n",
    "        x,cnt = q.get()\n",
    "        if (num != x) and (not visited[num][x]): #방문한 적이 없다.\n",
    "            visited[num][x] = 1 \n",
    "            tot += cnt\n",
    "            cnt +=1\n",
    "            for i in graph[x]:\n",
    "                q.put((i,cnt))\n",
    "    return tot\n",
    "\n",
    "N, M = map(int,sys.stdin.readline().split())\n",
    "graph = [[] for _ in range(N+1)]\n",
    "visited = [[0]*(N+1) for _ in range(N+1)]\n",
    "\n",
    "for _ in range(M):\n",
    "    a,b = map(int,sys.stdin.readline().split())\n",
    "    graph[a].append(b)\n",
    "    graph[b].append(a)\n",
    "\n",
    "min_num = bfs(1) \n",
    "result = 1\n",
    "\n",
    "for friend_num in range(2,N+1):\n",
    "    bfs_num = bfs(friend_num)\n",
    "    if min_num > bfs_num:\n",
    "        result = friend_num\n",
    "        min_num = bfs_num\n",
    "print(result)  "
   ]
  },
  {
   "cell_type": "markdown",
   "id": "3f2fed9f-be97-457e-824f-488b8a3f3f72",
   "metadata": {
    "jp-MarkdownHeadingCollapsed": true,
    "tags": []
   },
   "source": [
    "### try 2"
   ]
  },
  {
   "cell_type": "code",
   "execution_count": null,
   "id": "00299c58-b2d4-45e5-8aad-ffda6bf8aeec",
   "metadata": {
    "tags": []
   },
   "outputs": [],
   "source": [
    "import sys\n",
    "\n",
    "inf = int(1e9)\n",
    "\n",
    "N,M = map(int,sys.stdin.readline().split())\n",
    "graph = [[inf]*N for _ in range(N)]\n",
    "for _ in range(M):\n",
    "    a, b = map(int, sys.stdin.readline().split())\n",
    "    graph[a-1][b-1] = 1\n",
    "    graph[b-1][a-1] = 1\n",
    "    \n",
    "for i in range(N):\n",
    "    graph[i][i] = 0 \n",
    "    for j in range(N):\n",
    "        for k in range(N):\n",
    "            graph[j][k] = min(graph[j][k],graph[j][i]+graph[i][k])\n",
    "\n",
    "min_num,result = inf,0\n",
    "\n",
    "for i in range(N):\n",
    "    result_num = sum(graph[i])\n",
    "    if min_num > result_num:\n",
    "        min_num = result_num\n",
    "        result = i+1\n",
    "print(result)"
   ]
  },
  {
   "cell_type": "markdown",
   "id": "097efc51-d590-463e-89f3-0f7ea6ca4824",
   "metadata": {
    "jp-MarkdownHeadingCollapsed": true,
    "tags": []
   },
   "source": [
    "### try 3"
   ]
  },
  {
   "cell_type": "code",
   "execution_count": null,
   "id": "fae19eb3-243f-44c8-8026-ef34a0364d31",
   "metadata": {},
   "outputs": [],
   "source": [
    "\"\"\"\n",
    "시간 복잡도 O(N*(N + M))\n",
    "공간 복잡도 O(N^2)\n",
    "\"\"\"\n",
    "import sys\n",
    "import queue\n",
    "\n",
    "def bfs(num):\n",
    "    q = queue.Queue()\n",
    "    tot,cnt = 0, 0\n",
    "    q.put(num)\n",
    "    \n",
    "    while not q.empty():\n",
    "        size = q.qsize()\n",
    "        for _ in range(size):\n",
    "            x = q.get()\n",
    "            if (not visited[num][x]): #방문한 적이 없다.\n",
    "                visited[num][x] = 1 \n",
    "                tot += cnt\n",
    "                \n",
    "                for i in graph[x]:\n",
    "                    q.put(i)\n",
    "        cnt +=1\n",
    "    return tot\n",
    "\n",
    "N, M = map(int,sys.stdin.readline().split())\n",
    "graph = [[] for _ in range(N+1)]\n",
    "visited = [[0]*(N+1) for _ in range(N+1)]\n",
    "\n",
    "for _ in range(M):\n",
    "    a,b = map(int,sys.stdin.readline().split())\n",
    "    graph[a].append(b)\n",
    "    graph[b].append(a)\n",
    "\n",
    "    \n",
    "min_num = bfs(1) \n",
    "result = 1\n",
    "for friend_num in range(2,N+1):\n",
    "    bfs_num = bfs(friend_num)\n",
    "    if min_num > bfs_num:\n",
    "        result, min_num = friend_num, bfs_num\n",
    "        \n",
    "print(result)  "
   ]
  },
  {
   "cell_type": "markdown",
   "id": "2e7d92f5-2e9b-4063-af82-0e95d59b8507",
   "metadata": {
    "tags": []
   },
   "source": [
    "# 1927 silver 2"
   ]
  },
  {
   "cell_type": "markdown",
   "id": "b65e4aa6-b75c-45c8-aa9d-ec307988c8c6",
   "metadata": {
    "tags": []
   },
   "source": [
    "### try 1"
   ]
  },
  {
   "cell_type": "code",
   "execution_count": null,
   "id": "726f9ef7-914f-4272-b6bc-aab3ba6b31f7",
   "metadata": {
    "tags": []
   },
   "outputs": [],
   "source": [
    "import sys\n",
    "import heapq\n",
    "\n",
    "N = int(sys.stdin.readline())\n",
    "\n",
    "N = 9\n",
    "\n",
    "heap = []\n",
    "for _ in range(N):\n",
    "    num = int(sys.stdin.readline())\n",
    "    if (not num):\n",
    "        if (not len(heap)):\n",
    "            print(0)\n",
    "        else:\n",
    "            print(heapq.heappop(heap))\n",
    "    else:\n",
    "        heapq.heappush(heap,num)"
   ]
  },
  {
   "cell_type": "code",
   "execution_count": null,
   "id": "cf93ec28-e181-42e3-a764-62535e693774",
   "metadata": {},
   "outputs": [],
   "source": []
  },
  {
   "cell_type": "markdown",
   "id": "32a86a21-8381-4871-b104-925375bb77e8",
   "metadata": {
    "jp-MarkdownHeadingCollapsed": true,
    "tags": []
   },
   "source": [
    "# 1912 silver 2"
   ]
  },
  {
   "cell_type": "markdown",
   "id": "6f0bae31-af88-40ea-b22d-426ff5dfe0f4",
   "metadata": {
    "jp-MarkdownHeadingCollapsed": true,
    "tags": []
   },
   "source": [
    "#### try1"
   ]
  },
  {
   "cell_type": "code",
   "execution_count": null,
   "id": "a9703a9f-3dcf-45eb-9278-d54facc86638",
   "metadata": {},
   "outputs": [],
   "source": [
    "\"\"\"\n",
    "시간 복잡도: O(N)\n",
    "공간 복잡도: O(N)\n",
    "\"\"\"\n",
    "import sys\n",
    "n = int(sys.stdin.readline())\n",
    "arr = list(map(int,sys.stdin.readline().split()))\n",
    "# max_num = arr[0]\n",
    "\n",
    "for idx in range(1,n):\n",
    "    arr[idx] = max(arr[idx],arr[idx] + arr[idx-1])\n",
    "        \n",
    "print(max(arr))"
   ]
  },
  {
   "cell_type": "markdown",
   "id": "b1e0841c-26e3-4a73-bc82-cbd4e1f6a3ea",
   "metadata": {
    "jp-MarkdownHeadingCollapsed": true,
    "tags": []
   },
   "source": [
    "#### try"
   ]
  },
  {
   "cell_type": "code",
   "execution_count": null,
   "id": "ffea7291-557b-48db-8843-796eba57114e",
   "metadata": {},
   "outputs": [],
   "source": [
    "import sys\n",
    "n = int(sys.stdin.readline())\n",
    "arr = list(map(int,sys.stdin.readline().split()))\n",
    "max_num = arr[0]\n",
    "for idx in range(1,n):\n",
    "    arr[idx] += arr[idx-1]\n",
    "    \n",
    "for num in range(n):\n",
    "    for k in range(num+1,n):\n",
    "        max_num = max(max_num,sum(arr[num:k]))\n",
    "           \n",
    "print(max_num)"
   ]
  },
  {
   "cell_type": "code",
   "execution_count": null,
   "id": "7decc1b3-9c3c-4718-8627-d715161500ae",
   "metadata": {},
   "outputs": [],
   "source": [
    "import sys\n",
    "n = int(sys.stdin().readline())"
   ]
  },
  {
   "cell_type": "code",
   "execution_count": 72,
   "id": "9257d7bb-7c7e-4d8a-a255-5d8d43ab0686",
   "metadata": {
    "tags": []
   },
   "outputs": [],
   "source": [
    "n = 10"
   ]
  },
  {
   "cell_type": "code",
   "execution_count": null,
   "id": "f7676cbe-ff7a-44e4-bc9d-f9a41858705f",
   "metadata": {},
   "outputs": [],
   "source": [
    "arr = list(map(int,sys.stdin.readline().split()))"
   ]
  },
  {
   "cell_type": "code",
   "execution_count": 73,
   "id": "2faf5c23-0348-420d-b4dc-f0a747eea514",
   "metadata": {
    "tags": []
   },
   "outputs": [],
   "source": [
    "arr = [10,-4,3,1,5,6,-35,12,21,-1]"
   ]
  },
  {
   "cell_type": "code",
   "execution_count": 59,
   "id": "b5a6979b-a9dd-4146-9896-32912af67974",
   "metadata": {
    "tags": []
   },
   "outputs": [],
   "source": [
    "temp = [0 for _ in range(n+1)]"
   ]
  },
  {
   "cell_type": "code",
   "execution_count": 62,
   "id": "c2350bec-78d5-4972-a1f1-89e51dadd096",
   "metadata": {
    "tags": []
   },
   "outputs": [
    {
     "name": "stdout",
     "output_type": "stream",
     "text": [
      "[0, 0, 0, 0, 0, 0, 0, 0, 0, 0, -1]\n"
     ]
    }
   ],
   "source": [
    "for idx in range(num,n):\n",
    "    temp[idx + 1] = temp[idx] + arr[idx]\n",
    "    print(temp)"
   ]
  },
  {
   "cell_type": "code",
   "execution_count": 53,
   "id": "ad4fcfa9-44b2-4432-8790-8437a1008317",
   "metadata": {
    "tags": []
   },
   "outputs": [
    {
     "data": {
      "text/plain": [
       "[0, 10, 6, 9, 10, 15, 21, -14, -2, 19, 18]"
      ]
     },
     "execution_count": 53,
     "metadata": {},
     "output_type": "execute_result"
    }
   ],
   "source": [
    "temp"
   ]
  },
  {
   "cell_type": "code",
   "execution_count": 43,
   "id": "9bc77d29-a844-4d29-bca1-3a391eb7cf35",
   "metadata": {
    "tags": []
   },
   "outputs": [
    {
     "data": {
      "text/plain": [
       "[10, 6, 9, 10, 15, 21, -14, -2, 19, 18]"
      ]
     },
     "execution_count": 43,
     "metadata": {},
     "output_type": "execute_result"
    }
   ],
   "source": [
    "arr"
   ]
  },
  {
   "cell_type": "code",
   "execution_count": 37,
   "id": "2d926a2f-466a-4140-9a07-dbf6badefd6c",
   "metadata": {
    "tags": []
   },
   "outputs": [],
   "source": [
    "max_num = arr[0]"
   ]
  },
  {
   "cell_type": "code",
   "execution_count": 74,
   "id": "40d4bd2d-cb85-4a73-8530-8ea3d5b3c827",
   "metadata": {
    "tags": []
   },
   "outputs": [
    {
     "name": "stdout",
     "output_type": "stream",
     "text": [
      "[10, 6, 9, 10, 15, 21, -14, -2, 19, 18]\n",
      "[0, -4, -1, 0, 5, 11, -24, -12, 9, 8]\n",
      "[0, 0, 3, 4, 9, 15, -20, -8, 13, 12]\n",
      "[0, 0, 0, 1, 6, 12, -23, -11, 10, 9]\n",
      "[0, 0, 0, 0, 5, 11, -24, -12, 9, 8]\n",
      "[0, 0, 0, 0, 0, 6, -29, -17, 4, 3]\n",
      "[0, 0, 0, 0, 0, 0, -35, -23, -2, -3]\n",
      "[0, 0, 0, 0, 0, 0, 0, 12, 33, 32]\n",
      "[0, 0, 0, 0, 0, 0, 0, 0, 21, 20]\n",
      "[0, 0, 0, 0, 0, 0, 0, 0, 0, -1]\n",
      "33\n"
     ]
    }
   ],
   "source": [
    "import sys\n",
    "n = int(sys.stdin.readline())\n",
    "arr = list(map(int,sys.stdin.readline().split()))\n",
    "max_num = arr[0]\n",
    "\n",
    "for idx in range(1,n):\n",
    "    arr[idx] += arr[idx-1]\n",
    "\n",
    "for num in range(n):\n",
    "    flag = arr[num]\n",
    "    print(arr)\n",
    "    for k in range(num,n):\n",
    "        max_num = max(max_num,arr[k])\n",
    "        arr[k] -= flag\n",
    "print(max_num)"
   ]
  },
  {
   "cell_type": "code",
   "execution_count": null,
   "id": "df60074b-5cff-4bae-9906-9c44db910571",
   "metadata": {},
   "outputs": [],
   "source": []
  },
  {
   "cell_type": "code",
   "execution_count": 67,
   "id": "be9a6ddf-2679-48ed-ba62-fba134e927b9",
   "metadata": {
    "tags": []
   },
   "outputs": [],
   "source": [
    "temp = [0, 10, 6, 9, 10, 15, 21, -14, -2, 19, 18]"
   ]
  },
  {
   "cell_type": "code",
   "execution_count": 68,
   "id": "48e407dc-b897-485a-96ef-3c8c84c8edfe",
   "metadata": {
    "tags": []
   },
   "outputs": [
    {
     "ename": "TypeError",
     "evalue": "unsupported operand type(s) for -: 'list' and 'int'",
     "output_type": "error",
     "traceback": [
      "\u001b[0;31m---------------------------------------------------------------------------\u001b[0m",
      "\u001b[0;31mTypeError\u001b[0m                                 Traceback (most recent call last)",
      "Cell \u001b[0;32mIn[68], line 1\u001b[0m\n\u001b[0;32m----> 1\u001b[0m \u001b[43mtemp\u001b[49m\u001b[43m \u001b[49m\u001b[38;5;241;43m-\u001b[39;49m\u001b[43m \u001b[49m\u001b[38;5;241;43m10\u001b[39;49m\n",
      "\u001b[0;31mTypeError\u001b[0m: unsupported operand type(s) for -: 'list' and 'int'"
     ]
    }
   ],
   "source": [
    "temp - 10"
   ]
  },
  {
   "cell_type": "code",
   "execution_count": 56,
   "id": "9f76068a-a49d-45c2-8e18-4d03413acb1f",
   "metadata": {
    "tags": []
   },
   "outputs": [
    {
     "data": {
      "text/plain": [
       "33"
      ]
     },
     "execution_count": 56,
     "metadata": {},
     "output_type": "execute_result"
    }
   ],
   "source": [
    "amax_num"
   ]
  },
  {
   "cell_type": "code",
   "execution_count": 1,
   "id": "dbd68f2f-8ce0-4fdd-9a20-0f4192c85742",
   "metadata": {},
   "outputs": [
    {
     "data": {
      "text/plain": [
       "99990"
      ]
     },
     "execution_count": 1,
     "metadata": {},
     "output_type": "execute_result"
    }
   ],
   "source": [
    "11 + 6 + 63300 + 36673"
   ]
  },
  {
   "cell_type": "markdown",
   "id": "22af929d-947b-42d0-9f26-f97fba15805c",
   "metadata": {
    "jp-MarkdownHeadingCollapsed": true,
    "tags": []
   },
   "source": [
    "# 14940 silver 1"
   ]
  },
  {
   "cell_type": "code",
   "execution_count": 4,
   "id": "264c0dcb-70c9-4963-a14a-0b02807e6001",
   "metadata": {
    "tags": []
   },
   "outputs": [],
   "source": [
    "\"\"\"\n",
    "시간복잡도: O(N*M)\n",
    "공간복잡도: O(N*M)\n",
    "\n",
    "\"\"\"\n",
    "import sys\n",
    "import queue\n",
    "\n",
    "def bfs(x,y):\n",
    "    q = queue.Queue()\n",
    "    q.put((x,y))\n",
    "    re = [[1,0],[0,1],[-1,0],[0,-1]]\n",
    "    while not q.empty():\n",
    "        idx_x, idx_y = q.get()\n",
    "        for re_ in re:\n",
    "            a,b = re_[0]+idx_x , re_[1]+idx_y\n",
    "            if (0<= a <n) and (0<= b < m) and ((a!=x) or (b!=y)) and (not visited[a][b]) and (graph[a][b]):\n",
    "                q.put((a,b))\n",
    "                visited[a][b] = visited[idx_x][idx_y] + 1\n",
    "                \n",
    "n,m = map(int,sys.stdin.readline().split())\n",
    "graph = [list(map(int,sys.stdin.readline().split())) for _ in range(n)]    \n",
    "visited = [[0]*m for _ in range(n)]\n",
    "flag = 0\n",
    "\n",
    "for idx_x in range(n):\n",
    "    for idx_y in range(m):\n",
    "        if (flag):\n",
    "            break\n",
    "        if (graph[idx_x][idx_y] == 2): # graph 중 2를 찾는다. -> bfs 시작\n",
    "            bfs(idx_x,idx_y)\n",
    "            flag = 1\n",
    "\n",
    "            \n",
    "for idx_x in range(n):\n",
    "    for idx_y in range(m):\n",
    "        if graph[idx_x][idx_y] == 1 and visited[idx_x][idx_y] == 0: #도달하지 못하면 -1로 변환\n",
    "            visited[idx_x][idx_y] = -1\n",
    "    print(*visited[idx_x])"
   ]
  },
  {
   "cell_type": "markdown",
   "id": "cf485f45-5c07-49bd-9238-db3b4eb53e45",
   "metadata": {
    "jp-MarkdownHeadingCollapsed": true,
    "tags": []
   },
   "source": [
    "# 24267 bronze 2"
   ]
  },
  {
   "cell_type": "code",
   "execution_count": null,
   "id": "083e4ab1-5af2-4b80-a12c-f2d61e164795",
   "metadata": {},
   "outputs": [],
   "source": [
    "n = int(input())\n",
    "su,s=0,1\n",
    "for i in range(n-2,0,-1):\n",
    "    su += i*(s)\n",
    "    s+=1\n",
    "print(su)\n",
    "print(3)"
   ]
  },
  {
   "cell_type": "markdown",
   "id": "77da1be2-8067-4257-9bd4-93ff1a3af947",
   "metadata": {
    "jp-MarkdownHeadingCollapsed": true,
    "tags": []
   },
   "source": [
    "# 2346 silver 3"
   ]
  },
  {
   "cell_type": "code",
   "execution_count": 59,
   "id": "0617da02-f42c-4c86-a9cd-93a9c62365d7",
   "metadata": {
    "tags": []
   },
   "outputs": [],
   "source": [
    "\"\"\"\n",
    "시간복잡도: O(N)\n",
    "공간복잡도: O(N)\n",
    "\n",
    "원형 큐 문제\n",
    "\"\"\"\n",
    "import sys\n",
    "from collections import deque\n",
    "\n",
    "N = int(sys.stdin.readline())\n",
    "balloon = list(map(int,sys.stdin.readline().split()))\n",
    "balloon_set = [(balloon[idx],idx+1) for idx in range(N)]\n",
    "\n",
    "dq = deque(balloon_set)\n",
    "while len(dq):\n",
    "    num = dq.popleft()\n",
    "    a,b = num\n",
    "    \n",
    "    if (a> 0):\n",
    "        a -=1\n",
    "    dq.rotate(-a)    \n",
    "    \n",
    "    print(b,end = ' ')"
   ]
  },
  {
   "cell_type": "code",
   "execution_count": 222,
   "id": "5909900d-f2f3-4ce2-8ab5-74cb901964b8",
   "metadata": {
    "tags": []
   },
   "outputs": [
    {
     "data": {
      "text/plain": [
       "9"
      ]
     },
     "execution_count": 222,
     "metadata": {},
     "output_type": "execute_result"
    }
   ],
   "source": [
    "-1 % 10"
   ]
  },
  {
   "cell_type": "code",
   "execution_count": null,
   "id": "5e57e964-68ce-459b-b2fe-e978b9ff8f83",
   "metadata": {},
   "outputs": [],
   "source": []
  }
 ],
 "metadata": {
  "kernelspec": {
   "display_name": "Python 3 (ipykernel)",
   "language": "python",
   "name": "python3"
  },
  "language_info": {
   "codemirror_mode": {
    "name": "ipython",
    "version": 3
   },
   "file_extension": ".py",
   "mimetype": "text/x-python",
   "name": "python",
   "nbconvert_exporter": "python",
   "pygments_lexer": "ipython3",
   "version": "3.11.5"
  }
 },
 "nbformat": 4,
 "nbformat_minor": 5
}
