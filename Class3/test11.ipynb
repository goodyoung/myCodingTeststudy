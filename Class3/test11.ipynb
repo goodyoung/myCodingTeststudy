{
 "cells": [
  {
   "cell_type": "markdown",
   "id": "57613c1e-8575-42f8-911d-b262fcfce1cf",
   "metadata": {
    "jp-MarkdownHeadingCollapsed": true,
    "tags": []
   },
   "source": [
    "# 17219 silver 4"
   ]
  },
  {
   "cell_type": "code",
   "execution_count": 3,
   "id": "18871666-995e-4b44-8580-732721763c1d",
   "metadata": {
    "collapsed": true,
    "jupyter": {
     "outputs_hidden": true
    },
    "tags": []
   },
   "outputs": [
    {
     "name": "stdin",
     "output_type": "stream",
     "text": [
      " noj.am IU\n",
      " acmicpc.net UAENA\n",
      " startlink.io THEKINGOD\n",
      " google.com ZEZE\n",
      " nate.com VOICEMAIL\n",
      " naver.com REDQUEEN\n",
      " daum.net MODERNTIMES\n",
      " utube.com BLACKOUT\n",
      " zum.com LASTFANTASY\n",
      " dreamwiz.com RAINDROP\n",
      " hanyang.ac.kr SOMEDAY\n",
      " dhlottery.co.kr BOO\n",
      " duksoo.hs.kr HAVANA\n",
      " hanyang-u.ms.kr OBLIVIATE\n",
      " yd.es.kr LOVEATTACK\n",
      " mcc.hanyang.ac.kr ADREAMER\n",
      " startlink.io\n"
     ]
    },
    {
     "name": "stdout",
     "output_type": "stream",
     "text": [
      "THEKINGOD\n"
     ]
    },
    {
     "name": "stdin",
     "output_type": "stream",
     "text": [
      " acmicpc.net\n"
     ]
    },
    {
     "name": "stdout",
     "output_type": "stream",
     "text": [
      "UAENA\n"
     ]
    },
    {
     "name": "stdin",
     "output_type": "stream",
     "text": [
      " noj.am\n"
     ]
    },
    {
     "name": "stdout",
     "output_type": "stream",
     "text": [
      "IU\n"
     ]
    },
    {
     "name": "stdin",
     "output_type": "stream",
     "text": [
      " mcc.hanyang.ac.kr\n"
     ]
    },
    {
     "name": "stdout",
     "output_type": "stream",
     "text": [
      "ADREAMER\n"
     ]
    }
   ],
   "source": [
    "import sys\n",
    "N,M = map(int,sys.stdin.readline().split())\n",
    "\n",
    "tem = dict()\n",
    "for _ in range(N):\n",
    "    site, password = map(str,sys.stdin.readline().split())\n",
    "    tem[site] = password\n",
    "\n",
    "for _ in range(M):\n",
    "    add = str(sys.stdin.readline().split().rstrip())\n",
    "    print(tem[add])"
   ]
  },
  {
   "cell_type": "markdown",
   "id": "cebb857c-ac59-4903-baa7-7e13bfbf022d",
   "metadata": {
    "jp-MarkdownHeadingCollapsed": true,
    "tags": []
   },
   "source": [
    "# 2108 silver 3"
   ]
  },
  {
   "cell_type": "code",
   "execution_count": 126,
   "id": "4bcb93a8-f90c-4f2a-9288-d43c2fd01fb0",
   "metadata": {
    "tags": []
   },
   "outputs": [
    {
     "name": "stdin",
     "output_type": "stream",
     "text": [
      " 1\n",
      " 4000\n"
     ]
    },
    {
     "name": "stdout",
     "output_type": "stream",
     "text": [
      "4000\n",
      "4000\n"
     ]
    },
    {
     "ename": "TypeError",
     "evalue": "'set' object is not subscriptable",
     "output_type": "error",
     "traceback": [
      "\u001b[0;31m---------------------------------------------------------------------------\u001b[0m",
      "\u001b[0;31mTypeError\u001b[0m                                 Traceback (most recent call last)",
      "Cell \u001b[0;32mIn[126], line 54\u001b[0m\n\u001b[1;32m     51\u001b[0m         mod\u001b[38;5;241m.\u001b[39madd(number)\n\u001b[1;32m     53\u001b[0m \u001b[38;5;28;01mif\u001b[39;00m \u001b[38;5;28mlen\u001b[39m(mod) \u001b[38;5;241m==\u001b[39m \u001b[38;5;241m1\u001b[39m:\n\u001b[0;32m---> 54\u001b[0m     \u001b[38;5;28mprint\u001b[39m(\u001b[43mmod\u001b[49m\u001b[43m[\u001b[49m\u001b[38;5;241;43m0\u001b[39;49m\u001b[43m]\u001b[49m)\n\u001b[1;32m     55\u001b[0m \u001b[38;5;28;01melse\u001b[39;00m:\n\u001b[1;32m     56\u001b[0m     \u001b[38;5;28mprint\u001b[39m(mod[\u001b[38;5;241m1\u001b[39m])\n",
      "\u001b[0;31mTypeError\u001b[0m: 'set' object is not subscriptable"
     ]
    }
   ],
   "source": [
    "import sys\n",
    "# N = int(sys.stdin.readline())\n",
    "N = int(input())\n",
    "re = []\n",
    "count = [0]*(500000 + 1)\n",
    "sum_num = 0\n",
    "\n",
    "\n",
    "first = 1\n",
    "mini_num,max_num = 0,0\n",
    "\n",
    "for i in range(N):\n",
    "    # num = int(sys.stdin.readline())\n",
    "    num = int(input())\n",
    "    count[num] += 1\n",
    "    sum_num += num\n",
    "    re.append(num)\n",
    "    \n",
    "    if first:\n",
    "        mini_num = num\n",
    "        max_num = num \n",
    "        first = 0\n",
    "    else:\n",
    "        if mini_num > num:\n",
    "            mini_num = num\n",
    "        if max_num < num:\n",
    "            max_num = num\n",
    "# 평균값            \n",
    "avg = sum_num/N\n",
    "print(round(avg))\n",
    "# if (avg - int(avg)) >= 0.5:\n",
    "#     print(int(avg)+1)\n",
    "# else:\n",
    "#     print(int(avg))\n",
    "    \n",
    "\n",
    "re.sort()\n",
    "mid = N//2\n",
    "print(re[mid]) # 중앙값\n",
    "\n",
    "#최빈값\n",
    "# re = list(dict.fromkeys(re))\n",
    "mod = set()\n",
    "mod.add(re[0])\n",
    "mod_num = count[re[0]]\n",
    "for number in re[1:]:\n",
    "    if mod_num < count[number]:\n",
    "        mod.clear()\n",
    "        mod.add(number)\n",
    "    elif mod_num == count[number]:\n",
    "        mod.add(number)\n",
    "\n",
    "if len(mod) == 1:\n",
    "    print(mod.pop())\n",
    "else:\n",
    "    mod.pop()\n",
    "    print(mod.pop())\n",
    "    \n",
    "#범위\n",
    "if max_num < 0 :\n",
    "    print(abs((mini_num-max_num)))\n",
    "else:\n",
    "    print(max_num - mini_num) "
   ]
  },
  {
   "cell_type": "code",
   "execution_count": 109,
   "id": "c04ba3ee-d0a3-4fa3-8423-bed77377ec31",
   "metadata": {
    "tags": []
   },
   "outputs": [
    {
     "name": "stdin",
     "output_type": "stream",
     "text": [
      " 5\n",
      " -1\n",
      " -2\n",
      " -3\n",
      " -1\n",
      " -2\n"
     ]
    },
    {
     "name": "stdout",
     "output_type": "stream",
     "text": [
      "-1\n",
      "-2\n",
      "-1\n",
      "2\n"
     ]
    }
   ],
   "source": [
    "import sys\n",
    "N = int(sys.stdin.readline())\n",
    "# N = int(input())\n",
    "re = []\n",
    "sum_num = 0\n",
    "\n",
    "\n",
    "first = 1\n",
    "mini_num,max_num = 0,0\n",
    "\n",
    "for i in range(N):\n",
    "    num = int(sys.stdin.readline())\n",
    "    # num = int(input())\n",
    "    count[num] += 1\n",
    "    sum_num += num\n",
    "    re.append(num)\n",
    "    \n",
    "    if first:\n",
    "        mini_num = num\n",
    "        max_num = num \n",
    "        first = 0\n",
    "    else:\n",
    "        if mini_num > num:\n",
    "            mini_num = num\n",
    "        if max_num < num:\n",
    "            max_num = num\n",
    "# 평균값            \n",
    "avg = sum_num/N\n",
    "print(round(avg))\n",
    "\n",
    "re.sort()\n",
    "mid = N//2\n",
    "print(re[mid]) # 중앙값\n",
    "\n",
    "#최빈값\n",
    "dic=dict()\n",
    "for i in re:#빈도수 구하기\n",
    "    if i in dic:\n",
    "        dic[i]+=1\n",
    "    else:\n",
    "        dic[i]=1\n",
    "        \n",
    "mx=max(dic.values())\n",
    "mx_dic=[]\n",
    "\n",
    "for i in dic:\n",
    "    if mx==dic[i]:\n",
    "        mx_dic.append(i)\n",
    "\n",
    "if len(mx_dic)>1:\n",
    "    print(mx_dic[1])\n",
    "else:\n",
    "    print(mx_dic[0])\n",
    "    \n",
    "#범위\n",
    "# print(max_num - mini_num) \n",
    "print(avg[0]-avg[-1])"
   ]
  },
  {
   "cell_type": "code",
   "execution_count": null,
   "id": "4a705a5a-1783-49d8-9639-f4fdd2d3d72b",
   "metadata": {},
   "outputs": [],
   "source": []
  },
  {
   "cell_type": "markdown",
   "id": "0827c77c-450b-434a-8d8c-315fc816fbc2",
   "metadata": {
    "jp-MarkdownHeadingCollapsed": true,
    "tags": []
   },
   "source": [
    "# 11399 silver 4"
   ]
  },
  {
   "cell_type": "markdown",
   "id": "403f36c2-824a-4c52-9dbd-479edf5c25ff",
   "metadata": {
    "jp-MarkdownHeadingCollapsed": true,
    "tags": []
   },
   "source": [
    "#### try 1"
   ]
  },
  {
   "cell_type": "code",
   "execution_count": 18,
   "id": "b43532d5-5833-40a1-87cd-b343002525f4",
   "metadata": {
    "tags": []
   },
   "outputs": [],
   "source": [
    "import sys\n",
    "N = int(sys.stdin.readline())\n",
    "time = list(map(int,sys.stdin.readline().split()))\n",
    "time.sort()\n",
    "time_sum, total = 0,0\n",
    "for i in time:\n",
    "    time_sum +=i\n",
    "    total += time_sum\n",
    "print(total)"
   ]
  },
  {
   "cell_type": "markdown",
   "id": "5b3ea385-cc7a-4749-b579-b2814da86a32",
   "metadata": {},
   "source": [
    "#### try 2"
   ]
  },
  {
   "cell_type": "code",
   "execution_count": 38,
   "id": "daf010d0-447d-4237-ab08-ab64018b577e",
   "metadata": {
    "tags": []
   },
   "outputs": [],
   "source": [
    "sum_ = 0\n",
    "for i in range(N):\n",
    "    sum_ += time[i]*(N-i) # 1은  5번 더해지고 2는 4번 3은 3번 더해진다."
   ]
  },
  {
   "cell_type": "markdown",
   "id": "485af8be-d960-4464-bb6c-2314cc1e1778",
   "metadata": {},
   "source": [
    "#### try 3"
   ]
  },
  {
   "cell_type": "code",
   "execution_count": 40,
   "id": "6045f6fd-6d2d-4a23-972a-09ca62fb89ee",
   "metadata": {
    "tags": []
   },
   "outputs": [],
   "source": [
    "for i in range(1,len(times)):\n",
    "    times[i] += times[i-1]"
   ]
  },
  {
   "cell_type": "markdown",
   "id": "28184b19-918e-4315-b1d7-cc512c516c56",
   "metadata": {
    "tags": []
   },
   "source": [
    "# 11047 silver 4"
   ]
  },
  {
   "cell_type": "markdown",
   "id": "2023723c-00ea-415f-8fcd-8cd45a7e78b2",
   "metadata": {
    "jp-MarkdownHeadingCollapsed": true,
    "tags": []
   },
   "source": [
    "### try 1"
   ]
  },
  {
   "cell_type": "code",
   "execution_count": 64,
   "id": "fd992ddd-ca85-4cd8-9c1f-09c407817209",
   "metadata": {
    "tags": []
   },
   "outputs": [],
   "source": [
    "import sys\n",
    "N,K = map(int,sys.stdin.readline().split())\n",
    "coin = []\n",
    "for i in range(N):\n",
    "    number = int(sys.stdin.readline())\n",
    "    # number = int(input())\n",
    "    if K >= number:\n",
    "        max_num = number\n",
    "        coin.append(number)\n",
    "        \n",
    "coin.sort(reverse = True)\n",
    "\n",
    "cnt  = 0\n",
    "for i in coin:\n",
    "    mo = K // i\n",
    "    if mo:\n",
    "        K %= i\n",
    "        cnt +=mo\n",
    "print(cnt)"
   ]
  },
  {
   "cell_type": "markdown",
   "id": "bf7d78ad-6fd1-4337-90a7-366561e4e476",
   "metadata": {
    "jp-MarkdownHeadingCollapsed": true,
    "tags": []
   },
   "source": [
    "### try 2"
   ]
  },
  {
   "cell_type": "code",
   "execution_count": null,
   "id": "3aa7d2cd-43e9-4b16-935d-65f3f321aa9b",
   "metadata": {},
   "outputs": [],
   "source": [
    "import sys\n",
    "N,K = map(int,sys.stdin.readline().split())\n",
    "coin = [int(sys.stdin.readline()) for i in range(N)]\n",
    "coin.sort(reverse = True)\n",
    "cnt  = 0\n",
    "for i in coin:\n",
    "    mo = K // i\n",
    "    if mo:\n",
    "        K %= i\n",
    "        cnt +=mo\n",
    "print(cnt)"
   ]
  },
  {
   "cell_type": "markdown",
   "id": "9b2db10f-4b2b-4607-8573-901a1b90890b",
   "metadata": {
    "tags": []
   },
   "source": [
    "# 9375 silver 3 fail"
   ]
  },
  {
   "cell_type": "code",
   "execution_count": null,
   "id": "168c6496-44a6-404c-8fd6-e54e847d3ad0",
   "metadata": {},
   "outputs": [],
   "source": [
    "import sys\n",
    "test_case = int(sys.stdin.readline())"
   ]
  },
  {
   "cell_type": "code",
   "execution_count": 6,
   "id": "1e9766f2-3a3b-48aa-a07b-2e1c948029a3",
   "metadata": {
    "tags": []
   },
   "outputs": [],
   "source": [
    "test_case = 1"
   ]
  },
  {
   "cell_type": "code",
   "execution_count": 7,
   "id": "cc73233d-bb0d-4558-b310-9a431dbdb958",
   "metadata": {
    "tags": []
   },
   "outputs": [
    {
     "name": "stdin",
     "output_type": "stream",
     "text": [
      " 3\n",
      " hat headgear\n",
      " sunglasses eyewear\n",
      " turban headgear\n"
     ]
    }
   ],
   "source": [
    "for _ in range(test_case):\n",
    "    # cloth_num = int(sys.stdin.readline())\n",
    "    closet = dict()\n",
    "    cloth_num = int(input())\n",
    "    for i in range(cloth_num):\n",
    "        # cloth, kind = map(str,sys.stdin.readline().split())\n",
    "        cloth,kind = map(str,input().split())\n",
    "        if kind in closet:\n",
    "            closet[kind].append(cloth)\n",
    "        else:\n",
    "            closet[kind] = [cloth]"
   ]
  },
  {
   "cell_type": "code",
   "execution_count": 8,
   "id": "5e78cd2c-e5d2-4ff2-880c-76558e0303ff",
   "metadata": {
    "tags": []
   },
   "outputs": [
    {
     "data": {
      "text/plain": [
       "{'headgear': ['hat', 'turban'], 'eyewear': ['sunglasses']}"
      ]
     },
     "execution_count": 8,
     "metadata": {},
     "output_type": "execute_result"
    }
   ],
   "source": [
    "closet"
   ]
  },
  {
   "cell_type": "code",
   "execution_count": 10,
   "id": "d7e6c881-4a82-4cb7-9aa5-16b510556edf",
   "metadata": {
    "tags": []
   },
   "outputs": [
    {
     "name": "stdout",
     "output_type": "stream",
     "text": [
      "hat\n",
      "turban\n",
      "sunglasses\n"
     ]
    }
   ],
   "source": [
    "for i in closet.keys():\n",
    "    for s in closet[i]:\n",
    "        print(s)"
   ]
  },
  {
   "cell_type": "code",
   "execution_count": 12,
   "id": "be7a35c9-6f49-444f-b637-1ff4c74ed6c6",
   "metadata": {
    "tags": []
   },
   "outputs": [
    {
     "ename": "TypeError",
     "evalue": "get expected at least 1 argument, got 0",
     "output_type": "error",
     "traceback": [
      "\u001b[0;31m---------------------------------------------------------------------------\u001b[0m",
      "\u001b[0;31mTypeError\u001b[0m                                 Traceback (most recent call last)",
      "Cell \u001b[0;32mIn[12], line 1\u001b[0m\n\u001b[0;32m----> 1\u001b[0m \u001b[43mcloset\u001b[49m\u001b[38;5;241;43m.\u001b[39;49m\u001b[43mget\u001b[49m\u001b[43m(\u001b[49m\u001b[43m)\u001b[49m\n",
      "\u001b[0;31mTypeError\u001b[0m: get expected at least 1 argument, got 0"
     ]
    }
   ],
   "source": [
    "closet.get()"
   ]
  },
  {
   "cell_type": "code",
   "execution_count": null,
   "id": "6f131c65-c291-4dc7-ad43-acea47eb0ae5",
   "metadata": {},
   "outputs": [],
   "source": [
    "cnt = 0\n"
   ]
  },
  {
   "cell_type": "code",
   "execution_count": null,
   "id": "937a4cf7-96dc-4f70-80fa-69f2dd110c8b",
   "metadata": {},
   "outputs": [],
   "source": [
    "1\n",
    "1\n",
    "1\n",
    "3\n",
    "1"
   ]
  },
  {
   "cell_type": "code",
   "execution_count": null,
   "id": "6242ed8b-2d35-43da-ae66-be666f9516b6",
   "metadata": {},
   "outputs": [],
   "source": [
    "2 + 1"
   ]
  },
  {
   "cell_type": "code",
   "execution_count": null,
   "id": "4833052a-7fe8-4ab6-bfef-5b3e1e465253",
   "metadata": {},
   "outputs": [],
   "source": [
    "3 + 3 + 1"
   ]
  },
  {
   "cell_type": "code",
   "execution_count": null,
   "id": "204bbbac-078e-4fe9-baea-4dfa6c6070d2",
   "metadata": {},
   "outputs": [],
   "source": [
    "3 + 2 = 5"
   ]
  },
  {
   "cell_type": "code",
   "execution_count": null,
   "id": "d5c45780-ff40-4647-ae22-627b7c2d5ce1",
   "metadata": {},
   "outputs": [],
   "source": [
    "2*1 + 1 = 3"
   ]
  },
  {
   "cell_type": "code",
   "execution_count": null,
   "id": "b410a226-1c21-449b-a142-10e1218d3d29",
   "metadata": {},
   "outputs": [],
   "source": [
    "2*3 + 1 = 7"
   ]
  },
  {
   "cell_type": "code",
   "execution_count": null,
   "id": "99785de6-21aa-48c5-a695-1b6d29ad6c87",
   "metadata": {},
   "outputs": [],
   "source": [
    "3 * 2 * 1"
   ]
  },
  {
   "cell_type": "code",
   "execution_count": 13,
   "id": "1e3e4cd9-4039-423a-aa2c-4543169274c2",
   "metadata": {
    "tags": []
   },
   "outputs": [
    {
     "data": {
      "text/plain": [
       "6"
      ]
     },
     "execution_count": 13,
     "metadata": {},
     "output_type": "execute_result"
    }
   ],
   "source": [
    "2 * 1 + 4 "
   ]
  },
  {
   "cell_type": "code",
   "execution_count": null,
   "id": "b2421670-777e-43ba-902b-9c85cead2565",
   "metadata": {},
   "outputs": [],
   "source": [
    "1,1,1,\n",
    ",2,2,2"
   ]
  },
  {
   "cell_type": "code",
   "execution_count": null,
   "id": "50765d5d-807d-45d1-96a9-0fc23e1b0666",
   "metadata": {},
   "outputs": [],
   "source": [
    "6 + 9"
   ]
  },
  {
   "cell_type": "code",
   "execution_count": null,
   "id": "200bf5f3-2a71-46a4-8f41-373af081a02d",
   "metadata": {},
   "outputs": [],
   "source": [
    "1\n",
    "2\n",
    "3\n",
    "12\n",
    "13\n",
    "23\n",
    "123"
   ]
  },
  {
   "cell_type": "code",
   "execution_count": null,
   "id": "35a26bf9-2a3a-4dc2-8bb3-b94e5cfe2239",
   "metadata": {},
   "outputs": [],
   "source": [
    "1\n"
   ]
  },
  {
   "cell_type": "code",
   "execution_count": null,
   "id": "03d472ad-79bb-4431-b674-febb45b28f59",
   "metadata": {},
   "outputs": [],
   "source": [
    "4 \n",
    "4\n",
    "1"
   ]
  },
  {
   "cell_type": "code",
   "execution_count": null,
   "id": "a56ee494-a4ed-4920-a58f-16b5b1e444f2",
   "metadata": {},
   "outputs": [],
   "source": [
    "4\n",
    "4\n"
   ]
  },
  {
   "cell_type": "markdown",
   "id": "958380b7-feea-47b5-865d-5ce24cdbafdc",
   "metadata": {
    "jp-MarkdownHeadingCollapsed": true,
    "tags": []
   },
   "source": [
    "# 11659 silver 3"
   ]
  },
  {
   "cell_type": "markdown",
   "id": "08b51ec3-807b-4c7f-b369-067fdfc64e56",
   "metadata": {
    "jp-MarkdownHeadingCollapsed": true,
    "tags": []
   },
   "source": [
    "### try 1"
   ]
  },
  {
   "cell_type": "code",
   "execution_count": null,
   "id": "2cf19dfb-c1e6-4eb0-9cf2-026ef539db74",
   "metadata": {},
   "outputs": [],
   "source": [
    "import sys\n",
    "N,M = map(int,sys.stdin.readline().split())\n",
    "\n",
    "num_list = list(map(int,sys.stdin.readline().split()))\n",
    "\n",
    "for i in range(1,N):\n",
    "    num_list[i] += num_list[i-1]\n",
    "\n",
    "for _ in range(M):\n",
    "    # first,end = map(int,sys.stdin.readline().split())\n",
    "    first,end = map(int,input().split())\n",
    "    if first == 1:\n",
    "        print(num_list[end-1])\n",
    "    else:\n",
    "        print(num_list[end-1]-num_list[first-2])"
   ]
  },
  {
   "cell_type": "markdown",
   "id": "20c1fe73-a0d0-4989-9e29-a3062e2fde9b",
   "metadata": {
    "jp-MarkdownHeadingCollapsed": true,
    "tags": []
   },
   "source": [
    "### try2"
   ]
  },
  {
   "cell_type": "code",
   "execution_count": null,
   "id": "fc137005-3c79-476b-aec7-9fbf445374ca",
   "metadata": {},
   "outputs": [],
   "source": [
    "import sys\n",
    "N,M = map(int,sys.stdin.readline().split())\n",
    "\n",
    "num_list = list(map(int,sys.stdin.readline().split()))\n",
    "\n",
    "for i in range(1,N):\n",
    "    num_list[i] += num_list[i-1]\n",
    "    \n",
    "num_list = [0] + num_list\n",
    "\n",
    "for _ in range(M):\n",
    "    first,end = map(int,sys.stdin.readline().split())\n",
    "    # first,end = map(int,input().split())\n",
    "    print(num_list[end]-num_list[first-1])"
   ]
  },
  {
   "cell_type": "code",
   "execution_count": 46,
   "id": "0942fcf6-fdb9-494a-84fc-314e5af4c8b9",
   "metadata": {
    "tags": []
   },
   "outputs": [],
   "source": [
    "# s = [0]\n",
    "# for i in range(N):\n",
    "#     A = s[i] + num_list[i]\n",
    "#     s.append(A)"
   ]
  },
  {
   "cell_type": "code",
   "execution_count": 54,
   "id": "75bf210b-3228-4425-8356-c0c7e30725f8",
   "metadata": {
    "tags": []
   },
   "outputs": [],
   "source": [
    "array = [1, 8, 7, 4, 3, 5, 6]\n",
    "n = len(array)\n",
    "prefix_sum = [0] * (n + 1)\n",
    "\n",
    "for i in range(n):\n",
    "    prefix_sum[i + 1] = prefix_sum[i] + array[i]"
   ]
  },
  {
   "cell_type": "markdown",
   "id": "8387948b-be00-4805-9651-063993104f4a",
   "metadata": {
    "tags": []
   },
   "source": [
    "# 11441 silver 3"
   ]
  },
  {
   "cell_type": "code",
   "execution_count": null,
   "id": "63147da3-d6cb-42ab-844e-63d64e9155f5",
   "metadata": {},
   "outputs": [],
   "source": [
    "import sys\n",
    "N = int(sys.stdin.readline())\n",
    "N_list = list(map(int,sys.stdin.readline().split()))\n",
    "M = int(sys.stdin.readline())\n",
    "\n",
    "sum_list = [0]*(N+1)\n",
    "\n",
    "for i in range(N):\n",
    "    sum_list[i+1] = sum_list[i] + N_list[i]\n",
    "\n",
    "for i in range(M):\n",
    "    # first, end = map(int,sys.stdin.readline().split())\n",
    "    first,end = map(int,input().split())\n",
    "    print(sum_list[end]-sum_list[first-1])"
   ]
  },
  {
   "cell_type": "markdown",
   "id": "51fb0850-aa07-412d-b2f1-12b1fbc7b673",
   "metadata": {
    "tags": []
   },
   "source": [
    "# 9375 silver 3"
   ]
  },
  {
   "cell_type": "markdown",
   "id": "f2de3142-6bd1-4bb4-98cc-4886649d3031",
   "metadata": {
    "tags": []
   },
   "source": [
    "### 시간 복잡도, 공간 복잡도, 자료형 범위 계산, 알고리즘 증명"
   ]
  },
  {
   "cell_type": "markdown",
   "id": "a2d15a39-9fda-4e92-9c6f-d2be3d708c45",
   "metadata": {
    "tags": []
   },
   "source": [
    "### try 1"
   ]
  },
  {
   "cell_type": "code",
   "execution_count": 16,
   "id": "a3232b00-5308-4008-af93-9a878b89cf6b",
   "metadata": {},
   "outputs": [],
   "source": [
    "'''\n",
    "시간 복잡도: O(test_case * cloth_num(n) * (의상의 종류))\n",
    "\n",
    "공간 복잡도: O(cloth_num)\n",
    "\n",
    "의상의 종류마다 구분하기 위해 파이썬 딕셔너리를 사용하였고\n",
    "저장 후 옷의 종류마다 모든 경우의수를 곱하여 -1(아무것도 없는 상태) 을 해주면 되\n",
    "'''\n",
    "import sys\n",
    "test_case = int(sys.stdin.readline())\n",
    "\n",
    "for _ in range(test_case):\n",
    "    # cloth_num = int(sys.stdin.readline())\n",
    "    closet = dict()\n",
    "    cloth_num = int(input())\n",
    "    for _ in range(cloth_num):\n",
    "        # cloth, kind = map(str,sys.stdin.readline().split())\n",
    "        cloth,kind = map(str,input().split())\n",
    "        if kind in closet:\n",
    "            closet[kind].append(cloth)\n",
    "        else:\n",
    "            closet[kind] = [cloth]\n",
    "    cnt = 1\n",
    "    for clothes in closet.values():ㅂ\n",
    "        cnt *= (len(clothes) + 1)\n",
    "    print(cnt - 1)"
   ]
  },
  {
   "cell_type": "markdown",
   "id": "8e0cd02d-b492-4888-8d8f-7a2529075d47",
   "metadata": {
    "jp-MarkdownHeadingCollapsed": true,
    "tags": []
   },
   "source": [
    "### try 2"
   ]
  },
  {
   "cell_type": "code",
   "execution_count": 20,
   "id": "e047138a-2661-408c-badf-df90ead5ed5b",
   "metadata": {
    "tags": []
   },
   "outputs": [
    {
     "name": "stdin",
     "output_type": "stream",
     "text": [
      " 3\n",
      " de face\n",
      " des face\n",
      " dess face\n"
     ]
    },
    {
     "name": "stdout",
     "output_type": "stream",
     "text": [
      "3\n"
     ]
    }
   ],
   "source": [
    "import sys\n",
    "# test_case = int(sys.stdin.readline())\n",
    "\n",
    "for _ in range(test_case):\n",
    "    # cloth_num = int(sys.stdin.readline())\n",
    "    closet = dict()\n",
    "    cloth_num = int(input())\n",
    "    for _ in range(cloth_num):\n",
    "        # cloth, kind = map(str,sys.stdin.readline().split())\n",
    "        cloth,kind = map(str,input().split())\n",
    "        if kind in closet:\n",
    "            closet[kind] += 1\n",
    "        else:\n",
    "            closet[kind] = 1\n",
    "    cnt = 1\n",
    "    for clothes in closet.keys():\n",
    "        cnt *= (closet[clothes] + 1)\n",
    "    print(cnt - 1)"
   ]
  },
  {
   "cell_type": "markdown",
   "id": "92950966-b2aa-4bac-af7d-9f26c051a77f",
   "metadata": {
    "jp-MarkdownHeadingCollapsed": true,
    "tags": []
   },
   "source": [
    "# 4949 silver 4"
   ]
  },
  {
   "cell_type": "code",
   "execution_count": 37,
   "id": "26b0fd19-9de3-4391-ad96-c659b49dd713",
   "metadata": {
    "tags": []
   },
   "outputs": [
    {
     "name": "stdout",
     "output_type": "stream",
     "text": [
      "yes\n"
     ]
    }
   ],
   "source": [
    "while True:\n",
    "    string = str(sys.stdin.readline().rstrip())\n",
    "    if string == '.':\n",
    "        break\n",
    "    bucket = []\n",
    "    for word in string:\n",
    "        if word == '(':\n",
    "            bucket.append(word)\n",
    "        elif word == '[':\n",
    "            bucket.append(word)\n",
    "        elif word == ']':\n",
    "            if (bucket) and (bucket[-1] == '['):\n",
    "                bucket.pop()\n",
    "            else:\n",
    "                bucket.append(word)\n",
    "        elif word ==')':\n",
    "            if (bucket) and (bucket[-1] == '('):\n",
    "                bucket.pop()\n",
    "            else:\n",
    "                bucket.append(word)\n",
    "    if not bucket:\n",
    "        print('yes')\n",
    "    else:\n",
    "        print('no')"
   ]
  },
  {
   "cell_type": "markdown",
   "id": "25c83dd1-899e-4b89-bbbf-1962c802a493",
   "metadata": {},
   "source": []
  }
 ],
 "metadata": {
  "kernelspec": {
   "display_name": "Python 3 (ipykernel)",
   "language": "python",
   "name": "python3"
  },
  "language_info": {
   "codemirror_mode": {
    "name": "ipython",
    "version": 3
   },
   "file_extension": ".py",
   "mimetype": "text/x-python",
   "name": "python",
   "nbconvert_exporter": "python",
   "pygments_lexer": "ipython3",
   "version": "3.11.5"
  }
 },
 "nbformat": 4,
 "nbformat_minor": 5
}
