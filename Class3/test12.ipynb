{
 "cells": [
  {
   "cell_type": "markdown",
   "id": "7b4fcc4c-c74f-496c-9b2e-f6187b02f725",
   "metadata": {
    "tags": []
   },
   "source": [
    "# Dynamic Programming"
   ]
  },
  {
   "cell_type": "markdown",
   "id": "5999bd03-f67a-44b6-a219-fcd1ce234530",
   "metadata": {
    "jp-MarkdownHeadingCollapsed": true,
    "tags": []
   },
   "source": [
    "### Bottom-Up"
   ]
  },
  {
   "cell_type": "markdown",
   "id": "50b91a35-88e0-4d9f-8837-642733cd3895",
   "metadata": {
    "jp-MarkdownHeadingCollapsed": true,
    "tags": []
   },
   "source": [
    "#### try1"
   ]
  },
  {
   "cell_type": "code",
   "execution_count": null,
   "id": "fcdd3743-df84-44ea-a865-7c4656304ffa",
   "metadata": {
    "tags": []
   },
   "outputs": [],
   "source": [
    "def bottom_up_fibo(n):\n",
    "    arr = [0,1]\n",
    "    \n",
    "    for i in range(2,n+1):\n",
    "        arr.append(arr[i-1] + arr[i-2])\n",
    "    return arr[n]\n",
    "n = int(input())\n",
    "print(bottom_up_fibo(10))"
   ]
  },
  {
   "cell_type": "markdown",
   "id": "d10a62fd-52bd-477f-bd29-bbbf4a991bb7",
   "metadata": {
    "jp-MarkdownHeadingCollapsed": true,
    "tags": []
   },
   "source": [
    "#### try2"
   ]
  },
  {
   "cell_type": "code",
   "execution_count": null,
   "id": "72f15da4-d762-4645-bd8e-f2af0b072411",
   "metadata": {
    "tags": []
   },
   "outputs": [],
   "source": [
    "def bottom_up_fibo(n):\n",
    "    first = 0\n",
    "    sec = 1\n",
    "    for i in range(2,n+1):\n",
    "        next_ = first + sec\n",
    "        first = sec\n",
    "        sec = next_\n",
    "    return next_\n",
    "n = int(input())\n",
    "if n >= 2:\n",
    "    print(bottom_up_fibo(n))\n",
    "else:\n",
    "    print(n)"
   ]
  },
  {
   "cell_type": "markdown",
   "id": "9db55440-046b-4e66-8a84-3e2d2a42668f",
   "metadata": {
    "jp-MarkdownHeadingCollapsed": true,
    "tags": []
   },
   "source": [
    "### Top-Down"
   ]
  },
  {
   "cell_type": "code",
   "execution_count": null,
   "id": "3b557446-51c5-4522-af57-c7138d5816e1",
   "metadata": {
    "tags": []
   },
   "outputs": [],
   "source": [
    "def top_down_fibo(n):\n",
    "    if memo[n] > 0: #메모리에 저장되어 있으면 반환\n",
    "        print(n)\n",
    "        return memo[n]\n",
    "    if n <= 1:\n",
    "        memo[n] = n\n",
    "        return memo[n]\n",
    "    else:\n",
    "        memo[n] = top_down_fibo(n-1) + top_down_fibo(n-2)\n",
    "        return memo[n]\n",
    "    \n",
    "n = int(input())\n",
    "memo = [0] * (10000 + 1)\n",
    "print(top_down_fibo(n))"
   ]
  },
  {
   "cell_type": "markdown",
   "id": "ff70a808-178f-43dd-aa44-184f7fc2ad3b",
   "metadata": {
    "jp-MarkdownHeadingCollapsed": true,
    "tags": []
   },
   "source": [
    "# 1003 silver 3"
   ]
  },
  {
   "cell_type": "markdown",
   "id": "134a5b42-aff7-4cb4-9bb3-68698c971864",
   "metadata": {
    "tags": []
   },
   "source": [
    "### try1"
   ]
  },
  {
   "cell_type": "code",
   "execution_count": null,
   "id": "d3678d94-4c3d-4ff0-ba15-e599e0aa26dd",
   "metadata": {
    "tags": []
   },
   "outputs": [],
   "source": [
    "'''\n",
    "시간복잡도: O(T*N)\n",
    "공간복잡도: O(1)\n",
    "\n",
    "다이나믹 프로그래밍의 bottom-up 코드를 응용하여 사용해보았다.\n",
    "'''\n",
    "import sys\n",
    "# T = int(sys.stdin.readline())\n",
    "T = 2\n",
    "def test1(n):\n",
    "    first = [1,0]\n",
    "    sec = [0,1]\n",
    "    next_ = []\n",
    "    if n == 0:\n",
    "        return first\n",
    "    elif n==1:\n",
    "        return sec\n",
    "    else:\n",
    "        for i in range(n-1):\n",
    "            next_ = [first[0]+sec[0],first[1]+sec[1]]\n",
    "            first,sec = sec,next_\n",
    "        return next_\n",
    "for _ in range(T):\n",
    "    # N = int(sys.stdin.readline())\n",
    "    N = int(input())\n",
    "    result = test1(N)\n",
    "    print(result[0],result[1])"
   ]
  },
  {
   "cell_type": "markdown",
   "id": "408afe0a-6fda-4ee3-82c4-6c7357054f20",
   "metadata": {
    "tags": []
   },
   "source": [
    "### try2"
   ]
  },
  {
   "cell_type": "code",
   "execution_count": null,
   "id": "f0006e41-fa52-49f1-9dbc-2d4a2ef3d78b",
   "metadata": {
    "tags": []
   },
   "outputs": [],
   "source": [
    "'''\n",
    "시간복잡도: O(T*N)\n",
    "공간복잡도: O(1)\n",
    "\n",
    "다이나믹 프로그래밍의 bottom-up 코드를 응용하여 사용해보았다.\n",
    "'''\n",
    "import sys\n",
    "T = int(sys.stdin.readline())\n",
    "def test1(n):\n",
    "    zero = [1,0,1]\n",
    "    first = [0,1,1]\n",
    "    if n >=3:\n",
    "        for i in range(3,n+1):\n",
    "            zero.append(zero[-1]+zero[-2])\n",
    "            first.append(first[-1]+first[-2])\n",
    "    print(zero[n],first[n])\n",
    "for _ in range(T):\n",
    "    N = int(sys.stdin.readline())\n",
    "    test1(N)"
   ]
  },
  {
   "cell_type": "markdown",
   "id": "e77fde96-dbf7-4d6b-8b57-ff05de296a84",
   "metadata": {
    "jp-MarkdownHeadingCollapsed": true,
    "tags": []
   },
   "source": [
    "### try3"
   ]
  },
  {
   "cell_type": "code",
   "execution_count": null,
   "id": "7365352c-4ea8-4d94-a076-71347d57730a",
   "metadata": {},
   "outputs": [],
   "source": [
    "T = int(input())\n",
    "for _ in range(T):\n",
    "    N = int(input())\n",
    "    zero,one=1,0 # zero: 0개수, one: 1개수\n",
    "    for i in range(N):\n",
    "        zero,one = one,zero+one # zero와 one에 대해 피보나치적용\n",
    "    print(zero,one)"
   ]
  },
  {
   "cell_type": "markdown",
   "id": "1108d38b-056c-424a-b9bf-fc84a6744cbc",
   "metadata": {
    "tags": []
   },
   "source": [
    "# 9095 silver 3"
   ]
  },
  {
   "cell_type": "markdown",
   "id": "0e4ea69d-cd55-488f-954c-eacb3083d789",
   "metadata": {
    "tags": []
   },
   "source": [
    "### try1"
   ]
  },
  {
   "cell_type": "code",
   "execution_count": null,
   "id": "65ea3153-ead1-4689-bae9-faf3a1b396cd",
   "metadata": {},
   "outputs": [],
   "source": [
    "import sys\n",
    "T = int(sys.stdin.readline())"
   ]
  },
  {
   "cell_type": "code",
   "execution_count": null,
   "id": "23205ad4-4e93-448f-94f2-fb9d934abc49",
   "metadata": {
    "tags": []
   },
   "outputs": [],
   "source": [
    "for i in range(T):\n",
    "    # num = int(sys.stdin.readline())\n",
    "    num = int(input())\n",
    "    temp = [1,2,4]\n",
    "    if num > 3:\n",
    "        for i in range(3,num):\n",
    "            temp.append(temp[-1]+temp[-2]+temp[-3])\n",
    "    print(temp[num-1])"
   ]
  },
  {
   "cell_type": "markdown",
   "id": "f37e91d1-4ad8-4cdf-818a-7cfe3066578d",
   "metadata": {
    "jp-MarkdownHeadingCollapsed": true,
    "tags": []
   },
   "source": [
    "# 1929 silver3 | 에라토스테네스의 체"
   ]
  },
  {
   "cell_type": "markdown",
   "id": "207b49ac-54eb-42c8-bd1a-81cb8d24c856",
   "metadata": {
    "jp-MarkdownHeadingCollapsed": true,
    "tags": []
   },
   "source": [
    "#### 구현"
   ]
  },
  {
   "cell_type": "code",
   "execution_count": null,
   "id": "0453b4cc-6dd9-4d4a-b16b-437c6e120a4b",
   "metadata": {
    "tags": []
   },
   "outputs": [],
   "source": [
    "n=29\n",
    "arr = [1] * (n+1)\n",
    "\n",
    "m = int(n**(1/2))\n",
    "for i in range(2,m):\n",
    "    if arr[i]:\n",
    "        for j in range(i*i,n,i):\n",
    "            arr[j] = 0\n",
    "\n",
    "for i in range(2, len(arr)):\n",
    "    if arr[i]:\n",
    "        print(i)"
   ]
  },
  {
   "cell_type": "markdown",
   "id": "6fccc793-1765-4626-9874-d31f88b1e9e0",
   "metadata": {
    "jp-MarkdownHeadingCollapsed": true,
    "tags": []
   },
   "source": [
    "#### try 1"
   ]
  },
  {
   "cell_type": "code",
   "execution_count": null,
   "id": "f25b06ba-88ab-4b69-b28e-92a4b45c197b",
   "metadata": {
    "tags": []
   },
   "outputs": [],
   "source": [
    "\"\"\"\n",
    "try1\n",
    "시간 복잡도: O((N-M+1)*(N**(1/2)))\n",
    "N**(1/2) 인지 잘 모르겠다..\n",
    "공간 복잡도: O(1)\n",
    "\n",
    "소수를 구할 때 반(제곱근)으로 나눠서 구하면 될 것 같았다.\n",
    "\"\"\"\n",
    "import sys\n",
    "M,N = map(int,sys.stdin.readline().split())\n",
    "\n",
    "# M,N = 3,16\n",
    "\n",
    "for i in range(M,N+1):\n",
    "    if i==1:\n",
    "        continue\n",
    "    else:\n",
    "        re = i**(1/2)\n",
    "        cnt = 1\n",
    "        for k in range(2,int(re)+1):\n",
    "            if i % k==0:\n",
    "                cnt = 0\n",
    "                break\n",
    "        if cnt:\n",
    "            print(i)"
   ]
  },
  {
   "cell_type": "markdown",
   "id": "c2e3551e-abfa-4a86-bf0e-dc87119de81f",
   "metadata": {
    "jp-MarkdownHeadingCollapsed": true,
    "tags": []
   },
   "source": [
    "#### try 2"
   ]
  },
  {
   "cell_type": "code",
   "execution_count": null,
   "id": "2a14584f-ac38-4962-80ae-dc6ad556a0b0",
   "metadata": {
    "tags": []
   },
   "outputs": [],
   "source": [
    "\"\"\"\n",
    "try2\n",
    "시간 복잡도: O(N)\n",
    "공간 복잡도: O(N)\n",
    "\n",
    "에라토스테네스의 체 알고리즘 구현 후\n",
    "해당 문제에 적용이 가능할 것 같아서 작성해봤다.\n",
    "\"\"\"\n",
    "import sys\n",
    "M,N = map(int,sys.stdin.readline().split())\n",
    "# M,N = 1,10\n",
    "arr = [1] * (1000000)\n",
    "if N == 1:\n",
    "    print()\n",
    "else:\n",
    "    n = int(N**(1/2))\n",
    "    \n",
    "    for i in range(2,n+1):\n",
    "        if arr[i]:\n",
    "            for k in range(i*i,N+1,i):\n",
    "                arr[k] = 0\n",
    "\n",
    "    for i in range(2, N+1):\n",
    "        if  (i >= M) and (arr[i]):\n",
    "            print(i)"
   ]
  },
  {
   "cell_type": "code",
   "execution_count": null,
   "id": "97544826-4621-47a6-8787-a6d6776857f0",
   "metadata": {},
   "outputs": [],
   "source": []
  },
  {
   "cell_type": "markdown",
   "id": "cc36b6fe-b970-4b4b-bb48-1b9714f576e3",
   "metadata": {
    "jp-MarkdownHeadingCollapsed": true,
    "tags": []
   },
   "source": [
    "# 프로그래머스 2문제.."
   ]
  },
  {
   "cell_type": "code",
   "execution_count": null,
   "id": "e50ed6f1-ecce-41e2-868a-764c90f52893",
   "metadata": {
    "tags": []
   },
   "outputs": [],
   "source": [
    "def solution(arr):\n",
    "    prev_ = arr[0]\n",
    "    result = []\n",
    "    result.append(prev_)\n",
    "    for next_ in arr[1:]:\n",
    "        if prev_ != next_:\n",
    "            result.append(next_)\n",
    "            prev_ = next_\n",
    "    return result"
   ]
  },
  {
   "cell_type": "code",
   "execution_count": null,
   "id": "a3478cdf-6741-4272-99a6-e33ebba83d28",
   "metadata": {
    "tags": []
   },
   "outputs": [],
   "source": [
    "def solution(progresses,speeds):\n",
    "    #7 | 3 | 9\n",
    "    result,result_set = [],[]\n",
    "    num = len(progresses)\n",
    "    \n",
    "    for i in range(num):\n",
    "        pro, spd = progresses[i], speeds[i]\n",
    "        minus = 100 - pro\n",
    "        div_result = minus / spd\n",
    "        if div_result > int(div_result):\n",
    "            div_result = int(div_result) + 1\n",
    "        result.append(int(div_result))\n",
    "        \n",
    "    # cnt = 1\n",
    "    # for k in range(num-1):\n",
    "    #     if result[k] >= result[k+1]:\n",
    "    #         cnt +=1\n",
    "    #     else:\n",
    "    #         result_set.append(cnt)\n",
    "    #         cnt = 1\n",
    "    flag = 0\n",
    "    for k in range(num):\n",
    "        if result[k] > result[flag]:\n",
    "            result_set.append(k-flag)\n",
    "            flag = k\n",
    "            \n",
    "    result_set.append(num - flag)\n",
    "    return result_set\n",
    "    #5 | 10 | 1 | 1 | 20 | 13"
   ]
  },
  {
   "cell_type": "markdown",
   "id": "368d211e-094f-43e6-9ed3-f55bbff65fe5",
   "metadata": {
    "jp-MarkdownHeadingCollapsed": true,
    "tags": []
   },
   "source": [
    "# 2960 silver 4"
   ]
  },
  {
   "cell_type": "code",
   "execution_count": null,
   "id": "6852fae2-c06b-455a-b7f5-d2e7ec8249a8",
   "metadata": {
    "tags": []
   },
   "outputs": [],
   "source": [
    "import sys\n",
    "N,K = map(int,sys.stdin.readline().split())\n",
    "\n",
    "arr = [1]*(N+1)\n",
    "cnt = 0\n",
    "for i in range(2,N+1):\n",
    "    if arr[i]:\n",
    "        for k in range(i,N+1,i):\n",
    "            \n",
    "            if arr[k]:\n",
    "                cnt += 1\n",
    "                arr[k] = 0\n",
    "                if cnt == K:\n",
    "                    print(k)\n",
    "                    break\n",
    "                "
   ]
  },
  {
   "cell_type": "markdown",
   "id": "075663b5-bdea-4dc9-b433-cb067363ecbc",
   "metadata": {
    "tags": []
   },
   "source": [
    "# 2579 silver 3  | DP.."
   ]
  },
  {
   "cell_type": "code",
   "execution_count": null,
   "id": "1da9caff-90d1-4d60-91af-8ca4956d1366",
   "metadata": {
    "tags": []
   },
   "outputs": [],
   "source": [
    "\"\"\"\n",
    "시간 복잡도: O(N)\n",
    "공간 복잡도: O(N)\n",
    "자료형 범위도 작다.\n",
    "크게는 계단을 3칸씩 오르고 | 나머지 계단 수가 3개보다 작으면 맨 마지막 계단을 오르게 한다.\n",
    "3칸씩 오를 때 1.전에 연속적으로 계단을 오른 경우\n",
    "           2.연속적이지 않은 경우를 나눴다.\n",
    "\"\"\"\n",
    "import sys\n",
    "stairs_num = int(sys.stdin.readline())\n",
    "\n",
    "stairs = [int(sys.stdin.readline()) for num in range(stairs_num)]\n",
    "\n",
    "# stairs= [int(input()) for num in range(6)]\n",
    "\n",
    "dp = [0]*(stairs_num)\n",
    "if stairs_num < 3:\n",
    "    print(sum(stairs))\n",
    "else:\n",
    "    dp[0] = stairs[0]\n",
    "    dp[1] = max(stairs[1],stairs[1]+stairs[0])\n",
    "    dp[2] = max(stairs[0] + stairs[2],stairs[1]+stairs[2]) #2번째 계단까지의 최대값\n",
    "    for i in range(3,stairs_num):\n",
    "        dp[i] = max(stairs[i] + stairs[i-1]+dp[i-3],stairs[i]+dp[i-2])\n",
    "    print(dp[stairs_num-1])"
   ]
  },
  {
   "cell_type": "markdown",
   "id": "6e054160-867b-4e36-9e2c-be35ff170e43",
   "metadata": {
    "tags": []
   },
   "source": [
    "# 1463 silver 3"
   ]
  },
  {
   "cell_type": "code",
   "execution_count": null,
   "id": "9f51d4cf-0b76-470b-83d5-e4ed6e771bb0",
   "metadata": {
    "tags": []
   },
   "outputs": [],
   "source": [
    "\"\"\"\n",
    "시간복잡도: O(N)\n",
    "공간복잡도: O(N)\n",
    "\n",
    "DP의 Bottom-up으로 각 숫자에 해당하는 최소 경우의 수를 구하려고 했었다.\n",
    "이때 숫자가 6이라면 3으로 나눈 몫인 2에 해당하는 경우의 수에 1을 더하면 되겠다 라는 생각을 했다.\n",
    "\"\"\"\n",
    "import sys\n",
    "# num = int(sys.stdin.readline())\n",
    "num = 1\n",
    "arr = [0] * (num+1)\n",
    "\n",
    "first = 0\n",
    "arr[1] = first\n",
    "for i in range(2,num+1):\n",
    "    if (i % 3 == 0) and (i % 2==0):\n",
    "        arr[i] = min(arr[i//3] + 1,arr[i-1] + 1,arr[i//2] + 1)\n",
    "        \n",
    "    elif i % 3 == 0:\n",
    "        arr[i] = min(arr[i//3] + 1,arr[i-1] + 1)\n",
    "        \n",
    "    elif i % 2 == 0:\n",
    "        arr[i] = min(arr[i//2] + 1,arr[i-1] + 1)\n",
    "    else:\n",
    "        arr[i] = arr[i-1] + 1\n",
    "print(arr[num])"
   ]
  },
  {
   "cell_type": "markdown",
   "id": "61b8e2e6-0557-41e1-bad4-d0a81b600d28",
   "metadata": {
    "tags": []
   },
   "source": [
    "# 18111 silver 2"
   ]
  },
  {
   "cell_type": "code",
   "execution_count": 51,
   "id": "8ae30267-c800-4f84-954c-9a14e7e01903",
   "metadata": {
    "tags": []
   },
   "outputs": [
    {
     "name": "stdout",
     "output_type": "stream",
     "text": [
      "1534 0\n"
     ]
    }
   ],
   "source": [
    "\"\"\"\n",
    "시간 복잡도: O(N*M*257)\n",
    "공간 복잡도: O(N*M)\n",
    "\n",
    "최적의 높이가 무엇인지 일일이 계산하려고 했다.\n",
    "높이를 계산하기 위해 인벤토리, 시간을 계산하고 시간이 작고, 높이가 높은 것을 뽑아온다.\n",
    "\"\"\"\n",
    "import sys\n",
    "N,M,B = map(int,sys.stdin.readline().split())\n",
    "ground = []\n",
    "for i in range(N):\n",
    "    block = list(map(int,sys.stdin.readline().split()))\n",
    "    ground.append(block)\n",
    "result_time, result_height = 0,0\n",
    "for height in range(257):\n",
    "    #초기화\n",
    "    inven,time = B,0\n",
    "    ## height에 맞추기\n",
    "    for k in ground:\n",
    "        for num in k:\n",
    "            if (num > height):\n",
    "                diff = num - height\n",
    "                inven += diff\n",
    "                time += (2 * diff)\n",
    "            else:\n",
    "                diff = height - num\n",
    "                inven -= diff\n",
    "                time += diff\n",
    "    if not result_time:\n",
    "        result_time,result_height = time,height\n",
    "    else:\n",
    "        if (inven >= 0) and (result_time >= time):   \n",
    "            result_time,result_height = time,height\n",
    "print(result_time, result_height)"
   ]
  },
  {
   "cell_type": "markdown",
   "id": "fd6c11ed-3c9e-4a1d-83c1-6d33ab8e1ba7",
   "metadata": {
    "jp-MarkdownHeadingCollapsed": true,
    "tags": []
   },
   "source": [
    "# 1620 silver 4"
   ]
  },
  {
   "cell_type": "markdown",
   "id": "9b3f5805-b15b-4e6d-957f-790e94793d3b",
   "metadata": {
    "jp-MarkdownHeadingCollapsed": true,
    "tags": []
   },
   "source": [
    "### try 1"
   ]
  },
  {
   "cell_type": "code",
   "execution_count": null,
   "id": "639f6794-4d55-412c-9150-11654cfb02f1",
   "metadata": {},
   "outputs": [],
   "source": [
    "\"\"\"\n",
    "시간복잡도: O(1)\n",
    "공간복잡도: O(N)\n",
    "\n",
    "딕셔너리 자료구조를 활용하여 시간복잡도를 줄여 탐색한다.\n",
    "\"\"\"\n",
    "import sys\n",
    "N, M = map(int,sys.stdin.readline().split())\n",
    "encyl = {}\n",
    "for i in range(1,N+1):\n",
    "    name = str(sys.stdin.readline().rstrip())\n",
    "    encyl[int(i)] = name\n",
    "    encyl[name] = int(i)\n",
    "for _ in range(M):\n",
    "    char = str(sys.stdin.readline().rstrip())\n",
    "    if ord(char[0]) >= 65 and (ord(char[0]) <= 122): # 입력이 문자라면\n",
    "        print(encyl[char])\n",
    "    else: #입력이 숫자라면\n",
    "        print(encyl[int(char)])"
   ]
  },
  {
   "cell_type": "markdown",
   "id": "96c80861-904c-4c58-9b08-bbdb91b12eba",
   "metadata": {
    "jp-MarkdownHeadingCollapsed": true,
    "tags": []
   },
   "source": [
    "### try 2"
   ]
  },
  {
   "cell_type": "code",
   "execution_count": null,
   "id": "50294960-eb88-40bc-bb89-e4a9a55c303c",
   "metadata": {},
   "outputs": [],
   "source": [
    "\"\"\"\n",
    "시간 복잡도: O(N*logN)\n",
    "공간 복잡도: O(N*(M+1))\n",
    "\n",
    "2차원 배열을 만들어 이진 탐색을 구성해봄.\n",
    "\"\"\"\n",
    "import sys\n",
    "N, M = map(int,sys.stdin.readline().split())\n",
    "name_list = [[str(sys.stdin.readline().rstrip()),num+1] for num in range(N)]\n",
    "\n",
    "def binary_search(first,end,li,target):\n",
    "    if first > end:\n",
    "        return 0\n",
    "    mid = int(first + (end - first)/2)\n",
    "    if li[mid][0] == target:\n",
    "        return li[mid][1]\n",
    "    elif li[mid][0] > target:\n",
    "        return binary_search(first,mid-1,li,target)\n",
    "    else:\n",
    "        return binary_search(mid+1,end,li,target)\n",
    "#이름만 정렬\n",
    "temp = sorted(name_list,key=lambda x: x[0])\n",
    "for _ in range(M):\n",
    "    char = str(sys.stdin.readline().rstrip())\n",
    "    if ord(char[0]) >= 65 and (ord(char[0]) <= 122): # 입력이 문자라면\n",
    "        print(binary_search(0,len(temp)-1,temp,char))\n",
    "    else:\n",
    "        print(name_list[int(char)-1][0])"
   ]
  }
 ],
 "metadata": {
  "kernelspec": {
   "display_name": "Python 3 (ipykernel)",
   "language": "python",
   "name": "python3"
  },
  "language_info": {
   "codemirror_mode": {
    "name": "ipython",
    "version": 3
   },
   "file_extension": ".py",
   "mimetype": "text/x-python",
   "name": "python",
   "nbconvert_exporter": "python",
   "pygments_lexer": "ipython3",
   "version": "3.11.5"
  }
 },
 "nbformat": 4,
 "nbformat_minor": 5
}
