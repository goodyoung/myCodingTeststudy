{
 "cells": [
  {
   "cell_type": "code",
   "execution_count": 1,
   "id": "df84d9a8-657d-49ee-9e1e-5efbb5f1efc0",
   "metadata": {
    "tags": []
   },
   "outputs": [],
   "source": [
    "import sys\n",
    "# N = int(sys.stdin.readline())\n",
    "N = 5"
   ]
  },
  {
   "cell_type": "code",
   "execution_count": 215,
   "id": "fd0f9447-6fa4-4566-9b09-6b171bb27326",
   "metadata": {
    "tags": []
   },
   "outputs": [],
   "source": [
    "arr = [int(sys.stdin.readline()) for _ in range(N)]\n",
    "def merge(start,end):\n",
    "    global arr\n",
    "    mid = (start + end ) // 2\n",
    "    left = start\n",
    "    right = mid+1\n",
    "    temp = []\n",
    "    while ((left <= mid) and (right <= end)):\n",
    "        # print(right,start,right,end)\n",
    "        if arr[left] > arr[right]:\n",
    "            temp.append(arr[left])\n",
    "            left +=1\n",
    "        else:\n",
    "            temp.append(arr[right])\n",
    "            right +=1\n",
    "    print('first',right,left,temp,start,end)\n",
    "    if left > mid:\n",
    "        print('right',arr[right:end+1])\n",
    "        temp += arr[right:end+1]\n",
    "    else:\n",
    "        print('left',arr[left:mid+1])\n",
    "        temp += arr[left:mid+1]\n",
    "    arr[start:end+1] = temp\n",
    "    print('temp',temp)\n",
    "    return temp\n",
    "\n",
    "def mergesort(start,end):\n",
    "    mid = (start + end ) // 2\n",
    "    if (start < end ):\n",
    "        mergesort(start,mid)\n",
    "        mergesort(mid+1,end)\n",
    "        merge(start,end)\n",
    "        \n",
    "mergesort(0,N-1)"
   ]
  },
  {
   "cell_type": "code",
   "execution_count": 143,
   "id": "571137c9-61b4-49f9-95dd-f76c823bec64",
   "metadata": {
    "tags": []
   },
   "outputs": [
    {
     "name": "stdin",
     "output_type": "stream",
     "text": [
      " 1\n",
      " 2\n",
      " 3\n",
      " 4\n",
      " 5\n"
     ]
    },
    {
     "name": "stdout",
     "output_type": "stream",
     "text": [
      "5\n",
      "4\n",
      "3\n",
      "2\n",
      "1\n"
     ]
    }
   ],
   "source": [
    "import sys\n",
    "# N = int(sys.stdin.readline())\n",
    "\n",
    "\n",
    "# n_list = [int(sys.stdin.readline()) for _ in range(N)]    \n",
    "n_list = [int(input()) for _ in range(N)]    \n",
    "def merge(left,right):\n",
    "    l,r = 0,0\n",
    "    temp = []\n",
    "    while (len(left) > l) and (len(right) > r):\n",
    "        if left[l] > right[r]:\n",
    "            temp.append(left[l])\n",
    "            l += 1\n",
    "        else:\n",
    "            temp.append(right[r])\n",
    "            r += 1\n",
    "    temp += left[l:]\n",
    "    temp += right[r:]\n",
    "    return temp\n",
    "\n",
    "def mergesort(arr):\n",
    "    mid = len(arr) // 2\n",
    "    if len(arr) < 2:\n",
    "        return arr\n",
    "    left = mergesort(arr[:mid])\n",
    "    right = mergesort(arr[mid:])\n",
    "    return merge(left,right)\n",
    "\n",
    "for num in mergesort(n_list):\n",
    "    print(num)"
   ]
  },
  {
   "cell_type": "code",
   "execution_count": 47,
   "id": "6713a28f-4d21-4994-9f12-74e95475ae4c",
   "metadata": {
    "tags": []
   },
   "outputs": [
    {
     "name": "stdin",
     "output_type": "stream",
     "text": [
      "Enter the size of the array:  5\n",
      "Enter value for position 0: 135235\n",
      "Enter value for position 1: 142\n",
      "Enter value for position 2: 235\n",
      "Enter value for position 3: 346\n",
      "Enter value for position 4: 1\n"
     ]
    },
    {
     "name": "stdout",
     "output_type": "stream",
     "text": [
      "Sorted array: [135235, 346, 235, 142, 1]\n"
     ]
    }
   ],
   "source": [
    "def conquer(start, end, mid, arr, temp):\n",
    "    l = start\n",
    "    r = mid + 1\n",
    "    x = start\n",
    "\n",
    "    while l <= mid and r <= end:\n",
    "        if arr[l] > arr[r]:\n",
    "            temp[x] = arr[l]\n",
    "            l += 1\n",
    "        else:\n",
    "            temp[x] = arr[r]\n",
    "            r += 1\n",
    "        x += 1\n",
    "\n",
    "    if l > mid:\n",
    "        for i in range(r, end + 1):\n",
    "            temp[x] = arr[i]\n",
    "            x += 1\n",
    "    else:\n",
    "        for i in range(l, mid + 1):\n",
    "            temp[x] = arr[i]\n",
    "            x += 1\n",
    "\n",
    "    for i in range(start, end + 1):\n",
    "        arr[i] = temp[i]\n",
    "\n",
    "def mergesort(start, end, arr, temp):\n",
    "    mid = (start + end) // 2\n",
    "\n",
    "    if start < end:\n",
    "        mergesort(start, mid, arr, temp)\n",
    "        mergesort(mid + 1, end, arr, temp)\n",
    "        conquer(start, end, mid, arr, temp)\n",
    "\n",
    "if __name__ == \"__main__\":\n",
    "    n = int(input(\"Enter the size of the array: \"))\n",
    "    arr = [int(input(\"Enter value for position {}:\".format(i))) for i in range(n)]\n",
    "    temp = [0] * n\n",
    "\n",
    "    mergesort(0, n - 1, arr, temp)\n",
    "    print(\"Sorted array:\", arr)\n"
   ]
  },
  {
   "cell_type": "code",
   "execution_count": null,
   "id": "80abff49-d1d1-4992-af6f-3f18ef9c6a7b",
   "metadata": {},
   "outputs": [],
   "source": []
  }
 ],
 "metadata": {
  "kernelspec": {
   "display_name": "Python 3 (ipykernel)",
   "language": "python",
   "name": "python3"
  },
  "language_info": {
   "codemirror_mode": {
    "name": "ipython",
    "version": 3
   },
   "file_extension": ".py",
   "mimetype": "text/x-python",
   "name": "python",
   "nbconvert_exporter": "python",
   "pygments_lexer": "ipython3",
   "version": "3.11.5"
  }
 },
 "nbformat": 4,
 "nbformat_minor": 5
}
