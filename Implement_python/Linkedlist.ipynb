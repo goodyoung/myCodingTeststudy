{
 "cells": [
  {
   "cell_type": "code",
   "execution_count": 20,
   "id": "770e4cfa-53b8-440f-8a5f-285ee8920415",
   "metadata": {},
   "outputs": [],
   "source": [
    "class Node:\n",
    "    def __init__(self,data):\n",
    "        self.data = data\n",
    "        self.next = None"
   ]
  },
  {
   "cell_type": "code",
   "execution_count": 116,
   "id": "f0ee89eb-1635-4e4d-8bd3-c45a0eb0c6f5",
   "metadata": {},
   "outputs": [],
   "source": [
    "class LinkedList:\n",
    "    def __init__(self):\n",
    "        self.head = None\n",
    "        self.length = 0\n",
    "        \n",
    "    def __str__(self):\n",
    "        \"\"\" Node 출력 함수 \"\"\"\n",
    "        node = self.head\n",
    "        idx = 0\n",
    "        string =\"\"\n",
    "        while node:\n",
    "            string += f'{idx}번째 노드의 데이터: {node.data}\\n'\n",
    "            # print('test',id(node),node.data)\n",
    "            node = node.next\n",
    "            idx+=1\n",
    "        return string\n",
    "    def __len__(self):\n",
    "        return int(self.length)\n",
    "    def __contains__(self,data):\n",
    "        \"\"\" Node 검색 \"\"\"\n",
    "        tmp = self.head\n",
    "        while tmp:\n",
    "            if tmp.data == data:\n",
    "                return True\n",
    "            tmp = tmp.next\n",
    "        return False\n",
    "    \n",
    "    def InsertNode(self,data):\n",
    "        \"\"\" Node 삽입 \"\"\"\n",
    "        node = Node(data)\n",
    "        \n",
    "        if not self.head:\n",
    "            self.head = node\n",
    "        else:\n",
    "            node.next = self.head\n",
    "            self.head = node\n",
    "        self.length +=1\n",
    "        \n",
    "    def PopleftNode(self):\n",
    "        \"\"\" Node 맨 앞 제거 \"\"\"\n",
    "        if not self.head:\n",
    "            return None\n",
    "        \n",
    "        tmp = self.head\n",
    "        self.head = self.head.next\n",
    "        self.length -= 1\n",
    "        return tmp.data\n",
    "    \n",
    "    def PopNode(self):\n",
    "        \"\"\" Node 맨 뒤 제거 \"\"\"\n",
    "        if not self.head:\n",
    "            return None\n",
    "        node = self.head\n",
    "        if self.head.next is None:\n",
    "            self.head = None\n",
    "        else:\n",
    "            while node.next:\n",
    "                prev = node ### 주소를 참조 한다.\n",
    "                node = node.next\n",
    "            # print('궁굼',id(prev.next))\n",
    "            prev.next = None\n",
    "            \n",
    "        self.length -= 1\n",
    "        return node.data\n",
    "            "
   ]
  },
  {
   "cell_type": "code",
   "execution_count": 117,
   "id": "87df17af-d19b-48af-b8eb-1d64f11b3c44",
   "metadata": {
    "tags": []
   },
   "outputs": [
    {
     "name": "stdout",
     "output_type": "stream",
     "text": [
      "0번째 노드의 데이터: 4\n",
      "1번째 노드의 데이터: 3\n",
      "2번째 노드의 데이터: 2\n",
      "3번째 노드의 데이터: 1\n",
      "\n",
      "pop 실행:  1 2 3 4 \n"
     ]
    }
   ],
   "source": [
    "if __name__ == '__main__':\n",
    "    a = LinkedList()\n",
    "    a.InsertNode('1')\n",
    "    a.InsertNode('2')\n",
    "    a.InsertNode('3')\n",
    "    a.InsertNode('4')\n",
    "    \n",
    "    # print(a)  # __str__\n",
    "    # for data in ['1','2','4','6']:\n",
    "    #     if data in a:\n",
    "    #         print(f'Node를 발견했습니다.{data}')\n",
    "    #     else:\n",
    "    #         print(\"해당 데이터가 없습니다.\")\n",
    "    print(a)\n",
    "    # print(a.PopleftNode())\n",
    "    # print(a)\n",
    "    # print(a.PopNode())\n",
    "    # print(a)\n",
    "    print(\"pop 실행: \", end = \" \")\n",
    "    for _ in range(len(a)):\n",
    "        print(a.PopNode(), end = \" \")\n",
    "    print(a)"
   ]
  },
  {
   "cell_type": "code",
   "execution_count": 89,
   "id": "aece46c4-7641-41bb-a32c-700398787064",
   "metadata": {
    "tags": []
   },
   "outputs": [
    {
     "name": "stdout",
     "output_type": "stream",
     "text": [
      "0번째 노드의 데이터: 4\n",
      "\n"
     ]
    }
   ],
   "source": [
    "print(a)"
   ]
  }
 ],
 "metadata": {
  "kernelspec": {
   "display_name": "Python 3 (ipykernel)",
   "language": "python",
   "name": "python3"
  },
  "language_info": {
   "codemirror_mode": {
    "name": "ipython",
    "version": 3
   },
   "file_extension": ".py",
   "mimetype": "text/x-python",
   "name": "python",
   "nbconvert_exporter": "python",
   "pygments_lexer": "ipython3",
   "version": "3.11.4"
  }
 },
 "nbformat": 4,
 "nbformat_minor": 5
}
